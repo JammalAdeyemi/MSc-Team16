{
 "cells": [
  {
   "cell_type": "code",
   "execution_count": 1,
   "id": "529da3b7-bdd4-4c90-bc78-e36222ac5990",
   "metadata": {},
   "outputs": [],
   "source": [
    "import pandas as pd\n",
    "import numpy as np\n",
    "import matplotlib.pyplot as plt\n",
    "import seaborn as sns\n",
    "import scipy.stats as stats\n",
    "from scipy.stats import shapiro\n",
    "\n",
    "import warnings\n",
    "warnings.filterwarnings(\"ignore\")\n",
    "\n",
    "# Display all rows and columns of a dataframe instead of a truncated version\n",
    "from IPython.display import display\n",
    "pd.set_option('display.max_columns', None)\n",
    "pd.set_option('display.max_rows', None)"
   ]
  },
  {
   "cell_type": "code",
   "execution_count": 2,
   "id": "67af5718-6548-463b-87c4-177b1b2baae6",
   "metadata": {},
   "outputs": [
    {
     "data": {
      "text/html": [
       "<div>\n",
       "<style scoped>\n",
       "    .dataframe tbody tr th:only-of-type {\n",
       "        vertical-align: middle;\n",
       "    }\n",
       "\n",
       "    .dataframe tbody tr th {\n",
       "        vertical-align: top;\n",
       "    }\n",
       "\n",
       "    .dataframe thead th {\n",
       "        text-align: right;\n",
       "    }\n",
       "</style>\n",
       "<table border=\"1\" class=\"dataframe\">\n",
       "  <thead>\n",
       "    <tr style=\"text-align: right;\">\n",
       "      <th></th>\n",
       "      <th>age</th>\n",
       "      <th>gender</th>\n",
       "      <th>height</th>\n",
       "      <th>weight</th>\n",
       "      <th>ap_hi</th>\n",
       "      <th>ap_lo</th>\n",
       "      <th>cholesterol</th>\n",
       "      <th>gluc</th>\n",
       "      <th>smoke</th>\n",
       "      <th>alco</th>\n",
       "      <th>active</th>\n",
       "      <th>cardio</th>\n",
       "      <th>BMI</th>\n",
       "    </tr>\n",
       "  </thead>\n",
       "  <tbody>\n",
       "    <tr>\n",
       "      <th>0</th>\n",
       "      <td>50</td>\n",
       "      <td>2</td>\n",
       "      <td>168</td>\n",
       "      <td>62</td>\n",
       "      <td>110</td>\n",
       "      <td>80</td>\n",
       "      <td>1</td>\n",
       "      <td>1</td>\n",
       "      <td>0</td>\n",
       "      <td>0</td>\n",
       "      <td>1</td>\n",
       "      <td>0</td>\n",
       "      <td>21</td>\n",
       "    </tr>\n",
       "    <tr>\n",
       "      <th>1</th>\n",
       "      <td>55</td>\n",
       "      <td>1</td>\n",
       "      <td>156</td>\n",
       "      <td>85</td>\n",
       "      <td>140</td>\n",
       "      <td>90</td>\n",
       "      <td>3</td>\n",
       "      <td>1</td>\n",
       "      <td>0</td>\n",
       "      <td>0</td>\n",
       "      <td>1</td>\n",
       "      <td>1</td>\n",
       "      <td>34</td>\n",
       "    </tr>\n",
       "    <tr>\n",
       "      <th>2</th>\n",
       "      <td>51</td>\n",
       "      <td>1</td>\n",
       "      <td>165</td>\n",
       "      <td>64</td>\n",
       "      <td>130</td>\n",
       "      <td>70</td>\n",
       "      <td>3</td>\n",
       "      <td>1</td>\n",
       "      <td>0</td>\n",
       "      <td>0</td>\n",
       "      <td>0</td>\n",
       "      <td>1</td>\n",
       "      <td>23</td>\n",
       "    </tr>\n",
       "    <tr>\n",
       "      <th>3</th>\n",
       "      <td>48</td>\n",
       "      <td>2</td>\n",
       "      <td>169</td>\n",
       "      <td>82</td>\n",
       "      <td>150</td>\n",
       "      <td>100</td>\n",
       "      <td>1</td>\n",
       "      <td>1</td>\n",
       "      <td>0</td>\n",
       "      <td>0</td>\n",
       "      <td>1</td>\n",
       "      <td>1</td>\n",
       "      <td>28</td>\n",
       "    </tr>\n",
       "    <tr>\n",
       "      <th>4</th>\n",
       "      <td>47</td>\n",
       "      <td>1</td>\n",
       "      <td>156</td>\n",
       "      <td>56</td>\n",
       "      <td>100</td>\n",
       "      <td>60</td>\n",
       "      <td>1</td>\n",
       "      <td>1</td>\n",
       "      <td>0</td>\n",
       "      <td>0</td>\n",
       "      <td>0</td>\n",
       "      <td>0</td>\n",
       "      <td>23</td>\n",
       "    </tr>\n",
       "  </tbody>\n",
       "</table>\n",
       "</div>"
      ],
      "text/plain": [
       "   age  gender  height  weight  ap_hi  ap_lo  cholesterol  gluc  smoke  alco  \\\n",
       "0   50       2     168      62    110     80            1     1      0     0   \n",
       "1   55       1     156      85    140     90            3     1      0     0   \n",
       "2   51       1     165      64    130     70            3     1      0     0   \n",
       "3   48       2     169      82    150    100            1     1      0     0   \n",
       "4   47       1     156      56    100     60            1     1      0     0   \n",
       "\n",
       "   active  cardio  BMI  \n",
       "0       1       0   21  \n",
       "1       1       1   34  \n",
       "2       0       1   23  \n",
       "3       1       1   28  \n",
       "4       0       0   23  "
      ]
     },
     "execution_count": 2,
     "metadata": {},
     "output_type": "execute_result"
    }
   ],
   "source": [
    "df = pd.read_csv('../Data/new_data.csv')\n",
    "df.head()"
   ]
  },
  {
   "cell_type": "markdown",
   "id": "f84aa8b6-0355-4c29-8159-e1bb6d8188f8",
   "metadata": {},
   "source": [
    "### Checking if the dataset is Guassian or not"
   ]
  },
  {
   "cell_type": "code",
   "execution_count": 3,
   "id": "5f95ee87-fcca-430b-9791-22c174ff0de0",
   "metadata": {},
   "outputs": [
    {
     "name": "stdout",
     "output_type": "stream",
     "text": [
      "Sample does not look Gaussian (reject H0)\n"
     ]
    }
   ],
   "source": [
    "# perform the Shapiro-Wilk test\n",
    "stat, p = shapiro(df)\n",
    "\n",
    "# interpret the results\n",
    "alpha = 0.05\n",
    "if p > alpha:\n",
    "    print('Sample looks Gaussian (fail to reject H0)')\n",
    "else:\n",
    "    print('Sample does not look Gaussian (reject H0)')"
   ]
  },
  {
   "cell_type": "code",
   "execution_count": 4,
   "id": "6cd4e074-9b42-4f6c-984c-057518941493",
   "metadata": {},
   "outputs": [],
   "source": [
    "# # loop through each variable in the dataset\n",
    "# for col in df.columns:\n",
    "#     if df[col].dtype == 'int64':  # check if the variable is integer type\n",
    "#         # plot a histogram of the variable\n",
    "#         plt.figure(figsize=(10, 5))\n",
    "#         plt.hist(df[col], bins=20)\n",
    "#         plt.title(col + ' Histogram')\n",
    "#         plt.show()\n",
    "#         # plot a Q-Q plot of the variable\n",
    "#         plt.figure(figsize=(10, 5))\n",
    "#         stats.probplot(df[col], dist=\"norm\", plot=plt)\n",
    "#         plt.title(col + ' Q-Q Plot')\n",
    "#         plt.show()"
   ]
  },
  {
   "cell_type": "markdown",
   "id": "e57e2962-d59a-4472-9d9d-00017d93bfe3",
   "metadata": {
    "tags": []
   },
   "source": [
    "----\n",
    "## Machine Learning"
   ]
  },
  {
   "cell_type": "markdown",
   "id": "949a3d07-6336-47dd-bef0-2f2c4b4fc59f",
   "metadata": {},
   "source": [
    "### Train | Test Split"
   ]
  },
  {
   "cell_type": "code",
   "execution_count": 17,
   "id": "bf48d305-81c8-4ab8-a154-02dd122a7cfc",
   "metadata": {},
   "outputs": [],
   "source": [
    "from sklearn.model_selection import train_test_split, cross_val_score\n",
    "from sklearn.preprocessing import StandardScaler, MinMaxScaler\n",
    "from sklearn.naive_bayes import GaussianNB\n",
    "from sklearn.ensemble import RandomForestClassifier\n",
    "from sklearn.neighbors import KNeighborsClassifier\n",
    "from sklearn.metrics import accuracy_score, confusion_matrix, classification_report, plot_confusion_matrix"
   ]
  },
  {
   "cell_type": "code",
   "execution_count": 6,
   "id": "1408976a-88b7-4fc0-8f11-5cff6e106237",
   "metadata": {},
   "outputs": [],
   "source": [
    "X = df.drop('cardio', axis=1)\n",
    "y = df['cardio']"
   ]
  },
  {
   "cell_type": "code",
   "execution_count": 7,
   "id": "0d3e7fc8-21bc-40d8-b6d9-1d88c546f71c",
   "metadata": {},
   "outputs": [],
   "source": [
    "# Split the data into training and testing sets\n",
    "X_train, X_test, y_train, y_test = train_test_split(X, y, test_size=0.2, random_state=42)\n",
    "\n",
    "# Scale the data using standardization\n",
    "scaler = StandardScaler()\n",
    "X_train = scaler.fit_transform(X_train)\n",
    "X_test = scaler.transform(X_test)\n",
    "\n",
    "# Scale the data using normalization\n",
    "normalizer = MinMaxScaler()\n",
    "X_train_norm = normalizer.fit_transform(X_train)\n",
    "X_test_norm = normalizer.transform(X_test)"
   ]
  },
  {
   "cell_type": "markdown",
   "id": "7f4f5639-f5f5-4875-8799-224d832a9a81",
   "metadata": {},
   "source": [
    "### Naive Bayes Classifier"
   ]
  },
  {
   "cell_type": "code",
   "execution_count": 8,
   "id": "eb14c416-7385-4e05-9e86-f6cf0482329c",
   "metadata": {},
   "outputs": [
    {
     "name": "stdout",
     "output_type": "stream",
     "text": [
      "Accuracy of Naive Bayes: 0.6000714285714286\n"
     ]
    }
   ],
   "source": [
    "# Fit and evaluate Naive Bayes classifier\n",
    "gnb = GaussianNB()\n",
    "gnb.fit(X_train, y_train)\n",
    "y_pred_gnb = gnb.predict(X_test)\n",
    "acc_gnb = accuracy_score(y_test, y_pred_gnb)\n",
    "print('Accuracy of Naive Bayes:', acc_gnb)"
   ]
  },
  {
   "cell_type": "code",
   "execution_count": 18,
   "id": "750dc4fe-1ecb-42ef-9238-2b99b9a31035",
   "metadata": {},
   "outputs": [
    {
     "name": "stdout",
     "output_type": "stream",
     "text": [
      "Accuracy: 60.35% (+/- 1.71%)\n"
     ]
    }
   ],
   "source": [
    "scores = cross_val_score(gnb, X_train, y_train, cv=5, scoring='accuracy')\n",
    "\n",
    "# Report the results\n",
    "print(f\"Accuracy: {scores.mean():.2%} (+/- {scores.std() * 2:.2%})\")"
   ]
  },
  {
   "cell_type": "code",
   "execution_count": 9,
   "id": "3123b943-e7ce-4982-99e2-3a0769f668fe",
   "metadata": {},
   "outputs": [
    {
     "name": "stdout",
     "output_type": "stream",
     "text": [
      "Confusion matrix of Naive Bayes:\n",
      " [[5982 1006]\n",
      " [4593 2419]]\n"
     ]
    }
   ],
   "source": [
    "cm_gnb = confusion_matrix(y_test, y_pred_gnb)\n",
    "print('Confusion matrix of Naive Bayes:\\n', cm_gnb)"
   ]
  },
  {
   "cell_type": "markdown",
   "id": "05ed56dc-b307-4665-9e53-052b84233d6a",
   "metadata": {},
   "source": [
    "### Random Forest classifier"
   ]
  },
  {
   "cell_type": "code",
   "execution_count": 10,
   "id": "10e83882-6aca-41df-9e4f-6a47bb0e053d",
   "metadata": {},
   "outputs": [
    {
     "name": "stdout",
     "output_type": "stream",
     "text": [
      "Accuracy of Random Forest: 0.7101428571428572\n"
     ]
    }
   ],
   "source": [
    "# Fit and evaluate Random Forest classifier\n",
    "rf = RandomForestClassifier(random_state=42)\n",
    "rf.fit(X_train_norm, y_train)\n",
    "y_pred_rf = rf.predict(X_test_norm)\n",
    "acc_rf = accuracy_score(y_test, y_pred_rf)\n",
    "print('Accuracy of Random Forest:', acc_rf)"
   ]
  },
  {
   "cell_type": "code",
   "execution_count": 20,
   "id": "1d8c1001-eb6b-4b01-8903-b10fcea12bfe",
   "metadata": {},
   "outputs": [
    {
     "name": "stdout",
     "output_type": "stream",
     "text": [
      "Accuracy: 70.78% (+/- 0.86%)\n"
     ]
    }
   ],
   "source": [
    "scores = cross_val_score(rf, X_train_norm, y_train, cv=5, scoring='accuracy')\n",
    "\n",
    "# Report the results\n",
    "print(f\"Accuracy: {scores.mean():.2%} (+/- {scores.std() * 2:.2%})\")"
   ]
  },
  {
   "cell_type": "code",
   "execution_count": 11,
   "id": "802f396e-6baf-4452-9974-9b94550da99d",
   "metadata": {},
   "outputs": [
    {
     "name": "stdout",
     "output_type": "stream",
     "text": [
      "Confusion matrix of Random Forest:\n",
      " [[4970 2018]\n",
      " [2040 4972]]\n"
     ]
    }
   ],
   "source": [
    "cm_rf = confusion_matrix(y_test, y_pred_rf)\n",
    "print('Confusion matrix of Random Forest:\\n', cm_rf)"
   ]
  },
  {
   "cell_type": "markdown",
   "id": "9fd7d159-a1b6-4b83-98e6-7263a245f690",
   "metadata": {},
   "source": [
    "**This means that the model correctly predicted 4970 instances of the negative class (no cardiovascular disease) and 4972 instances of the positive class (cardiovascular disease). However, it incorrectly predicted 2018 instances as positive (false positive) and 2040 instances as negative (false negative).**"
   ]
  },
  {
   "cell_type": "code",
   "execution_count": 15,
   "id": "a106d572-1738-4c9e-9fe3-8593bcdcf728",
   "metadata": {},
   "outputs": [
    {
     "name": "stdout",
     "output_type": "stream",
     "text": [
      "              precision    recall  f1-score   support\n",
      "\n",
      "           0       0.71      0.71      0.71      6988\n",
      "           1       0.71      0.71      0.71      7012\n",
      "\n",
      "    accuracy                           0.71     14000\n",
      "   macro avg       0.71      0.71      0.71     14000\n",
      "weighted avg       0.71      0.71      0.71     14000\n",
      "\n"
     ]
    }
   ],
   "source": [
    "print(classification_report(y_test,y_pred_rf))"
   ]
  },
  {
   "cell_type": "markdown",
   "id": "ca702a32-2e26-4685-b472-ea2e9bdeafea",
   "metadata": {},
   "source": [
    "### K-Nearest Neighbors classifier"
   ]
  },
  {
   "cell_type": "code",
   "execution_count": 12,
   "id": "c4722596-09cf-4472-8fd9-540a638e5f0c",
   "metadata": {},
   "outputs": [
    {
     "name": "stdout",
     "output_type": "stream",
     "text": [
      "Accuracy of K-Nearest Neighbors: 0.6071428571428571\n"
     ]
    }
   ],
   "source": [
    "# Fit and evaluate K-Nearest Neighbors classifier\n",
    "knn = KNeighborsClassifier(n_neighbors=5)\n",
    "knn.fit(X_train_norm, y_train)\n",
    "y_pred_knn = knn.predict(X_test_norm)\n",
    "acc_knn = accuracy_score(y_test, y_pred_knn)\n",
    "print('Accuracy of K-Nearest Neighbors:', acc_knn)"
   ]
  },
  {
   "cell_type": "code",
   "execution_count": 13,
   "id": "87c7ab05-1948-4302-8cff-191523974102",
   "metadata": {},
   "outputs": [
    {
     "name": "stdout",
     "output_type": "stream",
     "text": [
      "Confusion matrix of K-Nearest Neighbors:\n",
      " [[4238 2750]\n",
      " [2750 4262]]\n"
     ]
    }
   ],
   "source": [
    "cm_knn = confusion_matrix(y_test, y_pred_knn)\n",
    "print('Confusion matrix of K-Nearest Neighbors:\\n', cm_knn)"
   ]
  },
  {
   "cell_type": "code",
   "execution_count": null,
   "id": "c111cacf-7104-4236-94cf-8b2b43f8cf11",
   "metadata": {},
   "outputs": [],
   "source": []
  },
  {
   "cell_type": "code",
   "execution_count": null,
   "id": "12f5e191-f798-4906-89d0-1ea93ffb2f38",
   "metadata": {},
   "outputs": [],
   "source": []
  }
 ],
 "metadata": {
  "kernelspec": {
   "display_name": "Python 3 (ipykernel)",
   "language": "python",
   "name": "python3"
  },
  "language_info": {
   "codemirror_mode": {
    "name": "ipython",
    "version": 3
   },
   "file_extension": ".py",
   "mimetype": "text/x-python",
   "name": "python",
   "nbconvert_exporter": "python",
   "pygments_lexer": "ipython3",
   "version": "3.9.13"
  }
 },
 "nbformat": 4,
 "nbformat_minor": 5
}
