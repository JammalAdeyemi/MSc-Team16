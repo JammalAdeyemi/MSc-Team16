{
 "cells": [
  {
   "cell_type": "code",
   "execution_count": 1,
   "metadata": {
    "cell_id": "867bd2a17c9042f5bfd7a15d6be8b241",
    "deepnote_cell_type": "code",
    "deepnote_to_be_reexecuted": false,
    "execution_millis": 1205,
    "execution_start": 1677757291736,
    "source_hash": "264e894"
   },
   "outputs": [],
   "source": [
    "import pandas as pd\n",
    "import numpy as np\n",
    "import matplotlib.pyplot as plt\n",
    "from scipy.stats import uniform, randint\n",
    "\n",
    "from sklearn.model_selection import train_test_split, cross_val_score, RandomizedSearchCV, GridSearchCV\n",
    "from sklearn.ensemble import RandomForestClassifier, AdaBoostClassifier, GradientBoostingClassifier, VotingClassifier\n",
    "from sklearn.linear_model import LogisticRegression\n",
    "from sklearn.preprocessing import StandardScaler\n",
    "from sklearn.metrics import accuracy_score, precision_score, precision_recall_fscore_support, confusion_matrix, plot_confusion_matrix\n",
    "from sklearn.metrics import auc, roc_curve, classification_report\n",
    "\n",
    "import warnings\n",
    "warnings.filterwarnings(\"ignore\")"
   ]
  },
  {
   "cell_type": "markdown",
   "metadata": {
    "cell_id": "4a57a20c0f9a4c1ea0eb5592de49e828",
    "deepnote_cell_type": "text-cell-h2",
    "formattedRanges": [],
    "is_collapsed": false,
    "tags": []
   },
   "source": [
    "## Datasets"
   ]
  },
  {
   "cell_type": "code",
   "execution_count": 2,
   "metadata": {
    "cell_id": "59a6ad81aaa9462499b06e007b6847c2",
    "deepnote_cell_type": "code",
    "deepnote_to_be_reexecuted": false,
    "execution_millis": 178,
    "execution_start": 1677757294845,
    "source_hash": "c138a5a2"
   },
   "outputs": [
    {
     "data": {
      "text/html": [
       "<div>\n",
       "<style scoped>\n",
       "    .dataframe tbody tr th:only-of-type {\n",
       "        vertical-align: middle;\n",
       "    }\n",
       "\n",
       "    .dataframe tbody tr th {\n",
       "        vertical-align: top;\n",
       "    }\n",
       "\n",
       "    .dataframe thead th {\n",
       "        text-align: right;\n",
       "    }\n",
       "</style>\n",
       "<table border=\"1\" class=\"dataframe\">\n",
       "  <thead>\n",
       "    <tr style=\"text-align: right;\">\n",
       "      <th></th>\n",
       "      <th>age</th>\n",
       "      <th>gender</th>\n",
       "      <th>height</th>\n",
       "      <th>weight</th>\n",
       "      <th>ap_hi</th>\n",
       "      <th>ap_lo</th>\n",
       "      <th>cholesterol</th>\n",
       "      <th>gluc</th>\n",
       "      <th>smoke</th>\n",
       "      <th>alco</th>\n",
       "      <th>active</th>\n",
       "      <th>cardio</th>\n",
       "      <th>BMI</th>\n",
       "    </tr>\n",
       "  </thead>\n",
       "  <tbody>\n",
       "    <tr>\n",
       "      <th>0</th>\n",
       "      <td>50</td>\n",
       "      <td>2</td>\n",
       "      <td>168</td>\n",
       "      <td>62</td>\n",
       "      <td>110</td>\n",
       "      <td>80</td>\n",
       "      <td>1</td>\n",
       "      <td>1</td>\n",
       "      <td>0</td>\n",
       "      <td>0</td>\n",
       "      <td>1</td>\n",
       "      <td>0</td>\n",
       "      <td>21</td>\n",
       "    </tr>\n",
       "    <tr>\n",
       "      <th>1</th>\n",
       "      <td>55</td>\n",
       "      <td>1</td>\n",
       "      <td>156</td>\n",
       "      <td>85</td>\n",
       "      <td>140</td>\n",
       "      <td>90</td>\n",
       "      <td>3</td>\n",
       "      <td>1</td>\n",
       "      <td>0</td>\n",
       "      <td>0</td>\n",
       "      <td>1</td>\n",
       "      <td>1</td>\n",
       "      <td>34</td>\n",
       "    </tr>\n",
       "    <tr>\n",
       "      <th>2</th>\n",
       "      <td>51</td>\n",
       "      <td>1</td>\n",
       "      <td>165</td>\n",
       "      <td>64</td>\n",
       "      <td>130</td>\n",
       "      <td>70</td>\n",
       "      <td>3</td>\n",
       "      <td>1</td>\n",
       "      <td>0</td>\n",
       "      <td>0</td>\n",
       "      <td>0</td>\n",
       "      <td>1</td>\n",
       "      <td>23</td>\n",
       "    </tr>\n",
       "    <tr>\n",
       "      <th>3</th>\n",
       "      <td>48</td>\n",
       "      <td>2</td>\n",
       "      <td>169</td>\n",
       "      <td>82</td>\n",
       "      <td>150</td>\n",
       "      <td>100</td>\n",
       "      <td>1</td>\n",
       "      <td>1</td>\n",
       "      <td>0</td>\n",
       "      <td>0</td>\n",
       "      <td>1</td>\n",
       "      <td>1</td>\n",
       "      <td>28</td>\n",
       "    </tr>\n",
       "    <tr>\n",
       "      <th>4</th>\n",
       "      <td>47</td>\n",
       "      <td>1</td>\n",
       "      <td>156</td>\n",
       "      <td>56</td>\n",
       "      <td>100</td>\n",
       "      <td>60</td>\n",
       "      <td>1</td>\n",
       "      <td>1</td>\n",
       "      <td>0</td>\n",
       "      <td>0</td>\n",
       "      <td>0</td>\n",
       "      <td>0</td>\n",
       "      <td>23</td>\n",
       "    </tr>\n",
       "  </tbody>\n",
       "</table>\n",
       "</div>"
      ],
      "text/plain": [
       "   age  gender  height  weight  ap_hi  ap_lo  cholesterol  gluc  smoke  alco  \\\n",
       "0   50       2     168      62    110     80            1     1      0     0   \n",
       "1   55       1     156      85    140     90            3     1      0     0   \n",
       "2   51       1     165      64    130     70            3     1      0     0   \n",
       "3   48       2     169      82    150    100            1     1      0     0   \n",
       "4   47       1     156      56    100     60            1     1      0     0   \n",
       "\n",
       "   active  cardio  BMI  \n",
       "0       1       0   21  \n",
       "1       1       1   34  \n",
       "2       0       1   23  \n",
       "3       1       1   28  \n",
       "4       0       0   23  "
      ]
     },
     "execution_count": 2,
     "metadata": {},
     "output_type": "execute_result"
    }
   ],
   "source": [
    "df = pd.read_csv('../../Data/new_data.csv')\n",
    "df.head()"
   ]
  },
  {
   "cell_type": "markdown",
   "metadata": {},
   "source": [
    "## Pycaret Experimentation"
   ]
  },
  {
   "cell_type": "code",
   "execution_count": 15,
   "metadata": {},
   "outputs": [],
   "source": [
    "from pycaret.classification import *\n",
    "# import ClassificationExperiment\n",
    "from pycaret.classification import ClassificationExperiment\n",
    "\n",
    "# and init the class\n",
    "exp = ClassificationExperiment()"
   ]
  },
  {
   "cell_type": "code",
   "execution_count": 16,
   "metadata": {},
   "outputs": [
    {
     "data": {
      "text/html": [
       "<style type=\"text/css\">\n",
       "#T_7f8ae_row8_col1 {\n",
       "  background-color: lightgreen;\n",
       "}\n",
       "</style>\n",
       "<table id=\"T_7f8ae\">\n",
       "  <thead>\n",
       "    <tr>\n",
       "      <th class=\"blank level0\" >&nbsp;</th>\n",
       "      <th id=\"T_7f8ae_level0_col0\" class=\"col_heading level0 col0\" >Description</th>\n",
       "      <th id=\"T_7f8ae_level0_col1\" class=\"col_heading level0 col1\" >Value</th>\n",
       "    </tr>\n",
       "  </thead>\n",
       "  <tbody>\n",
       "    <tr>\n",
       "      <th id=\"T_7f8ae_level0_row0\" class=\"row_heading level0 row0\" >0</th>\n",
       "      <td id=\"T_7f8ae_row0_col0\" class=\"data row0 col0\" >Session id</td>\n",
       "      <td id=\"T_7f8ae_row0_col1\" class=\"data row0 col1\" >8536</td>\n",
       "    </tr>\n",
       "    <tr>\n",
       "      <th id=\"T_7f8ae_level0_row1\" class=\"row_heading level0 row1\" >1</th>\n",
       "      <td id=\"T_7f8ae_row1_col0\" class=\"data row1 col0\" >Target</td>\n",
       "      <td id=\"T_7f8ae_row1_col1\" class=\"data row1 col1\" >cardio</td>\n",
       "    </tr>\n",
       "    <tr>\n",
       "      <th id=\"T_7f8ae_level0_row2\" class=\"row_heading level0 row2\" >2</th>\n",
       "      <td id=\"T_7f8ae_row2_col0\" class=\"data row2 col0\" >Target type</td>\n",
       "      <td id=\"T_7f8ae_row2_col1\" class=\"data row2 col1\" >Binary</td>\n",
       "    </tr>\n",
       "    <tr>\n",
       "      <th id=\"T_7f8ae_level0_row3\" class=\"row_heading level0 row3\" >3</th>\n",
       "      <td id=\"T_7f8ae_row3_col0\" class=\"data row3 col0\" >Original data shape</td>\n",
       "      <td id=\"T_7f8ae_row3_col1\" class=\"data row3 col1\" >(70000, 13)</td>\n",
       "    </tr>\n",
       "    <tr>\n",
       "      <th id=\"T_7f8ae_level0_row4\" class=\"row_heading level0 row4\" >4</th>\n",
       "      <td id=\"T_7f8ae_row4_col0\" class=\"data row4 col0\" >Transformed data shape</td>\n",
       "      <td id=\"T_7f8ae_row4_col1\" class=\"data row4 col1\" >(70000, 13)</td>\n",
       "    </tr>\n",
       "    <tr>\n",
       "      <th id=\"T_7f8ae_level0_row5\" class=\"row_heading level0 row5\" >5</th>\n",
       "      <td id=\"T_7f8ae_row5_col0\" class=\"data row5 col0\" >Transformed train set shape</td>\n",
       "      <td id=\"T_7f8ae_row5_col1\" class=\"data row5 col1\" >(49000, 13)</td>\n",
       "    </tr>\n",
       "    <tr>\n",
       "      <th id=\"T_7f8ae_level0_row6\" class=\"row_heading level0 row6\" >6</th>\n",
       "      <td id=\"T_7f8ae_row6_col0\" class=\"data row6 col0\" >Transformed test set shape</td>\n",
       "      <td id=\"T_7f8ae_row6_col1\" class=\"data row6 col1\" >(21000, 13)</td>\n",
       "    </tr>\n",
       "    <tr>\n",
       "      <th id=\"T_7f8ae_level0_row7\" class=\"row_heading level0 row7\" >7</th>\n",
       "      <td id=\"T_7f8ae_row7_col0\" class=\"data row7 col0\" >Numeric features</td>\n",
       "      <td id=\"T_7f8ae_row7_col1\" class=\"data row7 col1\" >12</td>\n",
       "    </tr>\n",
       "    <tr>\n",
       "      <th id=\"T_7f8ae_level0_row8\" class=\"row_heading level0 row8\" >8</th>\n",
       "      <td id=\"T_7f8ae_row8_col0\" class=\"data row8 col0\" >Preprocess</td>\n",
       "      <td id=\"T_7f8ae_row8_col1\" class=\"data row8 col1\" >True</td>\n",
       "    </tr>\n",
       "    <tr>\n",
       "      <th id=\"T_7f8ae_level0_row9\" class=\"row_heading level0 row9\" >9</th>\n",
       "      <td id=\"T_7f8ae_row9_col0\" class=\"data row9 col0\" >Imputation type</td>\n",
       "      <td id=\"T_7f8ae_row9_col1\" class=\"data row9 col1\" >simple</td>\n",
       "    </tr>\n",
       "    <tr>\n",
       "      <th id=\"T_7f8ae_level0_row10\" class=\"row_heading level0 row10\" >10</th>\n",
       "      <td id=\"T_7f8ae_row10_col0\" class=\"data row10 col0\" >Numeric imputation</td>\n",
       "      <td id=\"T_7f8ae_row10_col1\" class=\"data row10 col1\" >mean</td>\n",
       "    </tr>\n",
       "    <tr>\n",
       "      <th id=\"T_7f8ae_level0_row11\" class=\"row_heading level0 row11\" >11</th>\n",
       "      <td id=\"T_7f8ae_row11_col0\" class=\"data row11 col0\" >Categorical imputation</td>\n",
       "      <td id=\"T_7f8ae_row11_col1\" class=\"data row11 col1\" >mode</td>\n",
       "    </tr>\n",
       "    <tr>\n",
       "      <th id=\"T_7f8ae_level0_row12\" class=\"row_heading level0 row12\" >12</th>\n",
       "      <td id=\"T_7f8ae_row12_col0\" class=\"data row12 col0\" >Fold Generator</td>\n",
       "      <td id=\"T_7f8ae_row12_col1\" class=\"data row12 col1\" >StratifiedKFold</td>\n",
       "    </tr>\n",
       "    <tr>\n",
       "      <th id=\"T_7f8ae_level0_row13\" class=\"row_heading level0 row13\" >13</th>\n",
       "      <td id=\"T_7f8ae_row13_col0\" class=\"data row13 col0\" >Fold Number</td>\n",
       "      <td id=\"T_7f8ae_row13_col1\" class=\"data row13 col1\" >10</td>\n",
       "    </tr>\n",
       "    <tr>\n",
       "      <th id=\"T_7f8ae_level0_row14\" class=\"row_heading level0 row14\" >14</th>\n",
       "      <td id=\"T_7f8ae_row14_col0\" class=\"data row14 col0\" >CPU Jobs</td>\n",
       "      <td id=\"T_7f8ae_row14_col1\" class=\"data row14 col1\" >-1</td>\n",
       "    </tr>\n",
       "    <tr>\n",
       "      <th id=\"T_7f8ae_level0_row15\" class=\"row_heading level0 row15\" >15</th>\n",
       "      <td id=\"T_7f8ae_row15_col0\" class=\"data row15 col0\" >Use GPU</td>\n",
       "      <td id=\"T_7f8ae_row15_col1\" class=\"data row15 col1\" >False</td>\n",
       "    </tr>\n",
       "    <tr>\n",
       "      <th id=\"T_7f8ae_level0_row16\" class=\"row_heading level0 row16\" >16</th>\n",
       "      <td id=\"T_7f8ae_row16_col0\" class=\"data row16 col0\" >Log Experiment</td>\n",
       "      <td id=\"T_7f8ae_row16_col1\" class=\"data row16 col1\" >False</td>\n",
       "    </tr>\n",
       "    <tr>\n",
       "      <th id=\"T_7f8ae_level0_row17\" class=\"row_heading level0 row17\" >17</th>\n",
       "      <td id=\"T_7f8ae_row17_col0\" class=\"data row17 col0\" >Experiment Name</td>\n",
       "      <td id=\"T_7f8ae_row17_col1\" class=\"data row17 col1\" >clf-default-name</td>\n",
       "    </tr>\n",
       "    <tr>\n",
       "      <th id=\"T_7f8ae_level0_row18\" class=\"row_heading level0 row18\" >18</th>\n",
       "      <td id=\"T_7f8ae_row18_col0\" class=\"data row18 col0\" >USI</td>\n",
       "      <td id=\"T_7f8ae_row18_col1\" class=\"data row18 col1\" >00d3</td>\n",
       "    </tr>\n",
       "  </tbody>\n",
       "</table>\n"
      ],
      "text/plain": [
       "<pandas.io.formats.style.Styler at 0x1fdd8279700>"
      ]
     },
     "metadata": {},
     "output_type": "display_data"
    }
   ],
   "source": [
    "clf_exp = setup(data = df, target = 'cardio')"
   ]
  },
  {
   "cell_type": "code",
   "execution_count": 17,
   "metadata": {},
   "outputs": [
    {
     "data": {
      "text/html": [
       "<style type=\"text/css\">\n",
       "#T_e7314_row8_col1 {\n",
       "  background-color: lightgreen;\n",
       "}\n",
       "</style>\n",
       "<table id=\"T_e7314\">\n",
       "  <thead>\n",
       "    <tr>\n",
       "      <th class=\"blank level0\" >&nbsp;</th>\n",
       "      <th id=\"T_e7314_level0_col0\" class=\"col_heading level0 col0\" >Description</th>\n",
       "      <th id=\"T_e7314_level0_col1\" class=\"col_heading level0 col1\" >Value</th>\n",
       "    </tr>\n",
       "  </thead>\n",
       "  <tbody>\n",
       "    <tr>\n",
       "      <th id=\"T_e7314_level0_row0\" class=\"row_heading level0 row0\" >0</th>\n",
       "      <td id=\"T_e7314_row0_col0\" class=\"data row0 col0\" >Session id</td>\n",
       "      <td id=\"T_e7314_row0_col1\" class=\"data row0 col1\" >123</td>\n",
       "    </tr>\n",
       "    <tr>\n",
       "      <th id=\"T_e7314_level0_row1\" class=\"row_heading level0 row1\" >1</th>\n",
       "      <td id=\"T_e7314_row1_col0\" class=\"data row1 col0\" >Target</td>\n",
       "      <td id=\"T_e7314_row1_col1\" class=\"data row1 col1\" >cardio</td>\n",
       "    </tr>\n",
       "    <tr>\n",
       "      <th id=\"T_e7314_level0_row2\" class=\"row_heading level0 row2\" >2</th>\n",
       "      <td id=\"T_e7314_row2_col0\" class=\"data row2 col0\" >Target type</td>\n",
       "      <td id=\"T_e7314_row2_col1\" class=\"data row2 col1\" >Binary</td>\n",
       "    </tr>\n",
       "    <tr>\n",
       "      <th id=\"T_e7314_level0_row3\" class=\"row_heading level0 row3\" >3</th>\n",
       "      <td id=\"T_e7314_row3_col0\" class=\"data row3 col0\" >Original data shape</td>\n",
       "      <td id=\"T_e7314_row3_col1\" class=\"data row3 col1\" >(70000, 13)</td>\n",
       "    </tr>\n",
       "    <tr>\n",
       "      <th id=\"T_e7314_level0_row4\" class=\"row_heading level0 row4\" >4</th>\n",
       "      <td id=\"T_e7314_row4_col0\" class=\"data row4 col0\" >Transformed data shape</td>\n",
       "      <td id=\"T_e7314_row4_col1\" class=\"data row4 col1\" >(70000, 13)</td>\n",
       "    </tr>\n",
       "    <tr>\n",
       "      <th id=\"T_e7314_level0_row5\" class=\"row_heading level0 row5\" >5</th>\n",
       "      <td id=\"T_e7314_row5_col0\" class=\"data row5 col0\" >Transformed train set shape</td>\n",
       "      <td id=\"T_e7314_row5_col1\" class=\"data row5 col1\" >(49000, 13)</td>\n",
       "    </tr>\n",
       "    <tr>\n",
       "      <th id=\"T_e7314_level0_row6\" class=\"row_heading level0 row6\" >6</th>\n",
       "      <td id=\"T_e7314_row6_col0\" class=\"data row6 col0\" >Transformed test set shape</td>\n",
       "      <td id=\"T_e7314_row6_col1\" class=\"data row6 col1\" >(21000, 13)</td>\n",
       "    </tr>\n",
       "    <tr>\n",
       "      <th id=\"T_e7314_level0_row7\" class=\"row_heading level0 row7\" >7</th>\n",
       "      <td id=\"T_e7314_row7_col0\" class=\"data row7 col0\" >Numeric features</td>\n",
       "      <td id=\"T_e7314_row7_col1\" class=\"data row7 col1\" >12</td>\n",
       "    </tr>\n",
       "    <tr>\n",
       "      <th id=\"T_e7314_level0_row8\" class=\"row_heading level0 row8\" >8</th>\n",
       "      <td id=\"T_e7314_row8_col0\" class=\"data row8 col0\" >Preprocess</td>\n",
       "      <td id=\"T_e7314_row8_col1\" class=\"data row8 col1\" >True</td>\n",
       "    </tr>\n",
       "    <tr>\n",
       "      <th id=\"T_e7314_level0_row9\" class=\"row_heading level0 row9\" >9</th>\n",
       "      <td id=\"T_e7314_row9_col0\" class=\"data row9 col0\" >Imputation type</td>\n",
       "      <td id=\"T_e7314_row9_col1\" class=\"data row9 col1\" >simple</td>\n",
       "    </tr>\n",
       "    <tr>\n",
       "      <th id=\"T_e7314_level0_row10\" class=\"row_heading level0 row10\" >10</th>\n",
       "      <td id=\"T_e7314_row10_col0\" class=\"data row10 col0\" >Numeric imputation</td>\n",
       "      <td id=\"T_e7314_row10_col1\" class=\"data row10 col1\" >mean</td>\n",
       "    </tr>\n",
       "    <tr>\n",
       "      <th id=\"T_e7314_level0_row11\" class=\"row_heading level0 row11\" >11</th>\n",
       "      <td id=\"T_e7314_row11_col0\" class=\"data row11 col0\" >Categorical imputation</td>\n",
       "      <td id=\"T_e7314_row11_col1\" class=\"data row11 col1\" >mode</td>\n",
       "    </tr>\n",
       "    <tr>\n",
       "      <th id=\"T_e7314_level0_row12\" class=\"row_heading level0 row12\" >12</th>\n",
       "      <td id=\"T_e7314_row12_col0\" class=\"data row12 col0\" >Fold Generator</td>\n",
       "      <td id=\"T_e7314_row12_col1\" class=\"data row12 col1\" >StratifiedKFold</td>\n",
       "    </tr>\n",
       "    <tr>\n",
       "      <th id=\"T_e7314_level0_row13\" class=\"row_heading level0 row13\" >13</th>\n",
       "      <td id=\"T_e7314_row13_col0\" class=\"data row13 col0\" >Fold Number</td>\n",
       "      <td id=\"T_e7314_row13_col1\" class=\"data row13 col1\" >10</td>\n",
       "    </tr>\n",
       "    <tr>\n",
       "      <th id=\"T_e7314_level0_row14\" class=\"row_heading level0 row14\" >14</th>\n",
       "      <td id=\"T_e7314_row14_col0\" class=\"data row14 col0\" >CPU Jobs</td>\n",
       "      <td id=\"T_e7314_row14_col1\" class=\"data row14 col1\" >-1</td>\n",
       "    </tr>\n",
       "    <tr>\n",
       "      <th id=\"T_e7314_level0_row15\" class=\"row_heading level0 row15\" >15</th>\n",
       "      <td id=\"T_e7314_row15_col0\" class=\"data row15 col0\" >Use GPU</td>\n",
       "      <td id=\"T_e7314_row15_col1\" class=\"data row15 col1\" >False</td>\n",
       "    </tr>\n",
       "    <tr>\n",
       "      <th id=\"T_e7314_level0_row16\" class=\"row_heading level0 row16\" >16</th>\n",
       "      <td id=\"T_e7314_row16_col0\" class=\"data row16 col0\" >Log Experiment</td>\n",
       "      <td id=\"T_e7314_row16_col1\" class=\"data row16 col1\" >False</td>\n",
       "    </tr>\n",
       "    <tr>\n",
       "      <th id=\"T_e7314_level0_row17\" class=\"row_heading level0 row17\" >17</th>\n",
       "      <td id=\"T_e7314_row17_col0\" class=\"data row17 col0\" >Experiment Name</td>\n",
       "      <td id=\"T_e7314_row17_col1\" class=\"data row17 col1\" >clf-default-name</td>\n",
       "    </tr>\n",
       "    <tr>\n",
       "      <th id=\"T_e7314_level0_row18\" class=\"row_heading level0 row18\" >18</th>\n",
       "      <td id=\"T_e7314_row18_col0\" class=\"data row18 col0\" >USI</td>\n",
       "      <td id=\"T_e7314_row18_col1\" class=\"data row18 col1\" >5763</td>\n",
       "    </tr>\n",
       "  </tbody>\n",
       "</table>\n"
      ],
      "text/plain": [
       "<pandas.io.formats.style.Styler at 0x1fdd88049a0>"
      ]
     },
     "metadata": {},
     "output_type": "display_data"
    },
    {
     "data": {
      "text/plain": [
       "<pycaret.classification.oop.ClassificationExperiment at 0x1fdc584c580>"
      ]
     },
     "execution_count": 17,
     "metadata": {},
     "output_type": "execute_result"
    }
   ],
   "source": [
    "# init setup on exp\n",
    "exp.setup(df, target = 'cardio', session_id = 123)"
   ]
  },
  {
   "cell_type": "code",
   "execution_count": 18,
   "metadata": {},
   "outputs": [
    {
     "data": {
      "text/html": [],
      "text/plain": [
       "<IPython.core.display.HTML object>"
      ]
     },
     "metadata": {},
     "output_type": "display_data"
    },
    {
     "data": {
      "text/html": [
       "<style type=\"text/css\">\n",
       "#T_6cf51 th {\n",
       "  text-align: left;\n",
       "}\n",
       "#T_6cf51_row0_col0, #T_6cf51_row0_col1, #T_6cf51_row0_col2, #T_6cf51_row0_col3, #T_6cf51_row0_col5, #T_6cf51_row0_col6, #T_6cf51_row0_col7, #T_6cf51_row1_col0, #T_6cf51_row1_col1, #T_6cf51_row1_col3, #T_6cf51_row1_col4, #T_6cf51_row1_col5, #T_6cf51_row1_col6, #T_6cf51_row1_col7, #T_6cf51_row2_col0, #T_6cf51_row2_col2, #T_6cf51_row2_col3, #T_6cf51_row2_col4, #T_6cf51_row3_col0, #T_6cf51_row3_col1, #T_6cf51_row3_col2, #T_6cf51_row3_col3, #T_6cf51_row3_col4, #T_6cf51_row3_col5, #T_6cf51_row3_col6, #T_6cf51_row3_col7, #T_6cf51_row4_col0, #T_6cf51_row4_col1, #T_6cf51_row4_col2, #T_6cf51_row4_col3, #T_6cf51_row4_col4, #T_6cf51_row4_col5, #T_6cf51_row4_col6, #T_6cf51_row4_col7, #T_6cf51_row5_col0, #T_6cf51_row5_col1, #T_6cf51_row5_col2, #T_6cf51_row5_col4, #T_6cf51_row5_col5, #T_6cf51_row5_col6, #T_6cf51_row5_col7, #T_6cf51_row6_col0, #T_6cf51_row6_col1, #T_6cf51_row6_col2, #T_6cf51_row6_col3, #T_6cf51_row6_col4, #T_6cf51_row6_col5, #T_6cf51_row6_col6, #T_6cf51_row6_col7, #T_6cf51_row7_col0, #T_6cf51_row7_col1, #T_6cf51_row7_col2, #T_6cf51_row7_col3, #T_6cf51_row7_col4, #T_6cf51_row7_col5, #T_6cf51_row7_col6, #T_6cf51_row7_col7, #T_6cf51_row8_col0, #T_6cf51_row8_col1, #T_6cf51_row8_col2, #T_6cf51_row8_col3, #T_6cf51_row8_col4, #T_6cf51_row8_col5, #T_6cf51_row8_col6, #T_6cf51_row8_col7, #T_6cf51_row9_col0, #T_6cf51_row9_col1, #T_6cf51_row9_col2, #T_6cf51_row9_col3, #T_6cf51_row9_col4, #T_6cf51_row9_col5, #T_6cf51_row9_col6, #T_6cf51_row9_col7, #T_6cf51_row10_col0, #T_6cf51_row10_col1, #T_6cf51_row10_col2, #T_6cf51_row10_col3, #T_6cf51_row10_col4, #T_6cf51_row10_col5, #T_6cf51_row10_col6, #T_6cf51_row10_col7, #T_6cf51_row11_col0, #T_6cf51_row11_col1, #T_6cf51_row11_col2, #T_6cf51_row11_col3, #T_6cf51_row11_col4, #T_6cf51_row11_col5, #T_6cf51_row11_col6, #T_6cf51_row11_col7, #T_6cf51_row12_col0, #T_6cf51_row12_col1, #T_6cf51_row12_col2, #T_6cf51_row12_col3, #T_6cf51_row12_col4, #T_6cf51_row12_col5, #T_6cf51_row12_col6, #T_6cf51_row12_col7, #T_6cf51_row13_col0, #T_6cf51_row13_col1, #T_6cf51_row13_col2, #T_6cf51_row13_col3, #T_6cf51_row13_col4, #T_6cf51_row13_col5, #T_6cf51_row13_col6, #T_6cf51_row13_col7, #T_6cf51_row14_col0, #T_6cf51_row14_col1, #T_6cf51_row14_col2, #T_6cf51_row14_col3, #T_6cf51_row14_col4, #T_6cf51_row14_col5, #T_6cf51_row14_col6, #T_6cf51_row14_col7 {\n",
       "  text-align: left;\n",
       "}\n",
       "#T_6cf51_row0_col4, #T_6cf51_row1_col2, #T_6cf51_row2_col1, #T_6cf51_row2_col5, #T_6cf51_row2_col6, #T_6cf51_row2_col7, #T_6cf51_row5_col3 {\n",
       "  text-align: left;\n",
       "  background-color: yellow;\n",
       "}\n",
       "#T_6cf51_row0_col8, #T_6cf51_row1_col8, #T_6cf51_row2_col8, #T_6cf51_row3_col8, #T_6cf51_row4_col8, #T_6cf51_row5_col8, #T_6cf51_row6_col8, #T_6cf51_row7_col8, #T_6cf51_row8_col8, #T_6cf51_row9_col8, #T_6cf51_row10_col8, #T_6cf51_row11_col8, #T_6cf51_row12_col8, #T_6cf51_row13_col8 {\n",
       "  text-align: left;\n",
       "  background-color: lightgrey;\n",
       "}\n",
       "#T_6cf51_row14_col8 {\n",
       "  text-align: left;\n",
       "  background-color: yellow;\n",
       "  background-color: lightgrey;\n",
       "}\n",
       "</style>\n",
       "<table id=\"T_6cf51\">\n",
       "  <thead>\n",
       "    <tr>\n",
       "      <th class=\"blank level0\" >&nbsp;</th>\n",
       "      <th id=\"T_6cf51_level0_col0\" class=\"col_heading level0 col0\" >Model</th>\n",
       "      <th id=\"T_6cf51_level0_col1\" class=\"col_heading level0 col1\" >Accuracy</th>\n",
       "      <th id=\"T_6cf51_level0_col2\" class=\"col_heading level0 col2\" >AUC</th>\n",
       "      <th id=\"T_6cf51_level0_col3\" class=\"col_heading level0 col3\" >Recall</th>\n",
       "      <th id=\"T_6cf51_level0_col4\" class=\"col_heading level0 col4\" >Prec.</th>\n",
       "      <th id=\"T_6cf51_level0_col5\" class=\"col_heading level0 col5\" >F1</th>\n",
       "      <th id=\"T_6cf51_level0_col6\" class=\"col_heading level0 col6\" >Kappa</th>\n",
       "      <th id=\"T_6cf51_level0_col7\" class=\"col_heading level0 col7\" >MCC</th>\n",
       "      <th id=\"T_6cf51_level0_col8\" class=\"col_heading level0 col8\" >TT (Sec)</th>\n",
       "    </tr>\n",
       "  </thead>\n",
       "  <tbody>\n",
       "    <tr>\n",
       "      <th id=\"T_6cf51_level0_row0\" class=\"row_heading level0 row0\" >ada</th>\n",
       "      <td id=\"T_6cf51_row0_col0\" class=\"data row0 col0\" >Ada Boost Classifier</td>\n",
       "      <td id=\"T_6cf51_row0_col1\" class=\"data row0 col1\" >0.7316</td>\n",
       "      <td id=\"T_6cf51_row0_col2\" class=\"data row0 col2\" >0.7968</td>\n",
       "      <td id=\"T_6cf51_row0_col3\" class=\"data row0 col3\" >0.6627</td>\n",
       "      <td id=\"T_6cf51_row0_col4\" class=\"data row0 col4\" >0.7683</td>\n",
       "      <td id=\"T_6cf51_row0_col5\" class=\"data row0 col5\" >0.7116</td>\n",
       "      <td id=\"T_6cf51_row0_col6\" class=\"data row0 col6\" >0.4631</td>\n",
       "      <td id=\"T_6cf51_row0_col7\" class=\"data row0 col7\" >0.4676</td>\n",
       "      <td id=\"T_6cf51_row0_col8\" class=\"data row0 col8\" >1.2920</td>\n",
       "    </tr>\n",
       "    <tr>\n",
       "      <th id=\"T_6cf51_level0_row1\" class=\"row_heading level0 row1\" >gbc</th>\n",
       "      <td id=\"T_6cf51_row1_col0\" class=\"data row1 col0\" >Gradient Boosting Classifier</td>\n",
       "      <td id=\"T_6cf51_row1_col1\" class=\"data row1 col1\" >0.7371</td>\n",
       "      <td id=\"T_6cf51_row1_col2\" class=\"data row1 col2\" >0.8040</td>\n",
       "      <td id=\"T_6cf51_row1_col3\" class=\"data row1 col3\" >0.6997</td>\n",
       "      <td id=\"T_6cf51_row1_col4\" class=\"data row1 col4\" >0.7561</td>\n",
       "      <td id=\"T_6cf51_row1_col5\" class=\"data row1 col5\" >0.7267</td>\n",
       "      <td id=\"T_6cf51_row1_col6\" class=\"data row1 col6\" >0.4742</td>\n",
       "      <td id=\"T_6cf51_row1_col7\" class=\"data row1 col7\" >0.4755</td>\n",
       "      <td id=\"T_6cf51_row1_col8\" class=\"data row1 col8\" >2.9620</td>\n",
       "    </tr>\n",
       "    <tr>\n",
       "      <th id=\"T_6cf51_level0_row2\" class=\"row_heading level0 row2\" >lightgbm</th>\n",
       "      <td id=\"T_6cf51_row2_col0\" class=\"data row2 col0\" >Light Gradient Boosting Machine</td>\n",
       "      <td id=\"T_6cf51_row2_col1\" class=\"data row2 col1\" >0.7378</td>\n",
       "      <td id=\"T_6cf51_row2_col2\" class=\"data row2 col2\" >0.8038</td>\n",
       "      <td id=\"T_6cf51_row2_col3\" class=\"data row2 col3\" >0.7015</td>\n",
       "      <td id=\"T_6cf51_row2_col4\" class=\"data row2 col4\" >0.7561</td>\n",
       "      <td id=\"T_6cf51_row2_col5\" class=\"data row2 col5\" >0.7278</td>\n",
       "      <td id=\"T_6cf51_row2_col6\" class=\"data row2 col6\" >0.4755</td>\n",
       "      <td id=\"T_6cf51_row2_col7\" class=\"data row2 col7\" >0.4767</td>\n",
       "      <td id=\"T_6cf51_row2_col8\" class=\"data row2 col8\" >1.1590</td>\n",
       "    </tr>\n",
       "    <tr>\n",
       "      <th id=\"T_6cf51_level0_row3\" class=\"row_heading level0 row3\" >xgboost</th>\n",
       "      <td id=\"T_6cf51_row3_col0\" class=\"data row3 col0\" >Extreme Gradient Boosting</td>\n",
       "      <td id=\"T_6cf51_row3_col1\" class=\"data row3 col1\" >0.7339</td>\n",
       "      <td id=\"T_6cf51_row3_col2\" class=\"data row3 col2\" >0.7982</td>\n",
       "      <td id=\"T_6cf51_row3_col3\" class=\"data row3 col3\" >0.6967</td>\n",
       "      <td id=\"T_6cf51_row3_col4\" class=\"data row3 col4\" >0.7525</td>\n",
       "      <td id=\"T_6cf51_row3_col5\" class=\"data row3 col5\" >0.7235</td>\n",
       "      <td id=\"T_6cf51_row3_col6\" class=\"data row3 col6\" >0.4678</td>\n",
       "      <td id=\"T_6cf51_row3_col7\" class=\"data row3 col7\" >0.4691</td>\n",
       "      <td id=\"T_6cf51_row3_col8\" class=\"data row3 col8\" >2.5830</td>\n",
       "    </tr>\n",
       "    <tr>\n",
       "      <th id=\"T_6cf51_level0_row4\" class=\"row_heading level0 row4\" >lr</th>\n",
       "      <td id=\"T_6cf51_row4_col0\" class=\"data row4 col0\" >Logistic Regression</td>\n",
       "      <td id=\"T_6cf51_row4_col1\" class=\"data row4 col1\" >0.7196</td>\n",
       "      <td id=\"T_6cf51_row4_col2\" class=\"data row4 col2\" >0.7830</td>\n",
       "      <td id=\"T_6cf51_row4_col3\" class=\"data row4 col3\" >0.6781</td>\n",
       "      <td id=\"T_6cf51_row4_col4\" class=\"data row4 col4\" >0.7393</td>\n",
       "      <td id=\"T_6cf51_row4_col5\" class=\"data row4 col5\" >0.7073</td>\n",
       "      <td id=\"T_6cf51_row4_col6\" class=\"data row4 col6\" >0.4392</td>\n",
       "      <td id=\"T_6cf51_row4_col7\" class=\"data row4 col7\" >0.4408</td>\n",
       "      <td id=\"T_6cf51_row4_col8\" class=\"data row4 col8\" >3.4690</td>\n",
       "    </tr>\n",
       "    <tr>\n",
       "      <th id=\"T_6cf51_level0_row5\" class=\"row_heading level0 row5\" >rf</th>\n",
       "      <td id=\"T_6cf51_row5_col0\" class=\"data row5 col0\" >Random Forest Classifier</td>\n",
       "      <td id=\"T_6cf51_row5_col1\" class=\"data row5 col1\" >0.7142</td>\n",
       "      <td id=\"T_6cf51_row5_col2\" class=\"data row5 col2\" >0.7711</td>\n",
       "      <td id=\"T_6cf51_row5_col3\" class=\"data row5 col3\" >0.7109</td>\n",
       "      <td id=\"T_6cf51_row5_col4\" class=\"data row5 col4\" >0.7154</td>\n",
       "      <td id=\"T_6cf51_row5_col5\" class=\"data row5 col5\" >0.7131</td>\n",
       "      <td id=\"T_6cf51_row5_col6\" class=\"data row5 col6\" >0.4284</td>\n",
       "      <td id=\"T_6cf51_row5_col7\" class=\"data row5 col7\" >0.4285</td>\n",
       "      <td id=\"T_6cf51_row5_col8\" class=\"data row5 col8\" >6.4880</td>\n",
       "    </tr>\n",
       "    <tr>\n",
       "      <th id=\"T_6cf51_level0_row6\" class=\"row_heading level0 row6\" >qda</th>\n",
       "      <td id=\"T_6cf51_row6_col0\" class=\"data row6 col0\" >Quadratic Discriminant Analysis</td>\n",
       "      <td id=\"T_6cf51_row6_col1\" class=\"data row6 col1\" >0.5937</td>\n",
       "      <td id=\"T_6cf51_row6_col2\" class=\"data row6 col2\" >0.6927</td>\n",
       "      <td id=\"T_6cf51_row6_col3\" class=\"data row6 col3\" >0.3108</td>\n",
       "      <td id=\"T_6cf51_row6_col4\" class=\"data row6 col4\" >0.7152</td>\n",
       "      <td id=\"T_6cf51_row6_col5\" class=\"data row6 col5\" >0.4320</td>\n",
       "      <td id=\"T_6cf51_row6_col6\" class=\"data row6 col6\" >0.1871</td>\n",
       "      <td id=\"T_6cf51_row6_col7\" class=\"data row6 col7\" >0.2267</td>\n",
       "      <td id=\"T_6cf51_row6_col8\" class=\"data row6 col8\" >0.1610</td>\n",
       "    </tr>\n",
       "    <tr>\n",
       "      <th id=\"T_6cf51_level0_row7\" class=\"row_heading level0 row7\" >nb</th>\n",
       "      <td id=\"T_6cf51_row7_col0\" class=\"data row7 col0\" >Naive Bayes</td>\n",
       "      <td id=\"T_6cf51_row7_col1\" class=\"data row7 col1\" >0.6061</td>\n",
       "      <td id=\"T_6cf51_row7_col2\" class=\"data row7 col2\" >0.6925</td>\n",
       "      <td id=\"T_6cf51_row7_col3\" class=\"data row7 col3\" >0.3554</td>\n",
       "      <td id=\"T_6cf51_row7_col4\" class=\"data row7 col4\" >0.7124</td>\n",
       "      <td id=\"T_6cf51_row7_col5\" class=\"data row7 col5\" >0.4733</td>\n",
       "      <td id=\"T_6cf51_row7_col6\" class=\"data row7 col6\" >0.2120</td>\n",
       "      <td id=\"T_6cf51_row7_col7\" class=\"data row7 col7\" >0.2450</td>\n",
       "      <td id=\"T_6cf51_row7_col8\" class=\"data row7 col8\" >0.1390</td>\n",
       "    </tr>\n",
       "    <tr>\n",
       "      <th id=\"T_6cf51_level0_row8\" class=\"row_heading level0 row8\" >knn</th>\n",
       "      <td id=\"T_6cf51_row8_col0\" class=\"data row8 col0\" >K Neighbors Classifier</td>\n",
       "      <td id=\"T_6cf51_row8_col1\" class=\"data row8 col1\" >0.6907</td>\n",
       "      <td id=\"T_6cf51_row8_col2\" class=\"data row8 col2\" >0.7391</td>\n",
       "      <td id=\"T_6cf51_row8_col3\" class=\"data row8 col3\" >0.6718</td>\n",
       "      <td id=\"T_6cf51_row8_col4\" class=\"data row8 col4\" >0.6979</td>\n",
       "      <td id=\"T_6cf51_row8_col5\" class=\"data row8 col5\" >0.6846</td>\n",
       "      <td id=\"T_6cf51_row8_col6\" class=\"data row8 col6\" >0.3814</td>\n",
       "      <td id=\"T_6cf51_row8_col7\" class=\"data row8 col7\" >0.3817</td>\n",
       "      <td id=\"T_6cf51_row8_col8\" class=\"data row8 col8\" >0.9800</td>\n",
       "    </tr>\n",
       "    <tr>\n",
       "      <th id=\"T_6cf51_level0_row9\" class=\"row_heading level0 row9\" >et</th>\n",
       "      <td id=\"T_6cf51_row9_col0\" class=\"data row9 col0\" >Extra Trees Classifier</td>\n",
       "      <td id=\"T_6cf51_row9_col1\" class=\"data row9 col1\" >0.6985</td>\n",
       "      <td id=\"T_6cf51_row9_col2\" class=\"data row9 col2\" >0.7442</td>\n",
       "      <td id=\"T_6cf51_row9_col3\" class=\"data row9 col3\" >0.7031</td>\n",
       "      <td id=\"T_6cf51_row9_col4\" class=\"data row9 col4\" >0.6964</td>\n",
       "      <td id=\"T_6cf51_row9_col5\" class=\"data row9 col5\" >0.6997</td>\n",
       "      <td id=\"T_6cf51_row9_col6\" class=\"data row9 col6\" >0.3969</td>\n",
       "      <td id=\"T_6cf51_row9_col7\" class=\"data row9 col7\" >0.3970</td>\n",
       "      <td id=\"T_6cf51_row9_col8\" class=\"data row9 col8\" >12.2780</td>\n",
       "    </tr>\n",
       "    <tr>\n",
       "      <th id=\"T_6cf51_level0_row10\" class=\"row_heading level0 row10\" >ridge</th>\n",
       "      <td id=\"T_6cf51_row10_col0\" class=\"data row10 col0\" >Ridge Classifier</td>\n",
       "      <td id=\"T_6cf51_row10_col1\" class=\"data row10 col1\" >0.6498</td>\n",
       "      <td id=\"T_6cf51_row10_col2\" class=\"data row10 col2\" >0.0000</td>\n",
       "      <td id=\"T_6cf51_row10_col3\" class=\"data row10 col3\" >0.6148</td>\n",
       "      <td id=\"T_6cf51_row10_col4\" class=\"data row10 col4\" >0.6608</td>\n",
       "      <td id=\"T_6cf51_row10_col5\" class=\"data row10 col5\" >0.6369</td>\n",
       "      <td id=\"T_6cf51_row10_col6\" class=\"data row10 col6\" >0.2996</td>\n",
       "      <td id=\"T_6cf51_row10_col7\" class=\"data row10 col7\" >0.3003</td>\n",
       "      <td id=\"T_6cf51_row10_col8\" class=\"data row10 col8\" >0.1460</td>\n",
       "    </tr>\n",
       "    <tr>\n",
       "      <th id=\"T_6cf51_level0_row11\" class=\"row_heading level0 row11\" >lda</th>\n",
       "      <td id=\"T_6cf51_row11_col0\" class=\"data row11 col0\" >Linear Discriminant Analysis</td>\n",
       "      <td id=\"T_6cf51_row11_col1\" class=\"data row11 col1\" >0.6498</td>\n",
       "      <td id=\"T_6cf51_row11_col2\" class=\"data row11 col2\" >0.7053</td>\n",
       "      <td id=\"T_6cf51_row11_col3\" class=\"data row11 col3\" >0.6148</td>\n",
       "      <td id=\"T_6cf51_row11_col4\" class=\"data row11 col4\" >0.6608</td>\n",
       "      <td id=\"T_6cf51_row11_col5\" class=\"data row11 col5\" >0.6369</td>\n",
       "      <td id=\"T_6cf51_row11_col6\" class=\"data row11 col6\" >0.2996</td>\n",
       "      <td id=\"T_6cf51_row11_col7\" class=\"data row11 col7\" >0.3003</td>\n",
       "      <td id=\"T_6cf51_row11_col8\" class=\"data row11 col8\" >0.1750</td>\n",
       "    </tr>\n",
       "    <tr>\n",
       "      <th id=\"T_6cf51_level0_row12\" class=\"row_heading level0 row12\" >svm</th>\n",
       "      <td id=\"T_6cf51_row12_col0\" class=\"data row12 col0\" >SVM - Linear Kernel</td>\n",
       "      <td id=\"T_6cf51_row12_col1\" class=\"data row12 col1\" >0.6206</td>\n",
       "      <td id=\"T_6cf51_row12_col2\" class=\"data row12 col2\" >0.0000</td>\n",
       "      <td id=\"T_6cf51_row12_col3\" class=\"data row12 col3\" >0.5905</td>\n",
       "      <td id=\"T_6cf51_row12_col4\" class=\"data row12 col4\" >0.6412</td>\n",
       "      <td id=\"T_6cf51_row12_col5\" class=\"data row12 col5\" >0.5344</td>\n",
       "      <td id=\"T_6cf51_row12_col6\" class=\"data row12 col6\" >0.2412</td>\n",
       "      <td id=\"T_6cf51_row12_col7\" class=\"data row12 col7\" >0.2768</td>\n",
       "      <td id=\"T_6cf51_row12_col8\" class=\"data row12 col8\" >0.3990</td>\n",
       "    </tr>\n",
       "    <tr>\n",
       "      <th id=\"T_6cf51_level0_row13\" class=\"row_heading level0 row13\" >dt</th>\n",
       "      <td id=\"T_6cf51_row13_col0\" class=\"data row13 col0\" >Decision Tree Classifier</td>\n",
       "      <td id=\"T_6cf51_row13_col1\" class=\"data row13 col1\" >0.6360</td>\n",
       "      <td id=\"T_6cf51_row13_col2\" class=\"data row13 col2\" >0.6367</td>\n",
       "      <td id=\"T_6cf51_row13_col3\" class=\"data row13 col3\" >0.6231</td>\n",
       "      <td id=\"T_6cf51_row13_col4\" class=\"data row13 col4\" >0.6393</td>\n",
       "      <td id=\"T_6cf51_row13_col5\" class=\"data row13 col5\" >0.6311</td>\n",
       "      <td id=\"T_6cf51_row13_col6\" class=\"data row13 col6\" >0.2719</td>\n",
       "      <td id=\"T_6cf51_row13_col7\" class=\"data row13 col7\" >0.2720</td>\n",
       "      <td id=\"T_6cf51_row13_col8\" class=\"data row13 col8\" >0.2870</td>\n",
       "    </tr>\n",
       "    <tr>\n",
       "      <th id=\"T_6cf51_level0_row14\" class=\"row_heading level0 row14\" >dummy</th>\n",
       "      <td id=\"T_6cf51_row14_col0\" class=\"data row14 col0\" >Dummy Classifier</td>\n",
       "      <td id=\"T_6cf51_row14_col1\" class=\"data row14 col1\" >0.5003</td>\n",
       "      <td id=\"T_6cf51_row14_col2\" class=\"data row14 col2\" >0.5000</td>\n",
       "      <td id=\"T_6cf51_row14_col3\" class=\"data row14 col3\" >0.0000</td>\n",
       "      <td id=\"T_6cf51_row14_col4\" class=\"data row14 col4\" >0.0000</td>\n",
       "      <td id=\"T_6cf51_row14_col5\" class=\"data row14 col5\" >0.0000</td>\n",
       "      <td id=\"T_6cf51_row14_col6\" class=\"data row14 col6\" >0.0000</td>\n",
       "      <td id=\"T_6cf51_row14_col7\" class=\"data row14 col7\" >0.0000</td>\n",
       "      <td id=\"T_6cf51_row14_col8\" class=\"data row14 col8\" >0.1170</td>\n",
       "    </tr>\n",
       "  </tbody>\n",
       "</table>\n"
      ],
      "text/plain": [
       "<pandas.io.formats.style.Styler at 0x1fdc5cdd5b0>"
      ]
     },
     "metadata": {},
     "output_type": "display_data"
    },
    {
     "data": {
      "application/vnd.jupyter.widget-view+json": {
       "model_id": "",
       "version_major": 2,
       "version_minor": 0
      },
      "text/plain": [
       "Processing:   0%|          | 0/65 [00:00<?, ?it/s]"
      ]
     },
     "metadata": {},
     "output_type": "display_data"
    }
   ],
   "source": [
    "best_model = compare_models(sort = 'precision')"
   ]
  },
  {
   "cell_type": "code",
   "execution_count": 19,
   "metadata": {},
   "outputs": [
    {
     "data": {
      "text/html": [],
      "text/plain": [
       "<IPython.core.display.HTML object>"
      ]
     },
     "metadata": {},
     "output_type": "display_data"
    },
    {
     "data": {
      "text/html": [
       "<style type=\"text/css\">\n",
       "#T_e4fb0 th {\n",
       "  text-align: left;\n",
       "}\n",
       "#T_e4fb0_row0_col0, #T_e4fb0_row0_col3, #T_e4fb0_row0_col4, #T_e4fb0_row0_col5, #T_e4fb0_row1_col0, #T_e4fb0_row1_col2, #T_e4fb0_row1_col3, #T_e4fb0_row1_col4, #T_e4fb0_row1_col7, #T_e4fb0_row2_col0, #T_e4fb0_row2_col1, #T_e4fb0_row2_col2, #T_e4fb0_row2_col3, #T_e4fb0_row2_col4, #T_e4fb0_row2_col5, #T_e4fb0_row2_col6, #T_e4fb0_row2_col7, #T_e4fb0_row3_col0, #T_e4fb0_row3_col1, #T_e4fb0_row3_col2, #T_e4fb0_row3_col3, #T_e4fb0_row3_col5, #T_e4fb0_row3_col6, #T_e4fb0_row3_col7, #T_e4fb0_row4_col0, #T_e4fb0_row4_col1, #T_e4fb0_row4_col2, #T_e4fb0_row4_col3, #T_e4fb0_row4_col4, #T_e4fb0_row4_col5, #T_e4fb0_row4_col6, #T_e4fb0_row4_col7, #T_e4fb0_row5_col0, #T_e4fb0_row5_col1, #T_e4fb0_row5_col2, #T_e4fb0_row5_col4, #T_e4fb0_row5_col5, #T_e4fb0_row5_col6, #T_e4fb0_row5_col7, #T_e4fb0_row6_col0, #T_e4fb0_row6_col1, #T_e4fb0_row6_col2, #T_e4fb0_row6_col3, #T_e4fb0_row6_col4, #T_e4fb0_row6_col5, #T_e4fb0_row6_col6, #T_e4fb0_row6_col7, #T_e4fb0_row7_col0, #T_e4fb0_row7_col1, #T_e4fb0_row7_col2, #T_e4fb0_row7_col3, #T_e4fb0_row7_col4, #T_e4fb0_row7_col5, #T_e4fb0_row7_col6, #T_e4fb0_row7_col7, #T_e4fb0_row8_col0, #T_e4fb0_row8_col1, #T_e4fb0_row8_col2, #T_e4fb0_row8_col3, #T_e4fb0_row8_col4, #T_e4fb0_row8_col5, #T_e4fb0_row8_col6, #T_e4fb0_row8_col7, #T_e4fb0_row9_col0, #T_e4fb0_row9_col1, #T_e4fb0_row9_col2, #T_e4fb0_row9_col3, #T_e4fb0_row9_col4, #T_e4fb0_row9_col5, #T_e4fb0_row9_col6, #T_e4fb0_row9_col7, #T_e4fb0_row10_col0, #T_e4fb0_row10_col1, #T_e4fb0_row10_col2, #T_e4fb0_row10_col3, #T_e4fb0_row10_col4, #T_e4fb0_row10_col5, #T_e4fb0_row10_col6, #T_e4fb0_row10_col7, #T_e4fb0_row11_col0, #T_e4fb0_row11_col1, #T_e4fb0_row11_col2, #T_e4fb0_row11_col3, #T_e4fb0_row11_col4, #T_e4fb0_row11_col5, #T_e4fb0_row11_col6, #T_e4fb0_row11_col7, #T_e4fb0_row12_col0, #T_e4fb0_row12_col1, #T_e4fb0_row12_col2, #T_e4fb0_row12_col3, #T_e4fb0_row12_col4, #T_e4fb0_row12_col5, #T_e4fb0_row12_col6, #T_e4fb0_row12_col7, #T_e4fb0_row13_col0, #T_e4fb0_row13_col1, #T_e4fb0_row13_col2, #T_e4fb0_row13_col3, #T_e4fb0_row13_col4, #T_e4fb0_row13_col5, #T_e4fb0_row13_col6, #T_e4fb0_row13_col7, #T_e4fb0_row14_col0, #T_e4fb0_row14_col1, #T_e4fb0_row14_col2, #T_e4fb0_row14_col3, #T_e4fb0_row14_col4, #T_e4fb0_row14_col5, #T_e4fb0_row14_col6, #T_e4fb0_row14_col7 {\n",
       "  text-align: left;\n",
       "}\n",
       "#T_e4fb0_row0_col1, #T_e4fb0_row0_col2, #T_e4fb0_row0_col6, #T_e4fb0_row0_col7, #T_e4fb0_row1_col1, #T_e4fb0_row1_col5, #T_e4fb0_row1_col6, #T_e4fb0_row3_col4, #T_e4fb0_row5_col3 {\n",
       "  text-align: left;\n",
       "  background-color: yellow;\n",
       "}\n",
       "#T_e4fb0_row0_col8, #T_e4fb0_row1_col8, #T_e4fb0_row2_col8, #T_e4fb0_row3_col8, #T_e4fb0_row4_col8, #T_e4fb0_row5_col8, #T_e4fb0_row6_col8, #T_e4fb0_row7_col8, #T_e4fb0_row9_col8, #T_e4fb0_row10_col8, #T_e4fb0_row11_col8, #T_e4fb0_row12_col8, #T_e4fb0_row13_col8, #T_e4fb0_row14_col8 {\n",
       "  text-align: left;\n",
       "  background-color: lightgrey;\n",
       "}\n",
       "#T_e4fb0_row8_col8 {\n",
       "  text-align: left;\n",
       "  background-color: yellow;\n",
       "  background-color: lightgrey;\n",
       "}\n",
       "</style>\n",
       "<table id=\"T_e4fb0\">\n",
       "  <thead>\n",
       "    <tr>\n",
       "      <th class=\"blank level0\" >&nbsp;</th>\n",
       "      <th id=\"T_e4fb0_level0_col0\" class=\"col_heading level0 col0\" >Model</th>\n",
       "      <th id=\"T_e4fb0_level0_col1\" class=\"col_heading level0 col1\" >Accuracy</th>\n",
       "      <th id=\"T_e4fb0_level0_col2\" class=\"col_heading level0 col2\" >AUC</th>\n",
       "      <th id=\"T_e4fb0_level0_col3\" class=\"col_heading level0 col3\" >Recall</th>\n",
       "      <th id=\"T_e4fb0_level0_col4\" class=\"col_heading level0 col4\" >Prec.</th>\n",
       "      <th id=\"T_e4fb0_level0_col5\" class=\"col_heading level0 col5\" >F1</th>\n",
       "      <th id=\"T_e4fb0_level0_col6\" class=\"col_heading level0 col6\" >Kappa</th>\n",
       "      <th id=\"T_e4fb0_level0_col7\" class=\"col_heading level0 col7\" >MCC</th>\n",
       "      <th id=\"T_e4fb0_level0_col8\" class=\"col_heading level0 col8\" >TT (Sec)</th>\n",
       "    </tr>\n",
       "  </thead>\n",
       "  <tbody>\n",
       "    <tr>\n",
       "      <th id=\"T_e4fb0_level0_row0\" class=\"row_heading level0 row0\" >gbc</th>\n",
       "      <td id=\"T_e4fb0_row0_col0\" class=\"data row0 col0\" >Gradient Boosting Classifier</td>\n",
       "      <td id=\"T_e4fb0_row0_col1\" class=\"data row0 col1\" >0.7367</td>\n",
       "      <td id=\"T_e4fb0_row0_col2\" class=\"data row0 col2\" >0.8027</td>\n",
       "      <td id=\"T_e4fb0_row0_col3\" class=\"data row0 col3\" >0.6962</td>\n",
       "      <td id=\"T_e4fb0_row0_col4\" class=\"data row0 col4\" >0.7575</td>\n",
       "      <td id=\"T_e4fb0_row0_col5\" class=\"data row0 col5\" >0.7254</td>\n",
       "      <td id=\"T_e4fb0_row0_col6\" class=\"data row0 col6\" >0.4734</td>\n",
       "      <td id=\"T_e4fb0_row0_col7\" class=\"data row0 col7\" >0.4751</td>\n",
       "      <td id=\"T_e4fb0_row0_col8\" class=\"data row0 col8\" >3.2790</td>\n",
       "    </tr>\n",
       "    <tr>\n",
       "      <th id=\"T_e4fb0_level0_row1\" class=\"row_heading level0 row1\" >lightgbm</th>\n",
       "      <td id=\"T_e4fb0_row1_col0\" class=\"data row1 col0\" >Light Gradient Boosting Machine</td>\n",
       "      <td id=\"T_e4fb0_row1_col1\" class=\"data row1 col1\" >0.7367</td>\n",
       "      <td id=\"T_e4fb0_row1_col2\" class=\"data row1 col2\" >0.8020</td>\n",
       "      <td id=\"T_e4fb0_row1_col3\" class=\"data row1 col3\" >0.6978</td>\n",
       "      <td id=\"T_e4fb0_row1_col4\" class=\"data row1 col4\" >0.7566</td>\n",
       "      <td id=\"T_e4fb0_row1_col5\" class=\"data row1 col5\" >0.7259</td>\n",
       "      <td id=\"T_e4fb0_row1_col6\" class=\"data row1 col6\" >0.4734</td>\n",
       "      <td id=\"T_e4fb0_row1_col7\" class=\"data row1 col7\" >0.4750</td>\n",
       "      <td id=\"T_e4fb0_row1_col8\" class=\"data row1 col8\" >0.4350</td>\n",
       "    </tr>\n",
       "    <tr>\n",
       "      <th id=\"T_e4fb0_level0_row2\" class=\"row_heading level0 row2\" >xgboost</th>\n",
       "      <td id=\"T_e4fb0_row2_col0\" class=\"data row2 col0\" >Extreme Gradient Boosting</td>\n",
       "      <td id=\"T_e4fb0_row2_col1\" class=\"data row2 col1\" >0.7328</td>\n",
       "      <td id=\"T_e4fb0_row2_col2\" class=\"data row2 col2\" >0.7977</td>\n",
       "      <td id=\"T_e4fb0_row2_col3\" class=\"data row2 col3\" >0.6941</td>\n",
       "      <td id=\"T_e4fb0_row2_col4\" class=\"data row2 col4\" >0.7521</td>\n",
       "      <td id=\"T_e4fb0_row2_col5\" class=\"data row2 col5\" >0.7219</td>\n",
       "      <td id=\"T_e4fb0_row2_col6\" class=\"data row2 col6\" >0.4655</td>\n",
       "      <td id=\"T_e4fb0_row2_col7\" class=\"data row2 col7\" >0.4670</td>\n",
       "      <td id=\"T_e4fb0_row2_col8\" class=\"data row2 col8\" >3.0430</td>\n",
       "    </tr>\n",
       "    <tr>\n",
       "      <th id=\"T_e4fb0_level0_row3\" class=\"row_heading level0 row3\" >ada</th>\n",
       "      <td id=\"T_e4fb0_row3_col0\" class=\"data row3 col0\" >Ada Boost Classifier</td>\n",
       "      <td id=\"T_e4fb0_row3_col1\" class=\"data row3 col1\" >0.7294</td>\n",
       "      <td id=\"T_e4fb0_row3_col2\" class=\"data row3 col2\" >0.7961</td>\n",
       "      <td id=\"T_e4fb0_row3_col3\" class=\"data row3 col3\" >0.6591</td>\n",
       "      <td id=\"T_e4fb0_row3_col4\" class=\"data row3 col4\" >0.7667</td>\n",
       "      <td id=\"T_e4fb0_row3_col5\" class=\"data row3 col5\" >0.7088</td>\n",
       "      <td id=\"T_e4fb0_row3_col6\" class=\"data row3 col6\" >0.4588</td>\n",
       "      <td id=\"T_e4fb0_row3_col7\" class=\"data row3 col7\" >0.4634</td>\n",
       "      <td id=\"T_e4fb0_row3_col8\" class=\"data row3 col8\" >1.1700</td>\n",
       "    </tr>\n",
       "    <tr>\n",
       "      <th id=\"T_e4fb0_level0_row4\" class=\"row_heading level0 row4\" >lr</th>\n",
       "      <td id=\"T_e4fb0_row4_col0\" class=\"data row4 col0\" >Logistic Regression</td>\n",
       "      <td id=\"T_e4fb0_row4_col1\" class=\"data row4 col1\" >0.7213</td>\n",
       "      <td id=\"T_e4fb0_row4_col2\" class=\"data row4 col2\" >0.7846</td>\n",
       "      <td id=\"T_e4fb0_row4_col3\" class=\"data row4 col3\" >0.6790</td>\n",
       "      <td id=\"T_e4fb0_row4_col4\" class=\"data row4 col4\" >0.7415</td>\n",
       "      <td id=\"T_e4fb0_row4_col5\" class=\"data row4 col5\" >0.7089</td>\n",
       "      <td id=\"T_e4fb0_row4_col6\" class=\"data row4 col6\" >0.4425</td>\n",
       "      <td id=\"T_e4fb0_row4_col7\" class=\"data row4 col7\" >0.4442</td>\n",
       "      <td id=\"T_e4fb0_row4_col8\" class=\"data row4 col8\" >1.5900</td>\n",
       "    </tr>\n",
       "    <tr>\n",
       "      <th id=\"T_e4fb0_level0_row5\" class=\"row_heading level0 row5\" >rf</th>\n",
       "      <td id=\"T_e4fb0_row5_col0\" class=\"data row5 col0\" >Random Forest Classifier</td>\n",
       "      <td id=\"T_e4fb0_row5_col1\" class=\"data row5 col1\" >0.7117</td>\n",
       "      <td id=\"T_e4fb0_row5_col2\" class=\"data row5 col2\" >0.7678</td>\n",
       "      <td id=\"T_e4fb0_row5_col3\" class=\"data row5 col3\" >0.7051</td>\n",
       "      <td id=\"T_e4fb0_row5_col4\" class=\"data row5 col4\" >0.7142</td>\n",
       "      <td id=\"T_e4fb0_row5_col5\" class=\"data row5 col5\" >0.7096</td>\n",
       "      <td id=\"T_e4fb0_row5_col6\" class=\"data row5 col6\" >0.4233</td>\n",
       "      <td id=\"T_e4fb0_row5_col7\" class=\"data row5 col7\" >0.4234</td>\n",
       "      <td id=\"T_e4fb0_row5_col8\" class=\"data row5 col8\" >5.1790</td>\n",
       "    </tr>\n",
       "    <tr>\n",
       "      <th id=\"T_e4fb0_level0_row6\" class=\"row_heading level0 row6\" >et</th>\n",
       "      <td id=\"T_e4fb0_row6_col0\" class=\"data row6 col0\" >Extra Trees Classifier</td>\n",
       "      <td id=\"T_e4fb0_row6_col1\" class=\"data row6 col1\" >0.6948</td>\n",
       "      <td id=\"T_e4fb0_row6_col2\" class=\"data row6 col2\" >0.7414</td>\n",
       "      <td id=\"T_e4fb0_row6_col3\" class=\"data row6 col3\" >0.6980</td>\n",
       "      <td id=\"T_e4fb0_row6_col4\" class=\"data row6 col4\" >0.6933</td>\n",
       "      <td id=\"T_e4fb0_row6_col5\" class=\"data row6 col5\" >0.6956</td>\n",
       "      <td id=\"T_e4fb0_row6_col6\" class=\"data row6 col6\" >0.3896</td>\n",
       "      <td id=\"T_e4fb0_row6_col7\" class=\"data row6 col7\" >0.3896</td>\n",
       "      <td id=\"T_e4fb0_row6_col8\" class=\"data row6 col8\" >17.4210</td>\n",
       "    </tr>\n",
       "    <tr>\n",
       "      <th id=\"T_e4fb0_level0_row7\" class=\"row_heading level0 row7\" >knn</th>\n",
       "      <td id=\"T_e4fb0_row7_col0\" class=\"data row7 col0\" >K Neighbors Classifier</td>\n",
       "      <td id=\"T_e4fb0_row7_col1\" class=\"data row7 col1\" >0.6930</td>\n",
       "      <td id=\"T_e4fb0_row7_col2\" class=\"data row7 col2\" >0.7375</td>\n",
       "      <td id=\"T_e4fb0_row7_col3\" class=\"data row7 col3\" >0.6731</td>\n",
       "      <td id=\"T_e4fb0_row7_col4\" class=\"data row7 col4\" >0.7008</td>\n",
       "      <td id=\"T_e4fb0_row7_col5\" class=\"data row7 col5\" >0.6866</td>\n",
       "      <td id=\"T_e4fb0_row7_col6\" class=\"data row7 col6\" >0.3860</td>\n",
       "      <td id=\"T_e4fb0_row7_col7\" class=\"data row7 col7\" >0.3863</td>\n",
       "      <td id=\"T_e4fb0_row7_col8\" class=\"data row7 col8\" >1.2660</td>\n",
       "    </tr>\n",
       "    <tr>\n",
       "      <th id=\"T_e4fb0_level0_row8\" class=\"row_heading level0 row8\" >ridge</th>\n",
       "      <td id=\"T_e4fb0_row8_col0\" class=\"data row8 col0\" >Ridge Classifier</td>\n",
       "      <td id=\"T_e4fb0_row8_col1\" class=\"data row8 col1\" >0.6478</td>\n",
       "      <td id=\"T_e4fb0_row8_col2\" class=\"data row8 col2\" >0.0000</td>\n",
       "      <td id=\"T_e4fb0_row8_col3\" class=\"data row8 col3\" >0.6125</td>\n",
       "      <td id=\"T_e4fb0_row8_col4\" class=\"data row8 col4\" >0.6587</td>\n",
       "      <td id=\"T_e4fb0_row8_col5\" class=\"data row8 col5\" >0.6347</td>\n",
       "      <td id=\"T_e4fb0_row8_col6\" class=\"data row8 col6\" >0.2955</td>\n",
       "      <td id=\"T_e4fb0_row8_col7\" class=\"data row8 col7\" >0.2962</td>\n",
       "      <td id=\"T_e4fb0_row8_col8\" class=\"data row8 col8\" >0.0910</td>\n",
       "    </tr>\n",
       "    <tr>\n",
       "      <th id=\"T_e4fb0_level0_row9\" class=\"row_heading level0 row9\" >lda</th>\n",
       "      <td id=\"T_e4fb0_row9_col0\" class=\"data row9 col0\" >Linear Discriminant Analysis</td>\n",
       "      <td id=\"T_e4fb0_row9_col1\" class=\"data row9 col1\" >0.6478</td>\n",
       "      <td id=\"T_e4fb0_row9_col2\" class=\"data row9 col2\" >0.7051</td>\n",
       "      <td id=\"T_e4fb0_row9_col3\" class=\"data row9 col3\" >0.6125</td>\n",
       "      <td id=\"T_e4fb0_row9_col4\" class=\"data row9 col4\" >0.6587</td>\n",
       "      <td id=\"T_e4fb0_row9_col5\" class=\"data row9 col5\" >0.6347</td>\n",
       "      <td id=\"T_e4fb0_row9_col6\" class=\"data row9 col6\" >0.2955</td>\n",
       "      <td id=\"T_e4fb0_row9_col7\" class=\"data row9 col7\" >0.2962</td>\n",
       "      <td id=\"T_e4fb0_row9_col8\" class=\"data row9 col8\" >0.1840</td>\n",
       "    </tr>\n",
       "    <tr>\n",
       "      <th id=\"T_e4fb0_level0_row10\" class=\"row_heading level0 row10\" >dt</th>\n",
       "      <td id=\"T_e4fb0_row10_col0\" class=\"data row10 col0\" >Decision Tree Classifier</td>\n",
       "      <td id=\"T_e4fb0_row10_col1\" class=\"data row10 col1\" >0.6372</td>\n",
       "      <td id=\"T_e4fb0_row10_col2\" class=\"data row10 col2\" >0.6379</td>\n",
       "      <td id=\"T_e4fb0_row10_col3\" class=\"data row10 col3\" >0.6259</td>\n",
       "      <td id=\"T_e4fb0_row10_col4\" class=\"data row10 col4\" >0.6402</td>\n",
       "      <td id=\"T_e4fb0_row10_col5\" class=\"data row10 col5\" >0.6329</td>\n",
       "      <td id=\"T_e4fb0_row10_col6\" class=\"data row10 col6\" >0.2744</td>\n",
       "      <td id=\"T_e4fb0_row10_col7\" class=\"data row10 col7\" >0.2745</td>\n",
       "      <td id=\"T_e4fb0_row10_col8\" class=\"data row10 col8\" >0.2650</td>\n",
       "    </tr>\n",
       "    <tr>\n",
       "      <th id=\"T_e4fb0_level0_row11\" class=\"row_heading level0 row11\" >svm</th>\n",
       "      <td id=\"T_e4fb0_row11_col0\" class=\"data row11 col0\" >SVM - Linear Kernel</td>\n",
       "      <td id=\"T_e4fb0_row11_col1\" class=\"data row11 col1\" >0.6332</td>\n",
       "      <td id=\"T_e4fb0_row11_col2\" class=\"data row11 col2\" >0.0000</td>\n",
       "      <td id=\"T_e4fb0_row11_col3\" class=\"data row11 col3\" >0.6202</td>\n",
       "      <td id=\"T_e4fb0_row11_col4\" class=\"data row11 col4\" >0.6901</td>\n",
       "      <td id=\"T_e4fb0_row11_col5\" class=\"data row11 col5\" >0.5693</td>\n",
       "      <td id=\"T_e4fb0_row11_col6\" class=\"data row11 col6\" >0.2665</td>\n",
       "      <td id=\"T_e4fb0_row11_col7\" class=\"data row11 col7\" >0.2996</td>\n",
       "      <td id=\"T_e4fb0_row11_col8\" class=\"data row11 col8\" >0.3070</td>\n",
       "    </tr>\n",
       "    <tr>\n",
       "      <th id=\"T_e4fb0_level0_row12\" class=\"row_heading level0 row12\" >nb</th>\n",
       "      <td id=\"T_e4fb0_row12_col0\" class=\"data row12 col0\" >Naive Bayes</td>\n",
       "      <td id=\"T_e4fb0_row12_col1\" class=\"data row12 col1\" >0.5973</td>\n",
       "      <td id=\"T_e4fb0_row12_col2\" class=\"data row12 col2\" >0.6946</td>\n",
       "      <td id=\"T_e4fb0_row12_col3\" class=\"data row12 col3\" >0.3146</td>\n",
       "      <td id=\"T_e4fb0_row12_col4\" class=\"data row12 col4\" >0.7241</td>\n",
       "      <td id=\"T_e4fb0_row12_col5\" class=\"data row12 col5\" >0.4380</td>\n",
       "      <td id=\"T_e4fb0_row12_col6\" class=\"data row12 col6\" >0.1943</td>\n",
       "      <td id=\"T_e4fb0_row12_col7\" class=\"data row12 col7\" >0.2358</td>\n",
       "      <td id=\"T_e4fb0_row12_col8\" class=\"data row12 col8\" >0.1350</td>\n",
       "    </tr>\n",
       "    <tr>\n",
       "      <th id=\"T_e4fb0_level0_row13\" class=\"row_heading level0 row13\" >qda</th>\n",
       "      <td id=\"T_e4fb0_row13_col0\" class=\"data row13 col0\" >Quadratic Discriminant Analysis</td>\n",
       "      <td id=\"T_e4fb0_row13_col1\" class=\"data row13 col1\" >0.5855</td>\n",
       "      <td id=\"T_e4fb0_row13_col2\" class=\"data row13 col2\" >0.6959</td>\n",
       "      <td id=\"T_e4fb0_row13_col3\" class=\"data row13 col3\" >0.2748</td>\n",
       "      <td id=\"T_e4fb0_row13_col4\" class=\"data row13 col4\" >0.7254</td>\n",
       "      <td id=\"T_e4fb0_row13_col5\" class=\"data row13 col5\" >0.3980</td>\n",
       "      <td id=\"T_e4fb0_row13_col6\" class=\"data row13 col6\" >0.1707</td>\n",
       "      <td id=\"T_e4fb0_row13_col7\" class=\"data row13 col7\" >0.2178</td>\n",
       "      <td id=\"T_e4fb0_row13_col8\" class=\"data row13 col8\" >0.1530</td>\n",
       "    </tr>\n",
       "    <tr>\n",
       "      <th id=\"T_e4fb0_level0_row14\" class=\"row_heading level0 row14\" >dummy</th>\n",
       "      <td id=\"T_e4fb0_row14_col0\" class=\"data row14 col0\" >Dummy Classifier</td>\n",
       "      <td id=\"T_e4fb0_row14_col1\" class=\"data row14 col1\" >0.5003</td>\n",
       "      <td id=\"T_e4fb0_row14_col2\" class=\"data row14 col2\" >0.5000</td>\n",
       "      <td id=\"T_e4fb0_row14_col3\" class=\"data row14 col3\" >0.0000</td>\n",
       "      <td id=\"T_e4fb0_row14_col4\" class=\"data row14 col4\" >0.0000</td>\n",
       "      <td id=\"T_e4fb0_row14_col5\" class=\"data row14 col5\" >0.0000</td>\n",
       "      <td id=\"T_e4fb0_row14_col6\" class=\"data row14 col6\" >0.0000</td>\n",
       "      <td id=\"T_e4fb0_row14_col7\" class=\"data row14 col7\" >0.0000</td>\n",
       "      <td id=\"T_e4fb0_row14_col8\" class=\"data row14 col8\" >0.1060</td>\n",
       "    </tr>\n",
       "  </tbody>\n",
       "</table>\n"
      ],
      "text/plain": [
       "<pandas.io.formats.style.Styler at 0x1fdd8279b80>"
      ]
     },
     "metadata": {},
     "output_type": "display_data"
    },
    {
     "data": {
      "application/vnd.jupyter.widget-view+json": {
       "model_id": "",
       "version_major": 2,
       "version_minor": 0
      },
      "text/plain": [
       "Processing:   0%|          | 0/65 [00:00<?, ?it/s]"
      ]
     },
     "metadata": {},
     "output_type": "display_data"
    },
    {
     "data": {
      "text/plain": [
       "GradientBoostingClassifier(ccp_alpha=0.0, criterion='friedman_mse', init=None,\n",
       "                           learning_rate=0.1, loss='deviance', max_depth=3,\n",
       "                           max_features=None, max_leaf_nodes=None,\n",
       "                           min_impurity_decrease=0.0, min_samples_leaf=1,\n",
       "                           min_samples_split=2, min_weight_fraction_leaf=0.0,\n",
       "                           n_estimators=100, n_iter_no_change=None,\n",
       "                           random_state=123, subsample=1.0, tol=0.0001,\n",
       "                           validation_fraction=0.1, verbose=0,\n",
       "                           warm_start=False)"
      ]
     },
     "execution_count": 19,
     "metadata": {},
     "output_type": "execute_result"
    }
   ],
   "source": [
    "# compare models using OOP\n",
    "exp.compare_models()"
   ]
  },
  {
   "cell_type": "markdown",
   "metadata": {},
   "source": [
    "**With the above result we will be working with `Gradientboost`, `Adaboost`, `Random forest`, and `Logistic Regression` as those were the top performing models**"
   ]
  },
  {
   "cell_type": "markdown",
   "metadata": {
    "cell_id": "99e25cbbf17f4548b3fdfd6395550993",
    "deepnote_cell_type": "markdown"
   },
   "source": [
    "## Train | Validation | Test Split Procedure"
   ]
  },
  {
   "cell_type": "code",
   "execution_count": 3,
   "metadata": {
    "cell_id": "aab11bb1d7d246548a7d89982bc51a36",
    "deepnote_cell_type": "code",
    "deepnote_to_be_reexecuted": false,
    "execution_millis": 32,
    "execution_start": 1677757299292,
    "source_hash": "1d679b9f"
   },
   "outputs": [],
   "source": [
    "X = df.drop('cardio', axis=1)\n",
    "y = df['cardio']\n",
    "\n",
    "# Split the data into training and testing sets. 80% of data is training data, set aside other 20% for test\n",
    "X_train_val, X_test, y_train_val, y_test = train_test_split(X, y, test_size=0.2, random_state=42)\n",
    "\n",
    "# Remaining 80% is split into valuation and test sets. \n",
    "X_train, X_val, y_train, y_val = train_test_split(X_train_val, y_train_val, test_size=0.25, random_state=42)\n",
    "\n",
    "# Scale the data using standardization\n",
    "scaler = StandardScaler()\n",
    "X_train = scaler.fit_transform(X_train)\n",
    "X_val = scaler.transform(X_val)\n",
    "X_test = scaler.transform(X_test)"
   ]
  },
  {
   "cell_type": "markdown",
   "metadata": {
    "cell_id": "208b1b2a5b50420bb3e277b00c342399",
    "deepnote_cell_type": "markdown"
   },
   "source": [
    "Here, we are preparing data for use in a machine learning model that will predict whether someone has cardiovascular disease or not, based on various health-related features. Here is a breakdown of each step:\n",
    "\n",
    "1. The first line `X = df.drop('cardio', axis=1)` selects all columns from the input dataframe except for the 'cardio' column. These are the features that the machine learning model will use to make its predictions. The second line `y = df['cardio']` selects only the 'cardio' column from the input dataframe. This is the column that contains the labels or outcomes we are trying to predict.\n",
    "\n",
    "2. The third line uses the `train_test_split` function from the `sklearn library` to split the data into training and testing sets. We are using 80% of the data for training and 20% for testing. The `random_state` parameter is set to 42, which ensures that the data is split in the same way every time the code is run.\n",
    "\n",
    "3. The fourth line further splits the training data into training and validation sets. We are using a `75/25` split (60% for training, 20% for validation) to tune our model's hyperparameters later.\n",
    "\n",
    "4. The next three lines scale the data using standardization. Standardization scales the data to have a mean of 0 and a standard deviation of 1. This is useful for machine learning algorithms that assume the features are normally distributed. The `fit_transform` method fits the scaler on the training data and applies it to the training, validation, and testing data. We are overwriting the original `X_train` variable with the transformed data."
   ]
  },
  {
   "cell_type": "markdown",
   "metadata": {
    "cell_id": "3d5125db202449c0867f9ac02cc4828c",
    "deepnote_cell_type": "markdown"
   },
   "source": [
    "## Modelling"
   ]
  },
  {
   "cell_type": "code",
   "execution_count": 4,
   "metadata": {
    "cell_id": "ffdc15fd052944fa9e0db14f3c2566bd",
    "deepnote_cell_type": "code",
    "deepnote_to_be_reexecuted": false,
    "execution_millis": 9,
    "execution_start": 1677757315309,
    "source_hash": "5429716c"
   },
   "outputs": [],
   "source": [
    "# Instantiate the models\n",
    "log_reg = LogisticRegression()\n",
    "ada = AdaBoostClassifier()\n",
    "gb = GradientBoostingClassifier()\n",
    "rf = RandomForestClassifier()"
   ]
  },
  {
   "cell_type": "markdown",
   "metadata": {},
   "source": [
    "### Logistic Regression"
   ]
  },
  {
   "cell_type": "code",
   "execution_count": 5,
   "metadata": {
    "cell_id": "8c725a8b7f2644ba90de7163a77623f3",
    "deepnote_cell_type": "code",
    "deepnote_to_be_reexecuted": false,
    "execution_millis": 15420,
    "execution_start": 1677757318561,
    "source_hash": "9785ee1a",
    "tags": []
   },
   "outputs": [
    {
     "name": "stdout",
     "output_type": "stream",
     "text": [
      "Logistic Regression\n",
      "Accuracy on validation set: 0.7195714285714285\n",
      "Accuracy on test set: 0.7200714285714286\n",
      "Cross-validation score: 0.7171785714285713\n",
      "Confusion matrix:\n",
      "[[5321 1667]\n",
      " [2252 4760]]\n",
      "Classification report:\n",
      "              precision    recall  f1-score   support\n",
      "\n",
      "           0       0.70      0.76      0.73      6988\n",
      "           1       0.74      0.68      0.71      7012\n",
      "\n",
      "    accuracy                           0.72     14000\n",
      "   macro avg       0.72      0.72      0.72     14000\n",
      "weighted avg       0.72      0.72      0.72     14000\n",
      "\n",
      "\n"
     ]
    }
   ],
   "source": [
    "# Fit and evaluate the Logistic Regression model\n",
    "log_reg.fit(X_train, y_train)\n",
    "y_val_pred = log_reg.predict(X_val)\n",
    "y_test_pred = log_reg.predict(X_test)\n",
    "print(\"Logistic Regression\")\n",
    "print(f\"Accuracy on validation set: {accuracy_score(y_val, y_val_pred)}\")\n",
    "print(f\"Accuracy on test set: {accuracy_score(y_test, y_test_pred)}\")\n",
    "print(f\"Cross-validation score: {cross_val_score(log_reg, X_train_val, y_train_val, cv=5).mean()}\")\n",
    "print(f\"Confusion matrix:\\n{confusion_matrix(y_test, y_test_pred)}\")\n",
    "print(f\"Classification report:\\n{classification_report(y_test, y_test_pred)}\\n\")"
   ]
  },
  {
   "cell_type": "markdown",
   "metadata": {},
   "source": [
    "* Accuracy on validation set: 0.7195714285714285\n",
    "This means that the logistic regression model correctly classified `71.96%` of the instances in the validation set.\n",
    "\n",
    "* Accuracy on test set: 0.7200714285714286\n",
    "This means that the logistic regression model correctly classified `72.01%` of the instances in the test set.\n",
    "\n",
    "* Cross-validation score: 0.7173928571428572\n",
    "This is the average accuracy score of the logistic regression model during cross-validation, which is approximately `71.74%`.\n",
    "\n",
    "\n",
    "* The classification report provides a summary of the model's performance on each class. The precision, recall, and F1-score metrics are calculated for both classes (0 and 1), as well as the macro and weighted averages across classes. In this case, the logistic regression model achieved a precision of `0.70` and recall of `0.76` for class 0, and a precision of `0.74` and recall of `0.68` for class 1. The overall accuracy on the test set was `0.72`."
   ]
  },
  {
   "cell_type": "code",
   "execution_count": 7,
   "metadata": {
    "cell_id": "0bf4c56e8bf14e4cba41c037394ffb95",
    "deepnote_cell_type": "code",
    "deepnote_to_be_reexecuted": false,
    "execution_millis": 1101,
    "execution_start": 1677757333976,
    "source_hash": "57d12c95",
    "tags": []
   },
   "outputs": [
    {
     "data": {
      "image/png": "[encoded data removed]",
      "text/plain": [
       "<Figure size 640x480 with 2 Axes>"
      ]
     },
     "metadata": {},
     "output_type": "display_data"
    }
   ],
   "source": [
    "plot_confusion_matrix(log_reg, X_test, y_test);"
   ]
  },
  {
   "cell_type": "markdown",
   "metadata": {
    "cell_id": "acc3fbabf38a4d18817c3c5707e9feda",
    "deepnote_cell_type": "markdown",
    "tags": []
   },
   "source": [
    "* Confusion matrix: The confusion matrix shows the number of true positives (TP), true negatives (TN), false positives (FP), and false negatives (FN) that the model predicted on the test set. In this case, the model correctly predicted `5321` true negatives and `4760` true positives, but incorrectly predicted `1667` false positives and `2252` false negatives."
   ]
  },
  {
   "cell_type": "markdown",
   "metadata": {},
   "source": [
    "### Adaboost Classifier"
   ]
  },
  {
   "cell_type": "code",
   "execution_count": 6,
   "metadata": {
    "cell_id": "74024aa4b3c74d66881bde230e9f5fe2",
    "deepnote_cell_type": "code",
    "deepnote_to_be_reexecuted": false,
    "execution_millis": 5244,
    "execution_start": 1677757338727,
    "source_hash": "59051baa",
    "tags": []
   },
   "outputs": [
    {
     "name": "stdout",
     "output_type": "stream",
     "text": [
      "Adaboost Classifier\n",
      "Accuracy on validation set: 0.7338571428571429\n",
      "Accuracy on test set: 0.7345\n",
      "Cross-validation score: 0.7289642857142857\n",
      "Confusion matrix:\n",
      "[[5627 1361]\n",
      " [2356 4656]]\n",
      "Classification report:\n",
      "              precision    recall  f1-score   support\n",
      "\n",
      "           0       0.70      0.81      0.75      6988\n",
      "           1       0.77      0.66      0.71      7012\n",
      "\n",
      "    accuracy                           0.73     14000\n",
      "   macro avg       0.74      0.73      0.73     14000\n",
      "weighted avg       0.74      0.73      0.73     14000\n",
      "\n",
      "\n"
     ]
    }
   ],
   "source": [
    "# Fit and evaluate the Adaboost Classifier model\n",
    "ada.fit(X_train, y_train)\n",
    "y_val_pred = ada.predict(X_val)\n",
    "y_test_pred = ada.predict(X_test)\n",
    "print(\"Adaboost Classifier\")\n",
    "print(f\"Accuracy on validation set: {accuracy_score(y_val, y_val_pred)}\")\n",
    "print(f\"Accuracy on test set: {accuracy_score(y_test, y_test_pred)}\")\n",
    "print(f\"Cross-validation score: {cross_val_score(ada, X_train_val, y_train_val, cv=5).mean()}\")\n",
    "print(f\"Confusion matrix:\\n{confusion_matrix(y_test, y_test_pred)}\")\n",
    "print(f\"Classification report:\\n{classification_report(y_test, y_test_pred)}\\n\")"
   ]
  },
  {
   "cell_type": "markdown",
   "metadata": {},
   "source": [
    "* Accuracy on validation set: 0.7338571428571429\n",
    "This means that the Adaboost Classifier model correctly classified `73.39%` of the instances in the validation set.\n",
    "\n",
    "* Accuracy on test set: 0.7345\n",
    "This means that the Adaboost Classifier model correctly classified `73.45%` of the instances in the test set.\n",
    "\n",
    "* Cross-validation score: 0.7289642857142857\n",
    "This is the average accuracy score of the Adaboost Classifier model during cross-validation, which is approximately `72.89%`.\n",
    "\n",
    "* The classification report provides a summary of the model's performance on each class. The precision, recall, and F1-score metrics are calculated for both classes (0 and 1), as well as the macro and weighted averages across classes. In this case, the logistic regression model achieved a precision of 0.70 and recall of 0.81 for class 0, and a precision of 0.77 and recall of 0.66 for class 1. The overall accuracy on the test set was `0.74`."
   ]
  },
  {
   "cell_type": "code",
   "execution_count": 8,
   "metadata": {
    "cell_id": "b66fc2ff8fb9499193b288fef8b107f2",
    "deepnote_cell_type": "code",
    "deepnote_to_be_reexecuted": false,
    "execution_millis": 303,
    "execution_start": 1677266701959,
    "source_hash": "816c38f3",
    "tags": []
   },
   "outputs": [
    {
     "data": {
      "image/png": "[encoded data removed]",
      "text/plain": [
       "<Figure size 640x480 with 2 Axes>"
      ]
     },
     "metadata": {},
     "output_type": "display_data"
    }
   ],
   "source": [
    "plot_confusion_matrix(ada, X_test, y_test);"
   ]
  },
  {
   "cell_type": "markdown",
   "metadata": {
    "cell_id": "621fe1ea464245db8418e45976762def",
    "deepnote_cell_type": "markdown",
    "tags": []
   },
   "source": [
    "* Confusion matrix: The confusion matrix shows the number of true positives (TP), true negatives (TN), false positives (FP), and false negatives (FN) that the model predicted on the test set. In this case, the model correctly predicted `5627` true negatives and `4656` true positives, but incorrectly predicted `1361` false positives and `2356` false negatives."
   ]
  },
  {
   "cell_type": "markdown",
   "metadata": {},
   "source": [
    "### Gradientboost Classifier"
   ]
  },
  {
   "cell_type": "code",
   "execution_count": 9,
   "metadata": {
    "cell_id": "d9432391a9b64fb295ebfa55e9760a18",
    "deepnote_cell_type": "code",
    "deepnote_to_be_reexecuted": false,
    "execution_millis": 17003,
    "execution_start": 1677266702261,
    "source_hash": "e1f40237",
    "tags": []
   },
   "outputs": [
    {
     "name": "stdout",
     "output_type": "stream",
     "text": [
      "Gradientboost Classifier\n",
      "Accuracy on validation set: 0.7366428571428572\n",
      "Accuracy on test set: 0.7383571428571428\n",
      "Cross-validation score: 0.7351785714285713\n",
      "Confusion matrix:\n",
      "[[5363 1625]\n",
      " [2038 4974]]\n",
      "Classification report:\n",
      "              precision    recall  f1-score   support\n",
      "\n",
      "           0       0.72      0.77      0.75      6988\n",
      "           1       0.75      0.71      0.73      7012\n",
      "\n",
      "    accuracy                           0.74     14000\n",
      "   macro avg       0.74      0.74      0.74     14000\n",
      "weighted avg       0.74      0.74      0.74     14000\n",
      "\n",
      "\n"
     ]
    }
   ],
   "source": [
    "# Fit and evaluate the Gradientboost Classifier model\n",
    "gb.fit(X_train, y_train)\n",
    "y_val_pred = gb.predict(X_val)\n",
    "y_test_pred = gb.predict(X_test)\n",
    "print(\"Gradientboost Classifier\")\n",
    "print(f\"Accuracy on validation set: {accuracy_score(y_val, y_val_pred)}\")\n",
    "print(f\"Accuracy on test set: {accuracy_score(y_test, y_test_pred)}\")\n",
    "print(f\"Cross-validation score: {cross_val_score(gb, X_train_val, y_train_val, cv=5).mean()}\")\n",
    "print(f\"Confusion matrix:\\n{confusion_matrix(y_test, y_test_pred)}\")\n",
    "print(f\"Classification report:\\n{classification_report(y_test, y_test_pred)}\\n\")"
   ]
  },
  {
   "cell_type": "markdown",
   "metadata": {},
   "source": [
    "* Accuracy on validation set: 0.7366428571428572\n",
    "This means that the Gradientboost Classifier model correctly classified `73.66%` of the instances in the validation set.\n",
    "\n",
    "* Accuracy on test set: 0.7383571428571428\n",
    "This means that the Gradientboost Classifier model correctly classified `73.83%` of the instances in the test set.\n",
    "\n",
    "* Cross-validation score: 0.7351428571428571\n",
    "This is the average accuracy score of the Gradientboost Classifier model during cross-validation, which is approximately `73.51%`.\n",
    "\n",
    "* The classification report provides a summary of the model's performance on each class. The precision, recall, and F1-score metrics are calculated for both classes (0 and 1), as well as the macro and weighted averages across classes. In this case, the logistic regression model achieved a precision of `0.72` and recall of `0.77` for class 0, and a precision of `0.75` and recall of `0.71` for class 1. The overall accuracy on the test set was `0.74`."
   ]
  },
  {
   "cell_type": "code",
   "execution_count": 10,
   "metadata": {
    "cell_id": "5e4b498272984463b5769a757b35bf99",
    "deepnote_cell_type": "code",
    "deepnote_to_be_reexecuted": false,
    "execution_millis": 273,
    "execution_start": 1677266719265,
    "source_hash": "8a888e3a",
    "tags": []
   },
   "outputs": [
    {
     "data": {
      "image/png": "[encoded data removed]",
      "text/plain": [
       "<Figure size 640x480 with 2 Axes>"
      ]
     },
     "metadata": {},
     "output_type": "display_data"
    }
   ],
   "source": [
    "plot_confusion_matrix(gb, X_test, y_test);"
   ]
  },
  {
   "cell_type": "markdown",
   "metadata": {
    "cell_id": "1a0800b525574e7988a0ba811200777c",
    "deepnote_cell_type": "markdown",
    "tags": []
   },
   "source": [
    "* Confusion matrix: The confusion matrix shows the number of true positives (TP), true negatives (TN), false positives (FP), and false negatives (FN) that the model predicted on the test set. In this case, the model correctly predicted `5363` true negatives and `4974` true positives, but incorrectly predicted `1625` false positives and `2038` false negatives."
   ]
  },
  {
   "cell_type": "markdown",
   "metadata": {},
   "source": [
    "### Random Forest Classifier"
   ]
  },
  {
   "cell_type": "code",
   "execution_count": 11,
   "metadata": {
    "cell_id": "f6ad889e4b3741b5afe8d05ece7971cb",
    "deepnote_cell_type": "code",
    "deepnote_to_be_reexecuted": false,
    "execution_millis": 21947,
    "execution_start": 1677266719536,
    "source_hash": "a7f7963",
    "tags": []
   },
   "outputs": [
    {
     "name": "stdout",
     "output_type": "stream",
     "text": [
      "Random Forest Classifier\n",
      "Accuracy on validation set: 0.716\n",
      "Accuracy on test set: 0.7098571428571429\n",
      "Cross-validation score: 0.7099107142857143\n",
      "Confusion matrix:\n",
      "[[5004 1984]\n",
      " [2078 4934]]\n",
      "Classification report:\n",
      "              precision    recall  f1-score   support\n",
      "\n",
      "           0       0.71      0.72      0.71      6988\n",
      "           1       0.71      0.70      0.71      7012\n",
      "\n",
      "    accuracy                           0.71     14000\n",
      "   macro avg       0.71      0.71      0.71     14000\n",
      "weighted avg       0.71      0.71      0.71     14000\n",
      "\n",
      "\n"
     ]
    }
   ],
   "source": [
    "# Fit and evaluate the Random Forest Classifier model\n",
    "rf.fit(X_train, y_train)\n",
    "y_val_pred = rf.predict(X_val)\n",
    "y_test_pred = rf.predict(X_test)\n",
    "print(\"Random Forest Classifier\")\n",
    "print(f\"Accuracy on validation set: {accuracy_score(y_val, y_val_pred)}\")\n",
    "print(f\"Accuracy on test set: {accuracy_score(y_test, y_test_pred)}\")\n",
    "print(f\"Cross-validation score: {cross_val_score(rf, X_train_val, y_train_val, cv=5).mean()}\")\n",
    "print(f\"Confusion matrix:\\n{confusion_matrix(y_test, y_test_pred)}\")\n",
    "print(f\"Classification report:\\n{classification_report(y_test, y_test_pred)}\\n\")"
   ]
  },
  {
   "cell_type": "markdown",
   "metadata": {},
   "source": [
    "* Accuracy on validation set:  0.7121428571428572 - This means that the Random Forest Classifier model correctly classified `71.21%` of the instances in the validation set.\n",
    "\n",
    "* Accuracy on test set: 0.7099285714285715 - This means that the Random Forest Classifier model correctly classified `70.99%` of the instances in the test set.\n",
    "\n",
    "* Cross-validation score: 0.7095178571428572-This is the average accuracy score of the Random Forest Classifier model during cross-validation, which is approximately `70.95%`.\n",
    "\n",
    "* The classification report provides a summary of the model's performance on each class. The precision, recall, and F1-score metrics are calculated for both classes (0 and 1), as well as the macro and weighted averages across classes. In this case, the logistic regression model achieved a precision of `0.71` and recall of `0.71` for class 0, and a precision of `0.71` and recall of `0.71` for class 1. The overall accuracy on the test set was `0.71`."
   ]
  },
  {
   "cell_type": "code",
   "execution_count": 12,
   "metadata": {
    "cell_id": "54e166508d894405b150c276ba752746",
    "deepnote_cell_type": "code",
    "deepnote_to_be_reexecuted": false,
    "execution_millis": 500,
    "execution_start": 1677266741527,
    "source_hash": "e01af347",
    "tags": []
   },
   "outputs": [
    {
     "data": {
      "image/png": "[encoded data removed]",
      "text/plain": [
       "<Figure size 640x480 with 2 Axes>"
      ]
     },
     "metadata": {},
     "output_type": "display_data"
    }
   ],
   "source": [
    "plot_confusion_matrix(rf, X_test, y_test);"
   ]
  },
  {
   "cell_type": "markdown",
   "metadata": {
    "cell_id": "627f1adf1fe64d049ea55c0ffa2019b0",
    "deepnote_cell_type": "markdown",
    "tags": []
   },
   "source": [
    "* Confusion matrix: The confusion matrix shows the number of true positives (TP), true negatives (TN), false positives (FP), and false negatives (FN) that the model predicted on the test set. In this case, the model correctly predicted `4987` true negatives and `4952` true positives, but incorrectly predicted `2001` false positives and `2060` false negatives."
   ]
  },
  {
   "cell_type": "markdown",
   "metadata": {
    "cell_id": "ac0b03f2a9b64fddab2dfcab591a8703",
    "deepnote_cell_type": "text-cell-h3",
    "formattedRanges": [],
    "is_collapsed": false,
    "tags": []
   },
   "source": [
    "## Hyperparameter Tuning"
   ]
  },
  {
   "cell_type": "markdown",
   "metadata": {
    "cell_id": "a8f01f8414c04525823a7fbe2996d588",
    "deepnote_cell_type": "markdown",
    "tags": []
   },
   "source": [
    "After checking the performance metrics of each of our model, `Adaboost Classifier` and `Gradientboost Classifier` showed promising results and had higher accuracy, cross-validation scores compared to the other models, therefore we selected them for hyperparameter tuning to further optimize their performance."
   ]
  },
  {
   "cell_type": "markdown",
   "metadata": {},
   "source": [
    "### RandomizedSearchCV"
   ]
  },
  {
   "cell_type": "code",
   "execution_count": 13,
   "metadata": {
    "cell_id": "08b0795c7d764757a83c8961056ad37e",
    "deepnote_cell_type": "code",
    "deepnote_to_be_reexecuted": false,
    "execution_millis": 1,
    "execution_start": 1677266742075,
    "source_hash": "fabb5032",
    "tags": []
   },
   "outputs": [],
   "source": [
    "# Define parameter distributions for RandomizedSearchCV\n",
    "ada_param_dist = {\n",
    "    'n_estimators': randint(50, 300),\n",
    "    'learning_rate': uniform(0.01, 0.5),\n",
    "    'algorithm': ['SAMME', 'SAMME.R']\n",
    "}\n",
    "\n",
    "gb_param_dist = {\n",
    "    'n_estimators': randint(50, 300),\n",
    "    'learning_rate': uniform(0.01, 0.5),\n",
    "    'subsample': uniform(0.1, 0.9),\n",
    "    'max_depth': randint(3, 10),\n",
    "    'max_features': ['sqrt', 'log2', None]\n",
    "}"
   ]
  },
  {
   "cell_type": "code",
   "execution_count": 14,
   "metadata": {
    "cell_id": "3268b74b0a5b43bd913f40373090b98f",
    "deepnote_cell_type": "code",
    "deepnote_to_be_reexecuted": false,
    "execution_millis": 529384,
    "execution_start": 1677266742076,
    "source_hash": "941d6a15",
    "tags": []
   },
   "outputs": [
    {
     "name": "stdout",
     "output_type": "stream",
     "text": [
      "Fitting 5 folds for each of 50 candidates, totalling 250 fits\n",
      "Best parameters for Adaboost: {'algorithm': 'SAMME.R', 'learning_rate': 0.3975664116805573, 'n_estimators': 211}\n",
      "Best score for Adaboost: 0.7285952380952381\n"
     ]
    }
   ],
   "source": [
    "# Create the Adaboost classifier and perform RandomizedSearchCV\n",
    "ada = AdaBoostClassifier(random_state=42)\n",
    "ada_random = RandomizedSearchCV(estimator=ada, param_distributions=ada_param_dist, n_iter=50,\n",
    "                                cv=5, random_state=42, n_jobs=-1, verbose=1)\n",
    "ada_random.fit(X_train, y_train)\n",
    "\n",
    "# Print the best parameters and score for each classifier\n",
    "print(\"Best parameters for Adaboost:\", ada_random.best_params_)\n",
    "print(\"Best score for Adaboost:\", ada_random.best_score_)"
   ]
  },
  {
   "cell_type": "code",
   "execution_count": 20,
   "metadata": {
    "cell_id": "1bcdecb79a0d4d299b1f7ddd2f563859",
    "deepnote_cell_type": "code",
    "deepnote_to_be_reexecuted": false,
    "execution_millis": 21650,
    "execution_start": 1677267271461,
    "source_hash": "d97c1c0c",
    "tags": []
   },
   "outputs": [
    {
     "name": "stdout",
     "output_type": "stream",
     "text": [
      "AdaBoost Classifier\n",
      "Accuracy on validation set: 73.59%\n",
      "Accuracy on test set: 73.51%\n",
      "Cross-validation score: 72.92% (+/- 0.62%)\n",
      "Classification report:\n",
      "               precision    recall  f1-score   support\n",
      "\n",
      "           0       0.70      0.81      0.75      6988\n",
      "           1       0.78      0.66      0.71      7012\n",
      "\n",
      "    accuracy                           0.74     14000\n",
      "   macro avg       0.74      0.74      0.73     14000\n",
      "weighted avg       0.74      0.74      0.73     14000\n",
      "\n"
     ]
    }
   ],
   "source": [
    "# Train Adaboost Classifier with the best hyperparameters\n",
    "ada_best = AdaBoostClassifier(algorithm='SAMME.R', learning_rate=0.3975664116805573, n_estimators=211, random_state=42)\n",
    "ada_best.fit(X_train, y_train)\n",
    "\n",
    "# Evaluate the model on validation set\n",
    "y_pred = ada_best.predict(X_val)\n",
    "acc_val = accuracy_score(y_val, y_pred)\n",
    "\n",
    "# Evaluate the model on test set\n",
    "y_pred = ada_best.predict(X_test)\n",
    "acc_test = accuracy_score(y_test, y_pred)\n",
    "\n",
    "# Evaluate the model using cross-validation\n",
    "cv_scores = cross_val_score(ada_best, X_train_val, y_train_val, cv=5)\n",
    "\n",
    "# ROC_AUC Score\n",
    "fpr, tpr, thresholds = roc_curve(y_test, y_pred)\n",
    "roc_auc = auc(fpr, tpr)\n",
    "\n",
    "# Print the performance metrics\n",
    "print(\"AdaBoost Classifier\")\n",
    "print(\"Accuracy on validation set: {:.2f}%\".format(acc_val*100))\n",
    "print(\"Accuracy on test set: {:.2f}%\".format(acc_test*100))\n",
    "print(\"Cross-validation score: {:.2f}% (+/- {:.2f}%)\".format(cv_scores.mean()*100, cv_scores.std()*2*100))\n",
    "print(\"Classification report:\\n\", classification_report(y_test, y_pred))"
   ]
  },
  {
   "cell_type": "code",
   "execution_count": 21,
   "metadata": {},
   "outputs": [
    {
     "data": {
      "image/png": "[encoded data removed]",
      "text/plain": [
       "<Figure size 800x550 with 1 Axes>"
      ]
     },
     "metadata": {},
     "output_type": "display_data"
    }
   ],
   "source": [
    "# Plot ROC-AUC curve\n",
    "plt.plot(fpr, tpr, color='darkorange', lw=2, label='ROC curve (AUC = %0.2f)' % roc_auc)\n",
    "plt.plot([0, 1], [0, 1], color='navy', lw=2, linestyle='--')\n",
    "plt.xlim([0.0, 1.0])\n",
    "plt.ylim([0.0, 1.05])\n",
    "plt.xlabel('False Positive Rate')\n",
    "plt.ylabel('True Positive Rate')\n",
    "plt.title('Receiver operating characteristic')\n",
    "plt.legend(loc=\"lower right\")\n",
    "# save the plot as a JPG image\n",
    "plt.savefig('adaboost_randomcv_roc_auc_curve.jpg')\n",
    "plt.show()"
   ]
  },
  {
   "cell_type": "code",
   "execution_count": 22,
   "metadata": {
    "cell_id": "e8df6e72cbc840daa2878794cc9bf218",
    "deepnote_cell_type": "code",
    "deepnote_to_be_reexecuted": false,
    "execution_millis": 480,
    "execution_start": 1677267293115,
    "source_hash": "da89326a",
    "tags": []
   },
   "outputs": [
    {
     "data": {
      "image/png": "[encoded data removed]",
      "text/plain": [
       "<Figure size 800x550 with 2 Axes>"
      ]
     },
     "metadata": {},
     "output_type": "display_data"
    }
   ],
   "source": [
    "plot_confusion_matrix(ada_best, X_test, y_test);"
   ]
  },
  {
   "cell_type": "code",
   "execution_count": 23,
   "metadata": {
    "cell_id": "b8dd1378036e43588dd2fc0d6b510065",
    "deepnote_cell_type": "code",
    "deepnote_to_be_reexecuted": false,
    "execution_millis": 1040152,
    "execution_start": 1677267293597,
    "source_hash": "e80c88e4",
    "tags": []
   },
   "outputs": [
    {
     "name": "stdout",
     "output_type": "stream",
     "text": [
      "Fitting 5 folds for each of 50 candidates, totalling 250 fits\n",
      "Best parameters for GradientBoost: {'learning_rate': 0.02153121252070788, 'max_depth': 5, 'max_features': None, 'n_estimators': 219, 'subsample': 0.1419990968922539}\n",
      "Best score for GradientBoost: 0.7344999999999999\n"
     ]
    }
   ],
   "source": [
    "# Create the Gradientboost classifier and perform RandomizedSearchCV\n",
    "gb = GradientBoostingClassifier(random_state=42)\n",
    "gb_random = RandomizedSearchCV(estimator=gb, param_distributions=gb_param_dist, n_iter=50,\n",
    "                               cv=5, random_state=42, n_jobs=-1, verbose=1)\n",
    "gb_random.fit(X_train, y_train)\n",
    "print(\"Best parameters for GradientBoost:\", gb_random.best_params_)\n",
    "print(\"Best score for GradientBoost:\", gb_random.best_score_)"
   ]
  },
  {
   "cell_type": "code",
   "execution_count": 24,
   "metadata": {
    "cell_id": "417a1838ffd545bb99219e2c18e46b14",
    "deepnote_cell_type": "code",
    "deepnote_to_be_reexecuted": false,
    "execution_millis": 18993,
    "execution_start": 1677268333753,
    "source_hash": "b29c4e50",
    "tags": []
   },
   "outputs": [
    {
     "name": "stdout",
     "output_type": "stream",
     "text": [
      "GradientBoost Classifier\n",
      "Accuracy on validation set: 73.89%\n",
      "Accuracy on test set: 73.76%\n",
      "Cross-validation score: 73.54% (+/- 0.75%)\n",
      "Classification report:\n",
      "               precision    recall  f1-score   support\n",
      "\n",
      "           0       0.72      0.77      0.75      6988\n",
      "           1       0.75      0.71      0.73      7012\n",
      "\n",
      "    accuracy                           0.74     14000\n",
      "   macro avg       0.74      0.74      0.74     14000\n",
      "weighted avg       0.74      0.74      0.74     14000\n",
      "\n"
     ]
    }
   ],
   "source": [
    "# Train GradientBoosting Classifier with the best hyperparameters\n",
    "gradboost_best = GradientBoostingClassifier(learning_rate= 0.02153121252070788, max_depth= 5, max_features= None, n_estimators= 219, subsample= 0.1419990968922539, random_state=42)\n",
    "gradboost_best.fit(X_train, y_train)\n",
    "\n",
    "# Evaluate the model on validation set\n",
    "y_pred = gradboost_best.predict(X_val)\n",
    "acc_val = accuracy_score(y_val, y_pred)\n",
    "\n",
    "# Evaluate the model on test set\n",
    "y_pred = gradboost_best.predict(X_test)\n",
    "acc_test = accuracy_score(y_test, y_pred)\n",
    "\n",
    "# Evaluate the model using cross-validation\n",
    "cv_scores = cross_val_score(gradboost_best, X_train_val, y_train_val, cv=5)\n",
    "\n",
    "# Print the performance metrics\n",
    "print(\"GradientBoost Classifier\")\n",
    "print(\"Accuracy on validation set: {:.2f}%\".format(acc_val*100))\n",
    "print(\"Accuracy on test set: {:.2f}%\".format(acc_test*100))\n",
    "print(\"Cross-validation score: {:.2f}% (+/- {:.2f}%)\".format(cv_scores.mean()*100, cv_scores.std()*2*100))\n",
    "print(\"Classification report:\\n\", classification_report(y_test, y_pred))"
   ]
  },
  {
   "cell_type": "code",
   "execution_count": 25,
   "metadata": {
    "cell_id": "8bd8b00cc2b2440d8b3fbb5f7569131f",
    "deepnote_cell_type": "code",
    "deepnote_to_be_reexecuted": false,
    "execution_millis": 287,
    "execution_start": 1677268352747,
    "source_hash": "eb837ee8",
    "tags": []
   },
   "outputs": [
    {
     "data": {
      "image/png": "[encoded data removed]",
      "text/plain": [
       "<Figure size 800x550 with 2 Axes>"
      ]
     },
     "metadata": {},
     "output_type": "display_data"
    }
   ],
   "source": [
    "plot_confusion_matrix(gradboost_best, X_test, y_test);"
   ]
  },
  {
   "cell_type": "markdown",
   "metadata": {
    "cell_id": "d8ad11c5ab3843fc86e8e341938be867",
    "deepnote_cell_type": "markdown",
    "tags": []
   },
   "source": [
    "In this code, we define parameter distributions for `AdaBoostClassifier` and `GradientBoostingClassifier` using the `randint` and `uniform` functions from the scipy.stats module. Then, we create the classifiers and perform RandomizedSearchCV using the `RandomizedSearchCV` function from scikit-learn. Finally, we print the best parameters and score for each classifier. You can adjust the parameter distributions and other settings as needed for your specific use case."
   ]
  },
  {
   "cell_type": "markdown",
   "metadata": {},
   "source": [
    "### GridSearchCV"
   ]
  },
  {
   "cell_type": "code",
   "execution_count": 26,
   "metadata": {
    "cell_id": "f66748fc97d64694b59539f0b30fbe0e",
    "deepnote_cell_type": "code",
    "deepnote_to_be_reexecuted": false,
    "execution_millis": 1,
    "execution_start": 1677268353032,
    "source_hash": "ee3572ef",
    "tags": []
   },
   "outputs": [],
   "source": [
    "# Adaboost Classifier\n",
    "ada_params = {\n",
    "    'n_estimators': [50, 100, 150],\n",
    "    'learning_rate': [0.01, 0.1, 1],\n",
    "    'algorithm': ['SAMME', 'SAMME.R']\n",
    "}\n",
    "\n",
    "# Gradientboost Classifier\n",
    "gb_params = {\n",
    "    'n_estimators': [50, 100, 150],\n",
    "    'learning_rate': [0.01, 0.1, 1],\n",
    "    'max_depth': [3, 5, 7],\n",
    "    'max_features': ['sqrt', 'log2', None],\n",
    "    'min_samples_split': [2, 5, 10]\n",
    "}"
   ]
  },
  {
   "cell_type": "code",
   "execution_count": 21,
   "metadata": {
    "cell_id": "24706eab687a4790a83d4bfb45ee9faa",
    "deepnote_cell_type": "code",
    "deepnote_to_be_reexecuted": false,
    "execution_millis": 111531,
    "execution_start": 1677268353035,
    "source_hash": "3399b100",
    "tags": []
   },
   "outputs": [
    {
     "name": "stdout",
     "output_type": "stream",
     "text": [
      "Best Adaboost params: {'algorithm': 'SAMME.R', 'learning_rate': 1, 'n_estimators': 150}\n",
      "Best Adaboost accuracy: 0.7284761904761905\n"
     ]
    }
   ],
   "source": [
    "ada_clf = AdaBoostClassifier(random_state=42)\n",
    "\n",
    "ada_grid = GridSearchCV(ada_clf, param_grid=ada_params, cv=5, n_jobs=-1, scoring='accuracy')\n",
    "ada_grid.fit(X_train, y_train)\n",
    "\n",
    "print(\"Best Adaboost params:\", ada_grid.best_params_)\n",
    "print(\"Best Adaboost accuracy:\", ada_grid.best_score_)"
   ]
  },
  {
   "cell_type": "code",
   "execution_count": 27,
   "metadata": {
    "cell_id": "e6207374adce4e2cadb16d2a8623bed4",
    "deepnote_cell_type": "code",
    "deepnote_to_be_reexecuted": false,
    "execution_millis": 15469,
    "execution_start": 1677268464564,
    "source_hash": "8ebc1087",
    "tags": []
   },
   "outputs": [
    {
     "name": "stdout",
     "output_type": "stream",
     "text": [
      "AdaBoost Classifier\n",
      "Accuracy on validation set: 73.49%\n",
      "Accuracy on test set: 73.30%\n",
      "Cross-validation score: 72.99% (+/- 0.76%)\n",
      "Classification report:\n",
      "               precision    recall  f1-score   support\n",
      "\n",
      "           0       0.70      0.80      0.75      6988\n",
      "           1       0.77      0.66      0.71      7012\n",
      "\n",
      "    accuracy                           0.73     14000\n",
      "   macro avg       0.74      0.73      0.73     14000\n",
      "weighted avg       0.74      0.73      0.73     14000\n",
      "\n"
     ]
    }
   ],
   "source": [
    "# Train Adaboost Classifier with the best hyperparameters\n",
    "ada_grid_best = AdaBoostClassifier(algorithm='SAMME.R', learning_rate=1, n_estimators=150, random_state=42)\n",
    "ada_grid_best.fit(X_train, y_train)\n",
    "\n",
    "# Evaluate the model on validation set\n",
    "y_pred = ada_grid_best.predict(X_val)\n",
    "acc_val = accuracy_score(y_val, y_pred)\n",
    "\n",
    "# Evaluate the model on test set\n",
    "y_pred = ada_grid_best.predict(X_test)\n",
    "acc_test = accuracy_score(y_test, y_pred)\n",
    "\n",
    "# Evaluate the model using cross-validation\n",
    "cv_scores = cross_val_score(ada_grid_best, X_train_val, y_train_val, cv=5)\n",
    "\n",
    "# Print the performance metrics\n",
    "print(\"AdaBoost Classifier\")\n",
    "print(\"Accuracy on validation set: {:.2f}%\".format(acc_val*100))\n",
    "print(\"Accuracy on test set: {:.2f}%\".format(acc_test*100))\n",
    "print(\"Cross-validation score: {:.2f}% (+/- {:.2f}%)\".format(cv_scores.mean()*100, cv_scores.std()*2*100))\n",
    "print(\"Classification report:\\n\", classification_report(y_test, y_pred))"
   ]
  },
  {
   "cell_type": "code",
   "execution_count": 28,
   "metadata": {
    "cell_id": "b1ec01d42b184f408316e5579ee512cb",
    "deepnote_cell_type": "code",
    "deepnote_to_be_reexecuted": false,
    "execution_millis": 406,
    "execution_start": 1677268480032,
    "source_hash": "6408e47a",
    "tags": []
   },
   "outputs": [
    {
     "data": {
      "image/png": "[encoded data removed]",
      "text/plain": [
       "<Figure size 800x550 with 2 Axes>"
      ]
     },
     "metadata": {},
     "output_type": "display_data"
    }
   ],
   "source": [
    "plot_confusion_matrix(ada_grid_best, X_test, y_test);"
   ]
  },
  {
   "cell_type": "code",
   "execution_count": 24,
   "metadata": {
    "cell_id": "a2b2f2aebac644aeb562e26c8917bd8e",
    "deepnote_cell_type": "code",
    "deepnote_to_be_reexecuted": false,
    "execution_millis": 2604645,
    "execution_start": 1677268480441,
    "source_hash": "fccedcc3",
    "tags": []
   },
   "outputs": [
    {
     "name": "stdout",
     "output_type": "stream",
     "text": [
      "Best GradientBoosting params: {'learning_rate': 0.1, 'max_depth': 5, 'max_features': None, 'min_samples_split': 10, 'n_estimators': 50}\n",
      "Best GradientBoosting accuracy: 0.7342857142857142\n"
     ]
    }
   ],
   "source": [
    "gb_clf = GradientBoostingClassifier(random_state=42)\n",
    "\n",
    "gb_grid = GridSearchCV(gb_clf, param_grid=gb_params, cv=5, n_jobs=-1, scoring='accuracy')\n",
    "gb_grid.fit(X_train, y_train)\n",
    "\n",
    "print(\"Best GradientBoosting params:\", gb_grid.best_params_)\n",
    "print(\"Best GradientBoosting accuracy:\", gb_grid.best_score_)"
   ]
  },
  {
   "cell_type": "code",
   "execution_count": 29,
   "metadata": {
    "cell_id": "e1780b6b0596478980bd23d16c435f1c",
    "deepnote_cell_type": "code",
    "deepnote_to_be_reexecuted": false,
    "execution_millis": 13366,
    "execution_start": 1677271085085,
    "source_hash": "18164268",
    "tags": []
   },
   "outputs": [
    {
     "name": "stdout",
     "output_type": "stream",
     "text": [
      "GradientBoosting Classifier \n",
      "Accuracy on validation set: 73.85%\n",
      "Accuracy on test set: 73.96%\n",
      "Cross-validation score: 73.47% (+/- 0.56%)\n",
      "Classification report:\n",
      "               precision    recall  f1-score   support\n",
      "\n",
      "           0       0.72      0.78      0.75      6988\n",
      "           1       0.76      0.70      0.73      7012\n",
      "\n",
      "    accuracy                           0.74     14000\n",
      "   macro avg       0.74      0.74      0.74     14000\n",
      "weighted avg       0.74      0.74      0.74     14000\n",
      "\n"
     ]
    }
   ],
   "source": [
    "# Train GradientBoosting Classifier with the best hyperparameters\n",
    "gradboost_grid_best = GradientBoostingClassifier(learning_rate= 0.1, max_depth= 5, max_features= None, min_samples_split = 10, n_estimators=50, random_state=42)\n",
    "gradboost_grid_best.fit(X_train, y_train)\n",
    "\n",
    "# Evaluate the model on validation set\n",
    "y_pred = gradboost_grid_best.predict(X_val)\n",
    "acc_val = accuracy_score(y_val, y_pred)\n",
    "\n",
    "# Evaluate the model on test set\n",
    "y_pred = gradboost_grid_best.predict(X_test)\n",
    "acc_test = accuracy_score(y_test, y_pred)\n",
    "\n",
    "# Evaluate the model using cross-validation\n",
    "cv_scores = cross_val_score(gradboost_grid_best, X_train_val, y_train_val, cv=5)\n",
    "\n",
    "# ROC_AUC Score\n",
    "fpr, tpr, thresholds = roc_curve(y_test, y_pred)\n",
    "roc_auc = auc(fpr, tpr)\n",
    "\n",
    "# Print the performance metrics\n",
    "print(\"GradientBoosting Classifier \")\n",
    "print(\"Accuracy on validation set: {:.2f}%\".format(acc_val*100))\n",
    "print(\"Accuracy on test set: {:.2f}%\".format(acc_test*100))\n",
    "print(\"Cross-validation score: {:.2f}% (+/- {:.2f}%)\".format(cv_scores.mean()*100, cv_scores.std()*2*100))\n",
    "print(\"Classification report:\\n\", classification_report(y_test, y_pred))"
   ]
  },
  {
   "cell_type": "code",
   "execution_count": 30,
   "metadata": {},
   "outputs": [
    {
     "data": {
      "image/png": "[encoded data removed]",
      "text/plain": [
       "<Figure size 800x550 with 1 Axes>"
      ]
     },
     "metadata": {},
     "output_type": "display_data"
    }
   ],
   "source": [
    "# Plot ROC-AUC curve\n",
    "plt.plot(fpr, tpr, color='darkorange', lw=2, label='ROC curve (AUC = %0.2f)' % roc_auc)\n",
    "plt.plot([0, 1], [0, 1], color='navy', lw=2, linestyle='--')\n",
    "plt.xlim([0.0, 1.0])\n",
    "plt.ylim([0.0, 1.05])\n",
    "plt.xlabel('False Positive Rate')\n",
    "plt.ylabel('True Positive Rate')\n",
    "plt.title('Receiver operating characteristic')\n",
    "plt.legend(loc=\"lower right\")\n",
    "# save the plot as a JPG image\n",
    "plt.savefig('gradboost_gridcv_roc_auc_curve.jpg')\n",
    "plt.show()"
   ]
  },
  {
   "cell_type": "code",
   "execution_count": 31,
   "metadata": {
    "cell_id": "f85755c8b5a841b59db974cc13ce8814",
    "deepnote_cell_type": "code",
    "deepnote_to_be_reexecuted": false,
    "execution_millis": 270,
    "execution_start": 1677271098452,
    "source_hash": "e6980902",
    "tags": []
   },
   "outputs": [
    {
     "data": {
      "image/png": "[encoded data removed]",
      "text/plain": [
       "<Figure size 800x550 with 2 Axes>"
      ]
     },
     "metadata": {},
     "output_type": "display_data"
    }
   ],
   "source": [
    "plot_confusion_matrix(gradboost_grid_best, X_test, y_test);"
   ]
  },
  {
   "cell_type": "markdown",
   "metadata": {
    "cell_id": "1b0f7732e4824e2ebf746a93c9fe5c26",
    "deepnote_cell_type": "markdown",
    "tags": []
   },
   "source": [
    "This code defines a range of hyperparameters for both `Adaboost` and `GradientBoosting` classifiers and performs a grid search with cross-validation to find the best set of hyperparameters that maximize accuracy. The `GridSearchCV` object is defined with `cv=5` to use 5-fold cross-validation and `n_jobs=-1` to use all available CPU cores for parallel processing. The scoring parameter is set to `'accuracy'` to optimize for accuracy.\n",
    "\n",
    "After running the code, the best set of hyperparameters and the corresponding `accuracy` score are printed for each model."
   ]
  },
  {
   "cell_type": "markdown",
   "metadata": {
    "cell_id": "1b41ec6ba8ac401d97cee4c51bd9749b",
    "deepnote_cell_type": "text-cell-h3",
    "formattedRanges": [],
    "is_collapsed": false,
    "tags": []
   },
   "source": [
    "## Appending all models"
   ]
  },
  {
   "cell_type": "code",
   "execution_count": 23,
   "metadata": {
    "cell_id": "b447cad3c64c49d6a45583f2aac308de",
    "deepnote_cell_type": "code",
    "deepnote_to_be_reexecuted": false,
    "execution_millis": 19486,
    "execution_start": 1677271098725,
    "source_hash": "b7ab2f7f",
    "tags": []
   },
   "outputs": [
    {
     "data": {
      "text/html": [
       "<div>\n",
       "<style scoped>\n",
       "    .dataframe tbody tr th:only-of-type {\n",
       "        vertical-align: middle;\n",
       "    }\n",
       "\n",
       "    .dataframe tbody tr th {\n",
       "        vertical-align: top;\n",
       "    }\n",
       "\n",
       "    .dataframe thead th {\n",
       "        text-align: right;\n",
       "    }\n",
       "</style>\n",
       "<table border=\"1\" class=\"dataframe\">\n",
       "  <thead>\n",
       "    <tr style=\"text-align: right;\">\n",
       "      <th></th>\n",
       "      <th>Model</th>\n",
       "      <th>Accuracy</th>\n",
       "      <th>Precision</th>\n",
       "      <th>Recall</th>\n",
       "      <th>F1-Score</th>\n",
       "    </tr>\n",
       "  </thead>\n",
       "  <tbody>\n",
       "    <tr>\n",
       "      <th>0</th>\n",
       "      <td>Logistic Regression</td>\n",
       "      <td>Val: 0.720, Test: 0.720</td>\n",
       "      <td>Val: 0.721, Test: 0.722</td>\n",
       "      <td>Val: 0.720, Test: 0.720</td>\n",
       "      <td>Val: 0.719, Test: 0.720</td>\n",
       "    </tr>\n",
       "    <tr>\n",
       "      <th>1</th>\n",
       "      <td>Adaboost Classifier</td>\n",
       "      <td>Val: 0.734, Test: 0.735</td>\n",
       "      <td>Val: 0.739, Test: 0.739</td>\n",
       "      <td>Val: 0.734, Test: 0.735</td>\n",
       "      <td>Val: 0.733, Test: 0.733</td>\n",
       "    </tr>\n",
       "    <tr>\n",
       "      <th>2</th>\n",
       "      <td>Gradientboost Classifier</td>\n",
       "      <td>Val: 0.737, Test: 0.738</td>\n",
       "      <td>Val: 0.738, Test: 0.739</td>\n",
       "      <td>Val: 0.737, Test: 0.738</td>\n",
       "      <td>Val: 0.736, Test: 0.738</td>\n",
       "    </tr>\n",
       "    <tr>\n",
       "      <th>3</th>\n",
       "      <td>Random Forest Classifier</td>\n",
       "      <td>Val: 0.714, Test: 0.710</td>\n",
       "      <td>Val: 0.714, Test: 0.710</td>\n",
       "      <td>Val: 0.714, Test: 0.710</td>\n",
       "      <td>Val: 0.714, Test: 0.710</td>\n",
       "    </tr>\n",
       "    <tr>\n",
       "      <th>4</th>\n",
       "      <td>AdaBoost Classifier Best</td>\n",
       "      <td>Val: 0.736, Test: 0.735</td>\n",
       "      <td>Val: 0.742, Test: 0.741</td>\n",
       "      <td>Val: 0.736, Test: 0.735</td>\n",
       "      <td>Val: 0.734, Test: 0.734</td>\n",
       "    </tr>\n",
       "    <tr>\n",
       "      <th>5</th>\n",
       "      <td>GradientBoost Classifier Best</td>\n",
       "      <td>Val: 0.739, Test: 0.738</td>\n",
       "      <td>Val: 0.740, Test: 0.739</td>\n",
       "      <td>Val: 0.739, Test: 0.738</td>\n",
       "      <td>Val: 0.739, Test: 0.737</td>\n",
       "    </tr>\n",
       "    <tr>\n",
       "      <th>6</th>\n",
       "      <td>AdaBoost Classifier GridSearch Best</td>\n",
       "      <td>Val: 0.735, Test: 0.733</td>\n",
       "      <td>Val: 0.740, Test: 0.738</td>\n",
       "      <td>Val: 0.735, Test: 0.733</td>\n",
       "      <td>Val: 0.734, Test: 0.732</td>\n",
       "    </tr>\n",
       "    <tr>\n",
       "      <th>7</th>\n",
       "      <td>GradientBoost Classifier GridSearch Best</td>\n",
       "      <td>Val: 0.739, Test: 0.740</td>\n",
       "      <td>Val: 0.741, Test: 0.741</td>\n",
       "      <td>Val: 0.739, Test: 0.740</td>\n",
       "      <td>Val: 0.738, Test: 0.739</td>\n",
       "    </tr>\n",
       "  </tbody>\n",
       "</table>\n",
       "</div>"
      ],
      "text/plain": [
       "                                      Model                 Accuracy  \\\n",
       "0                       Logistic Regression  Val: 0.720, Test: 0.720   \n",
       "1                       Adaboost Classifier  Val: 0.734, Test: 0.735   \n",
       "2                  Gradientboost Classifier  Val: 0.737, Test: 0.738   \n",
       "3                  Random Forest Classifier  Val: 0.714, Test: 0.710   \n",
       "4                  AdaBoost Classifier Best  Val: 0.736, Test: 0.735   \n",
       "5             GradientBoost Classifier Best  Val: 0.739, Test: 0.738   \n",
       "6       AdaBoost Classifier GridSearch Best  Val: 0.735, Test: 0.733   \n",
       "7  GradientBoost Classifier GridSearch Best  Val: 0.739, Test: 0.740   \n",
       "\n",
       "                 Precision                   Recall                 F1-Score  \n",
       "0  Val: 0.721, Test: 0.722  Val: 0.720, Test: 0.720  Val: 0.719, Test: 0.720  \n",
       "1  Val: 0.739, Test: 0.739  Val: 0.734, Test: 0.735  Val: 0.733, Test: 0.733  \n",
       "2  Val: 0.738, Test: 0.739  Val: 0.737, Test: 0.738  Val: 0.736, Test: 0.738  \n",
       "3  Val: 0.714, Test: 0.710  Val: 0.714, Test: 0.710  Val: 0.714, Test: 0.710  \n",
       "4  Val: 0.742, Test: 0.741  Val: 0.736, Test: 0.735  Val: 0.734, Test: 0.734  \n",
       "5  Val: 0.740, Test: 0.739  Val: 0.739, Test: 0.738  Val: 0.739, Test: 0.737  \n",
       "6  Val: 0.740, Test: 0.738  Val: 0.735, Test: 0.733  Val: 0.734, Test: 0.732  \n",
       "7  Val: 0.741, Test: 0.741  Val: 0.739, Test: 0.740  Val: 0.738, Test: 0.739  "
      ]
     },
     "execution_count": 23,
     "metadata": {},
     "output_type": "execute_result"
    }
   ],
   "source": [
    "# Define the models\n",
    "models = [\n",
    "    ('Logistic Regression', log_reg),\n",
    "    ('Adaboost Classifier', ada),\n",
    "    ('Gradientboost Classifier', gb),\n",
    "    ('Random Forest Classifier', rf),\n",
    "    ('AdaBoost Classifier Best', ada_best),\n",
    "    ('GradientBoost Classifier Best', gradboost_best),\n",
    "    ('AdaBoost Classifier GridSearch Best', ada_grid_best),\n",
    "    ('GradientBoost Classifier GridSearch Best', gradboost_grid_best)\n",
    "]\n",
    "\n",
    "# Create an empty DataFrame to store the results\n",
    "results_df = pd.DataFrame(columns=['Model', 'Accuracy', 'Precision', 'Recall', 'F1-Score'])\n",
    "\n",
    "# Evaluate each model and append the results to the DataFrame\n",
    "for model_name, model in models:\n",
    "    # Train the model\n",
    "    model.fit(X_train, y_train)\n",
    "\n",
    "    # Evaluate the model on the validation set\n",
    "    y_val_pred = model.predict(X_val)\n",
    "    acc_val = accuracy_score(y_val, y_val_pred)\n",
    "    p_val, r_val, f1_val, _ = precision_recall_fscore_support(y_val, y_val_pred, average='weighted')\n",
    "\n",
    "    # Evaluate the model on the test set\n",
    "    y_test_pred = model.predict(X_test)\n",
    "    acc_test = accuracy_score(y_test, y_test_pred)\n",
    "    p_test, r_test, f1_test, _ = precision_recall_fscore_support(y_test, y_test_pred, average='weighted')\n",
    "\n",
    "    # Append the results to the DataFrame\n",
    "    results_df = results_df.append({\n",
    "        'Model': model_name,\n",
    "        'Accuracy': f'Val: {acc_val:.3f}, Test: {acc_test:.3f}',\n",
    "        'Precision': f'Val: {p_val:.3f}, Test: {p_test:.3f}',\n",
    "        'Recall': f'Val: {r_val:.3f}, Test: {r_test:.3f}',\n",
    "        'F1-Score': f'Val: {f1_val:.3f}, Test: {f1_test:.3f}'\n",
    "    }, ignore_index=True)\n",
    "\n",
    "# Print the results\n",
    "results_df"
   ]
  },
  {
   "cell_type": "code",
   "execution_count": 24,
   "metadata": {
    "cell_id": "e2f75a9846504d259c282293e7301000",
    "deepnote_cell_type": "code",
    "deepnote_to_be_reexecuted": false,
    "execution_millis": 5,
    "execution_start": 1677271118227,
    "source_hash": "5f5f1941",
    "tags": []
   },
   "outputs": [
    {
     "data": {
      "text/html": [
       "<div>\n",
       "<style scoped>\n",
       "    .dataframe tbody tr th:only-of-type {\n",
       "        vertical-align: middle;\n",
       "    }\n",
       "\n",
       "    .dataframe tbody tr th {\n",
       "        vertical-align: top;\n",
       "    }\n",
       "\n",
       "    .dataframe thead th {\n",
       "        text-align: right;\n",
       "    }\n",
       "</style>\n",
       "<table border=\"1\" class=\"dataframe\">\n",
       "  <thead>\n",
       "    <tr style=\"text-align: right;\">\n",
       "      <th></th>\n",
       "      <th>Model</th>\n",
       "      <th>Accuracy</th>\n",
       "      <th>Precision</th>\n",
       "      <th>Recall</th>\n",
       "      <th>F1-Score</th>\n",
       "    </tr>\n",
       "  </thead>\n",
       "  <tbody>\n",
       "    <tr>\n",
       "      <th>4</th>\n",
       "      <td>AdaBoost Classifier Best</td>\n",
       "      <td>Val: 0.736, Test: 0.735</td>\n",
       "      <td>Val: 0.742, Test: 0.741</td>\n",
       "      <td>Val: 0.736, Test: 0.735</td>\n",
       "      <td>Val: 0.734, Test: 0.734</td>\n",
       "    </tr>\n",
       "    <tr>\n",
       "      <th>7</th>\n",
       "      <td>GradientBoost Classifier GridSearch Best</td>\n",
       "      <td>Val: 0.739, Test: 0.740</td>\n",
       "      <td>Val: 0.741, Test: 0.741</td>\n",
       "      <td>Val: 0.739, Test: 0.740</td>\n",
       "      <td>Val: 0.738, Test: 0.739</td>\n",
       "    </tr>\n",
       "    <tr>\n",
       "      <th>5</th>\n",
       "      <td>GradientBoost Classifier Best</td>\n",
       "      <td>Val: 0.739, Test: 0.738</td>\n",
       "      <td>Val: 0.740, Test: 0.739</td>\n",
       "      <td>Val: 0.739, Test: 0.738</td>\n",
       "      <td>Val: 0.739, Test: 0.737</td>\n",
       "    </tr>\n",
       "    <tr>\n",
       "      <th>6</th>\n",
       "      <td>AdaBoost Classifier GridSearch Best</td>\n",
       "      <td>Val: 0.735, Test: 0.733</td>\n",
       "      <td>Val: 0.740, Test: 0.738</td>\n",
       "      <td>Val: 0.735, Test: 0.733</td>\n",
       "      <td>Val: 0.734, Test: 0.732</td>\n",
       "    </tr>\n",
       "    <tr>\n",
       "      <th>1</th>\n",
       "      <td>Adaboost Classifier</td>\n",
       "      <td>Val: 0.734, Test: 0.735</td>\n",
       "      <td>Val: 0.739, Test: 0.739</td>\n",
       "      <td>Val: 0.734, Test: 0.735</td>\n",
       "      <td>Val: 0.733, Test: 0.733</td>\n",
       "    </tr>\n",
       "    <tr>\n",
       "      <th>2</th>\n",
       "      <td>Gradientboost Classifier</td>\n",
       "      <td>Val: 0.737, Test: 0.738</td>\n",
       "      <td>Val: 0.738, Test: 0.739</td>\n",
       "      <td>Val: 0.737, Test: 0.738</td>\n",
       "      <td>Val: 0.736, Test: 0.738</td>\n",
       "    </tr>\n",
       "    <tr>\n",
       "      <th>0</th>\n",
       "      <td>Logistic Regression</td>\n",
       "      <td>Val: 0.720, Test: 0.720</td>\n",
       "      <td>Val: 0.721, Test: 0.722</td>\n",
       "      <td>Val: 0.720, Test: 0.720</td>\n",
       "      <td>Val: 0.719, Test: 0.720</td>\n",
       "    </tr>\n",
       "    <tr>\n",
       "      <th>3</th>\n",
       "      <td>Random Forest Classifier</td>\n",
       "      <td>Val: 0.714, Test: 0.710</td>\n",
       "      <td>Val: 0.714, Test: 0.710</td>\n",
       "      <td>Val: 0.714, Test: 0.710</td>\n",
       "      <td>Val: 0.714, Test: 0.710</td>\n",
       "    </tr>\n",
       "  </tbody>\n",
       "</table>\n",
       "</div>"
      ],
      "text/plain": [
       "                                      Model                 Accuracy  \\\n",
       "4                  AdaBoost Classifier Best  Val: 0.736, Test: 0.735   \n",
       "7  GradientBoost Classifier GridSearch Best  Val: 0.739, Test: 0.740   \n",
       "5             GradientBoost Classifier Best  Val: 0.739, Test: 0.738   \n",
       "6       AdaBoost Classifier GridSearch Best  Val: 0.735, Test: 0.733   \n",
       "1                       Adaboost Classifier  Val: 0.734, Test: 0.735   \n",
       "2                  Gradientboost Classifier  Val: 0.737, Test: 0.738   \n",
       "0                       Logistic Regression  Val: 0.720, Test: 0.720   \n",
       "3                  Random Forest Classifier  Val: 0.714, Test: 0.710   \n",
       "\n",
       "                 Precision                   Recall                 F1-Score  \n",
       "4  Val: 0.742, Test: 0.741  Val: 0.736, Test: 0.735  Val: 0.734, Test: 0.734  \n",
       "7  Val: 0.741, Test: 0.741  Val: 0.739, Test: 0.740  Val: 0.738, Test: 0.739  \n",
       "5  Val: 0.740, Test: 0.739  Val: 0.739, Test: 0.738  Val: 0.739, Test: 0.737  \n",
       "6  Val: 0.740, Test: 0.738  Val: 0.735, Test: 0.733  Val: 0.734, Test: 0.732  \n",
       "1  Val: 0.739, Test: 0.739  Val: 0.734, Test: 0.735  Val: 0.733, Test: 0.733  \n",
       "2  Val: 0.738, Test: 0.739  Val: 0.737, Test: 0.738  Val: 0.736, Test: 0.738  \n",
       "0  Val: 0.721, Test: 0.722  Val: 0.720, Test: 0.720  Val: 0.719, Test: 0.720  \n",
       "3  Val: 0.714, Test: 0.710  Val: 0.714, Test: 0.710  Val: 0.714, Test: 0.710  "
      ]
     },
     "execution_count": 24,
     "metadata": {},
     "output_type": "execute_result"
    }
   ],
   "source": [
    "sorted_results_df = results_df.sort_values('Precision', ascending=False)\n",
    "sorted_results_df"
   ]
  },
  {
   "cell_type": "code",
   "execution_count": 25,
   "metadata": {
    "cell_id": "ae77a874bd1942d69e4e450e4b2691bc",
    "deepnote_cell_type": "code",
    "deepnote_to_be_reexecuted": false,
    "execution_millis": 4,
    "execution_start": 1677271118518,
    "source_hash": "5989d758",
    "tags": []
   },
   "outputs": [
    {
     "data": {
      "text/html": [
       "<div>\n",
       "<style scoped>\n",
       "    .dataframe tbody tr th:only-of-type {\n",
       "        vertical-align: middle;\n",
       "    }\n",
       "\n",
       "    .dataframe tbody tr th {\n",
       "        vertical-align: top;\n",
       "    }\n",
       "\n",
       "    .dataframe thead th {\n",
       "        text-align: right;\n",
       "    }\n",
       "</style>\n",
       "<table border=\"1\" class=\"dataframe\">\n",
       "  <thead>\n",
       "    <tr style=\"text-align: right;\">\n",
       "      <th></th>\n",
       "      <th>Model</th>\n",
       "      <th>Accuracy</th>\n",
       "      <th>Precision</th>\n",
       "      <th>Recall</th>\n",
       "      <th>F1-Score</th>\n",
       "    </tr>\n",
       "  </thead>\n",
       "  <tbody>\n",
       "    <tr>\n",
       "      <th>7</th>\n",
       "      <td>GradientBoost Classifier GridSearch Best</td>\n",
       "      <td>Val: 0.739, Test: 0.740</td>\n",
       "      <td>Val: 0.741, Test: 0.741</td>\n",
       "      <td>Val: 0.739, Test: 0.740</td>\n",
       "      <td>Val: 0.738, Test: 0.739</td>\n",
       "    </tr>\n",
       "    <tr>\n",
       "      <th>5</th>\n",
       "      <td>GradientBoost Classifier Best</td>\n",
       "      <td>Val: 0.739, Test: 0.738</td>\n",
       "      <td>Val: 0.740, Test: 0.739</td>\n",
       "      <td>Val: 0.739, Test: 0.738</td>\n",
       "      <td>Val: 0.739, Test: 0.737</td>\n",
       "    </tr>\n",
       "    <tr>\n",
       "      <th>2</th>\n",
       "      <td>Gradientboost Classifier</td>\n",
       "      <td>Val: 0.737, Test: 0.738</td>\n",
       "      <td>Val: 0.738, Test: 0.739</td>\n",
       "      <td>Val: 0.737, Test: 0.738</td>\n",
       "      <td>Val: 0.736, Test: 0.738</td>\n",
       "    </tr>\n",
       "    <tr>\n",
       "      <th>4</th>\n",
       "      <td>AdaBoost Classifier Best</td>\n",
       "      <td>Val: 0.736, Test: 0.735</td>\n",
       "      <td>Val: 0.742, Test: 0.741</td>\n",
       "      <td>Val: 0.736, Test: 0.735</td>\n",
       "      <td>Val: 0.734, Test: 0.734</td>\n",
       "    </tr>\n",
       "    <tr>\n",
       "      <th>6</th>\n",
       "      <td>AdaBoost Classifier GridSearch Best</td>\n",
       "      <td>Val: 0.735, Test: 0.733</td>\n",
       "      <td>Val: 0.740, Test: 0.738</td>\n",
       "      <td>Val: 0.735, Test: 0.733</td>\n",
       "      <td>Val: 0.734, Test: 0.732</td>\n",
       "    </tr>\n",
       "    <tr>\n",
       "      <th>1</th>\n",
       "      <td>Adaboost Classifier</td>\n",
       "      <td>Val: 0.734, Test: 0.735</td>\n",
       "      <td>Val: 0.739, Test: 0.739</td>\n",
       "      <td>Val: 0.734, Test: 0.735</td>\n",
       "      <td>Val: 0.733, Test: 0.733</td>\n",
       "    </tr>\n",
       "    <tr>\n",
       "      <th>0</th>\n",
       "      <td>Logistic Regression</td>\n",
       "      <td>Val: 0.720, Test: 0.720</td>\n",
       "      <td>Val: 0.721, Test: 0.722</td>\n",
       "      <td>Val: 0.720, Test: 0.720</td>\n",
       "      <td>Val: 0.719, Test: 0.720</td>\n",
       "    </tr>\n",
       "    <tr>\n",
       "      <th>3</th>\n",
       "      <td>Random Forest Classifier</td>\n",
       "      <td>Val: 0.714, Test: 0.710</td>\n",
       "      <td>Val: 0.714, Test: 0.710</td>\n",
       "      <td>Val: 0.714, Test: 0.710</td>\n",
       "      <td>Val: 0.714, Test: 0.710</td>\n",
       "    </tr>\n",
       "  </tbody>\n",
       "</table>\n",
       "</div>"
      ],
      "text/plain": [
       "                                      Model                 Accuracy  \\\n",
       "7  GradientBoost Classifier GridSearch Best  Val: 0.739, Test: 0.740   \n",
       "5             GradientBoost Classifier Best  Val: 0.739, Test: 0.738   \n",
       "2                  Gradientboost Classifier  Val: 0.737, Test: 0.738   \n",
       "4                  AdaBoost Classifier Best  Val: 0.736, Test: 0.735   \n",
       "6       AdaBoost Classifier GridSearch Best  Val: 0.735, Test: 0.733   \n",
       "1                       Adaboost Classifier  Val: 0.734, Test: 0.735   \n",
       "0                       Logistic Regression  Val: 0.720, Test: 0.720   \n",
       "3                  Random Forest Classifier  Val: 0.714, Test: 0.710   \n",
       "\n",
       "                 Precision                   Recall                 F1-Score  \n",
       "7  Val: 0.741, Test: 0.741  Val: 0.739, Test: 0.740  Val: 0.738, Test: 0.739  \n",
       "5  Val: 0.740, Test: 0.739  Val: 0.739, Test: 0.738  Val: 0.739, Test: 0.737  \n",
       "2  Val: 0.738, Test: 0.739  Val: 0.737, Test: 0.738  Val: 0.736, Test: 0.738  \n",
       "4  Val: 0.742, Test: 0.741  Val: 0.736, Test: 0.735  Val: 0.734, Test: 0.734  \n",
       "6  Val: 0.740, Test: 0.738  Val: 0.735, Test: 0.733  Val: 0.734, Test: 0.732  \n",
       "1  Val: 0.739, Test: 0.739  Val: 0.734, Test: 0.735  Val: 0.733, Test: 0.733  \n",
       "0  Val: 0.721, Test: 0.722  Val: 0.720, Test: 0.720  Val: 0.719, Test: 0.720  \n",
       "3  Val: 0.714, Test: 0.710  Val: 0.714, Test: 0.710  Val: 0.714, Test: 0.710  "
      ]
     },
     "execution_count": 25,
     "metadata": {},
     "output_type": "execute_result"
    }
   ],
   "source": [
    "# results_df = results_df.sort_values('Precision', ascending=False)\n",
    "sorted_results_df = results_df.sort_values('Accuracy', ascending=False)\n",
    "sorted_results_df"
   ]
  },
  {
   "cell_type": "markdown",
   "metadata": {
    "cell_id": "229e75634d6d48ba8e079bf1a7611624",
    "deepnote_cell_type": "markdown",
    "tags": []
   },
   "source": [
    "This created a DataFrame with columns for the model name, accuracy, precision, recall, and f1-score for both the validation and test sets. With `GradientBoost Classifier GridSearchCV` performing better across all performance metrics."
   ]
  },
  {
   "cell_type": "markdown",
   "metadata": {
    "cell_id": "278dff0f62524585b3b5cb7afabd7ec4",
    "deepnote_cell_type": "text-cell-h3",
    "formattedRanges": [],
    "is_collapsed": false,
    "tags": []
   },
   "source": [
    "## Implementing Voting-Classifier"
   ]
  },
  {
   "cell_type": "code",
   "execution_count": 26,
   "metadata": {
    "cell_id": "6abcb190a0f34c31838c365f32370b88",
    "deepnote_cell_type": "code",
    "deepnote_to_be_reexecuted": false,
    "execution_millis": 54275,
    "execution_start": 1677271118579,
    "source_hash": "9ebc6a35",
    "tags": []
   },
   "outputs": [
    {
     "name": "stdout",
     "output_type": "stream",
     "text": [
      "Voting Classifier \n",
      "Accuracy on validation set: 73.79%\n",
      "Accuracy on test set: 73.99%\n",
      "Cross-validation score: 73.53% (+/- 0.73%)\n",
      "Classification report:\n",
      "               precision    recall  f1-score   support\n",
      "\n",
      "           0       0.72      0.78      0.75      6988\n",
      "           1       0.76      0.70      0.73      7012\n",
      "\n",
      "    accuracy                           0.74     14000\n",
      "   macro avg       0.74      0.74      0.74     14000\n",
      "weighted avg       0.74      0.74      0.74     14000\n",
      "\n"
     ]
    }
   ],
   "source": [
    "vc = VotingClassifier(estimators=[('AdaBoost Classifier Best', ada_best),\n",
    "                                ('GradientBoost Classifier GridSearch Best', gradboost_grid_best),\n",
    "                                ('GradientBoost Classifier Best', gradboost_best)], \n",
    "                                voting='hard')\n",
    "vc.fit(X_train,y_train)\n",
    "\n",
    "# Evaluate the model on validation set\n",
    "y_val_pred = vc.predict(X_val)\n",
    "acc_val = accuracy_score(y_val, y_val_pred)\n",
    "p_val, r_val, f1_val, _ = precision_recall_fscore_support(y_val, y_val_pred, average='weighted')\n",
    "\n",
    "# Evaluate the model on test set\n",
    "y_test_pred = vc.predict(X_test)\n",
    "acc_test = accuracy_score(y_test, y_test_pred)\n",
    "p_test, r_test, f1_test, _ = precision_recall_fscore_support(y_test, y_test_pred, average='weighted')\n",
    "\n",
    "# Evaluate the model using cross-validation\n",
    "cv_scores = cross_val_score(vc, X_train_val, y_train_val, cv=5)\n",
    "\n",
    "# Append the results to the DataFrame\n",
    "results_df = results_df.append({\n",
    "    'Model': 'Voting Classifier',\n",
    "    'Accuracy': f'Val: {acc_val:.3f}, Test: {acc_test:.3f}',\n",
    "    'Precision': f'Val: {p_val:.3f}, Test: {p_test:.3f}',\n",
    "    'Recall': f'Val: {r_val:.3f}, Test: {r_test:.3f}',\n",
    "    'F1-Score': f'Val: {f1_val:.3f}, Test: {f1_test:.3f}'\n",
    "}, ignore_index=True)\n",
    "\n",
    "# Print the performance metrics\n",
    "print(\"Voting Classifier \")\n",
    "print(\"Accuracy on validation set: {:.2f}%\".format(acc_val*100))\n",
    "print(\"Accuracy on test set: {:.2f}%\".format(acc_test*100))\n",
    "print(\"Cross-validation score: {:.2f}% (+/- {:.2f}%)\".format(cv_scores.mean()*100, cv_scores.std()*2*100))\n",
    "print(\"Classification report:\\n\", classification_report(y_test, y_pred))"
   ]
  },
  {
   "cell_type": "code",
   "execution_count": 27,
   "metadata": {
    "cell_id": "88180bf1899749da97b3bdcf12f21711",
    "deepnote_cell_type": "code",
    "deepnote_to_be_reexecuted": false,
    "execution_millis": 580,
    "execution_start": 1677271172853,
    "source_hash": "190b90d8",
    "tags": []
   },
   "outputs": [
    {
     "data": {
      "image/png": "[encoded data removed]",
      "text/plain": [
       "<Figure size 640x480 with 2 Axes>"
      ]
     },
     "metadata": {},
     "output_type": "display_data"
    }
   ],
   "source": [
    "plot_confusion_matrix(vc, X_test, y_test);"
   ]
  },
  {
   "cell_type": "code",
   "execution_count": 28,
   "metadata": {
    "cell_id": "220493d38c824882835cdb63baea1d3c",
    "deepnote_cell_type": "code",
    "deepnote_to_be_reexecuted": false,
    "execution_millis": 16,
    "execution_start": 1677271173435,
    "source_hash": "5f5f1941",
    "tags": []
   },
   "outputs": [
    {
     "data": {
      "text/html": [
       "<div>\n",
       "<style scoped>\n",
       "    .dataframe tbody tr th:only-of-type {\n",
       "        vertical-align: middle;\n",
       "    }\n",
       "\n",
       "    .dataframe tbody tr th {\n",
       "        vertical-align: top;\n",
       "    }\n",
       "\n",
       "    .dataframe thead th {\n",
       "        text-align: right;\n",
       "    }\n",
       "</style>\n",
       "<table border=\"1\" class=\"dataframe\">\n",
       "  <thead>\n",
       "    <tr style=\"text-align: right;\">\n",
       "      <th></th>\n",
       "      <th>Model</th>\n",
       "      <th>Accuracy</th>\n",
       "      <th>Precision</th>\n",
       "      <th>Recall</th>\n",
       "      <th>F1-Score</th>\n",
       "    </tr>\n",
       "  </thead>\n",
       "  <tbody>\n",
       "    <tr>\n",
       "      <th>4</th>\n",
       "      <td>AdaBoost Classifier Best</td>\n",
       "      <td>Val: 0.736, Test: 0.735</td>\n",
       "      <td>Val: 0.742, Test: 0.741</td>\n",
       "      <td>Val: 0.736, Test: 0.735</td>\n",
       "      <td>Val: 0.734, Test: 0.734</td>\n",
       "    </tr>\n",
       "    <tr>\n",
       "      <th>7</th>\n",
       "      <td>GradientBoost Classifier GridSearch Best</td>\n",
       "      <td>Val: 0.739, Test: 0.740</td>\n",
       "      <td>Val: 0.741, Test: 0.741</td>\n",
       "      <td>Val: 0.739, Test: 0.740</td>\n",
       "      <td>Val: 0.738, Test: 0.739</td>\n",
       "    </tr>\n",
       "    <tr>\n",
       "      <th>8</th>\n",
       "      <td>Voting Classifier</td>\n",
       "      <td>Val: 0.738, Test: 0.740</td>\n",
       "      <td>Val: 0.740, Test: 0.741</td>\n",
       "      <td>Val: 0.738, Test: 0.740</td>\n",
       "      <td>Val: 0.737, Test: 0.739</td>\n",
       "    </tr>\n",
       "    <tr>\n",
       "      <th>5</th>\n",
       "      <td>GradientBoost Classifier Best</td>\n",
       "      <td>Val: 0.739, Test: 0.738</td>\n",
       "      <td>Val: 0.740, Test: 0.739</td>\n",
       "      <td>Val: 0.739, Test: 0.738</td>\n",
       "      <td>Val: 0.739, Test: 0.737</td>\n",
       "    </tr>\n",
       "    <tr>\n",
       "      <th>6</th>\n",
       "      <td>AdaBoost Classifier GridSearch Best</td>\n",
       "      <td>Val: 0.735, Test: 0.733</td>\n",
       "      <td>Val: 0.740, Test: 0.738</td>\n",
       "      <td>Val: 0.735, Test: 0.733</td>\n",
       "      <td>Val: 0.734, Test: 0.732</td>\n",
       "    </tr>\n",
       "    <tr>\n",
       "      <th>1</th>\n",
       "      <td>Adaboost Classifier</td>\n",
       "      <td>Val: 0.734, Test: 0.735</td>\n",
       "      <td>Val: 0.739, Test: 0.739</td>\n",
       "      <td>Val: 0.734, Test: 0.735</td>\n",
       "      <td>Val: 0.733, Test: 0.733</td>\n",
       "    </tr>\n",
       "    <tr>\n",
       "      <th>2</th>\n",
       "      <td>Gradientboost Classifier</td>\n",
       "      <td>Val: 0.737, Test: 0.738</td>\n",
       "      <td>Val: 0.738, Test: 0.739</td>\n",
       "      <td>Val: 0.737, Test: 0.738</td>\n",
       "      <td>Val: 0.736, Test: 0.738</td>\n",
       "    </tr>\n",
       "    <tr>\n",
       "      <th>0</th>\n",
       "      <td>Logistic Regression</td>\n",
       "      <td>Val: 0.720, Test: 0.720</td>\n",
       "      <td>Val: 0.721, Test: 0.722</td>\n",
       "      <td>Val: 0.720, Test: 0.720</td>\n",
       "      <td>Val: 0.719, Test: 0.720</td>\n",
       "    </tr>\n",
       "    <tr>\n",
       "      <th>3</th>\n",
       "      <td>Random Forest Classifier</td>\n",
       "      <td>Val: 0.714, Test: 0.710</td>\n",
       "      <td>Val: 0.714, Test: 0.710</td>\n",
       "      <td>Val: 0.714, Test: 0.710</td>\n",
       "      <td>Val: 0.714, Test: 0.710</td>\n",
       "    </tr>\n",
       "  </tbody>\n",
       "</table>\n",
       "</div>"
      ],
      "text/plain": [
       "                                      Model                 Accuracy  \\\n",
       "4                  AdaBoost Classifier Best  Val: 0.736, Test: 0.735   \n",
       "7  GradientBoost Classifier GridSearch Best  Val: 0.739, Test: 0.740   \n",
       "8                         Voting Classifier  Val: 0.738, Test: 0.740   \n",
       "5             GradientBoost Classifier Best  Val: 0.739, Test: 0.738   \n",
       "6       AdaBoost Classifier GridSearch Best  Val: 0.735, Test: 0.733   \n",
       "1                       Adaboost Classifier  Val: 0.734, Test: 0.735   \n",
       "2                  Gradientboost Classifier  Val: 0.737, Test: 0.738   \n",
       "0                       Logistic Regression  Val: 0.720, Test: 0.720   \n",
       "3                  Random Forest Classifier  Val: 0.714, Test: 0.710   \n",
       "\n",
       "                 Precision                   Recall                 F1-Score  \n",
       "4  Val: 0.742, Test: 0.741  Val: 0.736, Test: 0.735  Val: 0.734, Test: 0.734  \n",
       "7  Val: 0.741, Test: 0.741  Val: 0.739, Test: 0.740  Val: 0.738, Test: 0.739  \n",
       "8  Val: 0.740, Test: 0.741  Val: 0.738, Test: 0.740  Val: 0.737, Test: 0.739  \n",
       "5  Val: 0.740, Test: 0.739  Val: 0.739, Test: 0.738  Val: 0.739, Test: 0.737  \n",
       "6  Val: 0.740, Test: 0.738  Val: 0.735, Test: 0.733  Val: 0.734, Test: 0.732  \n",
       "1  Val: 0.739, Test: 0.739  Val: 0.734, Test: 0.735  Val: 0.733, Test: 0.733  \n",
       "2  Val: 0.738, Test: 0.739  Val: 0.737, Test: 0.738  Val: 0.736, Test: 0.738  \n",
       "0  Val: 0.721, Test: 0.722  Val: 0.720, Test: 0.720  Val: 0.719, Test: 0.720  \n",
       "3  Val: 0.714, Test: 0.710  Val: 0.714, Test: 0.710  Val: 0.714, Test: 0.710  "
      ]
     },
     "execution_count": 28,
     "metadata": {},
     "output_type": "execute_result"
    }
   ],
   "source": [
    "sorted_results_df = results_df.sort_values('Precision', ascending=False)\n",
    "sorted_results_df"
   ]
  },
  {
   "cell_type": "code",
   "execution_count": 29,
   "metadata": {},
   "outputs": [
    {
     "data": {
      "text/html": [
       "<div>\n",
       "<style scoped>\n",
       "    .dataframe tbody tr th:only-of-type {\n",
       "        vertical-align: middle;\n",
       "    }\n",
       "\n",
       "    .dataframe tbody tr th {\n",
       "        vertical-align: top;\n",
       "    }\n",
       "\n",
       "    .dataframe thead th {\n",
       "        text-align: right;\n",
       "    }\n",
       "</style>\n",
       "<table border=\"1\" class=\"dataframe\">\n",
       "  <thead>\n",
       "    <tr style=\"text-align: right;\">\n",
       "      <th></th>\n",
       "      <th>Model</th>\n",
       "      <th>Accuracy</th>\n",
       "      <th>Precision</th>\n",
       "      <th>Recall</th>\n",
       "      <th>F1-Score</th>\n",
       "    </tr>\n",
       "  </thead>\n",
       "  <tbody>\n",
       "    <tr>\n",
       "      <th>7</th>\n",
       "      <td>GradientBoost Classifier GridSearch Best</td>\n",
       "      <td>Val: 0.739, Test: 0.740</td>\n",
       "      <td>Val: 0.741, Test: 0.741</td>\n",
       "      <td>Val: 0.739, Test: 0.740</td>\n",
       "      <td>Val: 0.738, Test: 0.739</td>\n",
       "    </tr>\n",
       "    <tr>\n",
       "      <th>5</th>\n",
       "      <td>GradientBoost Classifier Best</td>\n",
       "      <td>Val: 0.739, Test: 0.738</td>\n",
       "      <td>Val: 0.740, Test: 0.739</td>\n",
       "      <td>Val: 0.739, Test: 0.738</td>\n",
       "      <td>Val: 0.739, Test: 0.737</td>\n",
       "    </tr>\n",
       "    <tr>\n",
       "      <th>8</th>\n",
       "      <td>Voting Classifier</td>\n",
       "      <td>Val: 0.738, Test: 0.740</td>\n",
       "      <td>Val: 0.740, Test: 0.741</td>\n",
       "      <td>Val: 0.738, Test: 0.740</td>\n",
       "      <td>Val: 0.737, Test: 0.739</td>\n",
       "    </tr>\n",
       "    <tr>\n",
       "      <th>2</th>\n",
       "      <td>Gradientboost Classifier</td>\n",
       "      <td>Val: 0.737, Test: 0.738</td>\n",
       "      <td>Val: 0.738, Test: 0.739</td>\n",
       "      <td>Val: 0.737, Test: 0.738</td>\n",
       "      <td>Val: 0.736, Test: 0.738</td>\n",
       "    </tr>\n",
       "    <tr>\n",
       "      <th>4</th>\n",
       "      <td>AdaBoost Classifier Best</td>\n",
       "      <td>Val: 0.736, Test: 0.735</td>\n",
       "      <td>Val: 0.742, Test: 0.741</td>\n",
       "      <td>Val: 0.736, Test: 0.735</td>\n",
       "      <td>Val: 0.734, Test: 0.734</td>\n",
       "    </tr>\n",
       "    <tr>\n",
       "      <th>6</th>\n",
       "      <td>AdaBoost Classifier GridSearch Best</td>\n",
       "      <td>Val: 0.735, Test: 0.733</td>\n",
       "      <td>Val: 0.740, Test: 0.738</td>\n",
       "      <td>Val: 0.735, Test: 0.733</td>\n",
       "      <td>Val: 0.734, Test: 0.732</td>\n",
       "    </tr>\n",
       "    <tr>\n",
       "      <th>1</th>\n",
       "      <td>Adaboost Classifier</td>\n",
       "      <td>Val: 0.734, Test: 0.735</td>\n",
       "      <td>Val: 0.739, Test: 0.739</td>\n",
       "      <td>Val: 0.734, Test: 0.735</td>\n",
       "      <td>Val: 0.733, Test: 0.733</td>\n",
       "    </tr>\n",
       "    <tr>\n",
       "      <th>0</th>\n",
       "      <td>Logistic Regression</td>\n",
       "      <td>Val: 0.720, Test: 0.720</td>\n",
       "      <td>Val: 0.721, Test: 0.722</td>\n",
       "      <td>Val: 0.720, Test: 0.720</td>\n",
       "      <td>Val: 0.719, Test: 0.720</td>\n",
       "    </tr>\n",
       "    <tr>\n",
       "      <th>3</th>\n",
       "      <td>Random Forest Classifier</td>\n",
       "      <td>Val: 0.714, Test: 0.710</td>\n",
       "      <td>Val: 0.714, Test: 0.710</td>\n",
       "      <td>Val: 0.714, Test: 0.710</td>\n",
       "      <td>Val: 0.714, Test: 0.710</td>\n",
       "    </tr>\n",
       "  </tbody>\n",
       "</table>\n",
       "</div>"
      ],
      "text/plain": [
       "                                      Model                 Accuracy  \\\n",
       "7  GradientBoost Classifier GridSearch Best  Val: 0.739, Test: 0.740   \n",
       "5             GradientBoost Classifier Best  Val: 0.739, Test: 0.738   \n",
       "8                         Voting Classifier  Val: 0.738, Test: 0.740   \n",
       "2                  Gradientboost Classifier  Val: 0.737, Test: 0.738   \n",
       "4                  AdaBoost Classifier Best  Val: 0.736, Test: 0.735   \n",
       "6       AdaBoost Classifier GridSearch Best  Val: 0.735, Test: 0.733   \n",
       "1                       Adaboost Classifier  Val: 0.734, Test: 0.735   \n",
       "0                       Logistic Regression  Val: 0.720, Test: 0.720   \n",
       "3                  Random Forest Classifier  Val: 0.714, Test: 0.710   \n",
       "\n",
       "                 Precision                   Recall                 F1-Score  \n",
       "7  Val: 0.741, Test: 0.741  Val: 0.739, Test: 0.740  Val: 0.738, Test: 0.739  \n",
       "5  Val: 0.740, Test: 0.739  Val: 0.739, Test: 0.738  Val: 0.739, Test: 0.737  \n",
       "8  Val: 0.740, Test: 0.741  Val: 0.738, Test: 0.740  Val: 0.737, Test: 0.739  \n",
       "2  Val: 0.738, Test: 0.739  Val: 0.737, Test: 0.738  Val: 0.736, Test: 0.738  \n",
       "4  Val: 0.742, Test: 0.741  Val: 0.736, Test: 0.735  Val: 0.734, Test: 0.734  \n",
       "6  Val: 0.740, Test: 0.738  Val: 0.735, Test: 0.733  Val: 0.734, Test: 0.732  \n",
       "1  Val: 0.739, Test: 0.739  Val: 0.734, Test: 0.735  Val: 0.733, Test: 0.733  \n",
       "0  Val: 0.721, Test: 0.722  Val: 0.720, Test: 0.720  Val: 0.719, Test: 0.720  \n",
       "3  Val: 0.714, Test: 0.710  Val: 0.714, Test: 0.710  Val: 0.714, Test: 0.710  "
      ]
     },
     "execution_count": 29,
     "metadata": {},
     "output_type": "execute_result"
    }
   ],
   "source": [
    "sorted_results_df = results_df.sort_values('Accuracy', ascending=False)\n",
    "sorted_results_df"
   ]
  }
 ],
 "metadata": {
  "deepnote": {},
  "deepnote_execution_queue": [],
  "deepnote_notebook_id": "316ee557e7cb43cb8294b3b2afafeb40",
  "kernelspec": {
   "display_name": "Python 3 (ipykernel)",
   "language": "python",
   "name": "python3"
  },
  "language_info": {
   "codemirror_mode": {
    "name": "ipython",
    "version": 3
   },
   "file_extension": ".py",
   "mimetype": "text/x-python",
   "name": "python",
   "nbconvert_exporter": "python",
   "pygments_lexer": "ipython3",
   "version": "3.9.13"
  }
 },
 "nbformat": 4,
 "nbformat_minor": 4
}
