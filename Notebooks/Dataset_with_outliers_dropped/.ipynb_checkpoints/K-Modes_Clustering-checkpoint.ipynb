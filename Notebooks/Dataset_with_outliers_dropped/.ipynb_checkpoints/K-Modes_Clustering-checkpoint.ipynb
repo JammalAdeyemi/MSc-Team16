{
 "cells": [
  {
   "cell_type": "code",
   "execution_count": null,
   "metadata": {
    "cell_id": "14bcdbf62b5a4f0384c8fba10f4a7d57",
    "deepnote_cell_type": "code",
    "deepnote_to_be_reexecuted": false,
    "execution_millis": 1946,
    "execution_start": 1678523136676,
    "source_hash": "53ead759",
    "tags": []
   },
   "outputs": [],
   "source": [
    "import pandas as pd\n",
    "import numpy as np\n",
    "import matplotlib.pyplot as plt\n",
    "import seaborn as sns\n",
    "\n",
    "import pycaret\n",
    "from pycaret.classification import *\n",
    "from pycaret.classification import ClassificationExperiment\n",
    "\n",
    "from kmodes.kmodes import KModes\n",
    "from sklearn.preprocessing import StandardScaler, LabelEncoder\n",
    "\n",
    "import warnings\n",
    "warnings.filterwarnings(\"ignore\")"
   ]
  },
  {
   "cell_type": "markdown",
   "metadata": {
    "cell_id": "5d9e3c43a4ef4b3caa4fc60e738cbc25",
    "deepnote_cell_type": "text-cell-h2",
    "formattedRanges": [],
    "is_collapsed": false,
    "tags": []
   },
   "source": [
    "## Datasets"
   ]
  },
  {
   "cell_type": "code",
   "execution_count": null,
   "metadata": {
    "cell_id": "47f8c706b6914a5dbacb5099b695a0e0",
    "deepnote_cell_type": "code",
    "deepnote_to_be_reexecuted": false,
    "execution_millis": 76,
    "execution_start": 1678523138624,
    "source_hash": "8742caa1"
   },
   "outputs": [],
   "source": [
    "df = pd.read_csv('../../Data/cardio_data.csv')\n",
    "df.head()"
   ]
  },
  {
   "cell_type": "markdown",
   "metadata": {
    "cell_id": "6141f7f8f7ea4395b892201680219dc6",
    "deepnote_cell_type": "text-cell-h2",
    "formattedRanges": [],
    "is_collapsed": false,
    "tags": []
   },
   "source": [
    "## Transforming Dataset"
   ]
  },
  {
   "cell_type": "code",
   "execution_count": null,
   "metadata": {
    "cell_id": "a8a3fa5ecd7644ba8534e15ff9d661af",
    "deepnote_cell_type": "code",
    "deepnote_to_be_reexecuted": false,
    "execution_millis": 6,
    "execution_start": 1678523138702,
    "source_hash": "b9200f3",
    "tags": []
   },
   "outputs": [],
   "source": [
    "# Transforming the column AGE(measured in days) for Age_Bin\n",
    "# age_bin in quinquenium 5 years spam\n",
    "df['age_bin'] = pd.cut(df['age'], [0,20,30,35,40,45,50,55,60,65,70,75,80,85,90,95,100], \n",
    "                              labels=['0-20', '20-30', '30-35', '35-40','40-45','45-50','50-55','55-60','60-65','65-70','70-75','75-80','80-85','85-90','90-95','95-100'])"
   ]
  },
  {
   "cell_type": "markdown",
   "metadata": {
    "cell_id": "7436ea096a684d9daafdac88ea59e4cb",
    "deepnote_cell_type": "markdown",
    "tags": []
   },
   "source": [
    "Here, I am grouping or binning `age` column into categories based on a 5-year interval. `Age_bin` is a variable or column name that likely contains individual age values, while `quinquenium` refers to a period of 5 years.\n",
    "\n",
    "For example, if we have a dataset with age information, we can use this method to group the ages into 5-year intervals, such as 0-4 years, 5-9 years, 10-14 years, and so on. Each of these intervals can then be assigned a label or category, such as \"0-4\", \"5-9\", \"10-14\", etc., which can be used as input for statistical analyses or machine learning algorithms."
   ]
  },
  {
   "cell_type": "code",
   "execution_count": null,
   "metadata": {
    "cell_id": "d79bf2d8c2f44db68ef32352c0d74530",
    "deepnote_cell_type": "code",
    "deepnote_to_be_reexecuted": false,
    "execution_millis": 2,
    "execution_start": 1678523138753,
    "source_hash": "7970066c",
    "tags": []
   },
   "outputs": [],
   "source": [
    "# Transforming the column bmi in Body Mass Index Classes (1 to 6)\n",
    "\n",
    "# Adding Body Mass Index\n",
    "df['bmi'] = df['weight']/((df['height']/100)**2)\n",
    "\n",
    "rating = []\n",
    "for row in df['bmi']:\n",
    "    if row < 18.5 :    \n",
    "        rating.append(1) #UnderWeight\n",
    "    elif row > 18.5 and row  < 24.9:   \n",
    "        rating.append(2) #NormalWeight\n",
    "    elif row > 24.9 and row < 29.9:  \n",
    "        rating.append(3) #OverWeight\n",
    "    elif row > 29.9 and row < 34.9:  \n",
    "        rating.append(4) #ClassObesity_1\n",
    "    elif row > 34.9 and row < 39.9:  \n",
    "        rating.append(5) #ClassObesity_2\n",
    "    elif row > 39.9 and row < 49.9:  \n",
    "        rating.append(6) #ClassObesity_3\n",
    "    elif row > 49.9:  \n",
    "        rating.append('Error')\n",
    "        \n",
    "    else:           \n",
    "        rating.append('Not_Rated')\n",
    "\n",
    "# inserting Column\n",
    "df['BMI_Class'] = rating"
   ]
  },
  {
   "cell_type": "code",
   "execution_count": null,
   "metadata": {
    "cell_id": "ffe1f3192d3546f2832452cb68e3a01d",
    "deepnote_cell_type": "code",
    "deepnote_to_be_reexecuted": false,
    "execution_millis": 78,
    "execution_start": 1678523138754,
    "source_hash": "986fc79f",
    "tags": []
   },
   "outputs": [],
   "source": [
    "# creating a Column for MAP\n",
    "df['MAP'] = ((2* df['diastolic']) + df['systolic']) / 3\n",
    "\n",
    "#Creating Classes for MAP\n",
    "map_values = []\n",
    "for row in df['MAP']:\n",
    "    if row < 69.9:    \n",
    "        map_values.append(1) #Low\n",
    "    elif row > 70 and row  < 79.9:   \n",
    "        map_values.append(2)#Normal\n",
    "    elif row > 79.9 and row < 89.9:  \n",
    "        map_values.append(3)#Normal\n",
    "    elif row > 89.9 and row < 99.9:  \n",
    "        map_values.append(4)#Normal\n",
    "    elif row > 99.9 and row < 109.9:  \n",
    "        map_values.append(5)#High\n",
    "    elif row > 109.9 and row < 119.9:  \n",
    "        map_values.append(6)#Normal\n",
    "    elif row > 119.9:  \n",
    "        map_values.append(7)\n",
    "        \n",
    "    else:           \n",
    "        map_values.append('Not_Rated')\n",
    "\n",
    "#inserting MAP_Class Column\n",
    "df['MAP_Class'] = map_values"
   ]
  },
  {
   "cell_type": "markdown",
   "metadata": {
    "cell_id": "d07d03b4e3f24116a5c741f09559a3fa",
    "deepnote_cell_type": "markdown",
    "tags": []
   },
   "source": [
    "`Mean Arterial Pressure (MAP)` = ((2* Diastollic Blood Pressure) + Sistolic Blood Pressure) / 3\n",
    "\n",
    "The overall blood pressure as measured in the brachial artery is maintained by the cardiac output and the total peripheral resistance (TPR) to flow. The mean arterial pressure (MAP) is calculated using the formula above"
   ]
  },
  {
   "cell_type": "markdown",
   "metadata": {
    "cell_id": "087323ec4d2e48f4b47985b32c42cb67",
    "deepnote_cell_type": "markdown"
   },
   "source": [
    "### Reordering Columns"
   ]
  },
  {
   "cell_type": "code",
   "execution_count": null,
   "metadata": {
    "cell_id": "abeb32c2d728468e8a74b8fecd4b582d",
    "deepnote_cell_type": "code",
    "deepnote_to_be_reexecuted": false,
    "execution_millis": 49,
    "execution_start": 1678523138797,
    "source_hash": "e2af0330",
    "tags": []
   },
   "outputs": [],
   "source": [
    "df= df[[\"age\",\"gender\",\"height\",\"weight\",\"BMI\",\"bmi\",\"systolic\",\"diastolic\",\"MAP\",\"age_bin\",\"BMI_Class\",\"MAP_Class\",\"cholesterol\",\"glucose\",\"smoke\",\"alcohol\",\"active\",\"cardiovascular_disease\"]]\n",
    "df.head()"
   ]
  },
  {
   "cell_type": "code",
   "execution_count": null,
   "metadata": {
    "cell_id": "9777366f025c43b08211aecbca3e800b",
    "deepnote_cell_type": "code",
    "deepnote_to_be_reexecuted": false,
    "execution_millis": 66,
    "execution_start": 1678523138851,
    "source_hash": "b695649a",
    "tags": []
   },
   "outputs": [],
   "source": [
    "# only Categorical Data Columns DataFrame\n",
    "df_cat = df[[\"gender\",\"age_bin\",\"BMI_Class\",\"MAP_Class\",\"cholesterol\",\"glucose\",\"smoke\",\"alcohol\",\"active\",\"cardiovascular_disease\"]]\n",
    "\n",
    "# Label encoder for categorical data column\n",
    "le = LabelEncoder()\n",
    "df_cat = df_cat.apply(le.fit_transform)\n",
    "df_cat.head()"
   ]
  },
  {
   "cell_type": "markdown",
   "metadata": {
    "cell_id": "97af0f74f89744d0bc238e567e74c2fb",
    "deepnote_cell_type": "text-cell-h2",
    "formattedRanges": [],
    "is_collapsed": false,
    "tags": []
   },
   "source": [
    "## K-Modes Analyses"
   ]
  },
  {
   "cell_type": "code",
   "execution_count": null,
   "metadata": {
    "cell_id": "8b0f9c1e383f4302b1a068723d15e943",
    "deepnote_cell_type": "code",
    "deepnote_to_be_reexecuted": false,
    "execution_millis": 5,
    "execution_start": 1678523138948,
    "source_hash": "b55e713c",
    "tags": []
   },
   "outputs": [],
   "source": [
    "# Splitting the dataset into male and female \n",
    "df_male = df_cat.query(\"gender == 0\")\n",
    "df_female = df_cat.query(\"gender == 1\")"
   ]
  },
  {
   "cell_type": "markdown",
   "metadata": {
    "cell_id": "35565ba7bf104ae1b2b3ac7ed18fa9bb",
    "deepnote_cell_type": "text-cell-h3",
    "formattedRanges": [],
    "is_collapsed": false,
    "tags": []
   },
   "source": [
    "### Elbow Curve"
   ]
  },
  {
   "cell_type": "code",
   "execution_count": null,
   "metadata": {
    "cell_id": "8a5ec997da07400c897204d5f81a69e6",
    "deepnote_cell_type": "code",
    "deepnote_to_be_reexecuted": false,
    "execution_millis": 476292,
    "execution_start": 1678523138951,
    "source_hash": "5322aaa4",
    "tags": []
   },
   "outputs": [],
   "source": [
    "# Elbow curve to find optimal K in Huang init\n",
    "cost = []\n",
    "K = range(1,6)\n",
    "for num_clusters in list(K):\n",
    "    kmode = KModes(n_clusters=num_clusters, init = \"Huang\", n_init = 5, verbose=0)\n",
    "    kmode.fit_predict(df_cat)\n",
    "    cost.append(kmode.cost_)\n",
    "    \n",
    "plt.plot(K, cost, 'bx-')\n",
    "plt.xlabel('No. of clusters')\n",
    "plt.ylabel('Cost')\n",
    "plt.title('Elbow Method For Optimal k')\n",
    "plt.show()"
   ]
  },
  {
   "cell_type": "code",
   "execution_count": null,
   "metadata": {
    "cell_id": "24cf27f20b584c3c8762a9386738a826",
    "deepnote_cell_type": "code",
    "deepnote_to_be_reexecuted": false,
    "execution_millis": 292591,
    "execution_start": 1678523615284,
    "source_hash": "3cc7de23",
    "tags": []
   },
   "outputs": [],
   "source": [
    "# For male data\n",
    "# Elbow curve to find optimal K in Huang\n",
    "cost = []\n",
    "K = range(1,6)\n",
    "for num_clusters in list(K):\n",
    "    kmode = KModes(n_clusters=num_clusters, init = \"Huang\", n_init = 5, verbose=0)\n",
    "    kmode.fit_predict(df_male)\n",
    "    cost.append(kmode.cost_)\n",
    "    \n",
    "plt.plot(K, cost, 'bx-')\n",
    "plt.xlabel('No. of clusters')\n",
    "plt.ylabel('Cost')\n",
    "plt.title('Elbow Method For Optimal k')\n",
    "plt.show()"
   ]
  },
  {
   "cell_type": "code",
   "execution_count": null,
   "metadata": {
    "cell_id": "df37967760cb44c988633a5370e7e500",
    "deepnote_cell_type": "code",
    "deepnote_to_be_reexecuted": false,
    "execution_millis": 164929,
    "execution_start": 1678523907877,
    "source_hash": "bbac9588",
    "tags": []
   },
   "outputs": [],
   "source": [
    "# For Female Data\n",
    "# Elbow curve to find optimal K\n",
    "cost = []\n",
    "K = range(1,6)\n",
    "for num_clusters in list(K):\n",
    "    kmode = KModes(n_clusters=num_clusters, init = \"Huang\", n_init = 5, verbose=0)\n",
    "    kmode.fit_predict(df_female)\n",
    "    cost.append(kmode.cost_)\n",
    "    \n",
    "plt.plot(K, cost, 'bx-')\n",
    "plt.xlabel('No. of clusters')\n",
    "plt.ylabel('Cost')\n",
    "plt.title('Elbow Method For Optimal k')\n",
    "plt.show()"
   ]
  },
  {
   "cell_type": "markdown",
   "metadata": {
    "cell_id": "834e13f393b74f1b8446da6ebb8b66b0",
    "deepnote_cell_type": "markdown",
    "tags": []
   },
   "source": [
    "The code above is using the `Elbow` method to find the optimal number of clusters (K) for the general dataset, male and female dataset using the `Huang` initialization method in the KModes clustering algorithm. The cost of the clustering is calculated for each value of K (ranging from 1 to 5) and plotted on a graph. The code then displays the graph with the number of `clusters` on the x-axis and the cost on the y-axis. The `Elbow` method is a heuristic method used to determine the optimal number of clusters based on the point of inflection in the cost graph (i.e., the elbow point).\n",
    "\n",
    "The best number os clusters for the general data in `Huang` Init is **2**\n",
    "The best number os clusters for male Data in `Huang` Init is **2**\n",
    "The best number os clusters for female Data in `Huang` Init is **2**"
   ]
  },
  {
   "cell_type": "markdown",
   "metadata": {
    "cell_id": "66d5a9b97c1a4a1d9d8932cccce1cbe8",
    "deepnote_cell_type": "text-cell-h3",
    "formattedRanges": [],
    "is_collapsed": false,
    "tags": []
   },
   "source": [
    "### Building the model using K-Mode with Huang initialization"
   ]
  },
  {
   "cell_type": "code",
   "execution_count": null,
   "metadata": {
    "cell_id": "e6c1e2870a4c4747bdcb79e16b7609b4",
    "deepnote_cell_type": "code",
    "deepnote_to_be_reexecuted": false,
    "execution_millis": 28006,
    "execution_start": 1678524072852,
    "source_hash": "ad978519",
    "tags": []
   },
   "outputs": [],
   "source": [
    "# female data\n",
    "km_huang = KModes(n_clusters=2, init = \"Huang\", n_init = 5, verbose=0)\n",
    "clusters_huang_1 = km_huang.fit_predict(df_female)\n",
    "clusters_huang_1"
   ]
  },
  {
   "cell_type": "code",
   "execution_count": null,
   "metadata": {
    "cell_id": "e204bb7a6d7548798c46ba750518ec1b",
    "deepnote_cell_type": "code",
    "deepnote_to_be_reexecuted": false,
    "execution_millis": 46478,
    "execution_start": 1678524100870,
    "source_hash": "8ea01f69",
    "tags": []
   },
   "outputs": [],
   "source": [
    "# male data\n",
    "km_huang = KModes(n_clusters=2, init = \"Huang\", n_init = 5, verbose=0)\n",
    "clusters_huang_2 = km_huang.fit_predict(df_male)\n",
    "clusters_huang_2"
   ]
  },
  {
   "cell_type": "markdown",
   "metadata": {
    "cell_id": "ef8cb794ac1546e8bab0d3d935856548",
    "deepnote_cell_type": "markdown",
    "tags": []
   },
   "source": [
    "The code above is using the KModes clustering algorithm to build a model for both male & female dataset with two clusters, using the `Huang` initialization method.\n",
    "\n",
    "The `KModes` algorithm is a clustering algorithm designed to work with categorical data. It groups together similar instances based on the similarity of their categorical attributes.\n",
    "\n",
    "The `n_init` parameter specifies the number of times the algorithm will be run with different initial centroids. The verbose parameter controls the level of output messages printed during the clustering process.\n",
    "\n",
    "The `fit_predict` method fits the model to the dataset (df_female & df_female) and returns an array of cluster assignments, where each element represents the cluster assignment for the corresponding row of the input data.\n",
    "\n",
    "The `clusters_huang_1 & clusters_huang_2` variable contains the cluster assignments for each row in the df_female & df_male dataset respectively. This variable can be used to perform further analysis of the data, such as evaluating the quality of the clustering or identifying which instances belong to which cluster."
   ]
  },
  {
   "cell_type": "code",
   "execution_count": null,
   "metadata": {
    "cell_id": "096617a4106c40119c23cba7df09ce05",
    "deepnote_cell_type": "code",
    "deepnote_to_be_reexecuted": false,
    "execution_millis": 3,
    "execution_start": 1678524147353,
    "source_hash": "34496087",
    "tags": []
   },
   "outputs": [],
   "source": [
    "# Inserting clusters in DataFrame\n",
    "df_female.insert(0,\"Cluster\", clusters_huang_1, True)\n",
    "df_male.insert(0, \"Cluster\", clusters_huang_2, True)"
   ]
  },
  {
   "cell_type": "code",
   "execution_count": null,
   "metadata": {
    "cell_id": "3c1ba85bd42d4b27b09b9ecb283f7604",
    "deepnote_cell_type": "code",
    "deepnote_to_be_reexecuted": false,
    "execution_millis": 26,
    "execution_start": 1678524147365,
    "source_hash": "ab0fc15e",
    "tags": []
   },
   "outputs": [],
   "source": [
    "df_female.head()"
   ]
  },
  {
   "cell_type": "code",
   "execution_count": null,
   "metadata": {
    "cell_id": "3c3838e577384f7989e888e088189a70",
    "deepnote_cell_type": "code",
    "deepnote_to_be_reexecuted": false,
    "execution_millis": 27,
    "execution_start": 1678524147396,
    "source_hash": "d9c05fc0",
    "tags": []
   },
   "outputs": [],
   "source": [
    "df_male.head()"
   ]
  },
  {
   "cell_type": "code",
   "execution_count": null,
   "metadata": {
    "cell_id": "7d916b34e9a34b80b4177c24321a8a29",
    "deepnote_cell_type": "code",
    "deepnote_to_be_reexecuted": false,
    "execution_millis": 5,
    "execution_start": 1678524147444,
    "source_hash": "857809b",
    "tags": []
   },
   "outputs": [],
   "source": [
    "# replacing cluster column values to merge dataframes after\n",
    "df_male[\"Cluster\"].replace({0:2, 1:3}, inplace=True)\n",
    "df_male.head()"
   ]
  },
  {
   "cell_type": "code",
   "execution_count": null,
   "metadata": {
    "cell_id": "b80ed8c19d63454ead93a2b8287658ae",
    "deepnote_cell_type": "code",
    "deepnote_to_be_reexecuted": false,
    "execution_millis": 15,
    "execution_start": 1678524147488,
    "source_hash": "37bbd320",
    "tags": []
   },
   "outputs": [],
   "source": [
    "# merging female and male data\n",
    "df_clusters = pd.concat([df_female, df_male], ignore_index=True, sort=False)\n",
    "df_clusters.head(10)"
   ]
  },
  {
   "cell_type": "markdown",
   "metadata": {
    "cell_id": "954f0e70e3ce484cb09c5e6772916a33",
    "deepnote_cell_type": "markdown"
   },
   "source": [
    "### Correlation"
   ]
  },
  {
   "cell_type": "code",
   "execution_count": null,
   "metadata": {
    "cell_id": "a76fcfdf3d644b6dab999fcdc7362c9f",
    "deepnote_cell_type": "code",
    "deepnote_to_be_reexecuted": false,
    "execution_millis": 1559,
    "execution_start": 1678524147548,
    "source_hash": "ff6ce791",
    "tags": []
   },
   "outputs": [],
   "source": [
    "corr = df_clusters.corr()\n",
    "cmap = sns.diverging_palette(2, 15, as_cmap=True)\n",
    "# Generate a mask for the upper triangle\n",
    "mask = np.zeros_like(corr, dtype=np.bool)\n",
    "mask[np.triu_indices_from(mask)] = True\n",
    "\n",
    "# Set up the matplotlib figure\n",
    "f, ax = plt.subplots(figsize=(20, 10))\n",
    "# Draw the heatmap with the mask and correct aspect ratio\n",
    "sns.heatmap(corr, mask=mask, cmap=cmap, vmax=.7, center=0,annot = True,\n",
    "            square=True, linewidths=.5, cbar_kws={\"shrink\": .5});"
   ]
  },
  {
   "cell_type": "markdown",
   "metadata": {
    "cell_id": "1dc1945c1660404ab56813ef76534614",
    "deepnote_cell_type": "markdown"
   },
   "source": [
    "## Pycaret Experimentation"
   ]
  },
  {
   "cell_type": "code",
   "execution_count": null,
   "metadata": {
    "cell_id": "b63fbb55824045e1b1a681b88315b711",
    "deepnote_cell_type": "code",
    "deepnote_to_be_reexecuted": false,
    "execution_millis": 834437,
    "execution_start": 1678524149098,
    "source_hash": "9dc8dec9"
   },
   "outputs": [],
   "source": [
    "clf_exp = setup(data = df_clusters, target = 'cardiovascular_disease', session_id=123)"
   ]
  },
  {
   "cell_type": "code",
   "execution_count": null,
   "metadata": {
    "cell_id": "c289c628f9aa4f1192f4baa1f92eeec8",
    "deepnote_cell_type": "code",
    "deepnote_to_be_reexecuted": false,
    "execution_millis": 286965,
    "execution_start": 1678524983536,
    "source_hash": "8a4b20cb"
   },
   "outputs": [],
   "source": [
    "best_model = compare_models(sort = 'F1')"
   ]
  },
  {
   "cell_type": "code",
   "execution_count": null,
   "metadata": {
    "cell_id": "2c981dfc87f540e0b77345e9aa2d5fe8",
    "deepnote_cell_type": "code",
    "deepnote_to_be_reexecuted": false,
    "execution_millis": 2,
    "execution_start": 1678525270525,
    "source_hash": "f121c9bf"
   },
   "outputs": [],
   "source": [
    "# init the class\n",
    "exp = ClassificationExperiment()\n",
    "# init setup on exp\n",
    "exp.setup(df_clusters, target = 'cardiovascular_disease', session_id = 123)"
   ]
  },
  {
   "cell_type": "code",
   "execution_count": null,
   "metadata": {
    "cell_id": "dae56ce62921451e9deabc29e963b11b",
    "deepnote_cell_type": "code",
    "deepnote_to_be_reexecuted": false,
    "execution_millis": 20,
    "execution_start": 1678525270526,
    "source_hash": "6850d7cd"
   },
   "outputs": [],
   "source": [
    "# compare models using OOP\n",
    "exp.compare_models(sort = 'Precision')"
   ]
  },
  {
   "cell_type": "markdown",
   "metadata": {
    "cell_id": "0d27f753101c4138a1b1100c16ca77bb",
    "deepnote_cell_type": "text-cell-h2",
    "formattedRanges": [],
    "is_collapsed": false,
    "tags": []
   },
   "source": [
    "## Machine Learning"
   ]
  },
  {
   "cell_type": "code",
   "execution_count": null,
   "metadata": {
    "cell_id": "38b12c45461e4acca1c4211273c28eeb",
    "deepnote_cell_type": "code",
    "deepnote_to_be_reexecuted": false,
    "execution_millis": 9,
    "execution_start": 1678525482768,
    "source_hash": "9da55884"
   },
   "outputs": [],
   "source": [
    "from sklearn.model_selection import train_test_split, cross_val_score\n",
    "from sklearn.tree import DecisionTreeClassifier\n",
    "from sklearn.ensemble import RandomForestClassifier, GradientBoostingClassifier\n",
    "from sklearn.model_selection import GridSearchCV, RandomizedSearchCV\n",
    "\n",
    "from lightgbm import LGBMClassifier\n",
    "from xgboost import XGBClassifier\n",
    "\n",
    "from sklearn.metrics import accuracy_score, precision_score, precision_recall_fscore_support, confusion_matrix, classification_report, plot_confusion_matrix"
   ]
  },
  {
   "cell_type": "code",
   "execution_count": null,
   "metadata": {
    "cell_id": "914f8aa9d5f54d3fab46c53613f3a34d",
    "deepnote_cell_type": "code",
    "deepnote_to_be_reexecuted": false,
    "execution_millis": 68,
    "execution_start": 1678525270614,
    "source_hash": "92ee054a",
    "tags": []
   },
   "outputs": [],
   "source": [
    "X = df_clusters.drop('cardiovascular_disease', axis=1)\n",
    "y = df_clusters['cardiovascular_disease']\n",
    "\n",
    "# Split the data into training and testing sets. 80% of data is training data, set aside other 20% for test\n",
    "X_train_val, X_test, y_train_val, y_test = train_test_split(X, y, test_size=0.2, random_state=42)\n",
    "\n",
    "# Remaining 80% is split into valuation and test sets. \n",
    "X_train, X_val, y_train, y_val = train_test_split(X_train_val, y_train_val, test_size=0.25, random_state=42)"
   ]
  },
  {
   "cell_type": "markdown",
   "metadata": {
    "cell_id": "98356671c0484c958c8423141981355f",
    "deepnote_cell_type": "markdown"
   },
   "source": [
    "### Decision Tree Classifier"
   ]
  },
  {
   "cell_type": "code",
   "execution_count": null,
   "metadata": {
    "cell_id": "0192b94e9f6a4b21bb749a8b1925345e",
    "deepnote_cell_type": "code",
    "deepnote_to_be_reexecuted": false,
    "execution_millis": 248,
    "execution_start": 1678525270685,
    "source_hash": "903d9454"
   },
   "outputs": [],
   "source": [
    "# Instantiate the models\n",
    "decision_tree = DecisionTreeClassifier()\n",
    "\n",
    "# Fit and evaluate the DecisionTree Classifier model\n",
    "decision_tree.fit(X_train, y_train)\n",
    "\n",
    "# Predict the model on X_val and X_test\n",
    "y_val_pred = decision_tree.predict(X_val)\n",
    "y_test_pred = decision_tree.predict(X_test)\n",
    "\n",
    "# Cross-validate the result\n",
    "cv_scores = cross_val_score(decision_tree, X_train_val, y_train_val, cv=5).mean()\n",
    "\n",
    "print(\"DecisionTree Classifier\")\n",
    "print(f\"Accuracy on validation set: {accuracy_score(y_val, y_val_pred)}\")\n",
    "print(f\"Accuracy on test set: {accuracy_score(y_test, y_test_pred)}\")\n",
    "print(f\"Cross-validation score: {cv_scores}\")\n",
    "print(f\"Classification report:\\n{classification_report(y_test, y_test_pred)}\\n\")"
   ]
  },
  {
   "cell_type": "code",
   "execution_count": null,
   "metadata": {
    "cell_id": "7376f6aead4e4069a7f949561c2bbee6",
    "deepnote_cell_type": "code",
    "deepnote_to_be_reexecuted": false,
    "execution_millis": 390,
    "execution_start": 1678525270937,
    "source_hash": "10cfd0dc"
   },
   "outputs": [],
   "source": [
    "plot_confusion_matrix(decision_tree, X_test, y_test);"
   ]
  },
  {
   "cell_type": "markdown",
   "metadata": {
    "cell_id": "eeb2ec03221a42bd8429b0bb4254fd5c",
    "deepnote_cell_type": "markdown"
   },
   "source": [
    "### Random Forest Classifier"
   ]
  },
  {
   "cell_type": "code",
   "execution_count": null,
   "metadata": {
    "cell_id": "9dc9861a1fda43be91886ee7c51cf955",
    "deepnote_cell_type": "code",
    "deepnote_to_be_reexecuted": false,
    "execution_millis": 9042,
    "execution_start": 1678525271368,
    "source_hash": "5bcf233f"
   },
   "outputs": [],
   "source": [
    "# Instantiate the models\n",
    "rf_kmodes = RandomForestClassifier()\n",
    "# Fit and evaluate the Random Forest Classifier model\n",
    "rf_kmodes.fit(X_train, y_train)\n",
    "y_val_pred = rf_kmodes.predict(X_val)\n",
    "y_test_pred = rf_kmodes.predict(X_test)\n",
    "# Cross-Validate the model\n",
    "cv_scores = cross_val_score(rf_kmodes, X_train_val, y_train_val, cv=5).mean()\n",
    "\n",
    "print(\"RandomForest Classifier\")\n",
    "print(f\"Accuracy on validation set: {accuracy_score(y_val, y_val_pred)}\")\n",
    "print(f\"Accuracy on test set: {accuracy_score(y_test, y_test_pred)}\")\n",
    "print(f\"Cross-validation score: {cv_scores}\")\n",
    "print(f\"Classification report:\\n{classification_report(y_test, y_test_pred)}\\n\")"
   ]
  },
  {
   "cell_type": "code",
   "execution_count": null,
   "metadata": {
    "cell_id": "905bfd2f31d346bf87771af99914acc4",
    "deepnote_cell_type": "code",
    "deepnote_to_be_reexecuted": false,
    "execution_millis": 562,
    "execution_start": 1678525280426,
    "source_hash": "3ada505a"
   },
   "outputs": [],
   "source": [
    "plot_confusion_matrix(rf_kmodes, X_test, y_test);"
   ]
  },
  {
   "cell_type": "markdown",
   "metadata": {
    "cell_id": "f9b0566979a840f4abc698e6d207803e",
    "deepnote_cell_type": "markdown"
   },
   "source": [
    "### Light Gradient Boost (lightgbm)\n",
    "\n",
    "`LightGBM` extends the `gradient` boosting algorithm by adding a type of automatic feature selection as well as focusing on boosting examples with larger gradients. This can result in a dramatic speedup of training and improved predictive performance."
   ]
  },
  {
   "cell_type": "code",
   "execution_count": null,
   "metadata": {
    "cell_id": "e367ede4dc10417b8b337ca81a7438ba",
    "deepnote_cell_type": "code",
    "deepnote_to_be_reexecuted": false,
    "execution_millis": 17693,
    "execution_start": 1678525281001,
    "source_hash": "36a51d81"
   },
   "outputs": [],
   "source": [
    "# Instantiate the models\n",
    "lightgbm = LGBMClassifier()\n",
    "# Fit and evaluate the Random Forest Classifier model\n",
    "lightgbm.fit(X_train, y_train)\n",
    "y_val_pred = lightgbm.predict(X_val)\n",
    "y_test_pred = lightgbm.predict(X_test)\n",
    "# Cross-Validate the model\n",
    "cv_scores = cross_val_score(lightgbm, X_train_val, y_train_val, cv=5).mean()\n",
    "\n",
    "print(\"Light Gradient Boost (lightgbm)\")\n",
    "print(f\"Accuracy on validation set: {accuracy_score(y_val, y_val_pred)}\")\n",
    "print(f\"Accuracy on test set: {accuracy_score(y_test, y_test_pred)}\")\n",
    "print(f\"Cross-validation score: {cv_scores}\")\n",
    "print(f\"Classification report:\\n{classification_report(y_test, y_test_pred)}\\n\")"
   ]
  },
  {
   "cell_type": "code",
   "execution_count": null,
   "metadata": {
    "cell_id": "0d9371e385c441fba638f7277d98599d",
    "deepnote_cell_type": "code",
    "deepnote_to_be_reexecuted": false,
    "execution_millis": 819,
    "execution_start": 1678525298706,
    "source_hash": "3d092938"
   },
   "outputs": [],
   "source": [
    "plot_confusion_matrix(lightgbm, X_test, y_test);"
   ]
  },
  {
   "cell_type": "markdown",
   "metadata": {
    "cell_id": "6c7f20a86b464e44ac9d75d35179ea86",
    "deepnote_cell_type": "markdown"
   },
   "source": [
    "### Extreme Gradient Boosting (XGBoost)\n",
    "\n",
    "XGBoost is an implementation of gradient boosted decision trees designed for speed and performance."
   ]
  },
  {
   "cell_type": "code",
   "execution_count": null,
   "metadata": {
    "cell_id": "d4837a85194c40c5b26346f029d397d4",
    "deepnote_cell_type": "code",
    "deepnote_to_be_reexecuted": false,
    "execution_millis": 12533,
    "execution_start": 1678525299513,
    "source_hash": "c4c46909"
   },
   "outputs": [],
   "source": [
    "# Instantiate the models\n",
    "xgboost = XGBClassifier()\n",
    "\n",
    "# Fit and evaluate the Random Forest Classifier model\n",
    "xgboost.fit(X_train, y_train)\n",
    "y_val_pred = xgboost.predict(X_val)\n",
    "y_test_pred = xgboost.predict(X_test)\n",
    "\n",
    "# Cross-Validate the model\n",
    "cv_scores = cross_val_score(xgboost, X_train_val, y_train_val, cv=5).mean()\n",
    "\n",
    "print(\"Extreme Gradient Boosting (XGBoost)\")\n",
    "print(f\"Accuracy on validation set: {accuracy_score(y_val, y_val_pred)}\")\n",
    "print(f\"Accuracy on test set: {accuracy_score(y_test, y_test_pred)}\")\n",
    "print(f\"Cross-validation score: {cv_scores}\")\n",
    "print(f\"Classification report:\\n{classification_report(y_test, y_test_pred)}\\n\")"
   ]
  },
  {
   "cell_type": "code",
   "execution_count": null,
   "metadata": {
    "cell_id": "171d78506a0541ea864e8fc9ecc1999e",
    "deepnote_cell_type": "code",
    "deepnote_to_be_reexecuted": false,
    "execution_millis": 495,
    "execution_start": 1678525312048,
    "source_hash": "5c45cbfb"
   },
   "outputs": [],
   "source": [
    "plot_confusion_matrix(xgboost, X_test, y_test);"
   ]
  },
  {
   "cell_type": "markdown",
   "metadata": {
    "cell_id": "eee170e52239413389aa73d06d59b664",
    "deepnote_cell_type": "markdown"
   },
   "source": [
    "### Gradient Boosting Classifier\n",
    "\n",
    "Gradient boosting is an approach where new models are created that predict the residuals or errors of prior models and then added together to make the final prediction. It is called gradient boosting because it uses a gradient descent algorithm to minimize the loss when adding new models."
   ]
  },
  {
   "cell_type": "code",
   "execution_count": null,
   "metadata": {
    "cell_id": "11cada97211f44c78c540490c883c2e7",
    "deepnote_cell_type": "code",
    "deepnote_to_be_reexecuted": false,
    "execution_millis": 10208,
    "execution_start": 1678525312584,
    "source_hash": "8cd811da"
   },
   "outputs": [],
   "source": [
    "# Instantiate the models\n",
    "gradboost_kmodes = GradientBoostingClassifier()\n",
    "# Fit and evaluate the Gradientboost Classifier model\n",
    "gradboost_kmodes.fit(X_train, y_train)\n",
    "y_val_pred = gradboost_kmodes.predict(X_val)\n",
    "y_test_pred = gradboost_kmodes.predict(X_test)\n",
    "# Cross-validate the model\n",
    "cv_scores = cross_val_score(gradboost_kmodes, X_train_val, y_train_val, cv=5).mean()\n",
    "\n",
    "print(\"Gradientboost Classifier\")\n",
    "print(f\"Accuracy on validation set: {accuracy_score(y_val, y_val_pred)}\")\n",
    "print(f\"Accuracy on test set: {accuracy_score(y_test, y_test_pred)}\")\n",
    "print(f\"Cross-validation score: {cv_scores}\")\n",
    "print(f\"Classification report:\\n{classification_report(y_test, y_test_pred)}\\n\")"
   ]
  },
  {
   "cell_type": "code",
   "execution_count": null,
   "metadata": {
    "cell_id": "66c88477bb914cf8b2b2ed26cd5c57b2",
    "deepnote_cell_type": "code",
    "deepnote_to_be_reexecuted": false,
    "execution_millis": 457,
    "execution_start": 1678525322799,
    "source_hash": "6d0cfabc"
   },
   "outputs": [],
   "source": [
    "plot_confusion_matrix(gradboost_kmodes, X_test, y_test);"
   ]
  },
  {
   "cell_type": "markdown",
   "metadata": {
    "cell_id": "d38fc3dff01d4d4dbd2eb78908983123",
    "deepnote_cell_type": "markdown"
   },
   "source": [
    "### Appending all results"
   ]
  },
  {
   "cell_type": "code",
   "execution_count": null,
   "metadata": {
    "cell_id": "f09a6af8677241d29c656e51013ee9e6",
    "deepnote_cell_type": "code",
    "deepnote_to_be_reexecuted": false,
    "execution_millis": 7890,
    "execution_start": 1678525323272,
    "source_hash": "ae4c3b98"
   },
   "outputs": [],
   "source": [
    "# Define the models\n",
    "models = [\n",
    "    ('Decision Tree', decision_tree),\n",
    "    ('Random-Forest Classifier', rf_kmodes),\n",
    "    ('Light Gradientboost', lightgbm),\n",
    "    ('Extreme Gradientboost', xgboost),\n",
    "    ('GradientBoost Classifier', gradboost_kmodes)\n",
    "]\n",
    "\n",
    "# Create an empty DataFrame to store the results\n",
    "results_df = pd.DataFrame(columns=['Model', 'Accuracy', 'Precision', 'Recall', 'F1-Score'])\n",
    "\n",
    "# Evaluate each model and append the results to the DataFrame\n",
    "for model_name, model in models:\n",
    "    # Train the model\n",
    "    model.fit(X_train, y_train)\n",
    "\n",
    "    # Evaluate the model on the validation set\n",
    "    y_val_pred = model.predict(X_val)\n",
    "    acc_val = accuracy_score(y_val, y_val_pred)\n",
    "    p_val, r_val, f1_val, _ = precision_recall_fscore_support(y_val, y_val_pred, average='weighted')\n",
    "\n",
    "    # Evaluate the model on the test set\n",
    "    y_test_pred = model.predict(X_test)\n",
    "    acc_test = accuracy_score(y_test, y_test_pred)\n",
    "    p_test, r_test, f1_test, _ = precision_recall_fscore_support(y_test, y_test_pred, average='weighted')\n",
    "\n",
    "    # Append the results to the DataFrame\n",
    "    results_df = results_df.append({\n",
    "        'Model': model_name,\n",
    "        'Accuracy': f'Val: {acc_val:.3f}, Test: {acc_test:.3f}',\n",
    "        'Precision': f'Val: {p_val:.3f}, Test: {p_test:.3f}',\n",
    "        'Recall': f'Val: {r_val:.3f}, Test: {r_test:.3f}',\n",
    "        'F1-Score': f'Val: {f1_val:.3f}, Test: {f1_test:.3f}'\n",
    "    }, ignore_index=True)\n",
    "\n",
    "# Print the results\n",
    "results_df"
   ]
  },
  {
   "cell_type": "code",
   "execution_count": null,
   "metadata": {
    "cell_id": "258449a2f74049a798c4840517f4993a",
    "deepnote_cell_type": "code",
    "deepnote_to_be_reexecuted": false,
    "execution_millis": 4,
    "execution_start": 1678525331186,
    "source_hash": "1e5fb2a6"
   },
   "outputs": [],
   "source": [
    "f1_sort = results_df.sort_values('F1-Score', ascending=False)\n",
    "f1_sort"
   ]
  },
  {
   "cell_type": "markdown",
   "metadata": {
    "cell_id": "8f9369afe55c4108a967a092c0c8f39f",
    "deepnote_cell_type": "text-cell-h2",
    "formattedRanges": [],
    "is_collapsed": false,
    "tags": []
   },
   "source": [
    "## Hyperparameter Tuning"
   ]
  },
  {
   "cell_type": "markdown",
   "metadata": {
    "cell_id": "f61d3a8269314d74b2709a4f0ca125fe",
    "deepnote_cell_type": "markdown"
   },
   "source": [
    "### Light Gradient Boost (lightgbm)"
   ]
  },
  {
   "cell_type": "code",
   "execution_count": null,
   "metadata": {
    "cell_id": "1599fb16bbe64203b823b0227e4c8041",
    "deepnote_cell_type": "code",
    "deepnote_to_be_reexecuted": false,
    "execution_millis": 11,
    "execution_start": 1678525331192,
    "source_hash": "f8f68146",
    "tags": []
   },
   "outputs": [],
   "source": [
    "# Create a LightGBM model\n",
    "lgbm = LGBMClassifier()\n",
    "\n",
    "# Define the parameter grid for GridSearchCV\n",
    "lgbm_params_grid = {\n",
    "    'learning_rate': [0.01, 0.1, 1],\n",
    "    'max_depth': [3, 5, 7],\n",
    "    'num_leaves': [7, 15, 31],\n",
    "    'reg_alpha': [0, 0.1, 0.5],\n",
    "    'reg_lambda': [0, 0.1, 0.5]\n",
    "}\n",
    "\n",
    "# Define the parameter grid for RandomSearchCV\n",
    "lgbm_params_random = {\n",
    "    'learning_rate': [0.01, 0.1, 1],\n",
    "    'max_depth': [3, 5, 7],\n",
    "    'num_leaves': [7, 15, 31],\n",
    "    'reg_alpha': [0, 0.1, 0.5],\n",
    "    'reg_lambda': [0, 0.1, 0.5]\n",
    "}"
   ]
  },
  {
   "cell_type": "code",
   "execution_count": null,
   "metadata": {
    "cell_id": "f734679b24374d94a44b2db5442d49b8",
    "deepnote_cell_type": "code",
    "deepnote_to_be_reexecuted": false,
    "execution_millis": 1729769,
    "execution_start": 1678525502368,
    "source_hash": "8f080823"
   },
   "outputs": [],
   "source": [
    "# Perform GridSearchCV for LightGBM\n",
    "lgbm_grid = GridSearchCV(lgbm, lgbm_params_grid, cv=5, scoring='accuracy')\n",
    "lgbm_grid.fit(X_train, y_train)\n",
    "print(\"LightGBM GridSearchCV Best Parameters: \", lgbm_grid.best_params_)\n",
    "print(\"LightGBM GridSearchCV Best Score: \", lgbm_grid.best_score_)"
   ]
  },
  {
   "cell_type": "code",
   "execution_count": null,
   "metadata": {
    "cell_id": "43376f7805d243c28a75afd36b18c955",
    "deepnote_cell_type": "code",
    "deepnote_to_be_reexecuted": false,
    "execution_millis": 3956,
    "execution_start": 1678540845338,
    "source_hash": "2c4d6d01"
   },
   "outputs": [],
   "source": [
    "# Train LightGBM model with the best hyperparameters\n",
    "lgbm_grid_best = LGBMClassifier(learning_rate=1, max_depth=3, num_leaves=7, reg_alpha= 0.5, reg_lambda= 0.5, random_state=42)\n",
    "lgbm_grid_best.fit(X_train, y_train)\n",
    "\n",
    "# Evaluate the model on validation set\n",
    "y_pred = lgbm_grid_best.predict(X_val)\n",
    "acc_val = accuracy_score(y_val, y_pred)\n",
    "\n",
    "# Evaluate the model on test set\n",
    "y_pred = lgbm_grid_best.predict(X_test)\n",
    "acc_test = accuracy_score(y_test, y_pred)\n",
    "\n",
    "# Evaluate the model using cross-validation\n",
    "cv_scores = cross_val_score(lgbm_grid_best, X_train_val, y_train_val, cv=5)\n",
    "\n",
    "# Print the performance metrics\n",
    "print(\"Light Gradient Boost - GridSearchCV\")\n",
    "print(\"Accuracy on validation set: {:.2f}%\".format(acc_val*100))\n",
    "print(\"Accuracy on test set: {:.2f}%\".format(acc_test*100))\n",
    "print(\"Cross-validation score: {:.2f}% (+/- {:.2f}%)\".format(cv_scores.mean()*100, cv_scores.std()*2*100))\n",
    "print(\"Classification report:\\n\", classification_report(y_test, y_pred))"
   ]
  },
  {
   "cell_type": "code",
   "execution_count": null,
   "metadata": {
    "cell_id": "e441132e4c8e4103bed4fc273ac063ce",
    "deepnote_cell_type": "code",
    "deepnote_to_be_reexecuted": false,
    "execution_millis": 470,
    "execution_start": 1678540856631,
    "source_hash": "21c9205c"
   },
   "outputs": [],
   "source": [
    "plot_confusion_matrix(lgbm_grid_best, X_test, y_test);"
   ]
  },
  {
   "cell_type": "code",
   "execution_count": null,
   "metadata": {
    "cell_id": "922e6873a4f94be3821864db5b388fce",
    "deepnote_cell_type": "code",
    "deepnote_to_be_reexecuted": false,
    "execution_millis": 35063,
    "execution_start": 1678527232110,
    "source_hash": "e0821272"
   },
   "outputs": [],
   "source": [
    "# Perform RandomSearchCV for LightGBM\n",
    "lgbm_random = RandomizedSearchCV(lgbm, lgbm_params_random, cv=5, scoring='accuracy', n_iter=10, verbose=0)\n",
    "lgbm_random.fit(X_train, y_train)\n",
    "print(\"LightGBM RandomSearchCV Best Parameters: \", lgbm_random.best_params_)\n",
    "print(\"LightGBM RandomSearchCV Best Score: \", lgbm_random.best_score_)"
   ]
  },
  {
   "cell_type": "code",
   "execution_count": null,
   "metadata": {
    "cell_id": "1ac2073316bf4844b4d55e864fa4aa79",
    "deepnote_cell_type": "code",
    "deepnote_to_be_reexecuted": false,
    "execution_millis": 4025,
    "execution_start": 1678540877052,
    "source_hash": "c4529f39"
   },
   "outputs": [],
   "source": [
    "# Train LightGBM model with the best hyperparameters\n",
    "lgbm_rand_best = LGBMClassifier(reg_lambda= 0.5,reg_alpha= 0.5, num_leaves=7, max_depth=3, learning_rate=1, random_state=42)\n",
    "lgbm_rand_best.fit(X_train, y_train)\n",
    "\n",
    "# Evaluate the model on validation set\n",
    "y_pred = lgbm_rand_best.predict(X_val)\n",
    "acc_val = accuracy_score(y_val, y_pred)\n",
    "\n",
    "# Evaluate the model on test set\n",
    "y_pred = lgbm_rand_best.predict(X_test)\n",
    "acc_test = accuracy_score(y_test, y_pred)\n",
    "\n",
    "# Evaluate the model using cross-validation\n",
    "cv_scores = cross_val_score(lgbm_rand_best, X_train_val, y_train_val, cv=5)\n",
    "\n",
    "# Print the performance metrics\n",
    "print(\"Light Gradient Boost - RandomSearchCV\")\n",
    "print(\"Accuracy on validation set: {:.2f}%\".format(acc_val*100))\n",
    "print(\"Accuracy on test set: {:.2f}%\".format(acc_test*100))\n",
    "print(\"Cross-validation score: {:.2f}% (+/- {:.2f}%)\".format(cv_scores.mean()*100, cv_scores.std()*2*100))\n",
    "print(\"Classification report:\\n\", classification_report(y_test, y_pred))"
   ]
  },
  {
   "cell_type": "code",
   "execution_count": null,
   "metadata": {
    "cell_id": "9f322ed84dfb405aad56b5606282c48a",
    "deepnote_cell_type": "code",
    "deepnote_to_be_reexecuted": false,
    "execution_millis": 515,
    "execution_start": 1678540899084,
    "source_hash": "8e8c5582"
   },
   "outputs": [],
   "source": [
    "plot_confusion_matrix(lgbm_rand_best, X_test, y_test);"
   ]
  },
  {
   "cell_type": "markdown",
   "metadata": {
    "cell_id": "43eeab0702964bd88baa32d21fa3c2b1",
    "deepnote_cell_type": "markdown"
   },
   "source": [
    "### Extreme Gradient Boosting (XGBoost)"
   ]
  },
  {
   "cell_type": "code",
   "execution_count": null,
   "metadata": {
    "cell_id": "88bd305be2c547e5a1775974c0296b45",
    "deepnote_cell_type": "code",
    "deepnote_to_be_reexecuted": false,
    "execution_millis": 7,
    "execution_start": 1678527267177,
    "source_hash": "b36e780"
   },
   "outputs": [],
   "source": [
    "# Create an XGBoost model\n",
    "xgb = XGBClassifier()\n",
    "\n",
    "# Define the parameter grid for GridSearchCV\n",
    "xgb_params_grid = {\n",
    "    'learning_rate': [0.01, 0.1, 1],\n",
    "    'max_depth': [3, 5, 7],\n",
    "    'subsample': [0.5, 0.75, 1],\n",
    "    'colsample_bytree': [0.5, 0.75, 1],\n",
    "    'gamma': [0, 0.1, 0.5],\n",
    "    'reg_alpha': [0, 0.1, 0.5],\n",
    "    'reg_lambda': [0, 0.1, 0.5]\n",
    "}\n",
    "\n",
    "# Define the parameter grid for RandomSearchCV\n",
    "xgb_params_random = {\n",
    "    'learning_rate': [0.01, 0.1, 1],\n",
    "    'max_depth': [3, 5, 7],\n",
    "    'subsample': [0.5, 0.75, 1],\n",
    "    'colsample_bytree': [0.5, 0.75, 1],\n",
    "    'gamma': [0, 0.1, 0.5],\n",
    "    'reg_alpha': [0, 0.1, 0.5],\n",
    "    'reg_lambda': [0, 0.1, 0.5]\n",
    "}"
   ]
  },
  {
   "cell_type": "code",
   "execution_count": null,
   "metadata": {
    "cell_id": "8a8d790b70eb4e9abf762b14d9de99bc",
    "deepnote_cell_type": "code",
    "deepnote_to_be_reexecuted": false,
    "execution_millis": 5,
    "execution_start": 1678540777575,
    "source_hash": "c6700560"
   },
   "outputs": [],
   "source": [
    "# # Perform GridSearchCV for XGBoost\n",
    "# xgb_grid = GridSearchCV(xgb, xgb_params_grid, cv=5, scoring='accuracy')\n",
    "# xgb_grid.fit(X_train, y_train)\n",
    "# print(\"XGBoost GridSearchCV Best Parameters: \", xgb_grid.best_params_)\n",
    "# print(\"XGBoost GridSearchCV Best Score: \", xgb_grid.best_score_)"
   ]
  },
  {
   "cell_type": "markdown",
   "metadata": {
    "cell_id": "19e7c427fcf54eaa915989d3459d7728",
    "deepnote_cell_type": "markdown",
    "tags": []
   },
   "source": [
    "Took too long to run sucessfully"
   ]
  },
  {
   "cell_type": "code",
   "execution_count": null,
   "metadata": {
    "cell_id": "dcbca8414b6c47359bcf486e5c72b5fa",
    "deepnote_cell_type": "code",
    "deepnote_to_be_reexecuted": false,
    "execution_millis": 54882,
    "execution_start": 1678540916636,
    "source_hash": "32f85846"
   },
   "outputs": [],
   "source": [
    "# Perform RandomSearchCV for XGBoost\n",
    "xgb_random = RandomizedSearchCV(xgb, xgb_params_random, cv=5, scoring='accuracy', n_iter=10)\n",
    "xgb_random.fit(X_train, y_train)\n",
    "print(\"XGBoost RandomSearchCV Best Parameters: \", xgb_random.best_params_)\n",
    "print(\"XGBoost RandomSearchCV Best Score: \", xgb_random.best_score_)"
   ]
  },
  {
   "cell_type": "code",
   "execution_count": null,
   "metadata": {
    "cell_id": "8c27e01df15c4c35a8a1ffe5c16fa5f6",
    "deepnote_cell_type": "code",
    "deepnote_to_be_reexecuted": false,
    "execution_millis": 5661,
    "execution_start": 1678541604556,
    "source_hash": "bc980f78"
   },
   "outputs": [],
   "source": [
    "# Train XGBoost model with the best hyperparameters\n",
    "xgboost_rand_best = XGBClassifier(subsample= 0.75,reg_lambda= 0,reg_alpha= 0, max_depth=3, learning_rate=1, gamma= 0, colsample_bytree= 0.5, random_state=42)\n",
    "xgboost_rand_best.fit(X_train, y_train)\n",
    "\n",
    "# Evaluate the model on validation set\n",
    "y_pred = xgboost_rand_best.predict(X_val)\n",
    "acc_val = accuracy_score(y_val, y_pred)\n",
    "\n",
    "# Evaluate the model on test set\n",
    "y_pred = xgboost_rand_best.predict(X_test)\n",
    "acc_test = accuracy_score(y_test, y_pred)\n",
    "\n",
    "# Evaluate the model using cross-validation\n",
    "cv_scores = cross_val_score(xgboost_rand_best, X_train_val, y_train_val, cv=5)\n",
    "\n",
    "# Print the performance metrics\n",
    "print(\"XGBoost - RandomSearchCV\")\n",
    "print(\"Accuracy on validation set: {:.2f}%\".format(acc_val*100))\n",
    "print(\"Accuracy on test set: {:.2f}%\".format(acc_test*100))\n",
    "print(\"Cross-validation score: {:.2f}% (+/- {:.2f}%)\".format(cv_scores.mean()*100, cv_scores.std()*2*100))\n",
    "print(\"Classification report:\\n\", classification_report(y_test, y_pred))"
   ]
  },
  {
   "cell_type": "code",
   "execution_count": null,
   "metadata": {
    "cell_id": "d67326ebbb134d2a95bb2e4dec78b379",
    "deepnote_cell_type": "code",
    "deepnote_to_be_reexecuted": false,
    "execution_millis": 470,
    "execution_start": 1678541625744,
    "source_hash": "b8d4ff33"
   },
   "outputs": [],
   "source": [
    "plot_confusion_matrix(xgboost_rand_best, X_test, y_test);"
   ]
  },
  {
   "cell_type": "markdown",
   "metadata": {
    "cell_id": "31dad07d7261441a95b9394b94b7a581",
    "deepnote_cell_type": "text-cell-h2",
    "formattedRanges": [],
    "is_collapsed": false,
    "tags": []
   },
   "source": [
    "## Appending all result"
   ]
  },
  {
   "cell_type": "code",
   "execution_count": null,
   "metadata": {
    "cell_id": "1f96fd3bc62f4ee89eae7d8c13ed7722",
    "deepnote_cell_type": "code",
    "deepnote_to_be_reexecuted": false,
    "execution_millis": 14271,
    "execution_start": 1678542176940,
    "source_hash": "17151664"
   },
   "outputs": [],
   "source": [
    "# Define the models\n",
    "models = [\n",
    "    ('Decision Tree', decision_tree),\n",
    "    ('Random-Forest Classifier', rf_kmodes),\n",
    "    ('Light Gradientboost', lightgbm),\n",
    "    ('Extreme Gradientboost', xgboost),\n",
    "    ('GradientBoost Classifier', gradboost_kmodes),\n",
    "    ('LightGbm GridSearchCV', lgbm_grid_best),\n",
    "    ('LightGbm RandomSearchCV', lgbm_rand_best),\n",
    "    ('XGBoost RandomSearchCV', xgboost_rand_best)\n",
    "]\n",
    "\n",
    "# Create an empty DataFrame to store the results\n",
    "results_df = pd.DataFrame(columns=['Model', 'Accuracy', 'Precision', 'Recall', 'F1-Score'])\n",
    "\n",
    "# Evaluate each model and append the results to the DataFrame\n",
    "for model_name, model in models:\n",
    "    # Train the model\n",
    "    model.fit(X_train, y_train)\n",
    "\n",
    "    # Evaluate the model on the validation set\n",
    "    y_val_pred = model.predict(X_val)\n",
    "    acc_val = accuracy_score(y_val, y_val_pred)\n",
    "    p_val, r_val, f1_val, _ = precision_recall_fscore_support(y_val, y_val_pred, average='weighted')\n",
    "\n",
    "    # Evaluate the model on the test set\n",
    "    y_test_pred = model.predict(X_test)\n",
    "    acc_test = accuracy_score(y_test, y_test_pred)\n",
    "    p_test, r_test, f1_test, _ = precision_recall_fscore_support(y_test, y_test_pred, average='weighted')\n",
    "\n",
    "    # Append the results to the DataFrame\n",
    "    results_df = results_df.append({\n",
    "        'Model': model_name,\n",
    "        'Accuracy': f'Val: {acc_val:.3f}, Test: {acc_test:.3f}',\n",
    "        'Precision': f'Val: {p_val:.3f}, Test: {p_test:.3f}',\n",
    "        'Recall': f'Val: {r_val:.3f}, Test: {r_test:.3f}',\n",
    "        'F1-Score': f'Val: {f1_val:.3f}, Test: {f1_test:.3f}'\n",
    "    }, ignore_index=True)\n",
    "\n",
    "# Print the results\n",
    "results_df"
   ]
  },
  {
   "cell_type": "code",
   "execution_count": null,
   "metadata": {
    "cell_id": "b7600916d9b3472c964ca75b2bba064a",
    "deepnote_cell_type": "code",
    "deepnote_to_be_reexecuted": false,
    "execution_millis": 27,
    "execution_start": 1678542348628,
    "source_hash": "1e5fb2a6",
    "tags": []
   },
   "outputs": [],
   "source": [
    "f1_sort = results_df.sort_values('F1-Score', ascending=False)\n",
    "f1_sort"
   ]
  },
  {
   "cell_type": "markdown",
   "metadata": {
    "cell_id": "f32128a2c81a40acbdc9f5f35a094e0b",
    "deepnote_cell_type": "markdown",
    "tags": []
   },
   "source": [
    "From the table, `LightGbm` performed better when it comes to `F1-Score` metrics, so I will implement `Voting CLassifier` and check if the`F1-Score` metric will be better."
   ]
  },
  {
   "cell_type": "markdown",
   "metadata": {
    "cell_id": "efc819e6b5b144ad927d969c8b47df4f",
    "deepnote_cell_type": "text-cell-h2",
    "formattedRanges": [],
    "is_collapsed": false,
    "tags": []
   },
   "source": [
    "## Voting Classifier"
   ]
  },
  {
   "cell_type": "code",
   "execution_count": null,
   "metadata": {
    "cell_id": "967d427bcdc749729421def9e43ecda8",
    "deepnote_cell_type": "code",
    "deepnote_to_be_reexecuted": false,
    "execution_millis": 54112,
    "execution_start": 1678544497848,
    "source_hash": "6fb80d2b",
    "tags": []
   },
   "outputs": [],
   "source": [
    "from sklearn.ensemble import VotingClassifier\n",
    "\n",
    "voting_classifier = VotingClassifier(estimators=[('Light Gradientboost', lightgbm),\n",
    "                                                ('LightGbm GridSearchCV', lgbm_grid_best)], \n",
    "                                                voting='hard'\n",
    "                                    )\n",
    "voting_classifier.fit(X_train,y_train)\n",
    "\n",
    "# Evaluate the model on validation set\n",
    "y_val_pred = voting_classifier.predict(X_val)\n",
    "acc_val = accuracy_score(y_val, y_val_pred)\n",
    "p_val, r_val, f1_val, _ = precision_recall_fscore_support(y_val, y_val_pred, average='weighted')\n",
    "\n",
    "# Evaluate the model on test set\n",
    "y_test_pred = voting_classifier.predict(X_test)\n",
    "acc_test = accuracy_score(y_test, y_test_pred)\n",
    "p_test, r_test, f1_test, _ = precision_recall_fscore_support(y_test, y_test_pred, average='weighted')\n",
    "\n",
    "# Evaluate the model using cross-validation\n",
    "cv_scores = cross_val_score(voting_classifier, X_train_val, y_train_val, cv=5)\n",
    "\n",
    "# Append the results to the DataFrame\n",
    "results_df = results_df.append({\n",
    "    'Model': 'Voting Classifier',\n",
    "    'Accuracy': f'Val: {acc_val:.3f}, Test: {acc_test:.3f}',\n",
    "    'Precision': f'Val: {p_val:.3f}, Test: {p_test:.3f}',\n",
    "    'Recall': f'Val: {r_val:.3f}, Test: {r_test:.3f}',\n",
    "    'F1-Score': f'Val: {f1_val:.3f}, Test: {f1_test:.3f}'\n",
    "}, ignore_index=True)\n",
    "\n",
    "# Print the performance metrics\n",
    "print(\"Voting Classifier\")\n",
    "print(\"Accuracy on validation set: {:.2f}%\".format(acc_val*100))\n",
    "print(\"Accuracy on test set: {:.2f}%\".format(acc_test*100))\n",
    "print(\"Cross-validation score: {:.2f}% (+/- {:.2f}%)\".format(cv_scores.mean()*100, cv_scores.std()*2*100))\n",
    "print(\"Classification report:\\n\", classification_report(y_test, y_pred))"
   ]
  },
  {
   "cell_type": "code",
   "execution_count": null,
   "metadata": {
    "cell_id": "8aa18bc38eb04ea09b1166e59690f3ef",
    "deepnote_cell_type": "code",
    "deepnote_to_be_reexecuted": false,
    "execution_millis": 691,
    "execution_start": 1678544562730,
    "source_hash": "b30054cc",
    "tags": []
   },
   "outputs": [],
   "source": [
    "plot_confusion_matrix(voting_classifier, X_test, y_test);"
   ]
  },
  {
   "cell_type": "code",
   "execution_count": null,
   "metadata": {
    "cell_id": "293303ff79b846e1be5100b78b77ad21",
    "deepnote_cell_type": "code",
    "deepnote_to_be_reexecuted": false,
    "execution_millis": 4,
    "execution_start": 1678544594964,
    "source_hash": "b263c98f",
    "tags": []
   },
   "outputs": [],
   "source": [
    "results_df"
   ]
  },
  {
   "cell_type": "code",
   "execution_count": null,
   "metadata": {
    "cell_id": "4f3b487cf2884cb79f6950e8c39ca31a",
    "deepnote_cell_type": "code",
    "deepnote_to_be_reexecuted": false,
    "execution_millis": 4,
    "execution_start": 1678544665024,
    "source_hash": "1e5fb2a6",
    "tags": []
   },
   "outputs": [],
   "source": [
    "f1_sort = results_df.sort_values('F1-Score', ascending=False)\n",
    "f1_sort"
   ]
  },
  {
   "cell_type": "code",
   "execution_count": null,
   "metadata": {
    "cell_id": "0bac76bbb70e415e92897eaa4b479637",
    "deepnote_cell_type": "code",
    "deepnote_to_be_reexecuted": false,
    "execution_millis": 2,
    "execution_start": 1678544763575,
    "source_hash": "f58138a5",
    "tags": []
   },
   "outputs": [],
   "source": [
    "precision_sort = results_df.sort_values('Precision', ascending=False)\n",
    "precision_sort"
   ]
  },
  {
   "cell_type": "markdown",
   "metadata": {
    "cell_id": "2e77805738a243d999bfdb4d938a8acb",
    "deepnote_cell_type": "markdown",
    "tags": []
   },
   "source": [
    "From the table above, we have two models performing better which are `Voting Classifier` and `Light Gradientboost`. I'm going to save both model and this will be the end of the project."
   ]
  },
  {
   "cell_type": "markdown",
   "metadata": {
    "cell_id": "41bd614a5fbb4214a44e1775e4b62daf",
    "deepnote_cell_type": "text-cell-h2",
    "formattedRanges": [],
    "is_collapsed": false,
    "tags": []
   },
   "source": [
    "## Saving both models"
   ]
  },
  {
   "cell_type": "code",
   "execution_count": null,
   "metadata": {
    "cell_id": "d6da7a1566084d7b81d369a8e7492ecf",
    "deepnote_cell_type": "code",
    "deepnote_to_be_reexecuted": false,
    "execution_millis": 21,
    "execution_start": 1678546707276,
    "source_hash": "6276864",
    "tags": []
   },
   "outputs": [],
   "source": [
    "# import pickle\n",
    "\n",
    "# pickle.dump(lightgbm, open('../../Models/lightgbm.pkl', 'wb'))"
   ]
  },
  {
   "cell_type": "code",
   "execution_count": null,
   "metadata": {
    "cell_id": "a391ea0b5aa64243b8bd3e1907168ebd",
    "deepnote_cell_type": "code",
    "deepnote_to_be_reexecuted": false,
    "execution_millis": 28,
    "execution_start": 1678546727852,
    "source_hash": "8557f69f",
    "tags": []
   },
   "outputs": [],
   "source": [
    "# pickle.dump(voting_classifier, open('../../Models/voting_classifier.pkl', 'wb'))"
   ]
  },
  {
   "cell_type": "markdown",
   "metadata": {
    "cell_id": "84569c41a6cc4d1e9346fa15646a10c8",
    "deepnote_cell_type": "markdown",
    "tags": []
   },
   "source": [
    "**Author:** `Jammal Adeyemi`"
   ]
  },
  {
   "cell_type": "markdown",
   "metadata": {
    "created_in_deepnote_cell": true,
    "deepnote_cell_type": "markdown",
    "tags": []
   },
   "source": [
    "<a style='text-decoration:none;line-height:16px;display:flex;color:#5B5B62;padding:10px;justify-content:end;' href='https://deepnote.com?utm_source=created-in-deepnote-cell&projectId=7762417b-23bb-4a3d-828e-04b3fea052ca' target=\"_blank\">\n",
    "<img alt='Created in deepnote.com' style='display:inline;max-height:16px;margin:0px;margin-right:7.5px;' src='data:image/svg+xml;base64,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' > </img>\n",
    "Created in <span style='font-weight:600;margin-left:4px;'>Deepnote</span></a>"
   ]
  }
 ],
 "metadata": {
  "deepnote": {},
  "deepnote_execution_queue": [],
  "deepnote_notebook_id": "60a73f7a8db8438fa0d80b4da2216ed4",
  "kernelspec": {
   "display_name": "Python 3 (ipykernel)",
   "language": "python",
   "name": "python3"
  },
  "language_info": {
   "codemirror_mode": {
    "name": "ipython",
    "version": 3
   },
   "file_extension": ".py",
   "mimetype": "text/x-python",
   "name": "python",
   "nbconvert_exporter": "python",
   "pygments_lexer": "ipython3",
   "version": "3.9.13"
  }
 },
 "nbformat": 4,
 "nbformat_minor": 4
}
