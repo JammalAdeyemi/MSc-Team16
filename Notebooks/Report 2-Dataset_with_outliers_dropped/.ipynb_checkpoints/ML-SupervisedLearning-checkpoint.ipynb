{
 "cells": [
  {
   "cell_type": "code",
   "execution_count": 1,
   "metadata": {
    "cell_id": "6ebb2963bc774bee8e55e07bf256a299",
    "deepnote_cell_type": "code",
    "deepnote_to_be_reexecuted": false,
    "execution_millis": 1142,
    "execution_start": 1678465325051,
    "source_hash": "38d948f6"
   },
   "outputs": [],
   "source": [
    "import pandas as pd\n",
    "import numpy as np\n",
    "import matplotlib.pyplot as plt\n",
    "import seaborn as sns\n",
    "\n",
    "from sklearn.model_selection import train_test_split, cross_val_score\n",
    "from sklearn.tree import DecisionTreeClassifier\n",
    "from sklearn.ensemble import ExtraTreesClassifier, AdaBoostClassifier, GradientBoostingClassifier\n",
    "from sklearn.linear_model import LogisticRegression, RidgeClassifier\n",
    "from sklearn.preprocessing import StandardScaler, LabelEncoder\n",
    "from sklearn.metrics import accuracy_score, precision_score, precision_recall_fscore_support, confusion_matrix, classification_report, plot_confusion_matrix\n",
    "\n",
    "import warnings\n",
    "warnings.filterwarnings(\"ignore\")"
   ]
  },
  {
   "cell_type": "markdown",
   "metadata": {
    "cell_id": "aa794021f58f4514a1c294269f7d42a4",
    "deepnote_cell_type": "text-cell-h2",
    "formattedRanges": [],
    "is_collapsed": false,
    "tags": []
   },
   "source": [
    "## Datasets"
   ]
  },
  {
   "cell_type": "code",
   "execution_count": 2,
   "metadata": {
    "cell_id": "07d0f15978124529942ac947c171f3f0",
    "deepnote_cell_type": "code",
    "deepnote_to_be_reexecuted": false,
    "execution_millis": 44,
    "execution_start": 1678465326236,
    "source_hash": "8742caa1"
   },
   "outputs": [
    {
     "data": {
      "text/html": [
       "<div>\n",
       "<style scoped>\n",
       "    .dataframe tbody tr th:only-of-type {\n",
       "        vertical-align: middle;\n",
       "    }\n",
       "\n",
       "    .dataframe tbody tr th {\n",
       "        vertical-align: top;\n",
       "    }\n",
       "\n",
       "    .dataframe thead th {\n",
       "        text-align: right;\n",
       "    }\n",
       "</style>\n",
       "<table border=\"1\" class=\"dataframe\">\n",
       "  <thead>\n",
       "    <tr style=\"text-align: right;\">\n",
       "      <th></th>\n",
       "      <th>age</th>\n",
       "      <th>gender</th>\n",
       "      <th>height</th>\n",
       "      <th>weight</th>\n",
       "      <th>systolic</th>\n",
       "      <th>diastolic</th>\n",
       "      <th>cholesterol</th>\n",
       "      <th>glucose</th>\n",
       "      <th>smoke</th>\n",
       "      <th>alcohol</th>\n",
       "      <th>active</th>\n",
       "      <th>cardiovascular_disease</th>\n",
       "      <th>BMI</th>\n",
       "    </tr>\n",
       "  </thead>\n",
       "  <tbody>\n",
       "    <tr>\n",
       "      <th>0</th>\n",
       "      <td>50</td>\n",
       "      <td>2</td>\n",
       "      <td>168</td>\n",
       "      <td>62</td>\n",
       "      <td>110</td>\n",
       "      <td>80</td>\n",
       "      <td>1</td>\n",
       "      <td>1</td>\n",
       "      <td>0</td>\n",
       "      <td>0</td>\n",
       "      <td>1</td>\n",
       "      <td>0</td>\n",
       "      <td>21</td>\n",
       "    </tr>\n",
       "    <tr>\n",
       "      <th>1</th>\n",
       "      <td>55</td>\n",
       "      <td>1</td>\n",
       "      <td>156</td>\n",
       "      <td>85</td>\n",
       "      <td>140</td>\n",
       "      <td>90</td>\n",
       "      <td>3</td>\n",
       "      <td>1</td>\n",
       "      <td>0</td>\n",
       "      <td>0</td>\n",
       "      <td>1</td>\n",
       "      <td>1</td>\n",
       "      <td>34</td>\n",
       "    </tr>\n",
       "    <tr>\n",
       "      <th>2</th>\n",
       "      <td>51</td>\n",
       "      <td>1</td>\n",
       "      <td>165</td>\n",
       "      <td>64</td>\n",
       "      <td>130</td>\n",
       "      <td>70</td>\n",
       "      <td>3</td>\n",
       "      <td>1</td>\n",
       "      <td>0</td>\n",
       "      <td>0</td>\n",
       "      <td>0</td>\n",
       "      <td>1</td>\n",
       "      <td>23</td>\n",
       "    </tr>\n",
       "    <tr>\n",
       "      <th>3</th>\n",
       "      <td>48</td>\n",
       "      <td>2</td>\n",
       "      <td>169</td>\n",
       "      <td>82</td>\n",
       "      <td>150</td>\n",
       "      <td>100</td>\n",
       "      <td>1</td>\n",
       "      <td>1</td>\n",
       "      <td>0</td>\n",
       "      <td>0</td>\n",
       "      <td>1</td>\n",
       "      <td>1</td>\n",
       "      <td>28</td>\n",
       "    </tr>\n",
       "    <tr>\n",
       "      <th>4</th>\n",
       "      <td>47</td>\n",
       "      <td>1</td>\n",
       "      <td>156</td>\n",
       "      <td>56</td>\n",
       "      <td>100</td>\n",
       "      <td>60</td>\n",
       "      <td>1</td>\n",
       "      <td>1</td>\n",
       "      <td>0</td>\n",
       "      <td>0</td>\n",
       "      <td>0</td>\n",
       "      <td>0</td>\n",
       "      <td>23</td>\n",
       "    </tr>\n",
       "  </tbody>\n",
       "</table>\n",
       "</div>"
      ],
      "text/plain": [
       "   age  gender  height  weight  systolic  diastolic  cholesterol  glucose  \\\n",
       "0   50       2     168      62       110         80            1        1   \n",
       "1   55       1     156      85       140         90            3        1   \n",
       "2   51       1     165      64       130         70            3        1   \n",
       "3   48       2     169      82       150        100            1        1   \n",
       "4   47       1     156      56       100         60            1        1   \n",
       "\n",
       "   smoke  alcohol  active  cardiovascular_disease  BMI  \n",
       "0      0        0       1                       0   21  \n",
       "1      0        0       1                       1   34  \n",
       "2      0        0       0                       1   23  \n",
       "3      0        0       1                       1   28  \n",
       "4      0        0       0                       0   23  "
      ]
     },
     "execution_count": 2,
     "metadata": {},
     "output_type": "execute_result"
    }
   ],
   "source": [
    "df = pd.read_csv('../../Data/cardio_data.csv')\n",
    "df.head()"
   ]
  },
  {
   "cell_type": "markdown",
   "metadata": {
    "cell_id": "94de5b0d5cb74bda95f90937b7a40b97",
    "deepnote_cell_type": "markdown"
   },
   "source": [
    "## Pycaret Experimentation"
   ]
  },
  {
   "cell_type": "code",
   "execution_count": 3,
   "metadata": {
    "cell_id": "34f0985cd3964d57bcfddeff29d83f04",
    "deepnote_cell_type": "code",
    "deepnote_to_be_reexecuted": false,
    "execution_millis": 935,
    "execution_start": 1678465326324,
    "source_hash": "8b3c4103"
   },
   "outputs": [],
   "source": [
    "import pycaret\n",
    "from pycaret.classification import *\n",
    "# from pycaret.classification import ClassificationExperiment"
   ]
  },
  {
   "cell_type": "code",
   "execution_count": 4,
   "metadata": {
    "cell_id": "4a18749e2e4b4b3f890100c61d3f63e3",
    "deepnote_cell_type": "code",
    "deepnote_to_be_reexecuted": false,
    "execution_millis": 861931,
    "execution_start": 1678465327264,
    "source_hash": "12488fe7"
   },
   "outputs": [
    {
     "data": {
      "text/html": [
       "<style type=\"text/css\">\n",
       "#T_35272_row8_col1 {\n",
       "  background-color: lightgreen;\n",
       "}\n",
       "</style>\n",
       "<table id=\"T_35272\">\n",
       "  <thead>\n",
       "    <tr>\n",
       "      <th class=\"blank level0\" >&nbsp;</th>\n",
       "      <th id=\"T_35272_level0_col0\" class=\"col_heading level0 col0\" >Description</th>\n",
       "      <th id=\"T_35272_level0_col1\" class=\"col_heading level0 col1\" >Value</th>\n",
       "    </tr>\n",
       "  </thead>\n",
       "  <tbody>\n",
       "    <tr>\n",
       "      <th id=\"T_35272_level0_row0\" class=\"row_heading level0 row0\" >0</th>\n",
       "      <td id=\"T_35272_row0_col0\" class=\"data row0 col0\" >Session id</td>\n",
       "      <td id=\"T_35272_row0_col1\" class=\"data row0 col1\" >123</td>\n",
       "    </tr>\n",
       "    <tr>\n",
       "      <th id=\"T_35272_level0_row1\" class=\"row_heading level0 row1\" >1</th>\n",
       "      <td id=\"T_35272_row1_col0\" class=\"data row1 col0\" >Target</td>\n",
       "      <td id=\"T_35272_row1_col1\" class=\"data row1 col1\" >cardiovascular_disease</td>\n",
       "    </tr>\n",
       "    <tr>\n",
       "      <th id=\"T_35272_level0_row2\" class=\"row_heading level0 row2\" >2</th>\n",
       "      <td id=\"T_35272_row2_col0\" class=\"data row2 col0\" >Target type</td>\n",
       "      <td id=\"T_35272_row2_col1\" class=\"data row2 col1\" >Binary</td>\n",
       "    </tr>\n",
       "    <tr>\n",
       "      <th id=\"T_35272_level0_row3\" class=\"row_heading level0 row3\" >3</th>\n",
       "      <td id=\"T_35272_row3_col0\" class=\"data row3 col0\" >Original data shape</td>\n",
       "      <td id=\"T_35272_row3_col1\" class=\"data row3 col1\" >(60144, 13)</td>\n",
       "    </tr>\n",
       "    <tr>\n",
       "      <th id=\"T_35272_level0_row4\" class=\"row_heading level0 row4\" >4</th>\n",
       "      <td id=\"T_35272_row4_col0\" class=\"data row4 col0\" >Transformed data shape</td>\n",
       "      <td id=\"T_35272_row4_col1\" class=\"data row4 col1\" >(60144, 13)</td>\n",
       "    </tr>\n",
       "    <tr>\n",
       "      <th id=\"T_35272_level0_row5\" class=\"row_heading level0 row5\" >5</th>\n",
       "      <td id=\"T_35272_row5_col0\" class=\"data row5 col0\" >Transformed train set shape</td>\n",
       "      <td id=\"T_35272_row5_col1\" class=\"data row5 col1\" >(42100, 13)</td>\n",
       "    </tr>\n",
       "    <tr>\n",
       "      <th id=\"T_35272_level0_row6\" class=\"row_heading level0 row6\" >6</th>\n",
       "      <td id=\"T_35272_row6_col0\" class=\"data row6 col0\" >Transformed test set shape</td>\n",
       "      <td id=\"T_35272_row6_col1\" class=\"data row6 col1\" >(18044, 13)</td>\n",
       "    </tr>\n",
       "    <tr>\n",
       "      <th id=\"T_35272_level0_row7\" class=\"row_heading level0 row7\" >7</th>\n",
       "      <td id=\"T_35272_row7_col0\" class=\"data row7 col0\" >Numeric features</td>\n",
       "      <td id=\"T_35272_row7_col1\" class=\"data row7 col1\" >12</td>\n",
       "    </tr>\n",
       "    <tr>\n",
       "      <th id=\"T_35272_level0_row8\" class=\"row_heading level0 row8\" >8</th>\n",
       "      <td id=\"T_35272_row8_col0\" class=\"data row8 col0\" >Preprocess</td>\n",
       "      <td id=\"T_35272_row8_col1\" class=\"data row8 col1\" >True</td>\n",
       "    </tr>\n",
       "    <tr>\n",
       "      <th id=\"T_35272_level0_row9\" class=\"row_heading level0 row9\" >9</th>\n",
       "      <td id=\"T_35272_row9_col0\" class=\"data row9 col0\" >Imputation type</td>\n",
       "      <td id=\"T_35272_row9_col1\" class=\"data row9 col1\" >simple</td>\n",
       "    </tr>\n",
       "    <tr>\n",
       "      <th id=\"T_35272_level0_row10\" class=\"row_heading level0 row10\" >10</th>\n",
       "      <td id=\"T_35272_row10_col0\" class=\"data row10 col0\" >Numeric imputation</td>\n",
       "      <td id=\"T_35272_row10_col1\" class=\"data row10 col1\" >mean</td>\n",
       "    </tr>\n",
       "    <tr>\n",
       "      <th id=\"T_35272_level0_row11\" class=\"row_heading level0 row11\" >11</th>\n",
       "      <td id=\"T_35272_row11_col0\" class=\"data row11 col0\" >Categorical imputation</td>\n",
       "      <td id=\"T_35272_row11_col1\" class=\"data row11 col1\" >mode</td>\n",
       "    </tr>\n",
       "    <tr>\n",
       "      <th id=\"T_35272_level0_row12\" class=\"row_heading level0 row12\" >12</th>\n",
       "      <td id=\"T_35272_row12_col0\" class=\"data row12 col0\" >Fold Generator</td>\n",
       "      <td id=\"T_35272_row12_col1\" class=\"data row12 col1\" >StratifiedKFold</td>\n",
       "    </tr>\n",
       "    <tr>\n",
       "      <th id=\"T_35272_level0_row13\" class=\"row_heading level0 row13\" >13</th>\n",
       "      <td id=\"T_35272_row13_col0\" class=\"data row13 col0\" >Fold Number</td>\n",
       "      <td id=\"T_35272_row13_col1\" class=\"data row13 col1\" >10</td>\n",
       "    </tr>\n",
       "    <tr>\n",
       "      <th id=\"T_35272_level0_row14\" class=\"row_heading level0 row14\" >14</th>\n",
       "      <td id=\"T_35272_row14_col0\" class=\"data row14 col0\" >CPU Jobs</td>\n",
       "      <td id=\"T_35272_row14_col1\" class=\"data row14 col1\" >-1</td>\n",
       "    </tr>\n",
       "    <tr>\n",
       "      <th id=\"T_35272_level0_row15\" class=\"row_heading level0 row15\" >15</th>\n",
       "      <td id=\"T_35272_row15_col0\" class=\"data row15 col0\" >Use GPU</td>\n",
       "      <td id=\"T_35272_row15_col1\" class=\"data row15 col1\" >False</td>\n",
       "    </tr>\n",
       "    <tr>\n",
       "      <th id=\"T_35272_level0_row16\" class=\"row_heading level0 row16\" >16</th>\n",
       "      <td id=\"T_35272_row16_col0\" class=\"data row16 col0\" >Log Experiment</td>\n",
       "      <td id=\"T_35272_row16_col1\" class=\"data row16 col1\" >False</td>\n",
       "    </tr>\n",
       "    <tr>\n",
       "      <th id=\"T_35272_level0_row17\" class=\"row_heading level0 row17\" >17</th>\n",
       "      <td id=\"T_35272_row17_col0\" class=\"data row17 col0\" >Experiment Name</td>\n",
       "      <td id=\"T_35272_row17_col1\" class=\"data row17 col1\" >clf-default-name</td>\n",
       "    </tr>\n",
       "    <tr>\n",
       "      <th id=\"T_35272_level0_row18\" class=\"row_heading level0 row18\" >18</th>\n",
       "      <td id=\"T_35272_row18_col0\" class=\"data row18 col0\" >USI</td>\n",
       "      <td id=\"T_35272_row18_col1\" class=\"data row18 col1\" >2fac</td>\n",
       "    </tr>\n",
       "  </tbody>\n",
       "</table>\n"
      ],
      "text/plain": [
       "<pandas.io.formats.style.Styler at 0x24e0163adc0>"
      ]
     },
     "metadata": {},
     "output_type": "display_data"
    }
   ],
   "source": [
    "clf_exp = setup(data = df, target = 'cardiovascular_disease', session_id=123)"
   ]
  },
  {
   "cell_type": "code",
   "execution_count": 5,
   "metadata": {
    "cell_id": "d5a9b43edf6e49788a01e2ce47ef8cea",
    "deepnote_cell_type": "code",
    "deepnote_to_be_reexecuted": false,
    "execution_millis": 753832,
    "execution_start": 1678466189201,
    "source_hash": "ce0014eb"
   },
   "outputs": [
    {
     "data": {
      "text/html": [],
      "text/plain": [
       "<IPython.core.display.HTML object>"
      ]
     },
     "metadata": {},
     "output_type": "display_data"
    },
    {
     "data": {
      "text/html": [
       "<style type=\"text/css\">\n",
       "#T_dfff7 th {\n",
       "  text-align: left;\n",
       "}\n",
       "#T_dfff7_row0_col0, #T_dfff7_row0_col1, #T_dfff7_row0_col2, #T_dfff7_row0_col3, #T_dfff7_row0_col5, #T_dfff7_row0_col6, #T_dfff7_row0_col7, #T_dfff7_row1_col0, #T_dfff7_row1_col1, #T_dfff7_row1_col2, #T_dfff7_row1_col3, #T_dfff7_row1_col4, #T_dfff7_row1_col5, #T_dfff7_row1_col6, #T_dfff7_row1_col7, #T_dfff7_row2_col0, #T_dfff7_row2_col1, #T_dfff7_row2_col2, #T_dfff7_row2_col3, #T_dfff7_row2_col4, #T_dfff7_row2_col5, #T_dfff7_row2_col6, #T_dfff7_row2_col7, #T_dfff7_row3_col0, #T_dfff7_row3_col2, #T_dfff7_row3_col3, #T_dfff7_row3_col4, #T_dfff7_row3_col5, #T_dfff7_row4_col0, #T_dfff7_row4_col1, #T_dfff7_row4_col2, #T_dfff7_row4_col3, #T_dfff7_row4_col4, #T_dfff7_row4_col5, #T_dfff7_row4_col6, #T_dfff7_row4_col7, #T_dfff7_row5_col0, #T_dfff7_row5_col1, #T_dfff7_row5_col3, #T_dfff7_row5_col4, #T_dfff7_row5_col6, #T_dfff7_row5_col7, #T_dfff7_row6_col0, #T_dfff7_row6_col1, #T_dfff7_row6_col2, #T_dfff7_row6_col3, #T_dfff7_row6_col4, #T_dfff7_row6_col5, #T_dfff7_row6_col6, #T_dfff7_row6_col7, #T_dfff7_row7_col0, #T_dfff7_row7_col1, #T_dfff7_row7_col2, #T_dfff7_row7_col3, #T_dfff7_row7_col4, #T_dfff7_row7_col5, #T_dfff7_row7_col6, #T_dfff7_row7_col7, #T_dfff7_row8_col0, #T_dfff7_row8_col1, #T_dfff7_row8_col2, #T_dfff7_row8_col3, #T_dfff7_row8_col4, #T_dfff7_row8_col5, #T_dfff7_row8_col6, #T_dfff7_row8_col7, #T_dfff7_row9_col0, #T_dfff7_row9_col1, #T_dfff7_row9_col2, #T_dfff7_row9_col3, #T_dfff7_row9_col4, #T_dfff7_row9_col5, #T_dfff7_row9_col6, #T_dfff7_row9_col7, #T_dfff7_row10_col0, #T_dfff7_row10_col1, #T_dfff7_row10_col2, #T_dfff7_row10_col3, #T_dfff7_row10_col4, #T_dfff7_row10_col5, #T_dfff7_row10_col6, #T_dfff7_row10_col7, #T_dfff7_row11_col0, #T_dfff7_row11_col1, #T_dfff7_row11_col2, #T_dfff7_row11_col3, #T_dfff7_row11_col4, #T_dfff7_row11_col5, #T_dfff7_row11_col6, #T_dfff7_row11_col7, #T_dfff7_row12_col0, #T_dfff7_row12_col1, #T_dfff7_row12_col2, #T_dfff7_row12_col4, #T_dfff7_row12_col5, #T_dfff7_row12_col6, #T_dfff7_row12_col7, #T_dfff7_row13_col0, #T_dfff7_row13_col1, #T_dfff7_row13_col2, #T_dfff7_row13_col3, #T_dfff7_row13_col4, #T_dfff7_row13_col5, #T_dfff7_row13_col6, #T_dfff7_row13_col7, #T_dfff7_row14_col0, #T_dfff7_row14_col1, #T_dfff7_row14_col2, #T_dfff7_row14_col3, #T_dfff7_row14_col4, #T_dfff7_row14_col5, #T_dfff7_row14_col6, #T_dfff7_row14_col7 {\n",
       "  text-align: left;\n",
       "}\n",
       "#T_dfff7_row0_col4, #T_dfff7_row3_col1, #T_dfff7_row3_col6, #T_dfff7_row3_col7, #T_dfff7_row5_col2, #T_dfff7_row5_col5, #T_dfff7_row12_col3 {\n",
       "  text-align: left;\n",
       "  background-color: yellow;\n",
       "}\n",
       "#T_dfff7_row0_col8, #T_dfff7_row1_col8, #T_dfff7_row3_col8, #T_dfff7_row4_col8, #T_dfff7_row5_col8, #T_dfff7_row6_col8, #T_dfff7_row7_col8, #T_dfff7_row8_col8, #T_dfff7_row9_col8, #T_dfff7_row10_col8, #T_dfff7_row11_col8, #T_dfff7_row12_col8, #T_dfff7_row13_col8, #T_dfff7_row14_col8 {\n",
       "  text-align: left;\n",
       "  background-color: lightgrey;\n",
       "}\n",
       "#T_dfff7_row2_col8 {\n",
       "  text-align: left;\n",
       "  background-color: yellow;\n",
       "  background-color: lightgrey;\n",
       "}\n",
       "</style>\n",
       "<table id=\"T_dfff7\">\n",
       "  <thead>\n",
       "    <tr>\n",
       "      <th class=\"blank level0\" >&nbsp;</th>\n",
       "      <th id=\"T_dfff7_level0_col0\" class=\"col_heading level0 col0\" >Model</th>\n",
       "      <th id=\"T_dfff7_level0_col1\" class=\"col_heading level0 col1\" >Accuracy</th>\n",
       "      <th id=\"T_dfff7_level0_col2\" class=\"col_heading level0 col2\" >AUC</th>\n",
       "      <th id=\"T_dfff7_level0_col3\" class=\"col_heading level0 col3\" >Recall</th>\n",
       "      <th id=\"T_dfff7_level0_col4\" class=\"col_heading level0 col4\" >Prec.</th>\n",
       "      <th id=\"T_dfff7_level0_col5\" class=\"col_heading level0 col5\" >F1</th>\n",
       "      <th id=\"T_dfff7_level0_col6\" class=\"col_heading level0 col6\" >Kappa</th>\n",
       "      <th id=\"T_dfff7_level0_col7\" class=\"col_heading level0 col7\" >MCC</th>\n",
       "      <th id=\"T_dfff7_level0_col8\" class=\"col_heading level0 col8\" >TT (Sec)</th>\n",
       "    </tr>\n",
       "  </thead>\n",
       "  <tbody>\n",
       "    <tr>\n",
       "      <th id=\"T_dfff7_level0_row0\" class=\"row_heading level0 row0\" >ada</th>\n",
       "      <td id=\"T_dfff7_row0_col0\" class=\"data row0 col0\" >Ada Boost Classifier</td>\n",
       "      <td id=\"T_dfff7_row0_col1\" class=\"data row0 col1\" >0.7232</td>\n",
       "      <td id=\"T_dfff7_row0_col2\" class=\"data row0 col2\" >0.7884</td>\n",
       "      <td id=\"T_dfff7_row0_col3\" class=\"data row0 col3\" >0.6322</td>\n",
       "      <td id=\"T_dfff7_row0_col4\" class=\"data row0 col4\" >0.7606</td>\n",
       "      <td id=\"T_dfff7_row0_col5\" class=\"data row0 col5\" >0.6904</td>\n",
       "      <td id=\"T_dfff7_row0_col6\" class=\"data row0 col6\" >0.4440</td>\n",
       "      <td id=\"T_dfff7_row0_col7\" class=\"data row0 col7\" >0.4502</td>\n",
       "      <td id=\"T_dfff7_row0_col8\" class=\"data row0 col8\" >0.3280</td>\n",
       "    </tr>\n",
       "    <tr>\n",
       "      <th id=\"T_dfff7_level0_row1\" class=\"row_heading level0 row1\" >ridge</th>\n",
       "      <td id=\"T_dfff7_row1_col0\" class=\"data row1 col0\" >Ridge Classifier</td>\n",
       "      <td id=\"T_dfff7_row1_col1\" class=\"data row1 col1\" >0.7206</td>\n",
       "      <td id=\"T_dfff7_row1_col2\" class=\"data row1 col2\" >0.0000</td>\n",
       "      <td id=\"T_dfff7_row1_col3\" class=\"data row1 col3\" >0.6400</td>\n",
       "      <td id=\"T_dfff7_row1_col4\" class=\"data row1 col4\" >0.7510</td>\n",
       "      <td id=\"T_dfff7_row1_col5\" class=\"data row1 col5\" >0.6911</td>\n",
       "      <td id=\"T_dfff7_row1_col6\" class=\"data row1 col6\" >0.4390</td>\n",
       "      <td id=\"T_dfff7_row1_col7\" class=\"data row1 col7\" >0.4437</td>\n",
       "      <td id=\"T_dfff7_row1_col8\" class=\"data row1 col8\" >0.1970</td>\n",
       "    </tr>\n",
       "    <tr>\n",
       "      <th id=\"T_dfff7_level0_row2\" class=\"row_heading level0 row2\" >lda</th>\n",
       "      <td id=\"T_dfff7_row2_col0\" class=\"data row2 col0\" >Linear Discriminant Analysis</td>\n",
       "      <td id=\"T_dfff7_row2_col1\" class=\"data row2 col1\" >0.7206</td>\n",
       "      <td id=\"T_dfff7_row2_col2\" class=\"data row2 col2\" >0.7838</td>\n",
       "      <td id=\"T_dfff7_row2_col3\" class=\"data row2 col3\" >0.6400</td>\n",
       "      <td id=\"T_dfff7_row2_col4\" class=\"data row2 col4\" >0.7510</td>\n",
       "      <td id=\"T_dfff7_row2_col5\" class=\"data row2 col5\" >0.6911</td>\n",
       "      <td id=\"T_dfff7_row2_col6\" class=\"data row2 col6\" >0.4390</td>\n",
       "      <td id=\"T_dfff7_row2_col7\" class=\"data row2 col7\" >0.4437</td>\n",
       "      <td id=\"T_dfff7_row2_col8\" class=\"data row2 col8\" >0.0800</td>\n",
       "    </tr>\n",
       "    <tr>\n",
       "      <th id=\"T_dfff7_level0_row3\" class=\"row_heading level0 row3\" >lightgbm</th>\n",
       "      <td id=\"T_dfff7_row3_col0\" class=\"data row3 col0\" >Light Gradient Boosting Machine</td>\n",
       "      <td id=\"T_dfff7_row3_col1\" class=\"data row3 col1\" >0.7274</td>\n",
       "      <td id=\"T_dfff7_row3_col2\" class=\"data row3 col2\" >0.7931</td>\n",
       "      <td id=\"T_dfff7_row3_col3\" class=\"data row3 col3\" >0.6688</td>\n",
       "      <td id=\"T_dfff7_row3_col4\" class=\"data row3 col4\" >0.7466</td>\n",
       "      <td id=\"T_dfff7_row3_col5\" class=\"data row3 col5\" >0.7055</td>\n",
       "      <td id=\"T_dfff7_row3_col6\" class=\"data row3 col6\" >0.4532</td>\n",
       "      <td id=\"T_dfff7_row3_col7\" class=\"data row3 col7\" >0.4556</td>\n",
       "      <td id=\"T_dfff7_row3_col8\" class=\"data row3 col8\" >1.1560</td>\n",
       "    </tr>\n",
       "    <tr>\n",
       "      <th id=\"T_dfff7_level0_row4\" class=\"row_heading level0 row4\" >lr</th>\n",
       "      <td id=\"T_dfff7_row4_col0\" class=\"data row4 col0\" >Logistic Regression</td>\n",
       "      <td id=\"T_dfff7_row4_col1\" class=\"data row4 col1\" >0.7208</td>\n",
       "      <td id=\"T_dfff7_row4_col2\" class=\"data row4 col2\" >0.7827</td>\n",
       "      <td id=\"T_dfff7_row4_col3\" class=\"data row4 col3\" >0.6522</td>\n",
       "      <td id=\"T_dfff7_row4_col4\" class=\"data row4 col4\" >0.7443</td>\n",
       "      <td id=\"T_dfff7_row4_col5\" class=\"data row4 col5\" >0.6952</td>\n",
       "      <td id=\"T_dfff7_row4_col6\" class=\"data row4 col6\" >0.4397</td>\n",
       "      <td id=\"T_dfff7_row4_col7\" class=\"data row4 col7\" >0.4429</td>\n",
       "      <td id=\"T_dfff7_row4_col8\" class=\"data row4 col8\" >2.9260</td>\n",
       "    </tr>\n",
       "    <tr>\n",
       "      <th id=\"T_dfff7_level0_row5\" class=\"row_heading level0 row5\" >gbc</th>\n",
       "      <td id=\"T_dfff7_row5_col0\" class=\"data row5 col0\" >Gradient Boosting Classifier</td>\n",
       "      <td id=\"T_dfff7_row5_col1\" class=\"data row5 col1\" >0.7267</td>\n",
       "      <td id=\"T_dfff7_row5_col2\" class=\"data row5 col2\" >0.7941</td>\n",
       "      <td id=\"T_dfff7_row5_col3\" class=\"data row5 col3\" >0.6728</td>\n",
       "      <td id=\"T_dfff7_row5_col4\" class=\"data row5 col4\" >0.7431</td>\n",
       "      <td id=\"T_dfff7_row5_col5\" class=\"data row5 col5\" >0.7062</td>\n",
       "      <td id=\"T_dfff7_row5_col6\" class=\"data row5 col6\" >0.4519</td>\n",
       "      <td id=\"T_dfff7_row5_col7\" class=\"data row5 col7\" >0.4538</td>\n",
       "      <td id=\"T_dfff7_row5_col8\" class=\"data row5 col8\" >0.1980</td>\n",
       "    </tr>\n",
       "    <tr>\n",
       "      <th id=\"T_dfff7_level0_row6\" class=\"row_heading level0 row6\" >nb</th>\n",
       "      <td id=\"T_dfff7_row6_col0\" class=\"data row6 col0\" >Naive Bayes</td>\n",
       "      <td id=\"T_dfff7_row6_col1\" class=\"data row6 col1\" >0.7087</td>\n",
       "      <td id=\"T_dfff7_row6_col2\" class=\"data row6 col2\" >0.7680</td>\n",
       "      <td id=\"T_dfff7_row6_col3\" class=\"data row6 col3\" >0.6170</td>\n",
       "      <td id=\"T_dfff7_row6_col4\" class=\"data row6 col4\" >0.7428</td>\n",
       "      <td id=\"T_dfff7_row6_col5\" class=\"data row6 col5\" >0.6741</td>\n",
       "      <td id=\"T_dfff7_row6_col6\" class=\"data row6 col6\" >0.4147</td>\n",
       "      <td id=\"T_dfff7_row6_col7\" class=\"data row6 col7\" >0.4206</td>\n",
       "      <td id=\"T_dfff7_row6_col8\" class=\"data row6 col8\" >0.2900</td>\n",
       "    </tr>\n",
       "    <tr>\n",
       "      <th id=\"T_dfff7_level0_row7\" class=\"row_heading level0 row7\" >xgboost</th>\n",
       "      <td id=\"T_dfff7_row7_col0\" class=\"data row7 col0\" >Extreme Gradient Boosting</td>\n",
       "      <td id=\"T_dfff7_row7_col1\" class=\"data row7 col1\" >0.7194</td>\n",
       "      <td id=\"T_dfff7_row7_col2\" class=\"data row7 col2\" >0.7832</td>\n",
       "      <td id=\"T_dfff7_row7_col3\" class=\"data row7 col3\" >0.6642</td>\n",
       "      <td id=\"T_dfff7_row7_col4\" class=\"data row7 col4\" >0.7355</td>\n",
       "      <td id=\"T_dfff7_row7_col5\" class=\"data row7 col5\" >0.6980</td>\n",
       "      <td id=\"T_dfff7_row7_col6\" class=\"data row7 col6\" >0.4372</td>\n",
       "      <td id=\"T_dfff7_row7_col7\" class=\"data row7 col7\" >0.4393</td>\n",
       "      <td id=\"T_dfff7_row7_col8\" class=\"data row7 col8\" >0.2650</td>\n",
       "    </tr>\n",
       "    <tr>\n",
       "      <th id=\"T_dfff7_level0_row8\" class=\"row_heading level0 row8\" >qda</th>\n",
       "      <td id=\"T_dfff7_row8_col0\" class=\"data row8 col0\" >Quadratic Discriminant Analysis</td>\n",
       "      <td id=\"T_dfff7_row8_col1\" class=\"data row8 col1\" >0.7028</td>\n",
       "      <td id=\"T_dfff7_row8_col2\" class=\"data row8 col2\" >0.7646</td>\n",
       "      <td id=\"T_dfff7_row8_col3\" class=\"data row8 col3\" >0.6137</td>\n",
       "      <td id=\"T_dfff7_row8_col4\" class=\"data row8 col4\" >0.7341</td>\n",
       "      <td id=\"T_dfff7_row8_col5\" class=\"data row8 col5\" >0.6685</td>\n",
       "      <td id=\"T_dfff7_row8_col6\" class=\"data row8 col6\" >0.4031</td>\n",
       "      <td id=\"T_dfff7_row8_col7\" class=\"data row8 col7\" >0.4084</td>\n",
       "      <td id=\"T_dfff7_row8_col8\" class=\"data row8 col8\" >0.2030</td>\n",
       "    </tr>\n",
       "    <tr>\n",
       "      <th id=\"T_dfff7_level0_row9\" class=\"row_heading level0 row9\" >rf</th>\n",
       "      <td id=\"T_dfff7_row9_col0\" class=\"data row9 col0\" >Random Forest Classifier</td>\n",
       "      <td id=\"T_dfff7_row9_col1\" class=\"data row9 col1\" >0.6997</td>\n",
       "      <td id=\"T_dfff7_row9_col2\" class=\"data row9 col2\" >0.7562</td>\n",
       "      <td id=\"T_dfff7_row9_col3\" class=\"data row9 col3\" >0.6813</td>\n",
       "      <td id=\"T_dfff7_row9_col4\" class=\"data row9 col4\" >0.6969</td>\n",
       "      <td id=\"T_dfff7_row9_col5\" class=\"data row9 col5\" >0.6890</td>\n",
       "      <td id=\"T_dfff7_row9_col6\" class=\"data row9 col6\" >0.3987</td>\n",
       "      <td id=\"T_dfff7_row9_col7\" class=\"data row9 col7\" >0.3988</td>\n",
       "      <td id=\"T_dfff7_row9_col8\" class=\"data row9 col8\" >2.8750</td>\n",
       "    </tr>\n",
       "    <tr>\n",
       "      <th id=\"T_dfff7_level0_row10\" class=\"row_heading level0 row10\" >et</th>\n",
       "      <td id=\"T_dfff7_row10_col0\" class=\"data row10 col0\" >Extra Trees Classifier</td>\n",
       "      <td id=\"T_dfff7_row10_col1\" class=\"data row10 col1\" >0.6868</td>\n",
       "      <td id=\"T_dfff7_row10_col2\" class=\"data row10 col2\" >0.7345</td>\n",
       "      <td id=\"T_dfff7_row10_col3\" class=\"data row10 col3\" >0.6706</td>\n",
       "      <td id=\"T_dfff7_row10_col4\" class=\"data row10 col4\" >0.6825</td>\n",
       "      <td id=\"T_dfff7_row10_col5\" class=\"data row10 col5\" >0.6765</td>\n",
       "      <td id=\"T_dfff7_row10_col6\" class=\"data row10 col6\" >0.3730</td>\n",
       "      <td id=\"T_dfff7_row10_col7\" class=\"data row10 col7\" >0.3731</td>\n",
       "      <td id=\"T_dfff7_row10_col8\" class=\"data row10 col8\" >14.8160</td>\n",
       "    </tr>\n",
       "    <tr>\n",
       "      <th id=\"T_dfff7_level0_row11\" class=\"row_heading level0 row11\" >knn</th>\n",
       "      <td id=\"T_dfff7_row11_col0\" class=\"data row11 col0\" >K Neighbors Classifier</td>\n",
       "      <td id=\"T_dfff7_row11_col1\" class=\"data row11 col1\" >0.6807</td>\n",
       "      <td id=\"T_dfff7_row11_col2\" class=\"data row11 col2\" >0.7261</td>\n",
       "      <td id=\"T_dfff7_row11_col3\" class=\"data row11 col3\" >0.6476</td>\n",
       "      <td id=\"T_dfff7_row11_col4\" class=\"data row11 col4\" >0.6824</td>\n",
       "      <td id=\"T_dfff7_row11_col5\" class=\"data row11 col5\" >0.6645</td>\n",
       "      <td id=\"T_dfff7_row11_col6\" class=\"data row11 col6\" >0.3604</td>\n",
       "      <td id=\"T_dfff7_row11_col7\" class=\"data row11 col7\" >0.3608</td>\n",
       "      <td id=\"T_dfff7_row11_col8\" class=\"data row11 col8\" >1.0020</td>\n",
       "    </tr>\n",
       "    <tr>\n",
       "      <th id=\"T_dfff7_level0_row12\" class=\"row_heading level0 row12\" >svm</th>\n",
       "      <td id=\"T_dfff7_row12_col0\" class=\"data row12 col0\" >SVM - Linear Kernel</td>\n",
       "      <td id=\"T_dfff7_row12_col1\" class=\"data row12 col1\" >0.6289</td>\n",
       "      <td id=\"T_dfff7_row12_col2\" class=\"data row12 col2\" >0.0000</td>\n",
       "      <td id=\"T_dfff7_row12_col3\" class=\"data row12 col3\" >0.7229</td>\n",
       "      <td id=\"T_dfff7_row12_col4\" class=\"data row12 col4\" >0.6665</td>\n",
       "      <td id=\"T_dfff7_row12_col5\" class=\"data row12 col5\" >0.6398</td>\n",
       "      <td id=\"T_dfff7_row12_col6\" class=\"data row12 col6\" >0.2622</td>\n",
       "      <td id=\"T_dfff7_row12_col7\" class=\"data row12 col7\" >0.3203</td>\n",
       "      <td id=\"T_dfff7_row12_col8\" class=\"data row12 col8\" >0.2600</td>\n",
       "    </tr>\n",
       "    <tr>\n",
       "      <th id=\"T_dfff7_level0_row13\" class=\"row_heading level0 row13\" >dt</th>\n",
       "      <td id=\"T_dfff7_row13_col0\" class=\"data row13 col0\" >Decision Tree Classifier</td>\n",
       "      <td id=\"T_dfff7_row13_col1\" class=\"data row13 col1\" >0.6270</td>\n",
       "      <td id=\"T_dfff7_row13_col2\" class=\"data row13 col2\" >0.6263</td>\n",
       "      <td id=\"T_dfff7_row13_col3\" class=\"data row13 col3\" >0.6075</td>\n",
       "      <td id=\"T_dfff7_row13_col4\" class=\"data row13 col4\" >0.6205</td>\n",
       "      <td id=\"T_dfff7_row13_col5\" class=\"data row13 col5\" >0.6139</td>\n",
       "      <td id=\"T_dfff7_row13_col6\" class=\"data row13 col6\" >0.2532</td>\n",
       "      <td id=\"T_dfff7_row13_col7\" class=\"data row13 col7\" >0.2533</td>\n",
       "      <td id=\"T_dfff7_row13_col8\" class=\"data row13 col8\" >0.1960</td>\n",
       "    </tr>\n",
       "    <tr>\n",
       "      <th id=\"T_dfff7_level0_row14\" class=\"row_heading level0 row14\" >dummy</th>\n",
       "      <td id=\"T_dfff7_row14_col0\" class=\"data row14 col0\" >Dummy Classifier</td>\n",
       "      <td id=\"T_dfff7_row14_col1\" class=\"data row14 col1\" >0.5118</td>\n",
       "      <td id=\"T_dfff7_row14_col2\" class=\"data row14 col2\" >0.5000</td>\n",
       "      <td id=\"T_dfff7_row14_col3\" class=\"data row14 col3\" >0.0000</td>\n",
       "      <td id=\"T_dfff7_row14_col4\" class=\"data row14 col4\" >0.0000</td>\n",
       "      <td id=\"T_dfff7_row14_col5\" class=\"data row14 col5\" >0.0000</td>\n",
       "      <td id=\"T_dfff7_row14_col6\" class=\"data row14 col6\" >0.0000</td>\n",
       "      <td id=\"T_dfff7_row14_col7\" class=\"data row14 col7\" >0.0000</td>\n",
       "      <td id=\"T_dfff7_row14_col8\" class=\"data row14 col8\" >0.0940</td>\n",
       "    </tr>\n",
       "  </tbody>\n",
       "</table>\n"
      ],
      "text/plain": [
       "<pandas.io.formats.style.Styler at 0x24e01332cd0>"
      ]
     },
     "metadata": {},
     "output_type": "display_data"
    },
    {
     "data": {
      "application/vnd.jupyter.widget-view+json": {
       "model_id": "",
       "version_major": 2,
       "version_minor": 0
      },
      "text/plain": [
       "Processing:   0%|          | 0/65 [00:00<?, ?it/s]"
      ]
     },
     "metadata": {},
     "output_type": "display_data"
    }
   ],
   "source": [
    "best_model = compare_models(sort = 'precision')"
   ]
  },
  {
   "cell_type": "code",
   "execution_count": 6,
   "metadata": {
    "cell_id": "5e3fc93da69641148abb6e6dcb632d0b",
    "deepnote_cell_type": "code",
    "deepnote_to_be_reexecuted": false,
    "execution_millis": 3,
    "execution_start": 1678466943035,
    "source_hash": "c3914685"
   },
   "outputs": [
    {
     "data": {
      "text/html": [
       "<style type=\"text/css\">\n",
       "#T_7813d_row8_col1 {\n",
       "  background-color: lightgreen;\n",
       "}\n",
       "</style>\n",
       "<table id=\"T_7813d\">\n",
       "  <thead>\n",
       "    <tr>\n",
       "      <th class=\"blank level0\" >&nbsp;</th>\n",
       "      <th id=\"T_7813d_level0_col0\" class=\"col_heading level0 col0\" >Description</th>\n",
       "      <th id=\"T_7813d_level0_col1\" class=\"col_heading level0 col1\" >Value</th>\n",
       "    </tr>\n",
       "  </thead>\n",
       "  <tbody>\n",
       "    <tr>\n",
       "      <th id=\"T_7813d_level0_row0\" class=\"row_heading level0 row0\" >0</th>\n",
       "      <td id=\"T_7813d_row0_col0\" class=\"data row0 col0\" >Session id</td>\n",
       "      <td id=\"T_7813d_row0_col1\" class=\"data row0 col1\" >123</td>\n",
       "    </tr>\n",
       "    <tr>\n",
       "      <th id=\"T_7813d_level0_row1\" class=\"row_heading level0 row1\" >1</th>\n",
       "      <td id=\"T_7813d_row1_col0\" class=\"data row1 col0\" >Target</td>\n",
       "      <td id=\"T_7813d_row1_col1\" class=\"data row1 col1\" >cardiovascular_disease</td>\n",
       "    </tr>\n",
       "    <tr>\n",
       "      <th id=\"T_7813d_level0_row2\" class=\"row_heading level0 row2\" >2</th>\n",
       "      <td id=\"T_7813d_row2_col0\" class=\"data row2 col0\" >Target type</td>\n",
       "      <td id=\"T_7813d_row2_col1\" class=\"data row2 col1\" >Binary</td>\n",
       "    </tr>\n",
       "    <tr>\n",
       "      <th id=\"T_7813d_level0_row3\" class=\"row_heading level0 row3\" >3</th>\n",
       "      <td id=\"T_7813d_row3_col0\" class=\"data row3 col0\" >Original data shape</td>\n",
       "      <td id=\"T_7813d_row3_col1\" class=\"data row3 col1\" >(60144, 13)</td>\n",
       "    </tr>\n",
       "    <tr>\n",
       "      <th id=\"T_7813d_level0_row4\" class=\"row_heading level0 row4\" >4</th>\n",
       "      <td id=\"T_7813d_row4_col0\" class=\"data row4 col0\" >Transformed data shape</td>\n",
       "      <td id=\"T_7813d_row4_col1\" class=\"data row4 col1\" >(60144, 13)</td>\n",
       "    </tr>\n",
       "    <tr>\n",
       "      <th id=\"T_7813d_level0_row5\" class=\"row_heading level0 row5\" >5</th>\n",
       "      <td id=\"T_7813d_row5_col0\" class=\"data row5 col0\" >Transformed train set shape</td>\n",
       "      <td id=\"T_7813d_row5_col1\" class=\"data row5 col1\" >(42100, 13)</td>\n",
       "    </tr>\n",
       "    <tr>\n",
       "      <th id=\"T_7813d_level0_row6\" class=\"row_heading level0 row6\" >6</th>\n",
       "      <td id=\"T_7813d_row6_col0\" class=\"data row6 col0\" >Transformed test set shape</td>\n",
       "      <td id=\"T_7813d_row6_col1\" class=\"data row6 col1\" >(18044, 13)</td>\n",
       "    </tr>\n",
       "    <tr>\n",
       "      <th id=\"T_7813d_level0_row7\" class=\"row_heading level0 row7\" >7</th>\n",
       "      <td id=\"T_7813d_row7_col0\" class=\"data row7 col0\" >Numeric features</td>\n",
       "      <td id=\"T_7813d_row7_col1\" class=\"data row7 col1\" >12</td>\n",
       "    </tr>\n",
       "    <tr>\n",
       "      <th id=\"T_7813d_level0_row8\" class=\"row_heading level0 row8\" >8</th>\n",
       "      <td id=\"T_7813d_row8_col0\" class=\"data row8 col0\" >Preprocess</td>\n",
       "      <td id=\"T_7813d_row8_col1\" class=\"data row8 col1\" >True</td>\n",
       "    </tr>\n",
       "    <tr>\n",
       "      <th id=\"T_7813d_level0_row9\" class=\"row_heading level0 row9\" >9</th>\n",
       "      <td id=\"T_7813d_row9_col0\" class=\"data row9 col0\" >Imputation type</td>\n",
       "      <td id=\"T_7813d_row9_col1\" class=\"data row9 col1\" >simple</td>\n",
       "    </tr>\n",
       "    <tr>\n",
       "      <th id=\"T_7813d_level0_row10\" class=\"row_heading level0 row10\" >10</th>\n",
       "      <td id=\"T_7813d_row10_col0\" class=\"data row10 col0\" >Numeric imputation</td>\n",
       "      <td id=\"T_7813d_row10_col1\" class=\"data row10 col1\" >mean</td>\n",
       "    </tr>\n",
       "    <tr>\n",
       "      <th id=\"T_7813d_level0_row11\" class=\"row_heading level0 row11\" >11</th>\n",
       "      <td id=\"T_7813d_row11_col0\" class=\"data row11 col0\" >Categorical imputation</td>\n",
       "      <td id=\"T_7813d_row11_col1\" class=\"data row11 col1\" >mode</td>\n",
       "    </tr>\n",
       "    <tr>\n",
       "      <th id=\"T_7813d_level0_row12\" class=\"row_heading level0 row12\" >12</th>\n",
       "      <td id=\"T_7813d_row12_col0\" class=\"data row12 col0\" >Fold Generator</td>\n",
       "      <td id=\"T_7813d_row12_col1\" class=\"data row12 col1\" >StratifiedKFold</td>\n",
       "    </tr>\n",
       "    <tr>\n",
       "      <th id=\"T_7813d_level0_row13\" class=\"row_heading level0 row13\" >13</th>\n",
       "      <td id=\"T_7813d_row13_col0\" class=\"data row13 col0\" >Fold Number</td>\n",
       "      <td id=\"T_7813d_row13_col1\" class=\"data row13 col1\" >10</td>\n",
       "    </tr>\n",
       "    <tr>\n",
       "      <th id=\"T_7813d_level0_row14\" class=\"row_heading level0 row14\" >14</th>\n",
       "      <td id=\"T_7813d_row14_col0\" class=\"data row14 col0\" >CPU Jobs</td>\n",
       "      <td id=\"T_7813d_row14_col1\" class=\"data row14 col1\" >-1</td>\n",
       "    </tr>\n",
       "    <tr>\n",
       "      <th id=\"T_7813d_level0_row15\" class=\"row_heading level0 row15\" >15</th>\n",
       "      <td id=\"T_7813d_row15_col0\" class=\"data row15 col0\" >Use GPU</td>\n",
       "      <td id=\"T_7813d_row15_col1\" class=\"data row15 col1\" >False</td>\n",
       "    </tr>\n",
       "    <tr>\n",
       "      <th id=\"T_7813d_level0_row16\" class=\"row_heading level0 row16\" >16</th>\n",
       "      <td id=\"T_7813d_row16_col0\" class=\"data row16 col0\" >Log Experiment</td>\n",
       "      <td id=\"T_7813d_row16_col1\" class=\"data row16 col1\" >False</td>\n",
       "    </tr>\n",
       "    <tr>\n",
       "      <th id=\"T_7813d_level0_row17\" class=\"row_heading level0 row17\" >17</th>\n",
       "      <td id=\"T_7813d_row17_col0\" class=\"data row17 col0\" >Experiment Name</td>\n",
       "      <td id=\"T_7813d_row17_col1\" class=\"data row17 col1\" >clf-default-name</td>\n",
       "    </tr>\n",
       "    <tr>\n",
       "      <th id=\"T_7813d_level0_row18\" class=\"row_heading level0 row18\" >18</th>\n",
       "      <td id=\"T_7813d_row18_col0\" class=\"data row18 col0\" >USI</td>\n",
       "      <td id=\"T_7813d_row18_col1\" class=\"data row18 col1\" >4c62</td>\n",
       "    </tr>\n",
       "  </tbody>\n",
       "</table>\n"
      ],
      "text/plain": [
       "<pandas.io.formats.style.Styler at 0x24e015ac730>"
      ]
     },
     "metadata": {},
     "output_type": "display_data"
    },
    {
     "data": {
      "text/plain": [
       "<pycaret.classification.oop.ClassificationExperiment at 0x24e01349130>"
      ]
     },
     "execution_count": 6,
     "metadata": {},
     "output_type": "execute_result"
    }
   ],
   "source": [
    "# init the class\n",
    "exp = ClassificationExperiment()\n",
    "# init setup on exp\n",
    "exp.setup(df, target = 'cardiovascular_disease', session_id = 123)"
   ]
  },
  {
   "cell_type": "code",
   "execution_count": 7,
   "metadata": {
    "cell_id": "3212654be75449349ec86e7e62304100",
    "deepnote_cell_type": "code",
    "deepnote_to_be_reexecuted": false,
    "execution_millis": 2,
    "execution_start": 1678466943084,
    "source_hash": "1c072e0a"
   },
   "outputs": [
    {
     "data": {
      "text/html": [],
      "text/plain": [
       "<IPython.core.display.HTML object>"
      ]
     },
     "metadata": {},
     "output_type": "display_data"
    },
    {
     "data": {
      "text/html": [
       "<style type=\"text/css\">\n",
       "#T_d4235 th {\n",
       "  text-align: left;\n",
       "}\n",
       "#T_d4235_row0_col0, #T_d4235_row0_col2, #T_d4235_row0_col3, #T_d4235_row0_col4, #T_d4235_row0_col5, #T_d4235_row1_col0, #T_d4235_row1_col1, #T_d4235_row1_col3, #T_d4235_row1_col4, #T_d4235_row1_col6, #T_d4235_row1_col7, #T_d4235_row2_col0, #T_d4235_row2_col1, #T_d4235_row2_col2, #T_d4235_row2_col3, #T_d4235_row2_col5, #T_d4235_row2_col6, #T_d4235_row2_col7, #T_d4235_row3_col0, #T_d4235_row3_col1, #T_d4235_row3_col2, #T_d4235_row3_col3, #T_d4235_row3_col4, #T_d4235_row3_col5, #T_d4235_row3_col6, #T_d4235_row3_col7, #T_d4235_row4_col0, #T_d4235_row4_col1, #T_d4235_row4_col2, #T_d4235_row4_col3, #T_d4235_row4_col4, #T_d4235_row4_col5, #T_d4235_row4_col6, #T_d4235_row4_col7, #T_d4235_row5_col0, #T_d4235_row5_col1, #T_d4235_row5_col2, #T_d4235_row5_col3, #T_d4235_row5_col4, #T_d4235_row5_col5, #T_d4235_row5_col6, #T_d4235_row5_col7, #T_d4235_row6_col0, #T_d4235_row6_col1, #T_d4235_row6_col2, #T_d4235_row6_col3, #T_d4235_row6_col4, #T_d4235_row6_col5, #T_d4235_row6_col6, #T_d4235_row6_col7, #T_d4235_row7_col0, #T_d4235_row7_col1, #T_d4235_row7_col2, #T_d4235_row7_col3, #T_d4235_row7_col4, #T_d4235_row7_col5, #T_d4235_row7_col6, #T_d4235_row7_col7, #T_d4235_row8_col0, #T_d4235_row8_col1, #T_d4235_row8_col2, #T_d4235_row8_col3, #T_d4235_row8_col4, #T_d4235_row8_col5, #T_d4235_row8_col6, #T_d4235_row8_col7, #T_d4235_row9_col0, #T_d4235_row9_col1, #T_d4235_row9_col2, #T_d4235_row9_col3, #T_d4235_row9_col4, #T_d4235_row9_col5, #T_d4235_row9_col6, #T_d4235_row9_col7, #T_d4235_row10_col0, #T_d4235_row10_col1, #T_d4235_row10_col2, #T_d4235_row10_col3, #T_d4235_row10_col4, #T_d4235_row10_col5, #T_d4235_row10_col6, #T_d4235_row10_col7, #T_d4235_row11_col0, #T_d4235_row11_col1, #T_d4235_row11_col2, #T_d4235_row11_col3, #T_d4235_row11_col4, #T_d4235_row11_col5, #T_d4235_row11_col6, #T_d4235_row11_col7, #T_d4235_row12_col0, #T_d4235_row12_col1, #T_d4235_row12_col2, #T_d4235_row12_col4, #T_d4235_row12_col5, #T_d4235_row12_col6, #T_d4235_row12_col7, #T_d4235_row13_col0, #T_d4235_row13_col1, #T_d4235_row13_col2, #T_d4235_row13_col3, #T_d4235_row13_col4, #T_d4235_row13_col5, #T_d4235_row13_col6, #T_d4235_row13_col7, #T_d4235_row14_col0, #T_d4235_row14_col1, #T_d4235_row14_col2, #T_d4235_row14_col3, #T_d4235_row14_col4, #T_d4235_row14_col5, #T_d4235_row14_col6, #T_d4235_row14_col7 {\n",
       "  text-align: left;\n",
       "}\n",
       "#T_d4235_row0_col1, #T_d4235_row0_col6, #T_d4235_row0_col7, #T_d4235_row1_col2, #T_d4235_row1_col5, #T_d4235_row2_col4, #T_d4235_row12_col3 {\n",
       "  text-align: left;\n",
       "  background-color: yellow;\n",
       "}\n",
       "#T_d4235_row0_col8, #T_d4235_row1_col8, #T_d4235_row2_col8, #T_d4235_row3_col8, #T_d4235_row5_col8, #T_d4235_row6_col8, #T_d4235_row7_col8, #T_d4235_row8_col8, #T_d4235_row9_col8, #T_d4235_row10_col8, #T_d4235_row11_col8, #T_d4235_row12_col8, #T_d4235_row13_col8, #T_d4235_row14_col8 {\n",
       "  text-align: left;\n",
       "  background-color: lightgrey;\n",
       "}\n",
       "#T_d4235_row4_col8 {\n",
       "  text-align: left;\n",
       "  background-color: yellow;\n",
       "  background-color: lightgrey;\n",
       "}\n",
       "</style>\n",
       "<table id=\"T_d4235\">\n",
       "  <thead>\n",
       "    <tr>\n",
       "      <th class=\"blank level0\" >&nbsp;</th>\n",
       "      <th id=\"T_d4235_level0_col0\" class=\"col_heading level0 col0\" >Model</th>\n",
       "      <th id=\"T_d4235_level0_col1\" class=\"col_heading level0 col1\" >Accuracy</th>\n",
       "      <th id=\"T_d4235_level0_col2\" class=\"col_heading level0 col2\" >AUC</th>\n",
       "      <th id=\"T_d4235_level0_col3\" class=\"col_heading level0 col3\" >Recall</th>\n",
       "      <th id=\"T_d4235_level0_col4\" class=\"col_heading level0 col4\" >Prec.</th>\n",
       "      <th id=\"T_d4235_level0_col5\" class=\"col_heading level0 col5\" >F1</th>\n",
       "      <th id=\"T_d4235_level0_col6\" class=\"col_heading level0 col6\" >Kappa</th>\n",
       "      <th id=\"T_d4235_level0_col7\" class=\"col_heading level0 col7\" >MCC</th>\n",
       "      <th id=\"T_d4235_level0_col8\" class=\"col_heading level0 col8\" >TT (Sec)</th>\n",
       "    </tr>\n",
       "  </thead>\n",
       "  <tbody>\n",
       "    <tr>\n",
       "      <th id=\"T_d4235_level0_row0\" class=\"row_heading level0 row0\" >lightgbm</th>\n",
       "      <td id=\"T_d4235_row0_col0\" class=\"data row0 col0\" >Light Gradient Boosting Machine</td>\n",
       "      <td id=\"T_d4235_row0_col1\" class=\"data row0 col1\" >0.7274</td>\n",
       "      <td id=\"T_d4235_row0_col2\" class=\"data row0 col2\" >0.7931</td>\n",
       "      <td id=\"T_d4235_row0_col3\" class=\"data row0 col3\" >0.6688</td>\n",
       "      <td id=\"T_d4235_row0_col4\" class=\"data row0 col4\" >0.7466</td>\n",
       "      <td id=\"T_d4235_row0_col5\" class=\"data row0 col5\" >0.7055</td>\n",
       "      <td id=\"T_d4235_row0_col6\" class=\"data row0 col6\" >0.4532</td>\n",
       "      <td id=\"T_d4235_row0_col7\" class=\"data row0 col7\" >0.4556</td>\n",
       "      <td id=\"T_d4235_row0_col8\" class=\"data row0 col8\" >0.2530</td>\n",
       "    </tr>\n",
       "    <tr>\n",
       "      <th id=\"T_d4235_level0_row1\" class=\"row_heading level0 row1\" >gbc</th>\n",
       "      <td id=\"T_d4235_row1_col0\" class=\"data row1 col0\" >Gradient Boosting Classifier</td>\n",
       "      <td id=\"T_d4235_row1_col1\" class=\"data row1 col1\" >0.7267</td>\n",
       "      <td id=\"T_d4235_row1_col2\" class=\"data row1 col2\" >0.7941</td>\n",
       "      <td id=\"T_d4235_row1_col3\" class=\"data row1 col3\" >0.6728</td>\n",
       "      <td id=\"T_d4235_row1_col4\" class=\"data row1 col4\" >0.7431</td>\n",
       "      <td id=\"T_d4235_row1_col5\" class=\"data row1 col5\" >0.7062</td>\n",
       "      <td id=\"T_d4235_row1_col6\" class=\"data row1 col6\" >0.4519</td>\n",
       "      <td id=\"T_d4235_row1_col7\" class=\"data row1 col7\" >0.4538</td>\n",
       "      <td id=\"T_d4235_row1_col8\" class=\"data row1 col8\" >0.3490</td>\n",
       "    </tr>\n",
       "    <tr>\n",
       "      <th id=\"T_d4235_level0_row2\" class=\"row_heading level0 row2\" >ada</th>\n",
       "      <td id=\"T_d4235_row2_col0\" class=\"data row2 col0\" >Ada Boost Classifier</td>\n",
       "      <td id=\"T_d4235_row2_col1\" class=\"data row2 col1\" >0.7232</td>\n",
       "      <td id=\"T_d4235_row2_col2\" class=\"data row2 col2\" >0.7884</td>\n",
       "      <td id=\"T_d4235_row2_col3\" class=\"data row2 col3\" >0.6322</td>\n",
       "      <td id=\"T_d4235_row2_col4\" class=\"data row2 col4\" >0.7606</td>\n",
       "      <td id=\"T_d4235_row2_col5\" class=\"data row2 col5\" >0.6904</td>\n",
       "      <td id=\"T_d4235_row2_col6\" class=\"data row2 col6\" >0.4440</td>\n",
       "      <td id=\"T_d4235_row2_col7\" class=\"data row2 col7\" >0.4502</td>\n",
       "      <td id=\"T_d4235_row2_col8\" class=\"data row2 col8\" >0.3160</td>\n",
       "    </tr>\n",
       "    <tr>\n",
       "      <th id=\"T_d4235_level0_row3\" class=\"row_heading level0 row3\" >lr</th>\n",
       "      <td id=\"T_d4235_row3_col0\" class=\"data row3 col0\" >Logistic Regression</td>\n",
       "      <td id=\"T_d4235_row3_col1\" class=\"data row3 col1\" >0.7208</td>\n",
       "      <td id=\"T_d4235_row3_col2\" class=\"data row3 col2\" >0.7827</td>\n",
       "      <td id=\"T_d4235_row3_col3\" class=\"data row3 col3\" >0.6522</td>\n",
       "      <td id=\"T_d4235_row3_col4\" class=\"data row3 col4\" >0.7443</td>\n",
       "      <td id=\"T_d4235_row3_col5\" class=\"data row3 col5\" >0.6952</td>\n",
       "      <td id=\"T_d4235_row3_col6\" class=\"data row3 col6\" >0.4397</td>\n",
       "      <td id=\"T_d4235_row3_col7\" class=\"data row3 col7\" >0.4429</td>\n",
       "      <td id=\"T_d4235_row3_col8\" class=\"data row3 col8\" >0.0810</td>\n",
       "    </tr>\n",
       "    <tr>\n",
       "      <th id=\"T_d4235_level0_row4\" class=\"row_heading level0 row4\" >ridge</th>\n",
       "      <td id=\"T_d4235_row4_col0\" class=\"data row4 col0\" >Ridge Classifier</td>\n",
       "      <td id=\"T_d4235_row4_col1\" class=\"data row4 col1\" >0.7206</td>\n",
       "      <td id=\"T_d4235_row4_col2\" class=\"data row4 col2\" >0.0000</td>\n",
       "      <td id=\"T_d4235_row4_col3\" class=\"data row4 col3\" >0.6400</td>\n",
       "      <td id=\"T_d4235_row4_col4\" class=\"data row4 col4\" >0.7510</td>\n",
       "      <td id=\"T_d4235_row4_col5\" class=\"data row4 col5\" >0.6911</td>\n",
       "      <td id=\"T_d4235_row4_col6\" class=\"data row4 col6\" >0.4390</td>\n",
       "      <td id=\"T_d4235_row4_col7\" class=\"data row4 col7\" >0.4437</td>\n",
       "      <td id=\"T_d4235_row4_col8\" class=\"data row4 col8\" >0.0760</td>\n",
       "    </tr>\n",
       "    <tr>\n",
       "      <th id=\"T_d4235_level0_row5\" class=\"row_heading level0 row5\" >lda</th>\n",
       "      <td id=\"T_d4235_row5_col0\" class=\"data row5 col0\" >Linear Discriminant Analysis</td>\n",
       "      <td id=\"T_d4235_row5_col1\" class=\"data row5 col1\" >0.7206</td>\n",
       "      <td id=\"T_d4235_row5_col2\" class=\"data row5 col2\" >0.7838</td>\n",
       "      <td id=\"T_d4235_row5_col3\" class=\"data row5 col3\" >0.6400</td>\n",
       "      <td id=\"T_d4235_row5_col4\" class=\"data row5 col4\" >0.7510</td>\n",
       "      <td id=\"T_d4235_row5_col5\" class=\"data row5 col5\" >0.6911</td>\n",
       "      <td id=\"T_d4235_row5_col6\" class=\"data row5 col6\" >0.4390</td>\n",
       "      <td id=\"T_d4235_row5_col7\" class=\"data row5 col7\" >0.4437</td>\n",
       "      <td id=\"T_d4235_row5_col8\" class=\"data row5 col8\" >0.1540</td>\n",
       "    </tr>\n",
       "    <tr>\n",
       "      <th id=\"T_d4235_level0_row6\" class=\"row_heading level0 row6\" >xgboost</th>\n",
       "      <td id=\"T_d4235_row6_col0\" class=\"data row6 col0\" >Extreme Gradient Boosting</td>\n",
       "      <td id=\"T_d4235_row6_col1\" class=\"data row6 col1\" >0.7194</td>\n",
       "      <td id=\"T_d4235_row6_col2\" class=\"data row6 col2\" >0.7832</td>\n",
       "      <td id=\"T_d4235_row6_col3\" class=\"data row6 col3\" >0.6642</td>\n",
       "      <td id=\"T_d4235_row6_col4\" class=\"data row6 col4\" >0.7355</td>\n",
       "      <td id=\"T_d4235_row6_col5\" class=\"data row6 col5\" >0.6980</td>\n",
       "      <td id=\"T_d4235_row6_col6\" class=\"data row6 col6\" >0.4372</td>\n",
       "      <td id=\"T_d4235_row6_col7\" class=\"data row6 col7\" >0.4393</td>\n",
       "      <td id=\"T_d4235_row6_col8\" class=\"data row6 col8\" >0.1640</td>\n",
       "    </tr>\n",
       "    <tr>\n",
       "      <th id=\"T_d4235_level0_row7\" class=\"row_heading level0 row7\" >nb</th>\n",
       "      <td id=\"T_d4235_row7_col0\" class=\"data row7 col0\" >Naive Bayes</td>\n",
       "      <td id=\"T_d4235_row7_col1\" class=\"data row7 col1\" >0.7087</td>\n",
       "      <td id=\"T_d4235_row7_col2\" class=\"data row7 col2\" >0.7680</td>\n",
       "      <td id=\"T_d4235_row7_col3\" class=\"data row7 col3\" >0.6170</td>\n",
       "      <td id=\"T_d4235_row7_col4\" class=\"data row7 col4\" >0.7428</td>\n",
       "      <td id=\"T_d4235_row7_col5\" class=\"data row7 col5\" >0.6741</td>\n",
       "      <td id=\"T_d4235_row7_col6\" class=\"data row7 col6\" >0.4147</td>\n",
       "      <td id=\"T_d4235_row7_col7\" class=\"data row7 col7\" >0.4206</td>\n",
       "      <td id=\"T_d4235_row7_col8\" class=\"data row7 col8\" >0.1670</td>\n",
       "    </tr>\n",
       "    <tr>\n",
       "      <th id=\"T_d4235_level0_row8\" class=\"row_heading level0 row8\" >qda</th>\n",
       "      <td id=\"T_d4235_row8_col0\" class=\"data row8 col0\" >Quadratic Discriminant Analysis</td>\n",
       "      <td id=\"T_d4235_row8_col1\" class=\"data row8 col1\" >0.7028</td>\n",
       "      <td id=\"T_d4235_row8_col2\" class=\"data row8 col2\" >0.7646</td>\n",
       "      <td id=\"T_d4235_row8_col3\" class=\"data row8 col3\" >0.6137</td>\n",
       "      <td id=\"T_d4235_row8_col4\" class=\"data row8 col4\" >0.7341</td>\n",
       "      <td id=\"T_d4235_row8_col5\" class=\"data row8 col5\" >0.6685</td>\n",
       "      <td id=\"T_d4235_row8_col6\" class=\"data row8 col6\" >0.4031</td>\n",
       "      <td id=\"T_d4235_row8_col7\" class=\"data row8 col7\" >0.4084</td>\n",
       "      <td id=\"T_d4235_row8_col8\" class=\"data row8 col8\" >0.1890</td>\n",
       "    </tr>\n",
       "    <tr>\n",
       "      <th id=\"T_d4235_level0_row9\" class=\"row_heading level0 row9\" >rf</th>\n",
       "      <td id=\"T_d4235_row9_col0\" class=\"data row9 col0\" >Random Forest Classifier</td>\n",
       "      <td id=\"T_d4235_row9_col1\" class=\"data row9 col1\" >0.6997</td>\n",
       "      <td id=\"T_d4235_row9_col2\" class=\"data row9 col2\" >0.7562</td>\n",
       "      <td id=\"T_d4235_row9_col3\" class=\"data row9 col3\" >0.6813</td>\n",
       "      <td id=\"T_d4235_row9_col4\" class=\"data row9 col4\" >0.6969</td>\n",
       "      <td id=\"T_d4235_row9_col5\" class=\"data row9 col5\" >0.6890</td>\n",
       "      <td id=\"T_d4235_row9_col6\" class=\"data row9 col6\" >0.3987</td>\n",
       "      <td id=\"T_d4235_row9_col7\" class=\"data row9 col7\" >0.3988</td>\n",
       "      <td id=\"T_d4235_row9_col8\" class=\"data row9 col8\" >1.8520</td>\n",
       "    </tr>\n",
       "    <tr>\n",
       "      <th id=\"T_d4235_level0_row10\" class=\"row_heading level0 row10\" >et</th>\n",
       "      <td id=\"T_d4235_row10_col0\" class=\"data row10 col0\" >Extra Trees Classifier</td>\n",
       "      <td id=\"T_d4235_row10_col1\" class=\"data row10 col1\" >0.6868</td>\n",
       "      <td id=\"T_d4235_row10_col2\" class=\"data row10 col2\" >0.7345</td>\n",
       "      <td id=\"T_d4235_row10_col3\" class=\"data row10 col3\" >0.6706</td>\n",
       "      <td id=\"T_d4235_row10_col4\" class=\"data row10 col4\" >0.6825</td>\n",
       "      <td id=\"T_d4235_row10_col5\" class=\"data row10 col5\" >0.6765</td>\n",
       "      <td id=\"T_d4235_row10_col6\" class=\"data row10 col6\" >0.3730</td>\n",
       "      <td id=\"T_d4235_row10_col7\" class=\"data row10 col7\" >0.3731</td>\n",
       "      <td id=\"T_d4235_row10_col8\" class=\"data row10 col8\" >7.7910</td>\n",
       "    </tr>\n",
       "    <tr>\n",
       "      <th id=\"T_d4235_level0_row11\" class=\"row_heading level0 row11\" >knn</th>\n",
       "      <td id=\"T_d4235_row11_col0\" class=\"data row11 col0\" >K Neighbors Classifier</td>\n",
       "      <td id=\"T_d4235_row11_col1\" class=\"data row11 col1\" >0.6807</td>\n",
       "      <td id=\"T_d4235_row11_col2\" class=\"data row11 col2\" >0.7261</td>\n",
       "      <td id=\"T_d4235_row11_col3\" class=\"data row11 col3\" >0.6476</td>\n",
       "      <td id=\"T_d4235_row11_col4\" class=\"data row11 col4\" >0.6824</td>\n",
       "      <td id=\"T_d4235_row11_col5\" class=\"data row11 col5\" >0.6645</td>\n",
       "      <td id=\"T_d4235_row11_col6\" class=\"data row11 col6\" >0.3604</td>\n",
       "      <td id=\"T_d4235_row11_col7\" class=\"data row11 col7\" >0.3608</td>\n",
       "      <td id=\"T_d4235_row11_col8\" class=\"data row11 col8\" >0.9360</td>\n",
       "    </tr>\n",
       "    <tr>\n",
       "      <th id=\"T_d4235_level0_row12\" class=\"row_heading level0 row12\" >svm</th>\n",
       "      <td id=\"T_d4235_row12_col0\" class=\"data row12 col0\" >SVM - Linear Kernel</td>\n",
       "      <td id=\"T_d4235_row12_col1\" class=\"data row12 col1\" >0.6289</td>\n",
       "      <td id=\"T_d4235_row12_col2\" class=\"data row12 col2\" >0.0000</td>\n",
       "      <td id=\"T_d4235_row12_col3\" class=\"data row12 col3\" >0.7229</td>\n",
       "      <td id=\"T_d4235_row12_col4\" class=\"data row12 col4\" >0.6665</td>\n",
       "      <td id=\"T_d4235_row12_col5\" class=\"data row12 col5\" >0.6398</td>\n",
       "      <td id=\"T_d4235_row12_col6\" class=\"data row12 col6\" >0.2622</td>\n",
       "      <td id=\"T_d4235_row12_col7\" class=\"data row12 col7\" >0.3203</td>\n",
       "      <td id=\"T_d4235_row12_col8\" class=\"data row12 col8\" >0.0990</td>\n",
       "    </tr>\n",
       "    <tr>\n",
       "      <th id=\"T_d4235_level0_row13\" class=\"row_heading level0 row13\" >dt</th>\n",
       "      <td id=\"T_d4235_row13_col0\" class=\"data row13 col0\" >Decision Tree Classifier</td>\n",
       "      <td id=\"T_d4235_row13_col1\" class=\"data row13 col1\" >0.6270</td>\n",
       "      <td id=\"T_d4235_row13_col2\" class=\"data row13 col2\" >0.6263</td>\n",
       "      <td id=\"T_d4235_row13_col3\" class=\"data row13 col3\" >0.6075</td>\n",
       "      <td id=\"T_d4235_row13_col4\" class=\"data row13 col4\" >0.6205</td>\n",
       "      <td id=\"T_d4235_row13_col5\" class=\"data row13 col5\" >0.6139</td>\n",
       "      <td id=\"T_d4235_row13_col6\" class=\"data row13 col6\" >0.2532</td>\n",
       "      <td id=\"T_d4235_row13_col7\" class=\"data row13 col7\" >0.2533</td>\n",
       "      <td id=\"T_d4235_row13_col8\" class=\"data row13 col8\" >0.1510</td>\n",
       "    </tr>\n",
       "    <tr>\n",
       "      <th id=\"T_d4235_level0_row14\" class=\"row_heading level0 row14\" >dummy</th>\n",
       "      <td id=\"T_d4235_row14_col0\" class=\"data row14 col0\" >Dummy Classifier</td>\n",
       "      <td id=\"T_d4235_row14_col1\" class=\"data row14 col1\" >0.5118</td>\n",
       "      <td id=\"T_d4235_row14_col2\" class=\"data row14 col2\" >0.5000</td>\n",
       "      <td id=\"T_d4235_row14_col3\" class=\"data row14 col3\" >0.0000</td>\n",
       "      <td id=\"T_d4235_row14_col4\" class=\"data row14 col4\" >0.0000</td>\n",
       "      <td id=\"T_d4235_row14_col5\" class=\"data row14 col5\" >0.0000</td>\n",
       "      <td id=\"T_d4235_row14_col6\" class=\"data row14 col6\" >0.0000</td>\n",
       "      <td id=\"T_d4235_row14_col7\" class=\"data row14 col7\" >0.0000</td>\n",
       "      <td id=\"T_d4235_row14_col8\" class=\"data row14 col8\" >0.1650</td>\n",
       "    </tr>\n",
       "  </tbody>\n",
       "</table>\n"
      ],
      "text/plain": [
       "<pandas.io.formats.style.Styler at 0x24e01542ee0>"
      ]
     },
     "metadata": {},
     "output_type": "display_data"
    },
    {
     "data": {
      "application/vnd.jupyter.widget-view+json": {
       "model_id": "",
       "version_major": 2,
       "version_minor": 0
      },
      "text/plain": [
       "Processing:   0%|          | 0/65 [00:00<?, ?it/s]"
      ]
     },
     "metadata": {},
     "output_type": "display_data"
    },
    {
     "data": {
      "text/plain": [
       "LGBMClassifier(boosting_type='gbdt', class_weight=None, colsample_bytree=1.0,\n",
       "               importance_type='split', learning_rate=0.1, max_depth=-1,\n",
       "               min_child_samples=20, min_child_weight=0.001, min_split_gain=0.0,\n",
       "               n_estimators=100, n_jobs=-1, num_leaves=31, objective=None,\n",
       "               random_state=123, reg_alpha=0.0, reg_lambda=0.0, silent='warn',\n",
       "               subsample=1.0, subsample_for_bin=200000, subsample_freq=0)"
      ]
     },
     "execution_count": 7,
     "metadata": {},
     "output_type": "execute_result"
    }
   ],
   "source": [
    "# compare models using OOP\n",
    "exp.compare_models()"
   ]
  },
  {
   "cell_type": "markdown",
   "metadata": {
    "cell_id": "5709e4fe396441d288f0024464515145",
    "deepnote_cell_type": "markdown"
   },
   "source": [
    "Using `Pycaret` we see that the top performing models are: `Gradient Boosting Classifier`, `Adaboost Classifier`, `Logistic Regression` and `Ridge Classifier`. We would be focusing our attention on the 4 models and see how they perform."
   ]
  },
  {
   "cell_type": "markdown",
   "metadata": {
    "cell_id": "55b3db4c43244109a94b7097b7bb6887",
    "deepnote_cell_type": "markdown"
   },
   "source": [
    "## Train | Validation | Test Split Procedure"
   ]
  },
  {
   "cell_type": "code",
   "execution_count": 8,
   "metadata": {
    "cell_id": "fea4f339b69242f8998aaa4e1c4d6c27",
    "deepnote_cell_type": "code",
    "deepnote_to_be_reexecuted": false,
    "execution_millis": 2,
    "execution_start": 1678466943085,
    "source_hash": "8e21bca7"
   },
   "outputs": [],
   "source": [
    "X = df.drop('cardiovascular_disease', axis=1)\n",
    "y = df['cardiovascular_disease']\n",
    "\n",
    "# Split the data into training and testing sets. 80% of data is training data, set aside other 20% for test\n",
    "X_train_val, X_test, y_train_val, y_test = train_test_split(X, y, test_size=0.2, random_state=42)\n",
    "\n",
    "# Remaining 80% is split into valuation and test sets. \n",
    "X_train, X_val, y_train, y_val = train_test_split(X_train_val, y_train_val, test_size=0.25, random_state=42)\n",
    "\n",
    "# Scale the data using standardization\n",
    "scaler = StandardScaler()\n",
    "X_train = scaler.fit_transform(X_train)\n",
    "X_val = scaler.transform(X_val)\n",
    "X_test = scaler.transform(X_test)"
   ]
  },
  {
   "cell_type": "markdown",
   "metadata": {
    "cell_id": "395534400d53413d91fae32ee2f342fc",
    "deepnote_cell_type": "markdown"
   },
   "source": [
    "Here, we are preparing data for use in a machine learning model that will predict whether someone has cardiovascular disease or not, based on various health-related features. Here is a breakdown of each step:\n",
    "\n",
    "1. The first line `X = df.drop('cardio', axis=1)` selects all columns from the input dataframe except for the 'cardio' column. These are the features that the machine learning model will use to make its predictions. The second line `y = df['cardio']` selects only the 'cardio' column from the input dataframe. This is the column that contains the labels or outcomes we are trying to predict.\n",
    "\n",
    "2. The third line uses the `train_test_split` function from the `sklearn library` to split the data into training and testing sets. We are using 80% of the data for training and 20% for testing. The `random_state` parameter is set to 42, which ensures that the data is split in the same way every time the code is run.\n",
    "\n",
    "3. The fourth line further splits the training data into training and validation sets. We are using a `75/25` split (60% for training, 20% for validation) to tune our model's hyperparameters later.\n",
    "\n",
    "4. The next three lines scale the data using standardization. Standardization scales the data to have a mean of 0 and a standard deviation of 1. This is useful for machine learning algorithms that assume the features are normally distributed. The `fit_transform` method fits the scaler on the training data and applies it to the training, validation, and testing data. We are overwriting the original `X_train` variable with the transformed data."
   ]
  },
  {
   "cell_type": "markdown",
   "metadata": {
    "cell_id": "77db6c27f7554a2f897fca6c78f0db33",
    "deepnote_cell_type": "markdown"
   },
   "source": [
    "## ML Modelling"
   ]
  },
  {
   "cell_type": "markdown",
   "metadata": {
    "cell_id": "cca47d18016c4550b81b80d380120798",
    "deepnote_cell_type": "markdown"
   },
   "source": [
    "### LogisticRegression"
   ]
  },
  {
   "cell_type": "code",
   "execution_count": 9,
   "metadata": {
    "cell_id": "3d4a6cc530284cd0a4f7e2dcdca63de0",
    "deepnote_cell_type": "code",
    "deepnote_to_be_reexecuted": false,
    "execution_millis": 22194,
    "execution_start": 1678466943128,
    "source_hash": "5aff8c85",
    "tags": []
   },
   "outputs": [
    {
     "name": "stdout",
     "output_type": "stream",
     "text": [
      "Logistic Regression\n",
      "Accuracy on validation set: 0.723834067669798\n",
      "Accuracy on test set: 0.7225039487904231\n",
      "Cross-validation score: 0.7197547542346462\n",
      "Confusion matrix:\n",
      "[[4872 1287]\n",
      " [2051 3819]]\n",
      "Classification report:\n",
      "              precision    recall  f1-score   support\n",
      "\n",
      "           0       0.70      0.79      0.74      6159\n",
      "           1       0.75      0.65      0.70      5870\n",
      "\n",
      "    accuracy                           0.72     12029\n",
      "   macro avg       0.73      0.72      0.72     12029\n",
      "weighted avg       0.73      0.72      0.72     12029\n",
      "\n",
      "\n"
     ]
    }
   ],
   "source": [
    "# Instantiate the models\n",
    "log_reg = LogisticRegression()\n",
    "# Fit and evaluate the Logistic Regression model\n",
    "log_reg.fit(X_train, y_train)\n",
    "y_val_pred = log_reg.predict(X_val)\n",
    "y_test_pred = log_reg.predict(X_test)\n",
    "print(\"Logistic Regression\")\n",
    "print(f\"Accuracy on validation set: {accuracy_score(y_val, y_val_pred)}\")\n",
    "print(f\"Accuracy on test set: {accuracy_score(y_test, y_test_pred)}\")\n",
    "print(f\"Cross-validation score: {cross_val_score(log_reg, X_train_val, y_train_val, cv=5).mean()}\")\n",
    "print(f\"Confusion matrix:\\n{confusion_matrix(y_test, y_test_pred)}\")\n",
    "print(f\"Classification report:\\n{classification_report(y_test, y_test_pred)}\\n\")"
   ]
  },
  {
   "cell_type": "markdown",
   "metadata": {
    "cell_id": "caf6404721ed489289b41bb518e38e3f",
    "deepnote_cell_type": "markdown"
   },
   "source": [
    "* Accuracy on validation set: 0.723834067669798 -\n",
    "This means that the logistic regression model correctly classified `72.38%` of the instances in the validation set.\n",
    "\n",
    "* Accuracy on test set: 0.7225039487904231 -\n",
    "This means that the logistic regression model correctly classified `72.22%` of the instances in the test set.\n",
    "\n",
    "* Cross-validation score: 0.719775537774083 -\n",
    "This is the average accuracy score of the logistic regression model during cross-validation, which is approximately `71.98%`.\n",
    "\n",
    "* The classification report provides a summary of the model's performance on each class. The precision, recall, and F1-score metrics are calculated for both classes (0 and 1), as well as the macro and weighted averages across classes. In this case, the logistic regression model achieved a precision of `0.70` and recall of `0.79` for class 0, and a precision of `0.75` and recall of `0.65` for class 1. The overall accuracy on the test set was `0.72 = 72%`."
   ]
  },
  {
   "cell_type": "code",
   "execution_count": 10,
   "metadata": {
    "cell_id": "9d4d798e1b2040f5861535870919f0ff",
    "deepnote_cell_type": "code",
    "deepnote_to_be_reexecuted": false,
    "execution_millis": 752,
    "execution_start": 1678466965322,
    "source_hash": "57d12c95",
    "tags": []
   },
   "outputs": [
    {
     "data": {
      "image/png": "[encoded data removed]",
      "text/plain": [
       "<Figure size 800x550 with 2 Axes>"
      ]
     },
     "metadata": {},
     "output_type": "display_data"
    }
   ],
   "source": [
    "plot_confusion_matrix(log_reg, X_test, y_test);"
   ]
  },
  {
   "cell_type": "markdown",
   "metadata": {
    "cell_id": "fc0502e462454686840b90357941b15c",
    "deepnote_cell_type": "markdown",
    "tags": []
   },
   "source": [
    "* Confusion matrix: The confusion matrix shows the number of true positives (TP), true negatives (TN), false positives (FP), and false negatives (FN) that the model predicted on the test set. In this case, the model correctly predicted `4872` true negatives and `3819` true positives, but incorrectly predicted `1287` false positives and `2051` false negatives."
   ]
  },
  {
   "cell_type": "markdown",
   "metadata": {
    "cell_id": "fa3648056aba4646af6430661055597e",
    "deepnote_cell_type": "markdown"
   },
   "source": [
    "### Adaboost Classifier"
   ]
  },
  {
   "cell_type": "code",
   "execution_count": 11,
   "metadata": {
    "cell_id": "7b1d7f72ca4246aa9524e235ea7c95ba",
    "deepnote_cell_type": "code",
    "deepnote_to_be_reexecuted": false,
    "execution_millis": 4751,
    "execution_start": 1678466966065,
    "source_hash": "a42db5a3",
    "tags": []
   },
   "outputs": [
    {
     "name": "stdout",
     "output_type": "stream",
     "text": [
      "Adaboost Classifier\n",
      "Accuracy on validation set: 0.7258292459888602\n",
      "Accuracy on test set: 0.7246653919694073\n",
      "Cross-validation score: 0.722352696664242\n",
      "Confusion matrix:\n",
      "[[5016 1143]\n",
      " [2169 3701]]\n",
      "Classification report:\n",
      "              precision    recall  f1-score   support\n",
      "\n",
      "           0       0.70      0.81      0.75      6159\n",
      "           1       0.76      0.63      0.69      5870\n",
      "\n",
      "    accuracy                           0.72     12029\n",
      "   macro avg       0.73      0.72      0.72     12029\n",
      "weighted avg       0.73      0.72      0.72     12029\n",
      "\n",
      "\n"
     ]
    }
   ],
   "source": [
    "# Instantiate the models\n",
    "ada = AdaBoostClassifier()\n",
    "# Fit and evaluate the Adaboost Classifier model\n",
    "ada.fit(X_train, y_train)\n",
    "y_val_pred = ada.predict(X_val)\n",
    "y_test_pred = ada.predict(X_test)\n",
    "print(\"Adaboost Classifier\")\n",
    "print(f\"Accuracy on validation set: {accuracy_score(y_val, y_val_pred)}\")\n",
    "print(f\"Accuracy on test set: {accuracy_score(y_test, y_test_pred)}\")\n",
    "print(f\"Cross-validation score: {cross_val_score(ada, X_train_val, y_train_val, cv=5).mean()}\")\n",
    "print(f\"Confusion matrix:\\n{confusion_matrix(y_test, y_test_pred)}\")\n",
    "print(f\"Classification report:\\n{classification_report(y_test, y_test_pred)}\\n\")"
   ]
  },
  {
   "cell_type": "markdown",
   "metadata": {
    "cell_id": "135e5061917b496fad74f69ee49bd3a6",
    "deepnote_cell_type": "markdown"
   },
   "source": [
    "* Accuracy on validation set: 0.7258292459888602\n",
    "This means that the Adaboost Classifier model correctly classified `72.58%` of the instances in the validation set.\n",
    "\n",
    "* Accuracy on test set: 0.7246653919694073\n",
    "This means that the Adaboost Classifier model correctly classified `72.46%` of the instances in the test set.\n",
    "\n",
    "* Cross-validation score: 0.722352696664242\n",
    "This is the average accuracy score of the Adaboost Classifier model during cross-validation, which is approximately `72.22%`.\n",
    "\n",
    "* The classification report provides a summary of the model's performance on each class. The precision, recall, and F1-score metrics are calculated for both classes (0 and 1), as well as the macro and weighted averages across classes. In this case, the logistic regression model achieved a precision of `0.70` and recall of `0.81` for class 0, and a precision of `0.76` and recall of `0.63` for class 1. The overall accuracy on the test set was `0.72 = 72%`."
   ]
  },
  {
   "cell_type": "code",
   "execution_count": 12,
   "metadata": {
    "cell_id": "e304fc13e4624774968aa27be11dd6f9",
    "deepnote_cell_type": "code",
    "deepnote_to_be_reexecuted": false,
    "execution_millis": 520,
    "execution_start": 1678466970818,
    "source_hash": "816c38f3",
    "tags": []
   },
   "outputs": [
    {
     "data": {
      "image/png": "[encoded data removed]",
      "text/plain": [
       "<Figure size 800x550 with 2 Axes>"
      ]
     },
     "metadata": {},
     "output_type": "display_data"
    }
   ],
   "source": [
    "plot_confusion_matrix(ada, X_test, y_test);"
   ]
  },
  {
   "cell_type": "markdown",
   "metadata": {
    "cell_id": "510ae5317b6e4420a000a09db4638f26",
    "deepnote_cell_type": "markdown",
    "tags": []
   },
   "source": [
    "* Confusion matrix: The confusion matrix shows the number of true positives (TP), true negatives (TN), false positives (FP), and false negatives (FN) that the model predicted on the test set. In this case, the model correctly predicted `5016` true negatives and `3701` true positives, but incorrectly predicted `1143` false positives and `2169` false negatives."
   ]
  },
  {
   "cell_type": "markdown",
   "metadata": {
    "cell_id": "16779b4794934acd8f3aacb1b0a9a22e",
    "deepnote_cell_type": "markdown"
   },
   "source": [
    "### Gradientboost Classifier"
   ]
  },
  {
   "cell_type": "code",
   "execution_count": 13,
   "metadata": {
    "cell_id": "e1a00992cbcd49b58e77b33b1fab21d2",
    "deepnote_cell_type": "code",
    "deepnote_to_be_reexecuted": false,
    "execution_millis": 15033,
    "execution_start": 1678466971367,
    "source_hash": "44bd1c4e",
    "tags": []
   },
   "outputs": [
    {
     "name": "stdout",
     "output_type": "stream",
     "text": [
      "Gradientboost Classifier\n",
      "Accuracy on validation set: 0.7269099675783524\n",
      "Accuracy on test set: 0.7294039404771802\n",
      "Cross-validation score: 0.7279226852332953\n",
      "Confusion matrix:\n",
      "[[4746 1413]\n",
      " [1842 4028]]\n",
      "Classification report:\n",
      "              precision    recall  f1-score   support\n",
      "\n",
      "           0       0.72      0.77      0.74      6159\n",
      "           1       0.74      0.69      0.71      5870\n",
      "\n",
      "    accuracy                           0.73     12029\n",
      "   macro avg       0.73      0.73      0.73     12029\n",
      "weighted avg       0.73      0.73      0.73     12029\n",
      "\n",
      "\n"
     ]
    }
   ],
   "source": [
    "# Instantiate the models\n",
    "gb = GradientBoostingClassifier()\n",
    "# Fit and evaluate the Gradientboost Classifier model\n",
    "gb.fit(X_train, y_train)\n",
    "y_val_pred = gb.predict(X_val)\n",
    "y_test_pred = gb.predict(X_test)\n",
    "print(\"Gradientboost Classifier\")\n",
    "print(f\"Accuracy on validation set: {accuracy_score(y_val, y_val_pred)}\")\n",
    "print(f\"Accuracy on test set: {accuracy_score(y_test, y_test_pred)}\")\n",
    "print(f\"Cross-validation score: {cross_val_score(gb, X_train_val, y_train_val, cv=5).mean()}\")\n",
    "print(f\"Confusion matrix:\\n{confusion_matrix(y_test, y_test_pred)}\")\n",
    "print(f\"Classification report:\\n{classification_report(y_test, y_test_pred)}\\n\")"
   ]
  },
  {
   "cell_type": "markdown",
   "metadata": {
    "cell_id": "3588328f3ea543e4ae629b2319877220",
    "deepnote_cell_type": "markdown"
   },
   "source": [
    "* Accuracy on validation set: 0.7269099675783524\n",
    "This means that the Gradientboost Classifier model correctly classified `72.69%` of the instances in the validation set.\n",
    "\n",
    "* Accuracy on test set: 0.7294870729071411\n",
    "This means that the Gradientboost Classifier model correctly classified `72.94%` of the instances in the test set.\n",
    "\n",
    "* Cross-validation score: 0.7278811181544216\n",
    "This is the average accuracy score of the Gradientboost Classifier model during cross-validation, which is approximately `72.79`.\n",
    "\n",
    "* The classification report provides a summary of the model's performance on each class. The precision, recall, and F1-score metrics are calculated for both classes (0 and 1), as well as the macro and weighted averages across classes. In this case, the logistic regression model achieved a precision of `0.72` and recall of `0.77` for class 0, and a precision of `0.74` and recall of `0.69` for class 1. The overall accuracy on the test set was `0.73 = 73%`."
   ]
  },
  {
   "cell_type": "code",
   "execution_count": 14,
   "metadata": {
    "cell_id": "d8750bf8f5704b68a16bfab2b736c177",
    "deepnote_cell_type": "code",
    "deepnote_to_be_reexecuted": false,
    "execution_millis": 451,
    "execution_start": 1678466986402,
    "source_hash": "8a888e3a",
    "tags": []
   },
   "outputs": [
    {
     "data": {
      "image/png": "[encoded data removed]",
      "text/plain": [
       "<Figure size 800x550 with 2 Axes>"
      ]
     },
     "metadata": {},
     "output_type": "display_data"
    }
   ],
   "source": [
    "plot_confusion_matrix(gb, X_test, y_test);"
   ]
  },
  {
   "cell_type": "markdown",
   "metadata": {
    "cell_id": "7f3a331f7d4f4acab6c911ba5258b19d",
    "deepnote_cell_type": "markdown",
    "tags": []
   },
   "source": [
    "* Confusion matrix: The confusion matrix shows the number of true positives (TP), true negatives (TN), false positives (FP), and false negatives (FN) that the model predicted on the test set. In this case, the model correctly predicted `4746` true negatives and `4028` true positives, but incorrectly predicted `1413` false positives and `1842` false negatives."
   ]
  },
  {
   "cell_type": "markdown",
   "metadata": {
    "cell_id": "82c7a14d54474b61a9492d87932239f9",
    "deepnote_cell_type": "markdown"
   },
   "source": [
    "### Ridge Classifier"
   ]
  },
  {
   "cell_type": "code",
   "execution_count": 15,
   "metadata": {
    "cell_id": "86dc1ec15c48444a98074383b20e3327",
    "deepnote_cell_type": "code",
    "deepnote_to_be_reexecuted": false,
    "execution_millis": 686,
    "execution_start": 1678466986855,
    "source_hash": "cbe57630",
    "tags": []
   },
   "outputs": [
    {
     "name": "stdout",
     "output_type": "stream",
     "text": [
      "Ridge Classifier\n",
      "Accuracy on validation set: 0.7230027433701887\n",
      "Accuracy on test set: 0.7197605786017125\n",
      "Cross-validation score: 0.7198171048529565\n",
      "Confusion matrix:\n",
      "[[4912 1247]\n",
      " [2124 3746]]\n",
      "Classification report:\n",
      "              precision    recall  f1-score   support\n",
      "\n",
      "           0       0.70      0.80      0.74      6159\n",
      "           1       0.75      0.64      0.69      5870\n",
      "\n",
      "    accuracy                           0.72     12029\n",
      "   macro avg       0.72      0.72      0.72     12029\n",
      "weighted avg       0.72      0.72      0.72     12029\n",
      "\n",
      "\n"
     ]
    }
   ],
   "source": [
    "# Instantiate the models\n",
    "ridge_class = RidgeClassifier()\n",
    "# Fit and evaluate the Ridge Classifier model\n",
    "ridge_class.fit(X_train, y_train)\n",
    "y_val_pred = ridge_class.predict(X_val)\n",
    "y_test_pred = ridge_class.predict(X_test)\n",
    "print(\"Ridge Classifier\")\n",
    "print(f\"Accuracy on validation set: {accuracy_score(y_val, y_val_pred)}\")\n",
    "print(f\"Accuracy on test set: {accuracy_score(y_test, y_test_pred)}\")\n",
    "print(f\"Cross-validation score: {cross_val_score(ridge_class, X_train_val, y_train_val, cv=5).mean()}\")\n",
    "print(f\"Confusion matrix:\\n{confusion_matrix(y_test, y_test_pred)}\")\n",
    "print(f\"Classification report:\\n{classification_report(y_test, y_test_pred)}\\n\")"
   ]
  },
  {
   "cell_type": "markdown",
   "metadata": {
    "cell_id": "7e999e8648404097857699eb9b29c42e",
    "deepnote_cell_type": "markdown"
   },
   "source": [
    "* Accuracy on validation set:  0.7230027433701887\n",
    "This means that the Random Forest Classifier model correctly classified `72.30%` of the instances in the validation set.\n",
    "\n",
    "* Accuracy on test set: 0.7197605786017125\n",
    "This means that the Random Forest Classifier model correctly classified `72%` of the instances in the test set.\n",
    "\n",
    "* Cross-validation score: 0.7198171048529565\n",
    "This is the average accuracy score of the Random Forest Classifier model during cross-validation, which is approximately `71.98%`.\n",
    "\n",
    "* The classification report provides a summary of the model's performance on each class. The precision, recall, and F1-score metrics are calculated for both classes (0 and 1), as well as the macro and weighted averages across classes. In this case, the logistic regression model achieved a precision of `0.70` and recall of `0.80` for class 0, and a precision of `0.75` and recall of `0.64` for class 1. The overall accuracy on the test set was `0.72 = 72%`."
   ]
  },
  {
   "cell_type": "code",
   "execution_count": 16,
   "metadata": {
    "cell_id": "6f81f22c6aaf41759167b57506e5f051",
    "deepnote_cell_type": "code",
    "deepnote_to_be_reexecuted": false,
    "execution_millis": 575,
    "execution_start": 1678466987553,
    "source_hash": "30ea11ad",
    "tags": []
   },
   "outputs": [
    {
     "data": {
      "image/png": "[encoded data removed]",
      "text/plain": [
       "<Figure size 800x550 with 2 Axes>"
      ]
     },
     "metadata": {},
     "output_type": "display_data"
    }
   ],
   "source": [
    "plot_confusion_matrix(ridge_class, X_test, y_test);"
   ]
  },
  {
   "cell_type": "markdown",
   "metadata": {
    "cell_id": "198ddb46ffa842f7ba544894b7a2b533",
    "deepnote_cell_type": "markdown",
    "tags": []
   },
   "source": [
    "* Confusion matrix: The confusion matrix shows the number of true positives (TP), true negatives (TN), false positives (FP), and false negatives (FN) that the model predicted on the test set. In this case, the model correctly predicted `4912` true negatives and `3746` true positives, but incorrectly predicted `2124` false positives and `1247` false negatives."
   ]
  },
  {
   "cell_type": "markdown",
   "metadata": {
    "cell_id": "4ad2a93134a54191abdb003d6fcac75a",
    "deepnote_cell_type": "text-cell-h3",
    "formattedRanges": [],
    "is_collapsed": false,
    "tags": []
   },
   "source": [
    "### Hyperparameter Tuning"
   ]
  },
  {
   "cell_type": "markdown",
   "metadata": {
    "cell_id": "842a5916f65049039ee9ccf422f64dcf",
    "deepnote_cell_type": "markdown",
    "tags": []
   },
   "source": [
    "After checking the performance metrics of each of our model, `Adaboost Classifier` and `Gradientboost Classifier` showed promising results and had higher accuracy, cross-validation scores compared to the other models, therefore we selected them for hyperparameter tuning to further optimize their performance."
   ]
  },
  {
   "cell_type": "code",
   "execution_count": 18,
   "metadata": {
    "cell_id": "95d9dc39f9fb424c93b630847a0ac2c6",
    "deepnote_cell_type": "code",
    "deepnote_to_be_reexecuted": false,
    "execution_millis": 5,
    "execution_start": 1678466992521,
    "source_hash": "fabb5032",
    "tags": []
   },
   "outputs": [],
   "source": [
    "from sklearn.model_selection import RandomizedSearchCV\n",
    "from scipy.stats import uniform, randint\n",
    "\n",
    "# Define parameter distributions for RandomizedSearchCV\n",
    "ada_param_dist = {\n",
    "    'n_estimators': randint(50, 300),\n",
    "    'learning_rate': uniform(0.01, 0.5),\n",
    "    'algorithm': ['SAMME', 'SAMME.R']\n",
    "}\n",
    "\n",
    "gb_param_dist = {\n",
    "    'n_estimators': randint(50, 300),\n",
    "    'learning_rate': uniform(0.01, 0.5),\n",
    "    'subsample': uniform(0.1, 0.9),\n",
    "    'max_depth': randint(3, 10),\n",
    "    'max_features': ['sqrt', 'log2', None]\n",
    "}"
   ]
  },
  {
   "cell_type": "code",
   "execution_count": 19,
   "metadata": {
    "cell_id": "6bce008db7314c1aa97e4a7d8510921e",
    "deepnote_cell_type": "code",
    "deepnote_to_be_reexecuted": false,
    "execution_millis": 491992,
    "execution_start": 1678466992567,
    "source_hash": "9b3bcab1",
    "tags": []
   },
   "outputs": [
    {
     "name": "stdout",
     "output_type": "stream",
     "text": [
      "Best parameters for Adaboost: {'algorithm': 'SAMME.R', 'learning_rate': 0.2575884550556351, 'n_estimators': 224}\n",
      "Best score for Adaboost: 0.7227178769931975\n"
     ]
    }
   ],
   "source": [
    "# Create the Adaboost classifier and perform RandomizedSearchCV\n",
    "ada = AdaBoostClassifier(random_state=42)\n",
    "ada_random = RandomizedSearchCV(estimator=ada, param_distributions=ada_param_dist, n_iter=50,\n",
    "                                cv=5, random_state=42, n_jobs=-1, verbose=0)\n",
    "ada_random.fit(X_train, y_train)\n",
    "\n",
    "# Print the best parameters and score for each classifier\n",
    "print(\"Best parameters for Adaboost:\", ada_random.best_params_)\n",
    "print(\"Best score for Adaboost:\", ada_random.best_score_)"
   ]
  },
  {
   "cell_type": "code",
   "execution_count": 19,
   "metadata": {
    "cell_id": "0cf4f073bc3a44668c4d64135ddecf75",
    "deepnote_cell_type": "code",
    "deepnote_to_be_reexecuted": false,
    "execution_millis": 21330,
    "execution_start": 1678468538727,
    "source_hash": "e157953d",
    "tags": []
   },
   "outputs": [
    {
     "name": "stdout",
     "output_type": "stream",
     "text": [
      "AdaBoost Classifier\n",
      "Accuracy on validation set: 72.65%\n",
      "Accuracy on test set: 72.62%\n",
      "Cross-validation score: 72.27% (+/- 1.13%)\n",
      "Classification report:\n",
      "               precision    recall  f1-score   support\n",
      "\n",
      "           0       0.70      0.82      0.75      6159\n",
      "           1       0.77      0.63      0.69      5870\n",
      "\n",
      "    accuracy                           0.73     12029\n",
      "   macro avg       0.73      0.72      0.72     12029\n",
      "weighted avg       0.73      0.73      0.72     12029\n",
      "\n"
     ]
    }
   ],
   "source": [
    "# Train Adaboost Classifier with the best hyperparameters\n",
    "ada_best = AdaBoostClassifier(algorithm='SAMME.R', learning_rate=0.2575884550556351, n_estimators=224)\n",
    "ada_best.fit(X_train, y_train)\n",
    "\n",
    "# Evaluate the model on validation set\n",
    "y_pred = ada_best.predict(X_val)\n",
    "acc_val = accuracy_score(y_val, y_pred)\n",
    "\n",
    "# Evaluate the model on test set\n",
    "y_pred = ada_best.predict(X_test)\n",
    "acc_test = accuracy_score(y_test, y_pred)\n",
    "\n",
    "# Evaluate the model using cross-validation\n",
    "cv_scores = cross_val_score(ada_best, X_train_val, y_train_val, cv=5)\n",
    "\n",
    "# Print the performance metrics\n",
    "print(\"AdaBoost Classifier\")\n",
    "print(\"Accuracy on validation set: {:.2f}%\".format(acc_val*100))\n",
    "print(\"Accuracy on test set: {:.2f}%\".format(acc_test*100))\n",
    "print(\"Cross-validation score: {:.2f}% (+/- {:.2f}%)\".format(cv_scores.mean()*100, cv_scores.std()*2*100))\n",
    "print(\"Classification report:\\n\", classification_report(y_test, y_pred))"
   ]
  },
  {
   "cell_type": "code",
   "execution_count": 20,
   "metadata": {
    "cell_id": "ae54b7745f984b8a9bfefb54d0586356",
    "deepnote_cell_type": "code",
    "deepnote_to_be_reexecuted": false,
    "execution_millis": 883,
    "execution_start": 1678468611601,
    "is_output_hidden": false,
    "source_hash": "da89326a",
    "tags": []
   },
   "outputs": [
    {
     "data": {
      "image/png": "[encoded data removed]",
      "text/plain": [
       "<Figure size 800x550 with 2 Axes>"
      ]
     },
     "metadata": {},
     "output_type": "display_data"
    }
   ],
   "source": [
    "plot_confusion_matrix(ada_best, X_test, y_test);"
   ]
  },
  {
   "cell_type": "code",
   "execution_count": 22,
   "metadata": {
    "cell_id": "db67aea92a0e4a2b8d1fae190c0d20a6",
    "deepnote_cell_type": "code",
    "deepnote_to_be_reexecuted": false,
    "execution_millis": 982097,
    "execution_start": 1678467484558,
    "source_hash": "ffc4eab1",
    "tags": []
   },
   "outputs": [
    {
     "name": "stdout",
     "output_type": "stream",
     "text": [
      "Best parameters for GradientBoost: {'learning_rate': 0.02153121252070788, 'max_depth': 5, 'max_features': None, 'n_estimators': 219, 'subsample': 0.1419990968922539}\n",
      "Best score for GradientBoost: 0.7283987236042113\n"
     ]
    }
   ],
   "source": [
    "# Create the Gradientboost classifier and perform RandomizedSearchCV\n",
    "gb = GradientBoostingClassifier(random_state=42)\n",
    "gb_random = RandomizedSearchCV(estimator=gb, param_distributions=gb_param_dist, n_iter=50,\n",
    "                               cv=5, random_state=42, n_jobs=-1, verbose=0)\n",
    "gb_random.fit(X_train, y_train)\n",
    "print(\"Best parameters for GradientBoost:\", gb_random.best_params_)\n",
    "print(\"Best score for GradientBoost:\", gb_random.best_score_)"
   ]
  },
  {
   "cell_type": "code",
   "execution_count": 21,
   "metadata": {
    "cell_id": "c31fe3ed11154bd3a73807e35724d766",
    "deepnote_cell_type": "code",
    "deepnote_to_be_reexecuted": false,
    "execution_millis": 18035,
    "execution_start": 1678468647492,
    "source_hash": "b29c4e50",
    "tags": []
   },
   "outputs": [
    {
     "name": "stdout",
     "output_type": "stream",
     "text": [
      "GradientBoost Classifier\n",
      "Accuracy on validation set: 72.67%\n",
      "Accuracy on test set: 73.04%\n",
      "Cross-validation score: 72.79% (+/- 1.21%)\n",
      "Classification report:\n",
      "               precision    recall  f1-score   support\n",
      "\n",
      "           0       0.72      0.78      0.75      6159\n",
      "           1       0.75      0.68      0.71      5870\n",
      "\n",
      "    accuracy                           0.73     12029\n",
      "   macro avg       0.73      0.73      0.73     12029\n",
      "weighted avg       0.73      0.73      0.73     12029\n",
      "\n"
     ]
    }
   ],
   "source": [
    "# Train GradientBoosting Classifier with the best hyperparameters\n",
    "gradboost_best = GradientBoostingClassifier(learning_rate= 0.02153121252070788, max_depth= 5, max_features= None, n_estimators= 219, subsample= 0.1419990968922539, random_state=42)\n",
    "gradboost_best.fit(X_train, y_train)\n",
    "\n",
    "# Evaluate the model on validation set\n",
    "y_pred = gradboost_best.predict(X_val)\n",
    "acc_val = accuracy_score(y_val, y_pred)\n",
    "\n",
    "# Evaluate the model on test set\n",
    "y_pred = gradboost_best.predict(X_test)\n",
    "acc_test = accuracy_score(y_test, y_pred)\n",
    "\n",
    "# Evaluate the model using cross-validation\n",
    "cv_scores = cross_val_score(gradboost_best, X_train_val, y_train_val, cv=5)\n",
    "\n",
    "# Print the performance metrics\n",
    "print(\"GradientBoost Classifier\")\n",
    "print(\"Accuracy on validation set: {:.2f}%\".format(acc_val*100))\n",
    "print(\"Accuracy on test set: {:.2f}%\".format(acc_test*100))\n",
    "print(\"Cross-validation score: {:.2f}% (+/- {:.2f}%)\".format(cv_scores.mean()*100, cv_scores.std()*2*100))\n",
    "print(\"Classification report:\\n\", classification_report(y_test, y_pred))"
   ]
  },
  {
   "cell_type": "code",
   "execution_count": 22,
   "metadata": {
    "cell_id": "ec453b699b7240ada0d0e7fc7a206340",
    "deepnote_cell_type": "code",
    "deepnote_to_be_reexecuted": false,
    "execution_millis": 583,
    "execution_start": 1678468668143,
    "source_hash": "eb837ee8",
    "tags": []
   },
   "outputs": [
    {
     "data": {
      "image/png": "[encoded data removed]",
      "text/plain": [
       "<Figure size 800x550 with 2 Axes>"
      ]
     },
     "metadata": {},
     "output_type": "display_data"
    }
   ],
   "source": [
    "plot_confusion_matrix(gradboost_best, X_test, y_test);"
   ]
  },
  {
   "cell_type": "markdown",
   "metadata": {
    "cell_id": "9ab1083a61f44a009e7fab576c0a2ab8",
    "deepnote_cell_type": "markdown",
    "tags": []
   },
   "source": [
    "In this code, we define parameter distributions for `AdaBoostClassifier` and `GradientBoostingClassifier` using the `randint` and `uniform` functions from the scipy.stats module. Then, we create the classifiers and perform RandomizedSearchCV using the `RandomizedSearchCV` function from scikit-learn. Finally, we print the best parameters and score for each classifier. You can adjust the parameter distributions and other settings as needed for your specific use case."
   ]
  },
  {
   "cell_type": "code",
   "execution_count": 23,
   "metadata": {
    "cell_id": "b885117756c04d57a06899becf68ad70",
    "deepnote_cell_type": "code",
    "deepnote_to_be_reexecuted": false,
    "execution_millis": 4,
    "execution_start": 1678468705065,
    "source_hash": "ee3572ef",
    "tags": []
   },
   "outputs": [],
   "source": [
    "from sklearn.model_selection import GridSearchCV\n",
    "\n",
    "# Define parameter distributions for GridSearchCV\n",
    "\n",
    "# Adaboost Classifier\n",
    "ada_params = {\n",
    "    'n_estimators': [50, 100, 150],\n",
    "    'learning_rate': [0.01, 0.1, 1],\n",
    "    'algorithm': ['SAMME', 'SAMME.R']\n",
    "}\n",
    "\n",
    "# Gradientboost Classifier\n",
    "gb_params = {\n",
    "    'n_estimators': [50, 100, 150],\n",
    "    'learning_rate': [0.01, 0.1, 1],\n",
    "    'max_depth': [3, 5, 7],\n",
    "    'max_features': ['sqrt', 'log2', None],\n",
    "    'min_samples_split': [2, 5, 10]\n",
    "}"
   ]
  },
  {
   "cell_type": "code",
   "execution_count": 31,
   "metadata": {
    "cell_id": "3ebbe7dd60eb41539f6e2d140c1b7533",
    "deepnote_cell_type": "code",
    "deepnote_to_be_reexecuted": false,
    "execution_millis": 100001,
    "execution_start": 1678468710868,
    "source_hash": "2e8bff20",
    "tags": []
   },
   "outputs": [
    {
     "name": "stdout",
     "output_type": "stream",
     "text": [
      "Best Adaboost params: {'algorithm': 'SAMME.R', 'learning_rate': 1, 'n_estimators': 100}\n",
      "Best Adaboost accuracy: 0.7229949966123597\n"
     ]
    }
   ],
   "source": [
    "ada_clf = AdaBoostClassifier(random_state=42)\n",
    "\n",
    "ada_grid = GridSearchCV(ada_clf, param_grid=ada_params, cv=5, n_jobs=-1, scoring='accuracy', verbose=0)\n",
    "ada_grid.fit(X_train, y_train)\n",
    "\n",
    "print(\"Best Adaboost params:\", ada_grid.best_params_)\n",
    "print(\"Best Adaboost accuracy:\", ada_grid.best_score_)"
   ]
  },
  {
   "cell_type": "code",
   "execution_count": 24,
   "metadata": {
    "cell_id": "bdd6516b1f2449078de1e35cb009ebaa",
    "deepnote_cell_type": "code",
    "deepnote_to_be_reexecuted": false,
    "execution_millis": 9158,
    "execution_start": 1678472842399,
    "source_hash": "9b8244a2",
    "tags": []
   },
   "outputs": [
    {
     "name": "stdout",
     "output_type": "stream",
     "text": [
      "AdaBoost Classifier\n",
      "Accuracy on validation set: 72.57%\n",
      "Accuracy on test set: 72.52%\n",
      "Cross-validation score: 72.26% (+/- 1.22%)\n",
      "Classification report:\n",
      "               precision    recall  f1-score   support\n",
      "\n",
      "           0       0.70      0.81      0.75      6159\n",
      "           1       0.76      0.63      0.69      5870\n",
      "\n",
      "    accuracy                           0.73     12029\n",
      "   macro avg       0.73      0.72      0.72     12029\n",
      "weighted avg       0.73      0.73      0.72     12029\n",
      "\n"
     ]
    }
   ],
   "source": [
    "# Train Adaboost Classifier with the best hyperparameters\n",
    "ada_grid_best = AdaBoostClassifier(algorithm='SAMME.R', learning_rate=1, n_estimators=100, random_state=42)\n",
    "ada_grid_best.fit(X_train, y_train)\n",
    "\n",
    "# Evaluate the model on validation set\n",
    "y_pred = ada_grid_best.predict(X_val)\n",
    "acc_val = accuracy_score(y_val, y_pred)\n",
    "\n",
    "# Evaluate the model on test set\n",
    "y_pred = ada_grid_best.predict(X_test)\n",
    "acc_test = accuracy_score(y_test, y_pred)\n",
    "\n",
    "# Evaluate the model using cross-validation\n",
    "cv_scores = cross_val_score(ada_grid_best, X_train_val, y_train_val, cv=5)\n",
    "\n",
    "# Print the performance metrics\n",
    "print(\"AdaBoost Classifier\")\n",
    "print(\"Accuracy on validation set: {:.2f}%\".format(acc_val*100))\n",
    "print(\"Accuracy on test set: {:.2f}%\".format(acc_test*100))\n",
    "print(\"Cross-validation score: {:.2f}% (+/- {:.2f}%)\".format(cv_scores.mean()*100, cv_scores.std()*2*100))\n",
    "print(\"Classification report:\\n\", classification_report(y_test, y_pred))"
   ]
  },
  {
   "cell_type": "code",
   "execution_count": 25,
   "metadata": {
    "cell_id": "2c6ecc35dc9a4f5787544c257a0938ae",
    "deepnote_cell_type": "code",
    "deepnote_to_be_reexecuted": true,
    "execution_millis": 995824219,
    "execution_start": 1677472642956,
    "source_hash": "6408e47a",
    "tags": []
   },
   "outputs": [
    {
     "data": {
      "image/png": "[encoded data removed]",
      "text/plain": [
       "<Figure size 800x550 with 2 Axes>"
      ]
     },
     "metadata": {},
     "output_type": "display_data"
    }
   ],
   "source": [
    "plot_confusion_matrix(ada_grid_best, X_test, y_test);"
   ]
  },
  {
   "cell_type": "code",
   "execution_count": 32,
   "metadata": {
    "cell_id": "e71732e7d6c54541b7a871379605eea9",
    "deepnote_cell_type": "code",
    "deepnote_to_be_reexecuted": false,
    "execution_millis": 2343888,
    "execution_start": 1678468810869,
    "source_hash": "32e08f62",
    "tags": []
   },
   "outputs": [
    {
     "name": "stdout",
     "output_type": "stream",
     "text": [
      "Best GradientBoosting params: {'learning_rate': 0.1, 'max_depth': 5, 'max_features': 'sqrt', 'min_samples_split': 10, 'n_estimators': 150}\n",
      "Best GradientBoosting accuracy: 0.7288975919015757\n"
     ]
    }
   ],
   "source": [
    "gb_clf = GradientBoostingClassifier(random_state=42)\n",
    "\n",
    "gb_grid = GridSearchCV(gb_clf, param_grid=gb_params, cv=5, n_jobs=-1, scoring='accuracy', verbose=0)\n",
    "gb_grid.fit(X_train, y_train)\n",
    "\n",
    "print(\"Best GradientBoosting params:\", gb_grid.best_params_)\n",
    "print(\"Best GradientBoosting accuracy:\", gb_grid.best_score_)"
   ]
  },
  {
   "cell_type": "code",
   "execution_count": 26,
   "metadata": {
    "cell_id": "fbb49225d9f746bf9c853c1cab0da714",
    "deepnote_cell_type": "code",
    "deepnote_to_be_reexecuted": false,
    "execution_millis": 13478,
    "execution_start": 1678472879532,
    "source_hash": "2e5b693f",
    "tags": []
   },
   "outputs": [
    {
     "name": "stdout",
     "output_type": "stream",
     "text": [
      "GradientBoosting Classifier \n",
      "Accuracy on validation set: 72.41%\n",
      "Accuracy on test set: 72.89%\n",
      "Cross-validation score: 72.79% (+/- 1.05%)\n",
      "Classification report:\n",
      "               precision    recall  f1-score   support\n",
      "\n",
      "           0       0.72      0.78      0.75      6159\n",
      "           1       0.75      0.67      0.71      5870\n",
      "\n",
      "    accuracy                           0.73     12029\n",
      "   macro avg       0.73      0.73      0.73     12029\n",
      "weighted avg       0.73      0.73      0.73     12029\n",
      "\n"
     ]
    }
   ],
   "source": [
    "# Train GradientBoosting Classifier with the best hyperparameters\n",
    "gradboost_grid_best = GradientBoostingClassifier(learning_rate= 0.1, max_depth= 5, max_features= 'sqrt', min_samples_split = 10, n_estimators=150, random_state=42)\n",
    "gradboost_grid_best.fit(X_train, y_train)\n",
    "\n",
    "# Evaluate the model on validation set\n",
    "y_pred = gradboost_grid_best.predict(X_val)\n",
    "acc_val = accuracy_score(y_val, y_pred)\n",
    "\n",
    "# Evaluate the model on test set\n",
    "y_pred = gradboost_grid_best.predict(X_test)\n",
    "acc_test = accuracy_score(y_test, y_pred)\n",
    "\n",
    "# Evaluate the model using cross-validation\n",
    "cv_scores = cross_val_score(gradboost_grid_best, X_train_val, y_train_val, cv=5)\n",
    "\n",
    "# Print the performance metrics\n",
    "print(\"GradientBoosting Classifier \")\n",
    "print(\"Accuracy on validation set: {:.2f}%\".format(acc_val*100))\n",
    "print(\"Accuracy on test set: {:.2f}%\".format(acc_test*100))\n",
    "print(\"Cross-validation score: {:.2f}% (+/- {:.2f}%)\".format(cv_scores.mean()*100, cv_scores.std()*2*100))\n",
    "print(\"Classification report:\\n\", classification_report(y_test, y_pred))"
   ]
  },
  {
   "cell_type": "code",
   "execution_count": 27,
   "metadata": {
    "cell_id": "bdde6a3c06fd49e8b7fcdc3b76179285",
    "deepnote_cell_type": "code",
    "deepnote_to_be_reexecuted": true,
    "execution_millis": 995810305,
    "execution_start": 1677472656911,
    "source_hash": "65efcfe6",
    "tags": []
   },
   "outputs": [
    {
     "data": {
      "image/png": "[encoded data removed]",
      "text/plain": [
       "<Figure size 800x550 with 2 Axes>"
      ]
     },
     "metadata": {},
     "output_type": "display_data"
    }
   ],
   "source": [
    "plot_confusion_matrix(gradboost_grid_best, X_test, y_test);"
   ]
  },
  {
   "cell_type": "markdown",
   "metadata": {
    "cell_id": "20cd5dae3972415f8b246dfa1943aee0",
    "deepnote_cell_type": "markdown",
    "tags": []
   },
   "source": [
    "This code defines a range of hyperparameters for both `Adaboost` and `GradientBoosting` classifiers and performs a grid search with cross-validation to find the best set of hyperparameters that maximize accuracy. The `GridSearchCV` object is defined with `cv=5` to use 5-fold cross-validation and `n_jobs=-1` to use all available CPU cores for parallel processing. The scoring parameter is set to `'accuracy'` to optimize for accuracy.\n",
    "\n",
    "After running the code, the best set of hyperparameters and the corresponding `accuracy` score are printed for each model."
   ]
  },
  {
   "cell_type": "markdown",
   "metadata": {
    "cell_id": "9af8955cec8c49408506f44245f040da",
    "deepnote_cell_type": "text-cell-h3",
    "formattedRanges": [],
    "is_collapsed": false,
    "tags": []
   },
   "source": [
    "## Appending all models"
   ]
  },
  {
   "cell_type": "code",
   "execution_count": 29,
   "metadata": {
    "cell_id": "2cd8faaa9f664a0286f35ac001c6c933",
    "deepnote_cell_type": "code",
    "deepnote_to_be_reexecuted": true,
    "execution_millis": 995809962,
    "execution_start": 1677472657256,
    "source_hash": "17d0a62a",
    "tags": []
   },
   "outputs": [
    {
     "data": {
      "text/html": [
       "<div>\n",
       "<style scoped>\n",
       "    .dataframe tbody tr th:only-of-type {\n",
       "        vertical-align: middle;\n",
       "    }\n",
       "\n",
       "    .dataframe tbody tr th {\n",
       "        vertical-align: top;\n",
       "    }\n",
       "\n",
       "    .dataframe thead th {\n",
       "        text-align: right;\n",
       "    }\n",
       "</style>\n",
       "<table border=\"1\" class=\"dataframe\">\n",
       "  <thead>\n",
       "    <tr style=\"text-align: right;\">\n",
       "      <th></th>\n",
       "      <th>Model</th>\n",
       "      <th>Accuracy</th>\n",
       "      <th>Precision</th>\n",
       "      <th>Recall</th>\n",
       "      <th>F1-Score</th>\n",
       "    </tr>\n",
       "  </thead>\n",
       "  <tbody>\n",
       "    <tr>\n",
       "      <th>0</th>\n",
       "      <td>Logistic Regression</td>\n",
       "      <td>Val: 0.724, Test: 0.723</td>\n",
       "      <td>Val: 0.726, Test: 0.725</td>\n",
       "      <td>Val: 0.724, Test: 0.723</td>\n",
       "      <td>Val: 0.722, Test: 0.721</td>\n",
       "    </tr>\n",
       "    <tr>\n",
       "      <th>1</th>\n",
       "      <td>Adaboost Classifier</td>\n",
       "      <td>Val: 0.726, Test: 0.725</td>\n",
       "      <td>Val: 0.730, Test: 0.730</td>\n",
       "      <td>Val: 0.726, Test: 0.725</td>\n",
       "      <td>Val: 0.724, Test: 0.722</td>\n",
       "    </tr>\n",
       "    <tr>\n",
       "      <th>2</th>\n",
       "      <td>Gradientboost Classifier</td>\n",
       "      <td>Val: 0.727, Test: 0.729</td>\n",
       "      <td>Val: 0.727, Test: 0.730</td>\n",
       "      <td>Val: 0.727, Test: 0.729</td>\n",
       "      <td>Val: 0.726, Test: 0.729</td>\n",
       "    </tr>\n",
       "    <tr>\n",
       "      <th>3</th>\n",
       "      <td>Ridge Classifier</td>\n",
       "      <td>Val: 0.723, Test: 0.720</td>\n",
       "      <td>Val: 0.726, Test: 0.724</td>\n",
       "      <td>Val: 0.723, Test: 0.720</td>\n",
       "      <td>Val: 0.721, Test: 0.718</td>\n",
       "    </tr>\n",
       "    <tr>\n",
       "      <th>4</th>\n",
       "      <td>AdaBoost Classifier Best</td>\n",
       "      <td>Val: 0.726, Test: 0.726</td>\n",
       "      <td>Val: 0.731, Test: 0.732</td>\n",
       "      <td>Val: 0.726, Test: 0.726</td>\n",
       "      <td>Val: 0.724, Test: 0.724</td>\n",
       "    </tr>\n",
       "    <tr>\n",
       "      <th>5</th>\n",
       "      <td>GradientBoost Classifier Best</td>\n",
       "      <td>Val: 0.727, Test: 0.730</td>\n",
       "      <td>Val: 0.728, Test: 0.732</td>\n",
       "      <td>Val: 0.727, Test: 0.730</td>\n",
       "      <td>Val: 0.726, Test: 0.730</td>\n",
       "    </tr>\n",
       "    <tr>\n",
       "      <th>6</th>\n",
       "      <td>AdaBoost Classifier GridSearch Best</td>\n",
       "      <td>Val: 0.726, Test: 0.725</td>\n",
       "      <td>Val: 0.729, Test: 0.730</td>\n",
       "      <td>Val: 0.726, Test: 0.725</td>\n",
       "      <td>Val: 0.723, Test: 0.723</td>\n",
       "    </tr>\n",
       "    <tr>\n",
       "      <th>7</th>\n",
       "      <td>GradientBoost Classifier GridSearch Best</td>\n",
       "      <td>Val: 0.724, Test: 0.729</td>\n",
       "      <td>Val: 0.725, Test: 0.730</td>\n",
       "      <td>Val: 0.724, Test: 0.729</td>\n",
       "      <td>Val: 0.723, Test: 0.728</td>\n",
       "    </tr>\n",
       "  </tbody>\n",
       "</table>\n",
       "</div>"
      ],
      "text/plain": [
       "                                      Model                 Accuracy  \\\n",
       "0                       Logistic Regression  Val: 0.724, Test: 0.723   \n",
       "1                       Adaboost Classifier  Val: 0.726, Test: 0.725   \n",
       "2                  Gradientboost Classifier  Val: 0.727, Test: 0.729   \n",
       "3                          Ridge Classifier  Val: 0.723, Test: 0.720   \n",
       "4                  AdaBoost Classifier Best  Val: 0.726, Test: 0.726   \n",
       "5             GradientBoost Classifier Best  Val: 0.727, Test: 0.730   \n",
       "6       AdaBoost Classifier GridSearch Best  Val: 0.726, Test: 0.725   \n",
       "7  GradientBoost Classifier GridSearch Best  Val: 0.724, Test: 0.729   \n",
       "\n",
       "                 Precision                   Recall                 F1-Score  \n",
       "0  Val: 0.726, Test: 0.725  Val: 0.724, Test: 0.723  Val: 0.722, Test: 0.721  \n",
       "1  Val: 0.730, Test: 0.730  Val: 0.726, Test: 0.725  Val: 0.724, Test: 0.722  \n",
       "2  Val: 0.727, Test: 0.730  Val: 0.727, Test: 0.729  Val: 0.726, Test: 0.729  \n",
       "3  Val: 0.726, Test: 0.724  Val: 0.723, Test: 0.720  Val: 0.721, Test: 0.718  \n",
       "4  Val: 0.731, Test: 0.732  Val: 0.726, Test: 0.726  Val: 0.724, Test: 0.724  \n",
       "5  Val: 0.728, Test: 0.732  Val: 0.727, Test: 0.730  Val: 0.726, Test: 0.730  \n",
       "6  Val: 0.729, Test: 0.730  Val: 0.726, Test: 0.725  Val: 0.723, Test: 0.723  \n",
       "7  Val: 0.725, Test: 0.730  Val: 0.724, Test: 0.729  Val: 0.723, Test: 0.728  "
      ]
     },
     "execution_count": 29,
     "metadata": {},
     "output_type": "execute_result"
    }
   ],
   "source": [
    "# Define the models\n",
    "models = [\n",
    "    ('Logistic Regression', log_reg),\n",
    "    ('Adaboost Classifier', ada),\n",
    "    ('Gradientboost Classifier', gb),\n",
    "    ('Ridge Classifier', ridge_class),\n",
    "    ('AdaBoost Classifier Best', ada_best),\n",
    "    ('GradientBoost Classifier Best', gradboost_best),\n",
    "    ('AdaBoost Classifier GridSearch Best', ada_grid_best),\n",
    "    ('GradientBoost Classifier GridSearch Best', gradboost_grid_best)\n",
    "]\n",
    "\n",
    "# Create an empty DataFrame to store the results\n",
    "results_df = pd.DataFrame(columns=['Model', 'Accuracy', 'Precision', 'Recall', 'F1-Score'])\n",
    "\n",
    "# Evaluate each model and append the results to the DataFrame\n",
    "for model_name, model in models:\n",
    "    # Train the model\n",
    "    model.fit(X_train, y_train)\n",
    "\n",
    "    # Evaluate the model on the validation set\n",
    "    y_val_pred = model.predict(X_val)\n",
    "    acc_val = accuracy_score(y_val, y_val_pred)\n",
    "    p_val, r_val, f1_val, _ = precision_recall_fscore_support(y_val, y_val_pred, average='weighted')\n",
    "\n",
    "    # Evaluate the model on the test set\n",
    "    y_test_pred = model.predict(X_test)\n",
    "    acc_test = accuracy_score(y_test, y_test_pred)\n",
    "    p_test, r_test, f1_test, _ = precision_recall_fscore_support(y_test, y_test_pred, average='weighted')\n",
    "\n",
    "    # Append the results to the DataFrame\n",
    "    results_df = results_df.append({\n",
    "        'Model': model_name,\n",
    "        'Accuracy': f'Val: {acc_val:.3f}, Test: {acc_test:.3f}',\n",
    "        'Precision': f'Val: {p_val:.3f}, Test: {p_test:.3f}',\n",
    "        'Recall': f'Val: {r_val:.3f}, Test: {r_test:.3f}',\n",
    "        'F1-Score': f'Val: {f1_val:.3f}, Test: {f1_test:.3f}'\n",
    "    }, ignore_index=True)\n",
    "\n",
    "# Print the results\n",
    "results_df"
   ]
  },
  {
   "cell_type": "markdown",
   "metadata": {
    "cell_id": "f87fa8551c3c4b4a893099fe9d93b624",
    "deepnote_cell_type": "markdown",
    "tags": []
   },
   "source": [
    "This created a DataFrame with columns for the model name, accuracy, precision, recall, and f1-score for both the validation and test sets. With `GradientBoost Classifier RandomSearchCV` performing better across all performance metrics."
   ]
  },
  {
   "cell_type": "markdown",
   "metadata": {
    "cell_id": "fcdc4fb092204b33994fef8a8b1226d3",
    "deepnote_cell_type": "text-cell-h3",
    "formattedRanges": [],
    "is_collapsed": false,
    "tags": []
   },
   "source": [
    "## Implementing Voting-Classifier"
   ]
  },
  {
   "cell_type": "code",
   "execution_count": 30,
   "metadata": {
    "cell_id": "c352750f171e4a41b028832cde68d487",
    "deepnote_cell_type": "code",
    "deepnote_to_be_reexecuted": true,
    "execution_millis": 995791932,
    "execution_start": 1677472675285,
    "source_hash": "208da2da",
    "tags": []
   },
   "outputs": [
    {
     "name": "stdout",
     "output_type": "stream",
     "text": [
      "Voting Classifier \n",
      "Accuracy on validation set: 72.49%\n",
      "Accuracy on test set: 73.07%\n",
      "Cross-validation score: 72.78% (+/- 1.22%)\n",
      "Classification report:\n",
      "               precision    recall  f1-score   support\n",
      "\n",
      "           0       0.72      0.78      0.75      6159\n",
      "           1       0.75      0.67      0.71      5870\n",
      "\n",
      "    accuracy                           0.73     12029\n",
      "   macro avg       0.73      0.73      0.73     12029\n",
      "weighted avg       0.73      0.73      0.73     12029\n",
      "\n"
     ]
    }
   ],
   "source": [
    "from sklearn.ensemble import VotingClassifier\n",
    "\n",
    "vc = VotingClassifier(estimators=[('GradientBoost GridSearchCV', gradboost_grid_best),\n",
    "                                ('GradientBoost RandomSearchCV', gradboost_best)], \n",
    "                                voting='hard')\n",
    "vc.fit(X_train,y_train)\n",
    "\n",
    "# Evaluate the model on validation set\n",
    "y_val_pred = vc.predict(X_val)\n",
    "acc_val = accuracy_score(y_val, y_val_pred)\n",
    "p_val, r_val, f1_val, _ = precision_recall_fscore_support(y_val, y_val_pred, average='weighted')\n",
    "\n",
    "# Evaluate the model on test set\n",
    "y_test_pred = vc.predict(X_test)\n",
    "acc_test = accuracy_score(y_test, y_test_pred)\n",
    "p_test, r_test, f1_test, _ = precision_recall_fscore_support(y_test, y_test_pred, average='weighted')\n",
    "\n",
    "# Evaluate the model using cross-validation\n",
    "cv_scores = cross_val_score(vc, X_train_val, y_train_val, cv=5)\n",
    "\n",
    "# Append the results to the DataFrame\n",
    "results_df = results_df.append({\n",
    "    'Model': 'Voting Classifier',\n",
    "    'Accuracy': f'Val: {acc_val:.3f}, Test: {acc_test:.3f}',\n",
    "    'Precision': f'Val: {p_val:.3f}, Test: {p_test:.3f}',\n",
    "    'Recall': f'Val: {r_val:.3f}, Test: {r_test:.3f}',\n",
    "    'F1-Score': f'Val: {f1_val:.3f}, Test: {f1_test:.3f}'\n",
    "}, ignore_index=True)\n",
    "\n",
    "# Print the performance metrics\n",
    "print(\"Voting Classifier \")\n",
    "print(\"Accuracy on validation set: {:.2f}%\".format(acc_val*100))\n",
    "print(\"Accuracy on test set: {:.2f}%\".format(acc_test*100))\n",
    "print(\"Cross-validation score: {:.2f}% (+/- {:.2f}%)\".format(cv_scores.mean()*100, cv_scores.std()*2*100))\n",
    "print(\"Classification report:\\n\", classification_report(y_test, y_pred))"
   ]
  },
  {
   "cell_type": "code",
   "execution_count": 31,
   "metadata": {
    "cell_id": "dc0f599176f649c78e63e0c2b9938cf7",
    "deepnote_cell_type": "code",
    "deepnote_to_be_reexecuted": true,
    "execution_millis": 995753131,
    "execution_start": 1677472714086,
    "source_hash": "27052b0a",
    "tags": []
   },
   "outputs": [
    {
     "data": {
      "image/png": "[encoded data removed]",
      "text/plain": [
       "<Figure size 800x550 with 2 Axes>"
      ]
     },
     "metadata": {},
     "output_type": "display_data"
    }
   ],
   "source": [
    "plot_confusion_matrix(vc, X_test, y_test);"
   ]
  },
  {
   "cell_type": "code",
   "execution_count": 34,
   "metadata": {
    "cell_id": "b9c87f758f2644ff87a16711ecac249a",
    "deepnote_cell_type": "code",
    "deepnote_to_be_reexecuted": true,
    "execution_millis": 995752517,
    "execution_start": 1677472714701,
    "source_hash": "eef4e5cd",
    "tags": []
   },
   "outputs": [
    {
     "data": {
      "text/html": [
       "<div>\n",
       "<style scoped>\n",
       "    .dataframe tbody tr th:only-of-type {\n",
       "        vertical-align: middle;\n",
       "    }\n",
       "\n",
       "    .dataframe tbody tr th {\n",
       "        vertical-align: top;\n",
       "    }\n",
       "\n",
       "    .dataframe thead th {\n",
       "        text-align: right;\n",
       "    }\n",
       "</style>\n",
       "<table border=\"1\" class=\"dataframe\">\n",
       "  <thead>\n",
       "    <tr style=\"text-align: right;\">\n",
       "      <th></th>\n",
       "      <th>Model</th>\n",
       "      <th>Accuracy</th>\n",
       "      <th>Precision</th>\n",
       "      <th>Recall</th>\n",
       "      <th>F1-Score</th>\n",
       "    </tr>\n",
       "  </thead>\n",
       "  <tbody>\n",
       "    <tr>\n",
       "      <th>0</th>\n",
       "      <td>Logistic Regression</td>\n",
       "      <td>Val: 0.724, Test: 0.723</td>\n",
       "      <td>Val: 0.726, Test: 0.725</td>\n",
       "      <td>Val: 0.724, Test: 0.723</td>\n",
       "      <td>Val: 0.722, Test: 0.721</td>\n",
       "    </tr>\n",
       "    <tr>\n",
       "      <th>1</th>\n",
       "      <td>Adaboost Classifier</td>\n",
       "      <td>Val: 0.726, Test: 0.725</td>\n",
       "      <td>Val: 0.730, Test: 0.730</td>\n",
       "      <td>Val: 0.726, Test: 0.725</td>\n",
       "      <td>Val: 0.724, Test: 0.722</td>\n",
       "    </tr>\n",
       "    <tr>\n",
       "      <th>2</th>\n",
       "      <td>Gradientboost Classifier</td>\n",
       "      <td>Val: 0.727, Test: 0.729</td>\n",
       "      <td>Val: 0.727, Test: 0.730</td>\n",
       "      <td>Val: 0.727, Test: 0.729</td>\n",
       "      <td>Val: 0.726, Test: 0.729</td>\n",
       "    </tr>\n",
       "    <tr>\n",
       "      <th>3</th>\n",
       "      <td>Ridge Classifier</td>\n",
       "      <td>Val: 0.723, Test: 0.720</td>\n",
       "      <td>Val: 0.726, Test: 0.724</td>\n",
       "      <td>Val: 0.723, Test: 0.720</td>\n",
       "      <td>Val: 0.721, Test: 0.718</td>\n",
       "    </tr>\n",
       "    <tr>\n",
       "      <th>4</th>\n",
       "      <td>AdaBoost Classifier Best</td>\n",
       "      <td>Val: 0.726, Test: 0.726</td>\n",
       "      <td>Val: 0.731, Test: 0.732</td>\n",
       "      <td>Val: 0.726, Test: 0.726</td>\n",
       "      <td>Val: 0.724, Test: 0.724</td>\n",
       "    </tr>\n",
       "    <tr>\n",
       "      <th>5</th>\n",
       "      <td>GradientBoost Classifier Best</td>\n",
       "      <td>Val: 0.727, Test: 0.730</td>\n",
       "      <td>Val: 0.728, Test: 0.732</td>\n",
       "      <td>Val: 0.727, Test: 0.730</td>\n",
       "      <td>Val: 0.726, Test: 0.730</td>\n",
       "    </tr>\n",
       "    <tr>\n",
       "      <th>6</th>\n",
       "      <td>AdaBoost Classifier GridSearch Best</td>\n",
       "      <td>Val: 0.726, Test: 0.725</td>\n",
       "      <td>Val: 0.729, Test: 0.730</td>\n",
       "      <td>Val: 0.726, Test: 0.725</td>\n",
       "      <td>Val: 0.723, Test: 0.723</td>\n",
       "    </tr>\n",
       "    <tr>\n",
       "      <th>7</th>\n",
       "      <td>GradientBoost Classifier GridSearch Best</td>\n",
       "      <td>Val: 0.724, Test: 0.729</td>\n",
       "      <td>Val: 0.725, Test: 0.730</td>\n",
       "      <td>Val: 0.724, Test: 0.729</td>\n",
       "      <td>Val: 0.723, Test: 0.728</td>\n",
       "    </tr>\n",
       "    <tr>\n",
       "      <th>8</th>\n",
       "      <td>Voting Classifier</td>\n",
       "      <td>Val: 0.725, Test: 0.731</td>\n",
       "      <td>Val: 0.727, Test: 0.733</td>\n",
       "      <td>Val: 0.725, Test: 0.731</td>\n",
       "      <td>Val: 0.723, Test: 0.729</td>\n",
       "    </tr>\n",
       "  </tbody>\n",
       "</table>\n",
       "</div>"
      ],
      "text/plain": [
       "                                      Model                 Accuracy  \\\n",
       "0                       Logistic Regression  Val: 0.724, Test: 0.723   \n",
       "1                       Adaboost Classifier  Val: 0.726, Test: 0.725   \n",
       "2                  Gradientboost Classifier  Val: 0.727, Test: 0.729   \n",
       "3                          Ridge Classifier  Val: 0.723, Test: 0.720   \n",
       "4                  AdaBoost Classifier Best  Val: 0.726, Test: 0.726   \n",
       "5             GradientBoost Classifier Best  Val: 0.727, Test: 0.730   \n",
       "6       AdaBoost Classifier GridSearch Best  Val: 0.726, Test: 0.725   \n",
       "7  GradientBoost Classifier GridSearch Best  Val: 0.724, Test: 0.729   \n",
       "8                         Voting Classifier  Val: 0.725, Test: 0.731   \n",
       "\n",
       "                 Precision                   Recall                 F1-Score  \n",
       "0  Val: 0.726, Test: 0.725  Val: 0.724, Test: 0.723  Val: 0.722, Test: 0.721  \n",
       "1  Val: 0.730, Test: 0.730  Val: 0.726, Test: 0.725  Val: 0.724, Test: 0.722  \n",
       "2  Val: 0.727, Test: 0.730  Val: 0.727, Test: 0.729  Val: 0.726, Test: 0.729  \n",
       "3  Val: 0.726, Test: 0.724  Val: 0.723, Test: 0.720  Val: 0.721, Test: 0.718  \n",
       "4  Val: 0.731, Test: 0.732  Val: 0.726, Test: 0.726  Val: 0.724, Test: 0.724  \n",
       "5  Val: 0.728, Test: 0.732  Val: 0.727, Test: 0.730  Val: 0.726, Test: 0.730  \n",
       "6  Val: 0.729, Test: 0.730  Val: 0.726, Test: 0.725  Val: 0.723, Test: 0.723  \n",
       "7  Val: 0.725, Test: 0.730  Val: 0.724, Test: 0.729  Val: 0.723, Test: 0.728  \n",
       "8  Val: 0.727, Test: 0.733  Val: 0.725, Test: 0.731  Val: 0.723, Test: 0.729  "
      ]
     },
     "execution_count": 34,
     "metadata": {},
     "output_type": "execute_result"
    }
   ],
   "source": [
    "results_df"
   ]
  },
  {
   "cell_type": "markdown",
   "metadata": {
    "created_in_deepnote_cell": true,
    "deepnote_cell_type": "markdown",
    "tags": []
   },
   "source": [
    "<a style='text-decoration:none;line-height:16px;display:flex;color:#5B5B62;padding:10px;justify-content:end;' href='https://deepnote.com?utm_source=created-in-deepnote-cell&projectId=7762417b-23bb-4a3d-828e-04b3fea052ca' target=\"_blank\">\n",
    "<img alt='Created in deepnote.com' style='display:inline;max-height:16px;margin:0px;margin-right:7.5px;' src='data:image/svg+xml;base64,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' > </img>\n",
    "Created in <span style='font-weight:600;margin-left:4px;'>Deepnote</span></a>"
   ]
  }
 ],
 "metadata": {
  "deepnote": {},
  "deepnote_execution_queue": [],
  "deepnote_notebook_id": "a052a086a96249f090573dd6e9943c1d",
  "kernelspec": {
   "display_name": "Python 3 (ipykernel)",
   "language": "python",
   "name": "python3"
  },
  "language_info": {
   "codemirror_mode": {
    "name": "ipython",
    "version": 3
   },
   "file_extension": ".py",
   "mimetype": "text/x-python",
   "name": "python",
   "nbconvert_exporter": "python",
   "pygments_lexer": "ipython3",
   "version": "3.9.13"
  }
 },
 "nbformat": 4,
 "nbformat_minor": 4
}
