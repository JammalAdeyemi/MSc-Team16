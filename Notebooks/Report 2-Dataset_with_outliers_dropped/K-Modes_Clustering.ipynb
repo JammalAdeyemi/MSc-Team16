{
 "cells": [
  {
   "cell_type": "code",
   "execution_count": 1,
   "metadata": {
    "cell_id": "14bcdbf62b5a4f0384c8fba10f4a7d57",
    "deepnote_cell_type": "code",
    "deepnote_to_be_reexecuted": false,
    "execution_millis": 1946,
    "execution_start": 1678523136676,
    "source_hash": "53ead759",
    "tags": []
   },
   "outputs": [],
   "source": [
    "import pandas as pd\n",
    "import numpy as np\n",
    "import matplotlib.pyplot as plt\n",
    "import seaborn as sns\n",
    "\n",
    "import pycaret\n",
    "from pycaret.classification import *\n",
    "#from pycaret.classification import ClassificationExperiment\n",
    "\n",
    "from kmodes.kmodes import KModes\n",
    "from sklearn.preprocessing import StandardScaler, LabelEncoder\n",
    "\n",
    "import warnings\n",
    "warnings.filterwarnings(\"ignore\")"
   ]
  },
  {
   "cell_type": "markdown",
   "metadata": {
    "cell_id": "5d9e3c43a4ef4b3caa4fc60e738cbc25",
    "deepnote_cell_type": "text-cell-h2",
    "formattedRanges": [],
    "is_collapsed": false,
    "tags": []
   },
   "source": [
    "## Datasets"
   ]
  },
  {
   "cell_type": "code",
   "execution_count": 2,
   "metadata": {
    "cell_id": "47f8c706b6914a5dbacb5099b695a0e0",
    "deepnote_cell_type": "code",
    "deepnote_to_be_reexecuted": false,
    "execution_millis": 76,
    "execution_start": 1678523138624,
    "source_hash": "8742caa1"
   },
   "outputs": [
    {
     "data": {
      "text/html": [
       "<div>\n",
       "<style scoped>\n",
       "    .dataframe tbody tr th:only-of-type {\n",
       "        vertical-align: middle;\n",
       "    }\n",
       "\n",
       "    .dataframe tbody tr th {\n",
       "        vertical-align: top;\n",
       "    }\n",
       "\n",
       "    .dataframe thead th {\n",
       "        text-align: right;\n",
       "    }\n",
       "</style>\n",
       "<table border=\"1\" class=\"dataframe\">\n",
       "  <thead>\n",
       "    <tr style=\"text-align: right;\">\n",
       "      <th></th>\n",
       "      <th>age</th>\n",
       "      <th>gender</th>\n",
       "      <th>height</th>\n",
       "      <th>weight</th>\n",
       "      <th>systolic</th>\n",
       "      <th>diastolic</th>\n",
       "      <th>cholesterol</th>\n",
       "      <th>glucose</th>\n",
       "      <th>smoke</th>\n",
       "      <th>alcohol</th>\n",
       "      <th>active</th>\n",
       "      <th>cardiovascular_disease</th>\n",
       "      <th>BMI</th>\n",
       "    </tr>\n",
       "  </thead>\n",
       "  <tbody>\n",
       "    <tr>\n",
       "      <th>0</th>\n",
       "      <td>50</td>\n",
       "      <td>2</td>\n",
       "      <td>168</td>\n",
       "      <td>62</td>\n",
       "      <td>110</td>\n",
       "      <td>80</td>\n",
       "      <td>1</td>\n",
       "      <td>1</td>\n",
       "      <td>0</td>\n",
       "      <td>0</td>\n",
       "      <td>1</td>\n",
       "      <td>0</td>\n",
       "      <td>21</td>\n",
       "    </tr>\n",
       "    <tr>\n",
       "      <th>1</th>\n",
       "      <td>55</td>\n",
       "      <td>1</td>\n",
       "      <td>156</td>\n",
       "      <td>85</td>\n",
       "      <td>140</td>\n",
       "      <td>90</td>\n",
       "      <td>3</td>\n",
       "      <td>1</td>\n",
       "      <td>0</td>\n",
       "      <td>0</td>\n",
       "      <td>1</td>\n",
       "      <td>1</td>\n",
       "      <td>34</td>\n",
       "    </tr>\n",
       "    <tr>\n",
       "      <th>2</th>\n",
       "      <td>51</td>\n",
       "      <td>1</td>\n",
       "      <td>165</td>\n",
       "      <td>64</td>\n",
       "      <td>130</td>\n",
       "      <td>70</td>\n",
       "      <td>3</td>\n",
       "      <td>1</td>\n",
       "      <td>0</td>\n",
       "      <td>0</td>\n",
       "      <td>0</td>\n",
       "      <td>1</td>\n",
       "      <td>23</td>\n",
       "    </tr>\n",
       "    <tr>\n",
       "      <th>3</th>\n",
       "      <td>48</td>\n",
       "      <td>2</td>\n",
       "      <td>169</td>\n",
       "      <td>82</td>\n",
       "      <td>150</td>\n",
       "      <td>100</td>\n",
       "      <td>1</td>\n",
       "      <td>1</td>\n",
       "      <td>0</td>\n",
       "      <td>0</td>\n",
       "      <td>1</td>\n",
       "      <td>1</td>\n",
       "      <td>28</td>\n",
       "    </tr>\n",
       "    <tr>\n",
       "      <th>4</th>\n",
       "      <td>47</td>\n",
       "      <td>1</td>\n",
       "      <td>156</td>\n",
       "      <td>56</td>\n",
       "      <td>100</td>\n",
       "      <td>60</td>\n",
       "      <td>1</td>\n",
       "      <td>1</td>\n",
       "      <td>0</td>\n",
       "      <td>0</td>\n",
       "      <td>0</td>\n",
       "      <td>0</td>\n",
       "      <td>23</td>\n",
       "    </tr>\n",
       "  </tbody>\n",
       "</table>\n",
       "</div>"
      ],
      "text/plain": [
       "   age  gender  height  weight  systolic  diastolic  cholesterol  glucose  \\\n",
       "0   50       2     168      62       110         80            1        1   \n",
       "1   55       1     156      85       140         90            3        1   \n",
       "2   51       1     165      64       130         70            3        1   \n",
       "3   48       2     169      82       150        100            1        1   \n",
       "4   47       1     156      56       100         60            1        1   \n",
       "\n",
       "   smoke  alcohol  active  cardiovascular_disease  BMI  \n",
       "0      0        0       1                       0   21  \n",
       "1      0        0       1                       1   34  \n",
       "2      0        0       0                       1   23  \n",
       "3      0        0       1                       1   28  \n",
       "4      0        0       0                       0   23  "
      ]
     },
     "execution_count": 2,
     "metadata": {},
     "output_type": "execute_result"
    }
   ],
   "source": [
    "df = pd.read_csv('../../Data/cardio_data.csv')\n",
    "df.head()"
   ]
  },
  {
   "cell_type": "markdown",
   "metadata": {
    "cell_id": "6141f7f8f7ea4395b892201680219dc6",
    "deepnote_cell_type": "text-cell-h2",
    "formattedRanges": [],
    "is_collapsed": false,
    "tags": []
   },
   "source": [
    "## Transforming Dataset"
   ]
  },
  {
   "cell_type": "code",
   "execution_count": 3,
   "metadata": {
    "cell_id": "a8a3fa5ecd7644ba8534e15ff9d661af",
    "deepnote_cell_type": "code",
    "deepnote_to_be_reexecuted": false,
    "execution_millis": 6,
    "execution_start": 1678523138702,
    "source_hash": "b9200f3",
    "tags": []
   },
   "outputs": [],
   "source": [
    "# Transforming the column AGE(measured in days) for Age_Bin\n",
    "# age_bin in quinquenium 5 years spam\n",
    "df['age_bin'] = pd.cut(df['age'], [0,20,30,35,40,45,50,55,60,65,70,75,80,85,90,95,100], \n",
    "                              labels=['0-20', '20-30', '30-35', '35-40','40-45','45-50','50-55','55-60','60-65','65-70','70-75','75-80','80-85','85-90','90-95','95-100'])"
   ]
  },
  {
   "cell_type": "markdown",
   "metadata": {
    "cell_id": "7436ea096a684d9daafdac88ea59e4cb",
    "deepnote_cell_type": "markdown",
    "tags": []
   },
   "source": [
    "Here, I am grouping or binning `age` column into categories based on a 5-year interval. `Age_bin` is a variable or column name that likely contains individual age values, while `quinquenium` refers to a period of 5 years.\n",
    "\n",
    "For example, if we have a dataset with age information, we can use this method to group the ages into 5-year intervals, such as 0-4 years, 5-9 years, 10-14 years, and so on. Each of these intervals can then be assigned a label or category, such as \"0-4\", \"5-9\", \"10-14\", etc., which can be used as input for statistical analyses or machine learning algorithms."
   ]
  },
  {
   "cell_type": "code",
   "execution_count": 4,
   "metadata": {
    "cell_id": "d79bf2d8c2f44db68ef32352c0d74530",
    "deepnote_cell_type": "code",
    "deepnote_to_be_reexecuted": false,
    "execution_millis": 2,
    "execution_start": 1678523138753,
    "source_hash": "7970066c",
    "tags": []
   },
   "outputs": [],
   "source": [
    "# Transforming the column bmi in Body Mass Index Classes (1 to 6)\n",
    "\n",
    "# Adding Body Mass Index\n",
    "df['bmi'] = df['weight']/((df['height']/100)**2)\n",
    "\n",
    "rating = []\n",
    "for row in df['bmi']:\n",
    "    if row < 18.5 :    \n",
    "        rating.append(1) #UnderWeight\n",
    "    elif row > 18.5 and row  < 24.9:   \n",
    "        rating.append(2) #NormalWeight\n",
    "    elif row > 24.9 and row < 29.9:  \n",
    "        rating.append(3) #OverWeight\n",
    "    elif row > 29.9 and row < 34.9:  \n",
    "        rating.append(4) #ClassObesity_1\n",
    "    elif row > 34.9 and row < 39.9:  \n",
    "        rating.append(5) #ClassObesity_2\n",
    "    elif row > 39.9 and row < 49.9:  \n",
    "        rating.append(6) #ClassObesity_3\n",
    "    elif row > 49.9:  \n",
    "        rating.append('Error')\n",
    "        \n",
    "    else:           \n",
    "        rating.append('Not_Rated')\n",
    "\n",
    "# inserting Column\n",
    "df['BMI_Class'] = rating"
   ]
  },
  {
   "cell_type": "code",
   "execution_count": 5,
   "metadata": {
    "cell_id": "ffe1f3192d3546f2832452cb68e3a01d",
    "deepnote_cell_type": "code",
    "deepnote_to_be_reexecuted": false,
    "execution_millis": 78,
    "execution_start": 1678523138754,
    "source_hash": "986fc79f",
    "tags": []
   },
   "outputs": [],
   "source": [
    "# creating a Column for MAP\n",
    "df['MAP'] = ((2* df['diastolic']) + df['systolic']) / 3\n",
    "\n",
    "#Creating Classes for MAP\n",
    "map_values = []\n",
    "for row in df['MAP']:\n",
    "    if row < 69.9:    \n",
    "        map_values.append(1) #Low\n",
    "    elif row > 70 and row  < 79.9:   \n",
    "        map_values.append(2)#Normal\n",
    "    elif row > 79.9 and row < 89.9:  \n",
    "        map_values.append(3)#Normal\n",
    "    elif row > 89.9 and row < 99.9:  \n",
    "        map_values.append(4)#Normal\n",
    "    elif row > 99.9 and row < 109.9:  \n",
    "        map_values.append(5)#High\n",
    "    elif row > 109.9 and row < 119.9:  \n",
    "        map_values.append(6)#Normal\n",
    "    elif row > 119.9:  \n",
    "        map_values.append(7)\n",
    "        \n",
    "    else:           \n",
    "        map_values.append('Not_Rated')\n",
    "\n",
    "#inserting MAP_Class Column\n",
    "df['MAP_Class'] = map_values"
   ]
  },
  {
   "cell_type": "markdown",
   "metadata": {
    "cell_id": "d07d03b4e3f24116a5c741f09559a3fa",
    "deepnote_cell_type": "markdown",
    "tags": []
   },
   "source": [
    "`Mean Arterial Pressure (MAP)` = ((2* Diastollic Blood Pressure) + Sistolic Blood Pressure) / 3\n",
    "\n",
    "The overall blood pressure as measured in the brachial artery is maintained by the cardiac output and the total peripheral resistance (TPR) to flow. The mean arterial pressure (MAP) is calculated using the formula above"
   ]
  },
  {
   "cell_type": "markdown",
   "metadata": {
    "cell_id": "087323ec4d2e48f4b47985b32c42cb67",
    "deepnote_cell_type": "markdown"
   },
   "source": [
    "### Reordering Columns"
   ]
  },
  {
   "cell_type": "code",
   "execution_count": 6,
   "metadata": {
    "cell_id": "abeb32c2d728468e8a74b8fecd4b582d",
    "deepnote_cell_type": "code",
    "deepnote_to_be_reexecuted": false,
    "execution_millis": 49,
    "execution_start": 1678523138797,
    "source_hash": "e2af0330",
    "tags": []
   },
   "outputs": [
    {
     "data": {
      "text/html": [
       "<div>\n",
       "<style scoped>\n",
       "    .dataframe tbody tr th:only-of-type {\n",
       "        vertical-align: middle;\n",
       "    }\n",
       "\n",
       "    .dataframe tbody tr th {\n",
       "        vertical-align: top;\n",
       "    }\n",
       "\n",
       "    .dataframe thead th {\n",
       "        text-align: right;\n",
       "    }\n",
       "</style>\n",
       "<table border=\"1\" class=\"dataframe\">\n",
       "  <thead>\n",
       "    <tr style=\"text-align: right;\">\n",
       "      <th></th>\n",
       "      <th>age</th>\n",
       "      <th>gender</th>\n",
       "      <th>height</th>\n",
       "      <th>weight</th>\n",
       "      <th>BMI</th>\n",
       "      <th>bmi</th>\n",
       "      <th>systolic</th>\n",
       "      <th>diastolic</th>\n",
       "      <th>MAP</th>\n",
       "      <th>age_bin</th>\n",
       "      <th>BMI_Class</th>\n",
       "      <th>MAP_Class</th>\n",
       "      <th>cholesterol</th>\n",
       "      <th>glucose</th>\n",
       "      <th>smoke</th>\n",
       "      <th>alcohol</th>\n",
       "      <th>active</th>\n",
       "      <th>cardiovascular_disease</th>\n",
       "    </tr>\n",
       "  </thead>\n",
       "  <tbody>\n",
       "    <tr>\n",
       "      <th>0</th>\n",
       "      <td>50</td>\n",
       "      <td>2</td>\n",
       "      <td>168</td>\n",
       "      <td>62</td>\n",
       "      <td>21</td>\n",
       "      <td>21.967120</td>\n",
       "      <td>110</td>\n",
       "      <td>80</td>\n",
       "      <td>90.000000</td>\n",
       "      <td>45-50</td>\n",
       "      <td>2</td>\n",
       "      <td>4</td>\n",
       "      <td>1</td>\n",
       "      <td>1</td>\n",
       "      <td>0</td>\n",
       "      <td>0</td>\n",
       "      <td>1</td>\n",
       "      <td>0</td>\n",
       "    </tr>\n",
       "    <tr>\n",
       "      <th>1</th>\n",
       "      <td>55</td>\n",
       "      <td>1</td>\n",
       "      <td>156</td>\n",
       "      <td>85</td>\n",
       "      <td>34</td>\n",
       "      <td>34.927679</td>\n",
       "      <td>140</td>\n",
       "      <td>90</td>\n",
       "      <td>106.666667</td>\n",
       "      <td>50-55</td>\n",
       "      <td>5</td>\n",
       "      <td>5</td>\n",
       "      <td>3</td>\n",
       "      <td>1</td>\n",
       "      <td>0</td>\n",
       "      <td>0</td>\n",
       "      <td>1</td>\n",
       "      <td>1</td>\n",
       "    </tr>\n",
       "    <tr>\n",
       "      <th>2</th>\n",
       "      <td>51</td>\n",
       "      <td>1</td>\n",
       "      <td>165</td>\n",
       "      <td>64</td>\n",
       "      <td>23</td>\n",
       "      <td>23.507805</td>\n",
       "      <td>130</td>\n",
       "      <td>70</td>\n",
       "      <td>90.000000</td>\n",
       "      <td>50-55</td>\n",
       "      <td>2</td>\n",
       "      <td>4</td>\n",
       "      <td>3</td>\n",
       "      <td>1</td>\n",
       "      <td>0</td>\n",
       "      <td>0</td>\n",
       "      <td>0</td>\n",
       "      <td>1</td>\n",
       "    </tr>\n",
       "    <tr>\n",
       "      <th>3</th>\n",
       "      <td>48</td>\n",
       "      <td>2</td>\n",
       "      <td>169</td>\n",
       "      <td>82</td>\n",
       "      <td>28</td>\n",
       "      <td>28.710479</td>\n",
       "      <td>150</td>\n",
       "      <td>100</td>\n",
       "      <td>116.666667</td>\n",
       "      <td>45-50</td>\n",
       "      <td>3</td>\n",
       "      <td>6</td>\n",
       "      <td>1</td>\n",
       "      <td>1</td>\n",
       "      <td>0</td>\n",
       "      <td>0</td>\n",
       "      <td>1</td>\n",
       "      <td>1</td>\n",
       "    </tr>\n",
       "    <tr>\n",
       "      <th>4</th>\n",
       "      <td>47</td>\n",
       "      <td>1</td>\n",
       "      <td>156</td>\n",
       "      <td>56</td>\n",
       "      <td>23</td>\n",
       "      <td>23.011177</td>\n",
       "      <td>100</td>\n",
       "      <td>60</td>\n",
       "      <td>73.333333</td>\n",
       "      <td>45-50</td>\n",
       "      <td>2</td>\n",
       "      <td>2</td>\n",
       "      <td>1</td>\n",
       "      <td>1</td>\n",
       "      <td>0</td>\n",
       "      <td>0</td>\n",
       "      <td>0</td>\n",
       "      <td>0</td>\n",
       "    </tr>\n",
       "  </tbody>\n",
       "</table>\n",
       "</div>"
      ],
      "text/plain": [
       "   age  gender  height  weight  BMI        bmi  systolic  diastolic  \\\n",
       "0   50       2     168      62   21  21.967120       110         80   \n",
       "1   55       1     156      85   34  34.927679       140         90   \n",
       "2   51       1     165      64   23  23.507805       130         70   \n",
       "3   48       2     169      82   28  28.710479       150        100   \n",
       "4   47       1     156      56   23  23.011177       100         60   \n",
       "\n",
       "          MAP age_bin  BMI_Class  MAP_Class  cholesterol  glucose  smoke  \\\n",
       "0   90.000000   45-50          2          4            1        1      0   \n",
       "1  106.666667   50-55          5          5            3        1      0   \n",
       "2   90.000000   50-55          2          4            3        1      0   \n",
       "3  116.666667   45-50          3          6            1        1      0   \n",
       "4   73.333333   45-50          2          2            1        1      0   \n",
       "\n",
       "   alcohol  active  cardiovascular_disease  \n",
       "0        0       1                       0  \n",
       "1        0       1                       1  \n",
       "2        0       0                       1  \n",
       "3        0       1                       1  \n",
       "4        0       0                       0  "
      ]
     },
     "execution_count": 6,
     "metadata": {},
     "output_type": "execute_result"
    }
   ],
   "source": [
    "df= df[[\"age\",\"gender\",\"height\",\"weight\",\"BMI\",\"bmi\",\"systolic\",\"diastolic\",\"MAP\",\"age_bin\",\"BMI_Class\",\"MAP_Class\",\"cholesterol\",\"glucose\",\"smoke\",\"alcohol\",\"active\",\"cardiovascular_disease\"]]\n",
    "df.head()"
   ]
  },
  {
   "cell_type": "code",
   "execution_count": 7,
   "metadata": {
    "cell_id": "9777366f025c43b08211aecbca3e800b",
    "deepnote_cell_type": "code",
    "deepnote_to_be_reexecuted": false,
    "execution_millis": 66,
    "execution_start": 1678523138851,
    "source_hash": "b695649a",
    "tags": []
   },
   "outputs": [
    {
     "data": {
      "text/html": [
       "<div>\n",
       "<style scoped>\n",
       "    .dataframe tbody tr th:only-of-type {\n",
       "        vertical-align: middle;\n",
       "    }\n",
       "\n",
       "    .dataframe tbody tr th {\n",
       "        vertical-align: top;\n",
       "    }\n",
       "\n",
       "    .dataframe thead th {\n",
       "        text-align: right;\n",
       "    }\n",
       "</style>\n",
       "<table border=\"1\" class=\"dataframe\">\n",
       "  <thead>\n",
       "    <tr style=\"text-align: right;\">\n",
       "      <th></th>\n",
       "      <th>gender</th>\n",
       "      <th>age_bin</th>\n",
       "      <th>BMI_Class</th>\n",
       "      <th>MAP_Class</th>\n",
       "      <th>cholesterol</th>\n",
       "      <th>glucose</th>\n",
       "      <th>smoke</th>\n",
       "      <th>alcohol</th>\n",
       "      <th>active</th>\n",
       "      <th>cardiovascular_disease</th>\n",
       "    </tr>\n",
       "  </thead>\n",
       "  <tbody>\n",
       "    <tr>\n",
       "      <th>0</th>\n",
       "      <td>1</td>\n",
       "      <td>3</td>\n",
       "      <td>1</td>\n",
       "      <td>2</td>\n",
       "      <td>0</td>\n",
       "      <td>0</td>\n",
       "      <td>0</td>\n",
       "      <td>0</td>\n",
       "      <td>1</td>\n",
       "      <td>0</td>\n",
       "    </tr>\n",
       "    <tr>\n",
       "      <th>1</th>\n",
       "      <td>0</td>\n",
       "      <td>4</td>\n",
       "      <td>4</td>\n",
       "      <td>3</td>\n",
       "      <td>2</td>\n",
       "      <td>0</td>\n",
       "      <td>0</td>\n",
       "      <td>0</td>\n",
       "      <td>1</td>\n",
       "      <td>1</td>\n",
       "    </tr>\n",
       "    <tr>\n",
       "      <th>2</th>\n",
       "      <td>0</td>\n",
       "      <td>4</td>\n",
       "      <td>1</td>\n",
       "      <td>2</td>\n",
       "      <td>2</td>\n",
       "      <td>0</td>\n",
       "      <td>0</td>\n",
       "      <td>0</td>\n",
       "      <td>0</td>\n",
       "      <td>1</td>\n",
       "    </tr>\n",
       "    <tr>\n",
       "      <th>3</th>\n",
       "      <td>1</td>\n",
       "      <td>3</td>\n",
       "      <td>2</td>\n",
       "      <td>4</td>\n",
       "      <td>0</td>\n",
       "      <td>0</td>\n",
       "      <td>0</td>\n",
       "      <td>0</td>\n",
       "      <td>1</td>\n",
       "      <td>1</td>\n",
       "    </tr>\n",
       "    <tr>\n",
       "      <th>4</th>\n",
       "      <td>0</td>\n",
       "      <td>3</td>\n",
       "      <td>1</td>\n",
       "      <td>0</td>\n",
       "      <td>0</td>\n",
       "      <td>0</td>\n",
       "      <td>0</td>\n",
       "      <td>0</td>\n",
       "      <td>0</td>\n",
       "      <td>0</td>\n",
       "    </tr>\n",
       "  </tbody>\n",
       "</table>\n",
       "</div>"
      ],
      "text/plain": [
       "   gender  age_bin  BMI_Class  MAP_Class  cholesterol  glucose  smoke  \\\n",
       "0       1        3          1          2            0        0      0   \n",
       "1       0        4          4          3            2        0      0   \n",
       "2       0        4          1          2            2        0      0   \n",
       "3       1        3          2          4            0        0      0   \n",
       "4       0        3          1          0            0        0      0   \n",
       "\n",
       "   alcohol  active  cardiovascular_disease  \n",
       "0        0       1                       0  \n",
       "1        0       1                       1  \n",
       "2        0       0                       1  \n",
       "3        0       1                       1  \n",
       "4        0       0                       0  "
      ]
     },
     "execution_count": 7,
     "metadata": {},
     "output_type": "execute_result"
    }
   ],
   "source": [
    "# only Categorical Data Columns DataFrame\n",
    "df_cat = df[[\"gender\",\"age_bin\",\"BMI_Class\",\"MAP_Class\",\"cholesterol\",\"glucose\",\"smoke\",\"alcohol\",\"active\",\"cardiovascular_disease\"]]\n",
    "\n",
    "# Label encoder for categorical data column\n",
    "le = LabelEncoder()\n",
    "df_cat = df_cat.apply(le.fit_transform)\n",
    "df_cat.head()"
   ]
  },
  {
   "cell_type": "markdown",
   "metadata": {
    "cell_id": "97af0f74f89744d0bc238e567e74c2fb",
    "deepnote_cell_type": "text-cell-h2",
    "formattedRanges": [],
    "is_collapsed": false,
    "tags": []
   },
   "source": [
    "## K-Modes Analyses"
   ]
  },
  {
   "cell_type": "code",
   "execution_count": 8,
   "metadata": {
    "cell_id": "8b0f9c1e383f4302b1a068723d15e943",
    "deepnote_cell_type": "code",
    "deepnote_to_be_reexecuted": false,
    "execution_millis": 5,
    "execution_start": 1678523138948,
    "source_hash": "b55e713c",
    "tags": []
   },
   "outputs": [],
   "source": [
    "# Splitting the dataset into male and female \n",
    "df_male = df_cat.query(\"gender == 0\")\n",
    "df_female = df_cat.query(\"gender == 1\")"
   ]
  },
  {
   "cell_type": "markdown",
   "metadata": {
    "cell_id": "35565ba7bf104ae1b2b3ac7ed18fa9bb",
    "deepnote_cell_type": "text-cell-h3",
    "formattedRanges": [],
    "is_collapsed": false,
    "tags": []
   },
   "source": [
    "### Elbow Curve"
   ]
  },
  {
   "cell_type": "code",
   "execution_count": 9,
   "metadata": {
    "cell_id": "8a5ec997da07400c897204d5f81a69e6",
    "deepnote_cell_type": "code",
    "deepnote_to_be_reexecuted": false,
    "execution_millis": 476292,
    "execution_start": 1678523138951,
    "source_hash": "5322aaa4",
    "tags": []
   },
   "outputs": [
    {
     "data": {
      "image/png": "[encoded data removed]",
      "text/plain": [
       "<Figure size 800x550 with 1 Axes>"
      ]
     },
     "metadata": {},
     "output_type": "display_data"
    }
   ],
   "source": [
    "# Elbow curve to find optimal K in Huang init\n",
    "cost = []\n",
    "K = range(1,6)\n",
    "for num_clusters in list(K):\n",
    "    kmode = KModes(n_clusters=num_clusters, init = \"Huang\", n_init = 5, verbose=0)\n",
    "    kmode.fit_predict(df_cat)\n",
    "    cost.append(kmode.cost_)\n",
    "    \n",
    "plt.plot(K, cost, 'bx-')\n",
    "plt.xlabel('No. of clusters')\n",
    "plt.ylabel('Cost')\n",
    "plt.title('Elbow Method For Optimal k')\n",
    "plt.show()"
   ]
  },
  {
   "cell_type": "code",
   "execution_count": 10,
   "metadata": {
    "cell_id": "24cf27f20b584c3c8762a9386738a826",
    "deepnote_cell_type": "code",
    "deepnote_to_be_reexecuted": false,
    "execution_millis": 292591,
    "execution_start": 1678523615284,
    "source_hash": "3cc7de23",
    "tags": []
   },
   "outputs": [
    {
     "data": {
      "image/png": "[encoded data removed]",
      "text/plain": [
       "<Figure size 800x550 with 1 Axes>"
      ]
     },
     "metadata": {},
     "output_type": "display_data"
    }
   ],
   "source": [
    "# For male data\n",
    "# Elbow curve to find optimal K in Huang\n",
    "cost = []\n",
    "K = range(1,6)\n",
    "for num_clusters in list(K):\n",
    "    kmode = KModes(n_clusters=num_clusters, init = \"Huang\", n_init = 5, verbose=0)\n",
    "    kmode.fit_predict(df_male)\n",
    "    cost.append(kmode.cost_)\n",
    "    \n",
    "plt.plot(K, cost, 'bx-')\n",
    "plt.xlabel('No. of clusters')\n",
    "plt.ylabel('Cost')\n",
    "plt.title('Elbow Method For Optimal k')\n",
    "plt.show()"
   ]
  },
  {
   "cell_type": "code",
   "execution_count": 11,
   "metadata": {
    "cell_id": "df37967760cb44c988633a5370e7e500",
    "deepnote_cell_type": "code",
    "deepnote_to_be_reexecuted": false,
    "execution_millis": 164929,
    "execution_start": 1678523907877,
    "source_hash": "bbac9588",
    "tags": []
   },
   "outputs": [
    {
     "data": {
      "image/png": "[encoded data removed]",
      "text/plain": [
       "<Figure size 800x550 with 1 Axes>"
      ]
     },
     "metadata": {},
     "output_type": "display_data"
    }
   ],
   "source": [
    "# For Female Data\n",
    "# Elbow curve to find optimal K\n",
    "cost = []\n",
    "K = range(1,6)\n",
    "for num_clusters in list(K):\n",
    "    kmode = KModes(n_clusters=num_clusters, init = \"Huang\", n_init = 5, verbose=0)\n",
    "    kmode.fit_predict(df_female)\n",
    "    cost.append(kmode.cost_)\n",
    "    \n",
    "plt.plot(K, cost, 'bx-')\n",
    "plt.xlabel('No. of clusters')\n",
    "plt.ylabel('Cost')\n",
    "plt.title('Elbow Method For Optimal k')\n",
    "plt.show()"
   ]
  },
  {
   "cell_type": "markdown",
   "metadata": {
    "cell_id": "834e13f393b74f1b8446da6ebb8b66b0",
    "deepnote_cell_type": "markdown",
    "tags": []
   },
   "source": [
    "The code above is using the `Elbow` method to find the optimal number of clusters (K) for the general dataset, male and female dataset using the `Huang` initialization method in the KModes clustering algorithm. The cost of the clustering is calculated for each value of K (ranging from 1 to 5) and plotted on a graph. The code then displays the graph with the number of `clusters` on the x-axis and the cost on the y-axis. The `Elbow` method is a heuristic method used to determine the optimal number of clusters based on the point of inflection in the cost graph (i.e., the elbow point).\n",
    "\n",
    "The best number os clusters for the general data in `Huang` Init is **2**\n",
    "The best number os clusters for male Data in `Huang` Init is **2**\n",
    "The best number os clusters for female Data in `Huang` Init is **2**"
   ]
  },
  {
   "cell_type": "markdown",
   "metadata": {
    "cell_id": "66d5a9b97c1a4a1d9d8932cccce1cbe8",
    "deepnote_cell_type": "text-cell-h3",
    "formattedRanges": [],
    "is_collapsed": false,
    "tags": []
   },
   "source": [
    "### Building the model using K-Mode with Huang initialization"
   ]
  },
  {
   "cell_type": "code",
   "execution_count": 12,
   "metadata": {
    "cell_id": "e6c1e2870a4c4747bdcb79e16b7609b4",
    "deepnote_cell_type": "code",
    "deepnote_to_be_reexecuted": false,
    "execution_millis": 28006,
    "execution_start": 1678524072852,
    "source_hash": "ad978519",
    "tags": []
   },
   "outputs": [
    {
     "data": {
      "text/plain": [
       "array([0, 1, 1, ..., 1, 0, 0], dtype=uint16)"
      ]
     },
     "execution_count": 12,
     "metadata": {},
     "output_type": "execute_result"
    }
   ],
   "source": [
    "# female data\n",
    "km_huang = KModes(n_clusters=2, init = \"Huang\", n_init = 5, verbose=0)\n",
    "clusters_huang_1 = km_huang.fit_predict(df_female)\n",
    "clusters_huang_1"
   ]
  },
  {
   "cell_type": "code",
   "execution_count": 13,
   "metadata": {
    "cell_id": "e204bb7a6d7548798c46ba750518ec1b",
    "deepnote_cell_type": "code",
    "deepnote_to_be_reexecuted": false,
    "execution_millis": 46478,
    "execution_start": 1678524100870,
    "source_hash": "8ea01f69",
    "tags": []
   },
   "outputs": [
    {
     "data": {
      "text/plain": [
       "array([0, 0, 0, ..., 1, 1, 1], dtype=uint16)"
      ]
     },
     "execution_count": 13,
     "metadata": {},
     "output_type": "execute_result"
    }
   ],
   "source": [
    "# male data\n",
    "km_huang = KModes(n_clusters=2, init = \"Huang\", n_init = 5, verbose=0)\n",
    "clusters_huang_2 = km_huang.fit_predict(df_male)\n",
    "clusters_huang_2"
   ]
  },
  {
   "cell_type": "markdown",
   "metadata": {
    "cell_id": "ef8cb794ac1546e8bab0d3d935856548",
    "deepnote_cell_type": "markdown",
    "tags": []
   },
   "source": [
    "The code above is using the KModes clustering algorithm to build a model for both male & female dataset with two clusters, using the `Huang` initialization method.\n",
    "\n",
    "The `KModes` algorithm is a clustering algorithm designed to work with categorical data. It groups together similar instances based on the similarity of their categorical attributes.\n",
    "\n",
    "The `n_init` parameter specifies the number of times the algorithm will be run with different initial centroids. The verbose parameter controls the level of output messages printed during the clustering process.\n",
    "\n",
    "The `fit_predict` method fits the model to the dataset (df_female & df_female) and returns an array of cluster assignments, where each element represents the cluster assignment for the corresponding row of the input data.\n",
    "\n",
    "The `clusters_huang_1 & clusters_huang_2` variable contains the cluster assignments for each row in the df_female & df_male dataset respectively. This variable can be used to perform further analysis of the data, such as evaluating the quality of the clustering or identifying which instances belong to which cluster."
   ]
  },
  {
   "cell_type": "code",
   "execution_count": 14,
   "metadata": {
    "cell_id": "096617a4106c40119c23cba7df09ce05",
    "deepnote_cell_type": "code",
    "deepnote_to_be_reexecuted": false,
    "execution_millis": 3,
    "execution_start": 1678524147353,
    "source_hash": "34496087",
    "tags": []
   },
   "outputs": [],
   "source": [
    "# Inserting clusters in DataFrame\n",
    "df_female.insert(0,\"Cluster\", clusters_huang_1, True)\n",
    "df_male.insert(0, \"Cluster\", clusters_huang_2, True)"
   ]
  },
  {
   "cell_type": "code",
   "execution_count": 15,
   "metadata": {
    "cell_id": "3c1ba85bd42d4b27b09b9ecb283f7604",
    "deepnote_cell_type": "code",
    "deepnote_to_be_reexecuted": false,
    "execution_millis": 26,
    "execution_start": 1678524147365,
    "source_hash": "ab0fc15e",
    "tags": []
   },
   "outputs": [
    {
     "data": {
      "text/html": [
       "<div>\n",
       "<style scoped>\n",
       "    .dataframe tbody tr th:only-of-type {\n",
       "        vertical-align: middle;\n",
       "    }\n",
       "\n",
       "    .dataframe tbody tr th {\n",
       "        vertical-align: top;\n",
       "    }\n",
       "\n",
       "    .dataframe thead th {\n",
       "        text-align: right;\n",
       "    }\n",
       "</style>\n",
       "<table border=\"1\" class=\"dataframe\">\n",
       "  <thead>\n",
       "    <tr style=\"text-align: right;\">\n",
       "      <th></th>\n",
       "      <th>Cluster</th>\n",
       "      <th>gender</th>\n",
       "      <th>age_bin</th>\n",
       "      <th>BMI_Class</th>\n",
       "      <th>MAP_Class</th>\n",
       "      <th>cholesterol</th>\n",
       "      <th>glucose</th>\n",
       "      <th>smoke</th>\n",
       "      <th>alcohol</th>\n",
       "      <th>active</th>\n",
       "      <th>cardiovascular_disease</th>\n",
       "    </tr>\n",
       "  </thead>\n",
       "  <tbody>\n",
       "    <tr>\n",
       "      <th>0</th>\n",
       "      <td>0</td>\n",
       "      <td>1</td>\n",
       "      <td>3</td>\n",
       "      <td>1</td>\n",
       "      <td>2</td>\n",
       "      <td>0</td>\n",
       "      <td>0</td>\n",
       "      <td>0</td>\n",
       "      <td>0</td>\n",
       "      <td>1</td>\n",
       "      <td>0</td>\n",
       "    </tr>\n",
       "    <tr>\n",
       "      <th>3</th>\n",
       "      <td>1</td>\n",
       "      <td>1</td>\n",
       "      <td>3</td>\n",
       "      <td>2</td>\n",
       "      <td>4</td>\n",
       "      <td>0</td>\n",
       "      <td>0</td>\n",
       "      <td>0</td>\n",
       "      <td>0</td>\n",
       "      <td>1</td>\n",
       "      <td>1</td>\n",
       "    </tr>\n",
       "    <tr>\n",
       "      <th>7</th>\n",
       "      <td>1</td>\n",
       "      <td>1</td>\n",
       "      <td>6</td>\n",
       "      <td>3</td>\n",
       "      <td>3</td>\n",
       "      <td>2</td>\n",
       "      <td>2</td>\n",
       "      <td>0</td>\n",
       "      <td>0</td>\n",
       "      <td>1</td>\n",
       "      <td>1</td>\n",
       "    </tr>\n",
       "    <tr>\n",
       "      <th>11</th>\n",
       "      <td>0</td>\n",
       "      <td>1</td>\n",
       "      <td>4</td>\n",
       "      <td>1</td>\n",
       "      <td>2</td>\n",
       "      <td>0</td>\n",
       "      <td>0</td>\n",
       "      <td>0</td>\n",
       "      <td>0</td>\n",
       "      <td>1</td>\n",
       "      <td>0</td>\n",
       "    </tr>\n",
       "    <tr>\n",
       "      <th>12</th>\n",
       "      <td>0</td>\n",
       "      <td>1</td>\n",
       "      <td>1</td>\n",
       "      <td>1</td>\n",
       "      <td>2</td>\n",
       "      <td>0</td>\n",
       "      <td>0</td>\n",
       "      <td>0</td>\n",
       "      <td>0</td>\n",
       "      <td>0</td>\n",
       "      <td>0</td>\n",
       "    </tr>\n",
       "  </tbody>\n",
       "</table>\n",
       "</div>"
      ],
      "text/plain": [
       "    Cluster  gender  age_bin  BMI_Class  MAP_Class  cholesterol  glucose  \\\n",
       "0         0       1        3          1          2            0        0   \n",
       "3         1       1        3          2          4            0        0   \n",
       "7         1       1        6          3          3            2        2   \n",
       "11        0       1        4          1          2            0        0   \n",
       "12        0       1        1          1          2            0        0   \n",
       "\n",
       "    smoke  alcohol  active  cardiovascular_disease  \n",
       "0       0        0       1                       0  \n",
       "3       0        0       1                       1  \n",
       "7       0        0       1                       1  \n",
       "11      0        0       1                       0  \n",
       "12      0        0       0                       0  "
      ]
     },
     "execution_count": 15,
     "metadata": {},
     "output_type": "execute_result"
    }
   ],
   "source": [
    "df_female.head()"
   ]
  },
  {
   "cell_type": "code",
   "execution_count": 16,
   "metadata": {
    "cell_id": "3c3838e577384f7989e888e088189a70",
    "deepnote_cell_type": "code",
    "deepnote_to_be_reexecuted": false,
    "execution_millis": 27,
    "execution_start": 1678524147396,
    "source_hash": "d9c05fc0",
    "tags": []
   },
   "outputs": [
    {
     "data": {
      "text/html": [
       "<div>\n",
       "<style scoped>\n",
       "    .dataframe tbody tr th:only-of-type {\n",
       "        vertical-align: middle;\n",
       "    }\n",
       "\n",
       "    .dataframe tbody tr th {\n",
       "        vertical-align: top;\n",
       "    }\n",
       "\n",
       "    .dataframe thead th {\n",
       "        text-align: right;\n",
       "    }\n",
       "</style>\n",
       "<table border=\"1\" class=\"dataframe\">\n",
       "  <thead>\n",
       "    <tr style=\"text-align: right;\">\n",
       "      <th></th>\n",
       "      <th>Cluster</th>\n",
       "      <th>gender</th>\n",
       "      <th>age_bin</th>\n",
       "      <th>BMI_Class</th>\n",
       "      <th>MAP_Class</th>\n",
       "      <th>cholesterol</th>\n",
       "      <th>glucose</th>\n",
       "      <th>smoke</th>\n",
       "      <th>alcohol</th>\n",
       "      <th>active</th>\n",
       "      <th>cardiovascular_disease</th>\n",
       "    </tr>\n",
       "  </thead>\n",
       "  <tbody>\n",
       "    <tr>\n",
       "      <th>1</th>\n",
       "      <td>0</td>\n",
       "      <td>0</td>\n",
       "      <td>4</td>\n",
       "      <td>4</td>\n",
       "      <td>3</td>\n",
       "      <td>2</td>\n",
       "      <td>0</td>\n",
       "      <td>0</td>\n",
       "      <td>0</td>\n",
       "      <td>1</td>\n",
       "      <td>1</td>\n",
       "    </tr>\n",
       "    <tr>\n",
       "      <th>2</th>\n",
       "      <td>0</td>\n",
       "      <td>0</td>\n",
       "      <td>4</td>\n",
       "      <td>1</td>\n",
       "      <td>2</td>\n",
       "      <td>2</td>\n",
       "      <td>0</td>\n",
       "      <td>0</td>\n",
       "      <td>0</td>\n",
       "      <td>0</td>\n",
       "      <td>1</td>\n",
       "    </tr>\n",
       "    <tr>\n",
       "      <th>4</th>\n",
       "      <td>0</td>\n",
       "      <td>0</td>\n",
       "      <td>3</td>\n",
       "      <td>1</td>\n",
       "      <td>0</td>\n",
       "      <td>0</td>\n",
       "      <td>0</td>\n",
       "      <td>0</td>\n",
       "      <td>0</td>\n",
       "      <td>0</td>\n",
       "      <td>0</td>\n",
       "    </tr>\n",
       "    <tr>\n",
       "      <th>5</th>\n",
       "      <td>1</td>\n",
       "      <td>0</td>\n",
       "      <td>5</td>\n",
       "      <td>2</td>\n",
       "      <td>2</td>\n",
       "      <td>1</td>\n",
       "      <td>1</td>\n",
       "      <td>0</td>\n",
       "      <td>0</td>\n",
       "      <td>0</td>\n",
       "      <td>0</td>\n",
       "    </tr>\n",
       "    <tr>\n",
       "      <th>6</th>\n",
       "      <td>0</td>\n",
       "      <td>0</td>\n",
       "      <td>5</td>\n",
       "      <td>4</td>\n",
       "      <td>2</td>\n",
       "      <td>2</td>\n",
       "      <td>0</td>\n",
       "      <td>0</td>\n",
       "      <td>0</td>\n",
       "      <td>1</td>\n",
       "      <td>0</td>\n",
       "    </tr>\n",
       "  </tbody>\n",
       "</table>\n",
       "</div>"
      ],
      "text/plain": [
       "   Cluster  gender  age_bin  BMI_Class  MAP_Class  cholesterol  glucose  \\\n",
       "1        0       0        4          4          3            2        0   \n",
       "2        0       0        4          1          2            2        0   \n",
       "4        0       0        3          1          0            0        0   \n",
       "5        1       0        5          2          2            1        1   \n",
       "6        0       0        5          4          2            2        0   \n",
       "\n",
       "   smoke  alcohol  active  cardiovascular_disease  \n",
       "1      0        0       1                       1  \n",
       "2      0        0       0                       1  \n",
       "4      0        0       0                       0  \n",
       "5      0        0       0                       0  \n",
       "6      0        0       1                       0  "
      ]
     },
     "execution_count": 16,
     "metadata": {},
     "output_type": "execute_result"
    }
   ],
   "source": [
    "df_male.head()"
   ]
  },
  {
   "cell_type": "code",
   "execution_count": 17,
   "metadata": {
    "cell_id": "7d916b34e9a34b80b4177c24321a8a29",
    "deepnote_cell_type": "code",
    "deepnote_to_be_reexecuted": false,
    "execution_millis": 5,
    "execution_start": 1678524147444,
    "source_hash": "857809b",
    "tags": []
   },
   "outputs": [
    {
     "data": {
      "text/html": [
       "<div>\n",
       "<style scoped>\n",
       "    .dataframe tbody tr th:only-of-type {\n",
       "        vertical-align: middle;\n",
       "    }\n",
       "\n",
       "    .dataframe tbody tr th {\n",
       "        vertical-align: top;\n",
       "    }\n",
       "\n",
       "    .dataframe thead th {\n",
       "        text-align: right;\n",
       "    }\n",
       "</style>\n",
       "<table border=\"1\" class=\"dataframe\">\n",
       "  <thead>\n",
       "    <tr style=\"text-align: right;\">\n",
       "      <th></th>\n",
       "      <th>Cluster</th>\n",
       "      <th>gender</th>\n",
       "      <th>age_bin</th>\n",
       "      <th>BMI_Class</th>\n",
       "      <th>MAP_Class</th>\n",
       "      <th>cholesterol</th>\n",
       "      <th>glucose</th>\n",
       "      <th>smoke</th>\n",
       "      <th>alcohol</th>\n",
       "      <th>active</th>\n",
       "      <th>cardiovascular_disease</th>\n",
       "    </tr>\n",
       "  </thead>\n",
       "  <tbody>\n",
       "    <tr>\n",
       "      <th>1</th>\n",
       "      <td>2</td>\n",
       "      <td>0</td>\n",
       "      <td>4</td>\n",
       "      <td>4</td>\n",
       "      <td>3</td>\n",
       "      <td>2</td>\n",
       "      <td>0</td>\n",
       "      <td>0</td>\n",
       "      <td>0</td>\n",
       "      <td>1</td>\n",
       "      <td>1</td>\n",
       "    </tr>\n",
       "    <tr>\n",
       "      <th>2</th>\n",
       "      <td>2</td>\n",
       "      <td>0</td>\n",
       "      <td>4</td>\n",
       "      <td>1</td>\n",
       "      <td>2</td>\n",
       "      <td>2</td>\n",
       "      <td>0</td>\n",
       "      <td>0</td>\n",
       "      <td>0</td>\n",
       "      <td>0</td>\n",
       "      <td>1</td>\n",
       "    </tr>\n",
       "    <tr>\n",
       "      <th>4</th>\n",
       "      <td>2</td>\n",
       "      <td>0</td>\n",
       "      <td>3</td>\n",
       "      <td>1</td>\n",
       "      <td>0</td>\n",
       "      <td>0</td>\n",
       "      <td>0</td>\n",
       "      <td>0</td>\n",
       "      <td>0</td>\n",
       "      <td>0</td>\n",
       "      <td>0</td>\n",
       "    </tr>\n",
       "    <tr>\n",
       "      <th>5</th>\n",
       "      <td>3</td>\n",
       "      <td>0</td>\n",
       "      <td>5</td>\n",
       "      <td>2</td>\n",
       "      <td>2</td>\n",
       "      <td>1</td>\n",
       "      <td>1</td>\n",
       "      <td>0</td>\n",
       "      <td>0</td>\n",
       "      <td>0</td>\n",
       "      <td>0</td>\n",
       "    </tr>\n",
       "    <tr>\n",
       "      <th>6</th>\n",
       "      <td>2</td>\n",
       "      <td>0</td>\n",
       "      <td>5</td>\n",
       "      <td>4</td>\n",
       "      <td>2</td>\n",
       "      <td>2</td>\n",
       "      <td>0</td>\n",
       "      <td>0</td>\n",
       "      <td>0</td>\n",
       "      <td>1</td>\n",
       "      <td>0</td>\n",
       "    </tr>\n",
       "  </tbody>\n",
       "</table>\n",
       "</div>"
      ],
      "text/plain": [
       "   Cluster  gender  age_bin  BMI_Class  MAP_Class  cholesterol  glucose  \\\n",
       "1        2       0        4          4          3            2        0   \n",
       "2        2       0        4          1          2            2        0   \n",
       "4        2       0        3          1          0            0        0   \n",
       "5        3       0        5          2          2            1        1   \n",
       "6        2       0        5          4          2            2        0   \n",
       "\n",
       "   smoke  alcohol  active  cardiovascular_disease  \n",
       "1      0        0       1                       1  \n",
       "2      0        0       0                       1  \n",
       "4      0        0       0                       0  \n",
       "5      0        0       0                       0  \n",
       "6      0        0       1                       0  "
      ]
     },
     "execution_count": 17,
     "metadata": {},
     "output_type": "execute_result"
    }
   ],
   "source": [
    "# replacing cluster column values to merge dataframes after\n",
    "df_male[\"Cluster\"].replace({0:2, 1:3}, inplace=True)\n",
    "df_male.head()"
   ]
  },
  {
   "cell_type": "code",
   "execution_count": 18,
   "metadata": {
    "cell_id": "b80ed8c19d63454ead93a2b8287658ae",
    "deepnote_cell_type": "code",
    "deepnote_to_be_reexecuted": false,
    "execution_millis": 15,
    "execution_start": 1678524147488,
    "source_hash": "37bbd320",
    "tags": []
   },
   "outputs": [
    {
     "data": {
      "text/html": [
       "<div>\n",
       "<style scoped>\n",
       "    .dataframe tbody tr th:only-of-type {\n",
       "        vertical-align: middle;\n",
       "    }\n",
       "\n",
       "    .dataframe tbody tr th {\n",
       "        vertical-align: top;\n",
       "    }\n",
       "\n",
       "    .dataframe thead th {\n",
       "        text-align: right;\n",
       "    }\n",
       "</style>\n",
       "<table border=\"1\" class=\"dataframe\">\n",
       "  <thead>\n",
       "    <tr style=\"text-align: right;\">\n",
       "      <th></th>\n",
       "      <th>Cluster</th>\n",
       "      <th>gender</th>\n",
       "      <th>age_bin</th>\n",
       "      <th>BMI_Class</th>\n",
       "      <th>MAP_Class</th>\n",
       "      <th>cholesterol</th>\n",
       "      <th>glucose</th>\n",
       "      <th>smoke</th>\n",
       "      <th>alcohol</th>\n",
       "      <th>active</th>\n",
       "      <th>cardiovascular_disease</th>\n",
       "    </tr>\n",
       "  </thead>\n",
       "  <tbody>\n",
       "    <tr>\n",
       "      <th>0</th>\n",
       "      <td>0</td>\n",
       "      <td>1</td>\n",
       "      <td>3</td>\n",
       "      <td>1</td>\n",
       "      <td>2</td>\n",
       "      <td>0</td>\n",
       "      <td>0</td>\n",
       "      <td>0</td>\n",
       "      <td>0</td>\n",
       "      <td>1</td>\n",
       "      <td>0</td>\n",
       "    </tr>\n",
       "    <tr>\n",
       "      <th>1</th>\n",
       "      <td>1</td>\n",
       "      <td>1</td>\n",
       "      <td>3</td>\n",
       "      <td>2</td>\n",
       "      <td>4</td>\n",
       "      <td>0</td>\n",
       "      <td>0</td>\n",
       "      <td>0</td>\n",
       "      <td>0</td>\n",
       "      <td>1</td>\n",
       "      <td>1</td>\n",
       "    </tr>\n",
       "    <tr>\n",
       "      <th>2</th>\n",
       "      <td>1</td>\n",
       "      <td>1</td>\n",
       "      <td>6</td>\n",
       "      <td>3</td>\n",
       "      <td>3</td>\n",
       "      <td>2</td>\n",
       "      <td>2</td>\n",
       "      <td>0</td>\n",
       "      <td>0</td>\n",
       "      <td>1</td>\n",
       "      <td>1</td>\n",
       "    </tr>\n",
       "    <tr>\n",
       "      <th>3</th>\n",
       "      <td>0</td>\n",
       "      <td>1</td>\n",
       "      <td>4</td>\n",
       "      <td>1</td>\n",
       "      <td>2</td>\n",
       "      <td>0</td>\n",
       "      <td>0</td>\n",
       "      <td>0</td>\n",
       "      <td>0</td>\n",
       "      <td>1</td>\n",
       "      <td>0</td>\n",
       "    </tr>\n",
       "    <tr>\n",
       "      <th>4</th>\n",
       "      <td>0</td>\n",
       "      <td>1</td>\n",
       "      <td>1</td>\n",
       "      <td>1</td>\n",
       "      <td>2</td>\n",
       "      <td>0</td>\n",
       "      <td>0</td>\n",
       "      <td>0</td>\n",
       "      <td>0</td>\n",
       "      <td>0</td>\n",
       "      <td>0</td>\n",
       "    </tr>\n",
       "    <tr>\n",
       "      <th>5</th>\n",
       "      <td>0</td>\n",
       "      <td>1</td>\n",
       "      <td>5</td>\n",
       "      <td>1</td>\n",
       "      <td>1</td>\n",
       "      <td>0</td>\n",
       "      <td>0</td>\n",
       "      <td>1</td>\n",
       "      <td>0</td>\n",
       "      <td>1</td>\n",
       "      <td>0</td>\n",
       "    </tr>\n",
       "    <tr>\n",
       "      <th>6</th>\n",
       "      <td>0</td>\n",
       "      <td>1</td>\n",
       "      <td>4</td>\n",
       "      <td>3</td>\n",
       "      <td>2</td>\n",
       "      <td>0</td>\n",
       "      <td>0</td>\n",
       "      <td>0</td>\n",
       "      <td>0</td>\n",
       "      <td>1</td>\n",
       "      <td>0</td>\n",
       "    </tr>\n",
       "    <tr>\n",
       "      <th>7</th>\n",
       "      <td>0</td>\n",
       "      <td>1</td>\n",
       "      <td>1</td>\n",
       "      <td>1</td>\n",
       "      <td>2</td>\n",
       "      <td>0</td>\n",
       "      <td>0</td>\n",
       "      <td>0</td>\n",
       "      <td>0</td>\n",
       "      <td>1</td>\n",
       "      <td>0</td>\n",
       "    </tr>\n",
       "    <tr>\n",
       "      <th>8</th>\n",
       "      <td>0</td>\n",
       "      <td>1</td>\n",
       "      <td>5</td>\n",
       "      <td>2</td>\n",
       "      <td>2</td>\n",
       "      <td>0</td>\n",
       "      <td>2</td>\n",
       "      <td>0</td>\n",
       "      <td>0</td>\n",
       "      <td>0</td>\n",
       "      <td>0</td>\n",
       "    </tr>\n",
       "    <tr>\n",
       "      <th>9</th>\n",
       "      <td>1</td>\n",
       "      <td>1</td>\n",
       "      <td>5</td>\n",
       "      <td>2</td>\n",
       "      <td>3</td>\n",
       "      <td>2</td>\n",
       "      <td>0</td>\n",
       "      <td>0</td>\n",
       "      <td>0</td>\n",
       "      <td>0</td>\n",
       "      <td>1</td>\n",
       "    </tr>\n",
       "  </tbody>\n",
       "</table>\n",
       "</div>"
      ],
      "text/plain": [
       "   Cluster  gender  age_bin  BMI_Class  MAP_Class  cholesterol  glucose  \\\n",
       "0        0       1        3          1          2            0        0   \n",
       "1        1       1        3          2          4            0        0   \n",
       "2        1       1        6          3          3            2        2   \n",
       "3        0       1        4          1          2            0        0   \n",
       "4        0       1        1          1          2            0        0   \n",
       "5        0       1        5          1          1            0        0   \n",
       "6        0       1        4          3          2            0        0   \n",
       "7        0       1        1          1          2            0        0   \n",
       "8        0       1        5          2          2            0        2   \n",
       "9        1       1        5          2          3            2        0   \n",
       "\n",
       "   smoke  alcohol  active  cardiovascular_disease  \n",
       "0      0        0       1                       0  \n",
       "1      0        0       1                       1  \n",
       "2      0        0       1                       1  \n",
       "3      0        0       1                       0  \n",
       "4      0        0       0                       0  \n",
       "5      1        0       1                       0  \n",
       "6      0        0       1                       0  \n",
       "7      0        0       1                       0  \n",
       "8      0        0       0                       0  \n",
       "9      0        0       0                       1  "
      ]
     },
     "execution_count": 18,
     "metadata": {},
     "output_type": "execute_result"
    }
   ],
   "source": [
    "# merging female and male data\n",
    "df_clusters = pd.concat([df_female, df_male], ignore_index=True, sort=False)\n",
    "df_clusters.head(10)"
   ]
  },
  {
   "cell_type": "markdown",
   "metadata": {
    "cell_id": "954f0e70e3ce484cb09c5e6772916a33",
    "deepnote_cell_type": "markdown"
   },
   "source": [
    "### Correlation"
   ]
  },
  {
   "cell_type": "code",
   "execution_count": 19,
   "metadata": {
    "cell_id": "a76fcfdf3d644b6dab999fcdc7362c9f",
    "deepnote_cell_type": "code",
    "deepnote_to_be_reexecuted": false,
    "execution_millis": 1559,
    "execution_start": 1678524147548,
    "source_hash": "ff6ce791",
    "tags": []
   },
   "outputs": [
    {
     "data": {
      "image/png": "[encoded data removed]",
      "text/plain": [
       "<Figure size 2000x1000 with 2 Axes>"
      ]
     },
     "metadata": {},
     "output_type": "display_data"
    }
   ],
   "source": [
    "corr = df_clusters.corr()\n",
    "cmap = sns.diverging_palette(2, 15, as_cmap=True)\n",
    "# Generate a mask for the upper triangle\n",
    "mask = np.zeros_like(corr, dtype=np.bool)\n",
    "mask[np.triu_indices_from(mask)] = True\n",
    "\n",
    "# Set up the matplotlib figure\n",
    "f, ax = plt.subplots(figsize=(20, 10))\n",
    "# Draw the heatmap with the mask and correct aspect ratio\n",
    "sns.heatmap(corr, mask=mask, cmap=cmap, vmax=.7, center=0,annot = True,\n",
    "            square=True, linewidths=.5, cbar_kws={\"shrink\": .5});"
   ]
  },
  {
   "cell_type": "markdown",
   "metadata": {
    "cell_id": "1dc1945c1660404ab56813ef76534614",
    "deepnote_cell_type": "markdown"
   },
   "source": [
    "## Pycaret Experimentation"
   ]
  },
  {
   "cell_type": "code",
   "execution_count": 20,
   "metadata": {
    "cell_id": "b63fbb55824045e1b1a681b88315b711",
    "deepnote_cell_type": "code",
    "deepnote_to_be_reexecuted": false,
    "execution_millis": 834437,
    "execution_start": 1678524149098,
    "source_hash": "9dc8dec9"
   },
   "outputs": [
    {
     "data": {
      "text/html": [
       "<style type=\"text/css\">\n",
       "#T_82e0d_row8_col1 {\n",
       "  background-color: lightgreen;\n",
       "}\n",
       "</style>\n",
       "<table id=\"T_82e0d\">\n",
       "  <thead>\n",
       "    <tr>\n",
       "      <th class=\"blank level0\" >&nbsp;</th>\n",
       "      <th id=\"T_82e0d_level0_col0\" class=\"col_heading level0 col0\" >Description</th>\n",
       "      <th id=\"T_82e0d_level0_col1\" class=\"col_heading level0 col1\" >Value</th>\n",
       "    </tr>\n",
       "  </thead>\n",
       "  <tbody>\n",
       "    <tr>\n",
       "      <th id=\"T_82e0d_level0_row0\" class=\"row_heading level0 row0\" >0</th>\n",
       "      <td id=\"T_82e0d_row0_col0\" class=\"data row0 col0\" >Session id</td>\n",
       "      <td id=\"T_82e0d_row0_col1\" class=\"data row0 col1\" >123</td>\n",
       "    </tr>\n",
       "    <tr>\n",
       "      <th id=\"T_82e0d_level0_row1\" class=\"row_heading level0 row1\" >1</th>\n",
       "      <td id=\"T_82e0d_row1_col0\" class=\"data row1 col0\" >Target</td>\n",
       "      <td id=\"T_82e0d_row1_col1\" class=\"data row1 col1\" >cardiovascular_disease</td>\n",
       "    </tr>\n",
       "    <tr>\n",
       "      <th id=\"T_82e0d_level0_row2\" class=\"row_heading level0 row2\" >2</th>\n",
       "      <td id=\"T_82e0d_row2_col0\" class=\"data row2 col0\" >Target type</td>\n",
       "      <td id=\"T_82e0d_row2_col1\" class=\"data row2 col1\" >Binary</td>\n",
       "    </tr>\n",
       "    <tr>\n",
       "      <th id=\"T_82e0d_level0_row3\" class=\"row_heading level0 row3\" >3</th>\n",
       "      <td id=\"T_82e0d_row3_col0\" class=\"data row3 col0\" >Original data shape</td>\n",
       "      <td id=\"T_82e0d_row3_col1\" class=\"data row3 col1\" >(60144, 11)</td>\n",
       "    </tr>\n",
       "    <tr>\n",
       "      <th id=\"T_82e0d_level0_row4\" class=\"row_heading level0 row4\" >4</th>\n",
       "      <td id=\"T_82e0d_row4_col0\" class=\"data row4 col0\" >Transformed data shape</td>\n",
       "      <td id=\"T_82e0d_row4_col1\" class=\"data row4 col1\" >(60144, 11)</td>\n",
       "    </tr>\n",
       "    <tr>\n",
       "      <th id=\"T_82e0d_level0_row5\" class=\"row_heading level0 row5\" >5</th>\n",
       "      <td id=\"T_82e0d_row5_col0\" class=\"data row5 col0\" >Transformed train set shape</td>\n",
       "      <td id=\"T_82e0d_row5_col1\" class=\"data row5 col1\" >(42100, 11)</td>\n",
       "    </tr>\n",
       "    <tr>\n",
       "      <th id=\"T_82e0d_level0_row6\" class=\"row_heading level0 row6\" >6</th>\n",
       "      <td id=\"T_82e0d_row6_col0\" class=\"data row6 col0\" >Transformed test set shape</td>\n",
       "      <td id=\"T_82e0d_row6_col1\" class=\"data row6 col1\" >(18044, 11)</td>\n",
       "    </tr>\n",
       "    <tr>\n",
       "      <th id=\"T_82e0d_level0_row7\" class=\"row_heading level0 row7\" >7</th>\n",
       "      <td id=\"T_82e0d_row7_col0\" class=\"data row7 col0\" >Numeric features</td>\n",
       "      <td id=\"T_82e0d_row7_col1\" class=\"data row7 col1\" >10</td>\n",
       "    </tr>\n",
       "    <tr>\n",
       "      <th id=\"T_82e0d_level0_row8\" class=\"row_heading level0 row8\" >8</th>\n",
       "      <td id=\"T_82e0d_row8_col0\" class=\"data row8 col0\" >Preprocess</td>\n",
       "      <td id=\"T_82e0d_row8_col1\" class=\"data row8 col1\" >True</td>\n",
       "    </tr>\n",
       "    <tr>\n",
       "      <th id=\"T_82e0d_level0_row9\" class=\"row_heading level0 row9\" >9</th>\n",
       "      <td id=\"T_82e0d_row9_col0\" class=\"data row9 col0\" >Imputation type</td>\n",
       "      <td id=\"T_82e0d_row9_col1\" class=\"data row9 col1\" >simple</td>\n",
       "    </tr>\n",
       "    <tr>\n",
       "      <th id=\"T_82e0d_level0_row10\" class=\"row_heading level0 row10\" >10</th>\n",
       "      <td id=\"T_82e0d_row10_col0\" class=\"data row10 col0\" >Numeric imputation</td>\n",
       "      <td id=\"T_82e0d_row10_col1\" class=\"data row10 col1\" >mean</td>\n",
       "    </tr>\n",
       "    <tr>\n",
       "      <th id=\"T_82e0d_level0_row11\" class=\"row_heading level0 row11\" >11</th>\n",
       "      <td id=\"T_82e0d_row11_col0\" class=\"data row11 col0\" >Categorical imputation</td>\n",
       "      <td id=\"T_82e0d_row11_col1\" class=\"data row11 col1\" >mode</td>\n",
       "    </tr>\n",
       "    <tr>\n",
       "      <th id=\"T_82e0d_level0_row12\" class=\"row_heading level0 row12\" >12</th>\n",
       "      <td id=\"T_82e0d_row12_col0\" class=\"data row12 col0\" >Fold Generator</td>\n",
       "      <td id=\"T_82e0d_row12_col1\" class=\"data row12 col1\" >StratifiedKFold</td>\n",
       "    </tr>\n",
       "    <tr>\n",
       "      <th id=\"T_82e0d_level0_row13\" class=\"row_heading level0 row13\" >13</th>\n",
       "      <td id=\"T_82e0d_row13_col0\" class=\"data row13 col0\" >Fold Number</td>\n",
       "      <td id=\"T_82e0d_row13_col1\" class=\"data row13 col1\" >10</td>\n",
       "    </tr>\n",
       "    <tr>\n",
       "      <th id=\"T_82e0d_level0_row14\" class=\"row_heading level0 row14\" >14</th>\n",
       "      <td id=\"T_82e0d_row14_col0\" class=\"data row14 col0\" >CPU Jobs</td>\n",
       "      <td id=\"T_82e0d_row14_col1\" class=\"data row14 col1\" >-1</td>\n",
       "    </tr>\n",
       "    <tr>\n",
       "      <th id=\"T_82e0d_level0_row15\" class=\"row_heading level0 row15\" >15</th>\n",
       "      <td id=\"T_82e0d_row15_col0\" class=\"data row15 col0\" >Use GPU</td>\n",
       "      <td id=\"T_82e0d_row15_col1\" class=\"data row15 col1\" >False</td>\n",
       "    </tr>\n",
       "    <tr>\n",
       "      <th id=\"T_82e0d_level0_row16\" class=\"row_heading level0 row16\" >16</th>\n",
       "      <td id=\"T_82e0d_row16_col0\" class=\"data row16 col0\" >Log Experiment</td>\n",
       "      <td id=\"T_82e0d_row16_col1\" class=\"data row16 col1\" >False</td>\n",
       "    </tr>\n",
       "    <tr>\n",
       "      <th id=\"T_82e0d_level0_row17\" class=\"row_heading level0 row17\" >17</th>\n",
       "      <td id=\"T_82e0d_row17_col0\" class=\"data row17 col0\" >Experiment Name</td>\n",
       "      <td id=\"T_82e0d_row17_col1\" class=\"data row17 col1\" >clf-default-name</td>\n",
       "    </tr>\n",
       "    <tr>\n",
       "      <th id=\"T_82e0d_level0_row18\" class=\"row_heading level0 row18\" >18</th>\n",
       "      <td id=\"T_82e0d_row18_col0\" class=\"data row18 col0\" >USI</td>\n",
       "      <td id=\"T_82e0d_row18_col1\" class=\"data row18 col1\" >3616</td>\n",
       "    </tr>\n",
       "  </tbody>\n",
       "</table>\n"
      ],
      "text/plain": [
       "<pandas.io.formats.style.Styler at 0x7fe4ed3c0c70>"
      ]
     },
     "metadata": {},
     "output_type": "display_data"
    }
   ],
   "source": [
    "clf_exp = setup(data = df_clusters, target = 'cardiovascular_disease', session_id=123)"
   ]
  },
  {
   "cell_type": "code",
   "execution_count": 21,
   "metadata": {
    "cell_id": "c289c628f9aa4f1192f4baa1f92eeec8",
    "deepnote_cell_type": "code",
    "deepnote_to_be_reexecuted": false,
    "execution_millis": 286965,
    "execution_start": 1678524983536,
    "source_hash": "8a4b20cb"
   },
   "outputs": [
    {
     "data": {
      "text/html": [],
      "text/plain": [
       "<IPython.core.display.HTML object>"
      ]
     },
     "metadata": {},
     "output_type": "display_data"
    },
    {
     "data": {
      "text/html": [
       "<style type=\"text/css\">\n",
       "#T_c0d93 th {\n",
       "  text-align: left;\n",
       "}\n",
       "#T_c0d93_row0_col0, #T_c0d93_row0_col3, #T_c0d93_row1_col0, #T_c0d93_row1_col1, #T_c0d93_row1_col2, #T_c0d93_row1_col3, #T_c0d93_row1_col4, #T_c0d93_row1_col5, #T_c0d93_row1_col6, #T_c0d93_row1_col7, #T_c0d93_row2_col0, #T_c0d93_row2_col1, #T_c0d93_row2_col2, #T_c0d93_row2_col3, #T_c0d93_row2_col4, #T_c0d93_row2_col5, #T_c0d93_row2_col6, #T_c0d93_row2_col7, #T_c0d93_row3_col0, #T_c0d93_row3_col1, #T_c0d93_row3_col2, #T_c0d93_row3_col3, #T_c0d93_row3_col4, #T_c0d93_row3_col5, #T_c0d93_row3_col6, #T_c0d93_row3_col7, #T_c0d93_row4_col0, #T_c0d93_row4_col1, #T_c0d93_row4_col2, #T_c0d93_row4_col3, #T_c0d93_row4_col4, #T_c0d93_row4_col5, #T_c0d93_row4_col6, #T_c0d93_row4_col7, #T_c0d93_row5_col0, #T_c0d93_row5_col1, #T_c0d93_row5_col2, #T_c0d93_row5_col3, #T_c0d93_row5_col4, #T_c0d93_row5_col5, #T_c0d93_row5_col6, #T_c0d93_row5_col7, #T_c0d93_row6_col0, #T_c0d93_row6_col1, #T_c0d93_row6_col2, #T_c0d93_row6_col3, #T_c0d93_row6_col4, #T_c0d93_row6_col5, #T_c0d93_row6_col6, #T_c0d93_row6_col7, #T_c0d93_row7_col0, #T_c0d93_row7_col1, #T_c0d93_row7_col2, #T_c0d93_row7_col4, #T_c0d93_row7_col5, #T_c0d93_row7_col6, #T_c0d93_row7_col7, #T_c0d93_row8_col0, #T_c0d93_row8_col1, #T_c0d93_row8_col2, #T_c0d93_row8_col3, #T_c0d93_row8_col4, #T_c0d93_row8_col5, #T_c0d93_row8_col6, #T_c0d93_row8_col7, #T_c0d93_row9_col0, #T_c0d93_row9_col1, #T_c0d93_row9_col2, #T_c0d93_row9_col3, #T_c0d93_row9_col4, #T_c0d93_row9_col5, #T_c0d93_row9_col6, #T_c0d93_row9_col7, #T_c0d93_row10_col0, #T_c0d93_row10_col1, #T_c0d93_row10_col2, #T_c0d93_row10_col3, #T_c0d93_row10_col4, #T_c0d93_row10_col5, #T_c0d93_row10_col6, #T_c0d93_row10_col7, #T_c0d93_row11_col0, #T_c0d93_row11_col1, #T_c0d93_row11_col2, #T_c0d93_row11_col3, #T_c0d93_row11_col4, #T_c0d93_row11_col5, #T_c0d93_row11_col6, #T_c0d93_row11_col7, #T_c0d93_row12_col0, #T_c0d93_row12_col1, #T_c0d93_row12_col2, #T_c0d93_row12_col3, #T_c0d93_row12_col4, #T_c0d93_row12_col5, #T_c0d93_row12_col6, #T_c0d93_row12_col7, #T_c0d93_row13_col0, #T_c0d93_row13_col1, #T_c0d93_row13_col2, #T_c0d93_row13_col3, #T_c0d93_row13_col4, #T_c0d93_row13_col5, #T_c0d93_row13_col6, #T_c0d93_row13_col7, #T_c0d93_row14_col0, #T_c0d93_row14_col1, #T_c0d93_row14_col2, #T_c0d93_row14_col3, #T_c0d93_row14_col4, #T_c0d93_row14_col5, #T_c0d93_row14_col6, #T_c0d93_row14_col7, #T_c0d93_row15_col0, #T_c0d93_row15_col1, #T_c0d93_row15_col2, #T_c0d93_row15_col3, #T_c0d93_row15_col4, #T_c0d93_row15_col5, #T_c0d93_row15_col6, #T_c0d93_row15_col7 {\n",
       "  text-align: left;\n",
       "}\n",
       "#T_c0d93_row0_col1, #T_c0d93_row0_col2, #T_c0d93_row0_col4, #T_c0d93_row0_col5, #T_c0d93_row0_col6, #T_c0d93_row0_col7, #T_c0d93_row7_col3 {\n",
       "  text-align: left;\n",
       "  background-color: yellow;\n",
       "}\n",
       "#T_c0d93_row0_col8, #T_c0d93_row1_col8, #T_c0d93_row2_col8, #T_c0d93_row3_col8, #T_c0d93_row4_col8, #T_c0d93_row5_col8, #T_c0d93_row6_col8, #T_c0d93_row7_col8, #T_c0d93_row8_col8, #T_c0d93_row9_col8, #T_c0d93_row10_col8, #T_c0d93_row11_col8, #T_c0d93_row12_col8, #T_c0d93_row14_col8, #T_c0d93_row15_col8 {\n",
       "  text-align: left;\n",
       "  background-color: lightgrey;\n",
       "}\n",
       "#T_c0d93_row13_col8 {\n",
       "  text-align: left;\n",
       "  background-color: yellow;\n",
       "  background-color: lightgrey;\n",
       "}\n",
       "</style>\n",
       "<table id=\"T_c0d93\">\n",
       "  <thead>\n",
       "    <tr>\n",
       "      <th class=\"blank level0\" >&nbsp;</th>\n",
       "      <th id=\"T_c0d93_level0_col0\" class=\"col_heading level0 col0\" >Model</th>\n",
       "      <th id=\"T_c0d93_level0_col1\" class=\"col_heading level0 col1\" >Accuracy</th>\n",
       "      <th id=\"T_c0d93_level0_col2\" class=\"col_heading level0 col2\" >AUC</th>\n",
       "      <th id=\"T_c0d93_level0_col3\" class=\"col_heading level0 col3\" >Recall</th>\n",
       "      <th id=\"T_c0d93_level0_col4\" class=\"col_heading level0 col4\" >Prec.</th>\n",
       "      <th id=\"T_c0d93_level0_col5\" class=\"col_heading level0 col5\" >F1</th>\n",
       "      <th id=\"T_c0d93_level0_col6\" class=\"col_heading level0 col6\" >Kappa</th>\n",
       "      <th id=\"T_c0d93_level0_col7\" class=\"col_heading level0 col7\" >MCC</th>\n",
       "      <th id=\"T_c0d93_level0_col8\" class=\"col_heading level0 col8\" >TT (Sec)</th>\n",
       "    </tr>\n",
       "  </thead>\n",
       "  <tbody>\n",
       "    <tr>\n",
       "      <th id=\"T_c0d93_level0_row0\" class=\"row_heading level0 row0\" >lightgbm</th>\n",
       "      <td id=\"T_c0d93_row0_col0\" class=\"data row0 col0\" >Light Gradient Boosting Machine</td>\n",
       "      <td id=\"T_c0d93_row0_col1\" class=\"data row0 col1\" >0.8672</td>\n",
       "      <td id=\"T_c0d93_row0_col2\" class=\"data row0 col2\" >0.9485</td>\n",
       "      <td id=\"T_c0d93_row0_col3\" class=\"data row0 col3\" >0.8217</td>\n",
       "      <td id=\"T_c0d93_row0_col4\" class=\"data row0 col4\" >0.8977</td>\n",
       "      <td id=\"T_c0d93_row0_col5\" class=\"data row0 col5\" >0.8580</td>\n",
       "      <td id=\"T_c0d93_row0_col6\" class=\"data row0 col6\" >0.7338</td>\n",
       "      <td id=\"T_c0d93_row0_col7\" class=\"data row0 col7\" >0.7363</td>\n",
       "      <td id=\"T_c0d93_row0_col8\" class=\"data row0 col8\" >0.0500</td>\n",
       "    </tr>\n",
       "    <tr>\n",
       "      <th id=\"T_c0d93_level0_row1\" class=\"row_heading level0 row1\" >catboost</th>\n",
       "      <td id=\"T_c0d93_row1_col0\" class=\"data row1 col0\" >CatBoost Classifier</td>\n",
       "      <td id=\"T_c0d93_row1_col1\" class=\"data row1 col1\" >0.8643</td>\n",
       "      <td id=\"T_c0d93_row1_col2\" class=\"data row1 col2\" >0.9478</td>\n",
       "      <td id=\"T_c0d93_row1_col3\" class=\"data row1 col3\" >0.8239</td>\n",
       "      <td id=\"T_c0d93_row1_col4\" class=\"data row1 col4\" >0.8899</td>\n",
       "      <td id=\"T_c0d93_row1_col5\" class=\"data row1 col5\" >0.8556</td>\n",
       "      <td id=\"T_c0d93_row1_col6\" class=\"data row1 col6\" >0.7279</td>\n",
       "      <td id=\"T_c0d93_row1_col7\" class=\"data row1 col7\" >0.7298</td>\n",
       "      <td id=\"T_c0d93_row1_col8\" class=\"data row1 col8\" >0.1100</td>\n",
       "    </tr>\n",
       "    <tr>\n",
       "      <th id=\"T_c0d93_level0_row2\" class=\"row_heading level0 row2\" >xgboost</th>\n",
       "      <td id=\"T_c0d93_row2_col0\" class=\"data row2 col0\" >Extreme Gradient Boosting</td>\n",
       "      <td id=\"T_c0d93_row2_col1\" class=\"data row2 col1\" >0.8641</td>\n",
       "      <td id=\"T_c0d93_row2_col2\" class=\"data row2 col2\" >0.9474</td>\n",
       "      <td id=\"T_c0d93_row2_col3\" class=\"data row2 col3\" >0.8240</td>\n",
       "      <td id=\"T_c0d93_row2_col4\" class=\"data row2 col4\" >0.8895</td>\n",
       "      <td id=\"T_c0d93_row2_col5\" class=\"data row2 col5\" >0.8555</td>\n",
       "      <td id=\"T_c0d93_row2_col6\" class=\"data row2 col6\" >0.7276</td>\n",
       "      <td id=\"T_c0d93_row2_col7\" class=\"data row2 col7\" >0.7295</td>\n",
       "      <td id=\"T_c0d93_row2_col8\" class=\"data row2 col8\" >0.0410</td>\n",
       "    </tr>\n",
       "    <tr>\n",
       "      <th id=\"T_c0d93_level0_row3\" class=\"row_heading level0 row3\" >rf</th>\n",
       "      <td id=\"T_c0d93_row3_col0\" class=\"data row3 col0\" >Random Forest Classifier</td>\n",
       "      <td id=\"T_c0d93_row3_col1\" class=\"data row3 col1\" >0.8606</td>\n",
       "      <td id=\"T_c0d93_row3_col2\" class=\"data row3 col2\" >0.9419</td>\n",
       "      <td id=\"T_c0d93_row3_col3\" class=\"data row3 col3\" >0.8221</td>\n",
       "      <td id=\"T_c0d93_row3_col4\" class=\"data row3 col4\" >0.8843</td>\n",
       "      <td id=\"T_c0d93_row3_col5\" class=\"data row3 col5\" >0.8521</td>\n",
       "      <td id=\"T_c0d93_row3_col6\" class=\"data row3 col6\" >0.7207</td>\n",
       "      <td id=\"T_c0d93_row3_col7\" class=\"data row3 col7\" >0.7224</td>\n",
       "      <td id=\"T_c0d93_row3_col8\" class=\"data row3 col8\" >0.0760</td>\n",
       "    </tr>\n",
       "    <tr>\n",
       "      <th id=\"T_c0d93_level0_row4\" class=\"row_heading level0 row4\" >gbc</th>\n",
       "      <td id=\"T_c0d93_row4_col0\" class=\"data row4 col0\" >Gradient Boosting Classifier</td>\n",
       "      <td id=\"T_c0d93_row4_col1\" class=\"data row4 col1\" >0.8558</td>\n",
       "      <td id=\"T_c0d93_row4_col2\" class=\"data row4 col2\" >0.9370</td>\n",
       "      <td id=\"T_c0d93_row4_col3\" class=\"data row4 col3\" >0.8283</td>\n",
       "      <td id=\"T_c0d93_row4_col4\" class=\"data row4 col4\" >0.8702</td>\n",
       "      <td id=\"T_c0d93_row4_col5\" class=\"data row4 col5\" >0.8487</td>\n",
       "      <td id=\"T_c0d93_row4_col6\" class=\"data row4 col6\" >0.7111</td>\n",
       "      <td id=\"T_c0d93_row4_col7\" class=\"data row4 col7\" >0.7120</td>\n",
       "      <td id=\"T_c0d93_row4_col8\" class=\"data row4 col8\" >0.0310</td>\n",
       "    </tr>\n",
       "    <tr>\n",
       "      <th id=\"T_c0d93_level0_row5\" class=\"row_heading level0 row5\" >et</th>\n",
       "      <td id=\"T_c0d93_row5_col0\" class=\"data row5 col0\" >Extra Trees Classifier</td>\n",
       "      <td id=\"T_c0d93_row5_col1\" class=\"data row5 col1\" >0.8585</td>\n",
       "      <td id=\"T_c0d93_row5_col2\" class=\"data row5 col2\" >0.9352</td>\n",
       "      <td id=\"T_c0d93_row5_col3\" class=\"data row5 col3\" >0.8131</td>\n",
       "      <td id=\"T_c0d93_row5_col4\" class=\"data row5 col4\" >0.8877</td>\n",
       "      <td id=\"T_c0d93_row5_col5\" class=\"data row5 col5\" >0.8487</td>\n",
       "      <td id=\"T_c0d93_row5_col6\" class=\"data row5 col6\" >0.7163</td>\n",
       "      <td id=\"T_c0d93_row5_col7\" class=\"data row5 col7\" >0.7188</td>\n",
       "      <td id=\"T_c0d93_row5_col8\" class=\"data row5 col8\" >0.0730</td>\n",
       "    </tr>\n",
       "    <tr>\n",
       "      <th id=\"T_c0d93_level0_row6\" class=\"row_heading level0 row6\" >dt</th>\n",
       "      <td id=\"T_c0d93_row6_col0\" class=\"data row6 col0\" >Decision Tree Classifier</td>\n",
       "      <td id=\"T_c0d93_row6_col1\" class=\"data row6 col1\" >0.8581</td>\n",
       "      <td id=\"T_c0d93_row6_col2\" class=\"data row6 col2\" >0.9329</td>\n",
       "      <td id=\"T_c0d93_row6_col3\" class=\"data row6 col3\" >0.8118</td>\n",
       "      <td id=\"T_c0d93_row6_col4\" class=\"data row6 col4\" >0.8879</td>\n",
       "      <td id=\"T_c0d93_row6_col5\" class=\"data row6 col5\" >0.8481</td>\n",
       "      <td id=\"T_c0d93_row6_col6\" class=\"data row6 col6\" >0.7154</td>\n",
       "      <td id=\"T_c0d93_row6_col7\" class=\"data row6 col7\" >0.7180</td>\n",
       "      <td id=\"T_c0d93_row6_col8\" class=\"data row6 col8\" >0.0260</td>\n",
       "    </tr>\n",
       "    <tr>\n",
       "      <th id=\"T_c0d93_level0_row7\" class=\"row_heading level0 row7\" >knn</th>\n",
       "      <td id=\"T_c0d93_row7_col0\" class=\"data row7 col0\" >K Neighbors Classifier</td>\n",
       "      <td id=\"T_c0d93_row7_col1\" class=\"data row7 col1\" >0.8388</td>\n",
       "      <td id=\"T_c0d93_row7_col2\" class=\"data row7 col2\" >0.9187</td>\n",
       "      <td id=\"T_c0d93_row7_col3\" class=\"data row7 col3\" >0.8406</td>\n",
       "      <td id=\"T_c0d93_row7_col4\" class=\"data row7 col4\" >0.8319</td>\n",
       "      <td id=\"T_c0d93_row7_col5\" class=\"data row7 col5\" >0.8359</td>\n",
       "      <td id=\"T_c0d93_row7_col6\" class=\"data row7 col6\" >0.6775</td>\n",
       "      <td id=\"T_c0d93_row7_col7\" class=\"data row7 col7\" >0.6781</td>\n",
       "      <td id=\"T_c0d93_row7_col8\" class=\"data row7 col8\" >0.1340</td>\n",
       "    </tr>\n",
       "    <tr>\n",
       "      <th id=\"T_c0d93_level0_row8\" class=\"row_heading level0 row8\" >ada</th>\n",
       "      <td id=\"T_c0d93_row8_col0\" class=\"data row8 col0\" >Ada Boost Classifier</td>\n",
       "      <td id=\"T_c0d93_row8_col1\" class=\"data row8 col1\" >0.8314</td>\n",
       "      <td id=\"T_c0d93_row8_col2\" class=\"data row8 col2\" >0.9199</td>\n",
       "      <td id=\"T_c0d93_row8_col3\" class=\"data row8 col3\" >0.7932</td>\n",
       "      <td id=\"T_c0d93_row8_col4\" class=\"data row8 col4\" >0.8515</td>\n",
       "      <td id=\"T_c0d93_row8_col5\" class=\"data row8 col5\" >0.8212</td>\n",
       "      <td id=\"T_c0d93_row8_col6\" class=\"data row8 col6\" >0.6621</td>\n",
       "      <td id=\"T_c0d93_row8_col7\" class=\"data row8 col7\" >0.6637</td>\n",
       "      <td id=\"T_c0d93_row8_col8\" class=\"data row8 col8\" >0.0320</td>\n",
       "    </tr>\n",
       "    <tr>\n",
       "      <th id=\"T_c0d93_level0_row9\" class=\"row_heading level0 row9\" >lr</th>\n",
       "      <td id=\"T_c0d93_row9_col0\" class=\"data row9 col0\" >Logistic Regression</td>\n",
       "      <td id=\"T_c0d93_row9_col1\" class=\"data row9 col1\" >0.8186</td>\n",
       "      <td id=\"T_c0d93_row9_col2\" class=\"data row9 col2\" >0.8796</td>\n",
       "      <td id=\"T_c0d93_row9_col3\" class=\"data row9 col3\" >0.7425</td>\n",
       "      <td id=\"T_c0d93_row9_col4\" class=\"data row9 col4\" >0.8668</td>\n",
       "      <td id=\"T_c0d93_row9_col5\" class=\"data row9 col5\" >0.7998</td>\n",
       "      <td id=\"T_c0d93_row9_col6\" class=\"data row9 col6\" >0.6357</td>\n",
       "      <td id=\"T_c0d93_row9_col7\" class=\"data row9 col7\" >0.6422</td>\n",
       "      <td id=\"T_c0d93_row9_col8\" class=\"data row9 col8\" >0.2710</td>\n",
       "    </tr>\n",
       "    <tr>\n",
       "      <th id=\"T_c0d93_level0_row10\" class=\"row_heading level0 row10\" >qda</th>\n",
       "      <td id=\"T_c0d93_row10_col0\" class=\"data row10 col0\" >Quadratic Discriminant Analysis</td>\n",
       "      <td id=\"T_c0d93_row10_col1\" class=\"data row10 col1\" >0.8100</td>\n",
       "      <td id=\"T_c0d93_row10_col2\" class=\"data row10 col2\" >0.8780</td>\n",
       "      <td id=\"T_c0d93_row10_col3\" class=\"data row10 col3\" >0.7766</td>\n",
       "      <td id=\"T_c0d93_row10_col4\" class=\"data row10 col4\" >0.8241</td>\n",
       "      <td id=\"T_c0d93_row10_col5\" class=\"data row10 col5\" >0.7997</td>\n",
       "      <td id=\"T_c0d93_row10_col6\" class=\"data row10 col6\" >0.6193</td>\n",
       "      <td id=\"T_c0d93_row10_col7\" class=\"data row10 col7\" >0.6204</td>\n",
       "      <td id=\"T_c0d93_row10_col8\" class=\"data row10 col8\" >0.0280</td>\n",
       "    </tr>\n",
       "    <tr>\n",
       "      <th id=\"T_c0d93_level0_row11\" class=\"row_heading level0 row11\" >ridge</th>\n",
       "      <td id=\"T_c0d93_row11_col0\" class=\"data row11 col0\" >Ridge Classifier</td>\n",
       "      <td id=\"T_c0d93_row11_col1\" class=\"data row11 col1\" >0.8143</td>\n",
       "      <td id=\"T_c0d93_row11_col2\" class=\"data row11 col2\" >0.0000</td>\n",
       "      <td id=\"T_c0d93_row11_col3\" class=\"data row11 col3\" >0.7103</td>\n",
       "      <td id=\"T_c0d93_row11_col4\" class=\"data row11 col4\" >0.8867</td>\n",
       "      <td id=\"T_c0d93_row11_col5\" class=\"data row11 col5\" >0.7887</td>\n",
       "      <td id=\"T_c0d93_row11_col6\" class=\"data row11 col6\" >0.6266</td>\n",
       "      <td id=\"T_c0d93_row11_col7\" class=\"data row11 col7\" >0.6389</td>\n",
       "      <td id=\"T_c0d93_row11_col8\" class=\"data row11 col8\" >0.0240</td>\n",
       "    </tr>\n",
       "    <tr>\n",
       "      <th id=\"T_c0d93_level0_row12\" class=\"row_heading level0 row12\" >lda</th>\n",
       "      <td id=\"T_c0d93_row12_col0\" class=\"data row12 col0\" >Linear Discriminant Analysis</td>\n",
       "      <td id=\"T_c0d93_row12_col1\" class=\"data row12 col1\" >0.8143</td>\n",
       "      <td id=\"T_c0d93_row12_col2\" class=\"data row12 col2\" >0.8796</td>\n",
       "      <td id=\"T_c0d93_row12_col3\" class=\"data row12 col3\" >0.7103</td>\n",
       "      <td id=\"T_c0d93_row12_col4\" class=\"data row12 col4\" >0.8867</td>\n",
       "      <td id=\"T_c0d93_row12_col5\" class=\"data row12 col5\" >0.7887</td>\n",
       "      <td id=\"T_c0d93_row12_col6\" class=\"data row12 col6\" >0.6266</td>\n",
       "      <td id=\"T_c0d93_row12_col7\" class=\"data row12 col7\" >0.6389</td>\n",
       "      <td id=\"T_c0d93_row12_col8\" class=\"data row12 col8\" >0.0300</td>\n",
       "    </tr>\n",
       "    <tr>\n",
       "      <th id=\"T_c0d93_level0_row13\" class=\"row_heading level0 row13\" >svm</th>\n",
       "      <td id=\"T_c0d93_row13_col0\" class=\"data row13 col0\" >SVM - Linear Kernel</td>\n",
       "      <td id=\"T_c0d93_row13_col1\" class=\"data row13 col1\" >0.8110</td>\n",
       "      <td id=\"T_c0d93_row13_col2\" class=\"data row13 col2\" >0.0000</td>\n",
       "      <td id=\"T_c0d93_row13_col3\" class=\"data row13 col3\" >0.6954</td>\n",
       "      <td id=\"T_c0d93_row13_col4\" class=\"data row13 col4\" >0.8940</td>\n",
       "      <td id=\"T_c0d93_row13_col5\" class=\"data row13 col5\" >0.7822</td>\n",
       "      <td id=\"T_c0d93_row13_col6\" class=\"data row13 col6\" >0.6198</td>\n",
       "      <td id=\"T_c0d93_row13_col7\" class=\"data row13 col7\" >0.6351</td>\n",
       "      <td id=\"T_c0d93_row13_col8\" class=\"data row13 col8\" >0.0230</td>\n",
       "    </tr>\n",
       "    <tr>\n",
       "      <th id=\"T_c0d93_level0_row14\" class=\"row_heading level0 row14\" >nb</th>\n",
       "      <td id=\"T_c0d93_row14_col0\" class=\"data row14 col0\" >Naive Bayes</td>\n",
       "      <td id=\"T_c0d93_row14_col1\" class=\"data row14 col1\" >0.7074</td>\n",
       "      <td id=\"T_c0d93_row14_col2\" class=\"data row14 col2\" >0.7679</td>\n",
       "      <td id=\"T_c0d93_row14_col3\" class=\"data row14 col3\" >0.6058</td>\n",
       "      <td id=\"T_c0d93_row14_col4\" class=\"data row14 col4\" >0.7470</td>\n",
       "      <td id=\"T_c0d93_row14_col5\" class=\"data row14 col5\" >0.6690</td>\n",
       "      <td id=\"T_c0d93_row14_col6\" class=\"data row14 col6\" >0.4118</td>\n",
       "      <td id=\"T_c0d93_row14_col7\" class=\"data row14 col7\" >0.4191</td>\n",
       "      <td id=\"T_c0d93_row14_col8\" class=\"data row14 col8\" >0.0260</td>\n",
       "    </tr>\n",
       "    <tr>\n",
       "      <th id=\"T_c0d93_level0_row15\" class=\"row_heading level0 row15\" >dummy</th>\n",
       "      <td id=\"T_c0d93_row15_col0\" class=\"data row15 col0\" >Dummy Classifier</td>\n",
       "      <td id=\"T_c0d93_row15_col1\" class=\"data row15 col1\" >0.5118</td>\n",
       "      <td id=\"T_c0d93_row15_col2\" class=\"data row15 col2\" >0.5000</td>\n",
       "      <td id=\"T_c0d93_row15_col3\" class=\"data row15 col3\" >0.0000</td>\n",
       "      <td id=\"T_c0d93_row15_col4\" class=\"data row15 col4\" >0.0000</td>\n",
       "      <td id=\"T_c0d93_row15_col5\" class=\"data row15 col5\" >0.0000</td>\n",
       "      <td id=\"T_c0d93_row15_col6\" class=\"data row15 col6\" >0.0000</td>\n",
       "      <td id=\"T_c0d93_row15_col7\" class=\"data row15 col7\" >0.0000</td>\n",
       "      <td id=\"T_c0d93_row15_col8\" class=\"data row15 col8\" >0.0320</td>\n",
       "    </tr>\n",
       "  </tbody>\n",
       "</table>\n"
      ],
      "text/plain": [
       "<pandas.io.formats.style.Styler at 0x7fe4ed5380a0>"
      ]
     },
     "metadata": {},
     "output_type": "display_data"
    },
    {
     "data": {
      "text/html": [],
      "text/plain": [
       "<IPython.core.display.HTML object>"
      ]
     },
     "metadata": {},
     "output_type": "display_data"
    }
   ],
   "source": [
    "best_model = compare_models(sort = 'F1')"
   ]
  },
  {
   "cell_type": "code",
   "execution_count": 22,
   "metadata": {
    "cell_id": "2c981dfc87f540e0b77345e9aa2d5fe8",
    "deepnote_cell_type": "code",
    "deepnote_to_be_reexecuted": false,
    "execution_millis": 2,
    "execution_start": 1678525270525,
    "source_hash": "f121c9bf"
   },
   "outputs": [],
   "source": [
    "# # init the class\n",
    "# exp = ClassificationExperiment()\n",
    "# # init setup on exp\n",
    "# exp.setup(df_clusters, target = 'cardiovascular_disease', session_id = 123)"
   ]
  },
  {
   "cell_type": "code",
   "execution_count": 23,
   "metadata": {
    "cell_id": "dae56ce62921451e9deabc29e963b11b",
    "deepnote_cell_type": "code",
    "deepnote_to_be_reexecuted": false,
    "execution_millis": 20,
    "execution_start": 1678525270526,
    "source_hash": "6850d7cd"
   },
   "outputs": [],
   "source": [
    "# # compare models using OOP\n",
    "# exp.compare_models(sort = 'Precision')"
   ]
  },
  {
   "cell_type": "markdown",
   "metadata": {
    "cell_id": "0d27f753101c4138a1b1100c16ca77bb",
    "deepnote_cell_type": "text-cell-h2",
    "formattedRanges": [],
    "is_collapsed": false,
    "tags": []
   },
   "source": [
    "## Machine Learning"
   ]
  },
  {
   "cell_type": "code",
   "execution_count": 24,
   "metadata": {
    "cell_id": "38b12c45461e4acca1c4211273c28eeb",
    "deepnote_cell_type": "code",
    "deepnote_to_be_reexecuted": false,
    "execution_millis": 9,
    "execution_start": 1678525482768,
    "source_hash": "9da55884"
   },
   "outputs": [],
   "source": [
    "from sklearn.model_selection import train_test_split, cross_val_score\n",
    "from sklearn.tree import DecisionTreeClassifier\n",
    "from sklearn.ensemble import RandomForestClassifier, GradientBoostingClassifier\n",
    "from sklearn.model_selection import GridSearchCV, RandomizedSearchCV\n",
    "\n",
    "from lightgbm import LGBMClassifier\n",
    "from xgboost import XGBClassifier\n",
    "\n",
    "from sklearn.metrics import accuracy_score, precision_score, precision_recall_fscore_support, confusion_matrix \n",
    "from sklearn.metrics import classification_report"
   ]
  },
  {
   "cell_type": "code",
   "execution_count": 25,
   "metadata": {},
   "outputs": [],
   "source": [
    "def plot_confusion_matrix(model, X_test, y_test):\n",
    "    y_pred = model.predict(X_test)\n",
    "    cm = confusion_matrix(y_test, y_pred)\n",
    "    plt.figure(figsize=(8,6))\n",
    "    sns.heatmap(cm, annot=True, cmap=\"Blues\", fmt='g', xticklabels=np.unique(y_test), yticklabels=np.unique(y_test))\n",
    "    plt.title('Confusion matrix', fontsize=16)\n",
    "    plt.xlabel('Predicted', fontsize=14)\n",
    "    plt.ylabel('Actual', fontsize=14)\n",
    "    plt.show()"
   ]
  },
  {
   "cell_type": "code",
   "execution_count": 26,
   "metadata": {
    "cell_id": "914f8aa9d5f54d3fab46c53613f3a34d",
    "deepnote_cell_type": "code",
    "deepnote_to_be_reexecuted": false,
    "execution_millis": 68,
    "execution_start": 1678525270614,
    "source_hash": "92ee054a",
    "tags": []
   },
   "outputs": [],
   "source": [
    "X = df_clusters.drop('cardiovascular_disease', axis=1)\n",
    "y = df_clusters['cardiovascular_disease']\n",
    "\n",
    "# Split the data into training and testing sets. 80% of data is training data, set aside other 20% for test\n",
    "X_train_val, X_test, y_train_val, y_test = train_test_split(X, y, test_size=0.2, random_state=42)\n",
    "\n",
    "# Remaining 80% is split into valuation and test sets. \n",
    "X_train, X_val, y_train, y_val = train_test_split(X_train_val, y_train_val, test_size=0.25, random_state=42)"
   ]
  },
  {
   "cell_type": "markdown",
   "metadata": {
    "cell_id": "eeb2ec03221a42bd8429b0bb4254fd5c",
    "deepnote_cell_type": "markdown"
   },
   "source": [
    "### Random Forest Classifier"
   ]
  },
  {
   "cell_type": "code",
   "execution_count": 27,
   "metadata": {
    "cell_id": "9dc9861a1fda43be91886ee7c51cf955",
    "deepnote_cell_type": "code",
    "deepnote_to_be_reexecuted": false,
    "execution_millis": 9042,
    "execution_start": 1678525271368,
    "source_hash": "5bcf233f"
   },
   "outputs": [
    {
     "name": "stdout",
     "output_type": "stream",
     "text": [
      "RandomForest Classifier\n",
      "Accuracy on validation set: 0.8602543852356804\n",
      "Accuracy on test set: 0.8624158284146646\n",
      "Cross-validation score: 0.8583809622778759\n",
      "Classification report:\n",
      "              precision    recall  f1-score   support\n",
      "\n",
      "           0       0.84      0.90      0.87      6172\n",
      "           1       0.88      0.83      0.85      5857\n",
      "\n",
      "    accuracy                           0.86     12029\n",
      "   macro avg       0.86      0.86      0.86     12029\n",
      "weighted avg       0.86      0.86      0.86     12029\n",
      "\n",
      "\n"
     ]
    }
   ],
   "source": [
    "# Instantiate the models\n",
    "rf_kmodes = RandomForestClassifier()\n",
    "# Fit and evaluate the Random Forest Classifier model\n",
    "rf_kmodes.fit(X_train, y_train)\n",
    "y_val_pred = rf_kmodes.predict(X_val)\n",
    "y_test_pred = rf_kmodes.predict(X_test)\n",
    "# Cross-Validate the model\n",
    "cv_scores = cross_val_score(rf_kmodes, X_train_val, y_train_val, cv=5).mean()\n",
    "\n",
    "print(\"RandomForest Classifier\")\n",
    "print(f\"Accuracy on validation set: {accuracy_score(y_val, y_val_pred)}\")\n",
    "print(f\"Accuracy on test set: {accuracy_score(y_test, y_test_pred)}\")\n",
    "print(f\"Cross-validation score: {cv_scores}\")\n",
    "print(f\"Classification report:\\n{classification_report(y_test, y_test_pred)}\\n\")"
   ]
  },
  {
   "cell_type": "code",
   "execution_count": 28,
   "metadata": {},
   "outputs": [
    {
     "name": "stdout",
     "output_type": "stream",
     "text": [
      "Confusion matrix:\n",
      "[[5539  633]\n",
      " [1022 4835]]\n"
     ]
    }
   ],
   "source": [
    "print(f\"Confusion matrix:\\n{confusion_matrix(y_test, y_test_pred)}\")"
   ]
  },
  {
   "cell_type": "code",
   "execution_count": 29,
   "metadata": {
    "cell_id": "905bfd2f31d346bf87771af99914acc4",
    "deepnote_cell_type": "code",
    "deepnote_to_be_reexecuted": false,
    "execution_millis": 562,
    "execution_start": 1678525280426,
    "source_hash": "3ada505a"
   },
   "outputs": [
    {
     "data": {
      "image/png": "[encoded data removed]",
      "text/plain": [
       "<Figure size 800x600 with 2 Axes>"
      ]
     },
     "metadata": {},
     "output_type": "display_data"
    }
   ],
   "source": [
    "plot_confusion_matrix(rf_kmodes, X_test, y_test);"
   ]
  },
  {
   "cell_type": "markdown",
   "metadata": {
    "cell_id": "f9b0566979a840f4abc698e6d207803e",
    "deepnote_cell_type": "markdown"
   },
   "source": [
    "### Light Gradient Boost (lightgbm)\n",
    "\n",
    "`LightGBM` extends the `gradient` boosting algorithm by adding a type of automatic feature selection as well as focusing on boosting examples with larger gradients. This can result in a dramatic speedup of training and improved predictive performance."
   ]
  },
  {
   "cell_type": "code",
   "execution_count": 30,
   "metadata": {
    "cell_id": "e367ede4dc10417b8b337ca81a7438ba",
    "deepnote_cell_type": "code",
    "deepnote_to_be_reexecuted": false,
    "execution_millis": 17693,
    "execution_start": 1678525281001,
    "source_hash": "36a51d81"
   },
   "outputs": [
    {
     "name": "stdout",
     "output_type": "stream",
     "text": [
      "Light Gradient Boost (lightgbm)\n",
      "Accuracy on validation set: 0.8657411256131017\n",
      "Accuracy on test set: 0.8674037742123202\n",
      "Cross-validation score: 0.8648030759638367\n",
      "Confusion matrix:\n",
      "[[5592  580]\n",
      " [1015 4842]]\n",
      "Classification report:\n",
      "              precision    recall  f1-score   support\n",
      "\n",
      "           0       0.85      0.91      0.88      6172\n",
      "           1       0.89      0.83      0.86      5857\n",
      "\n",
      "    accuracy                           0.87     12029\n",
      "   macro avg       0.87      0.87      0.87     12029\n",
      "weighted avg       0.87      0.87      0.87     12029\n",
      "\n",
      "\n"
     ]
    }
   ],
   "source": [
    "# Instantiate the models\n",
    "lightgbm = LGBMClassifier()\n",
    "# Fit and evaluate the Random Forest Classifier model\n",
    "lightgbm.fit(X_train, y_train)\n",
    "y_val_pred = lightgbm.predict(X_val)\n",
    "y_test_pred = lightgbm.predict(X_test)\n",
    "# Cross-Validate the model\n",
    "cv_scores = cross_val_score(lightgbm, X_train_val, y_train_val, cv=5).mean()\n",
    "\n",
    "print(\"Light Gradient Boost (lightgbm)\")\n",
    "print(f\"Accuracy on validation set: {accuracy_score(y_val, y_val_pred)}\")\n",
    "print(f\"Accuracy on test set: {accuracy_score(y_test, y_test_pred)}\")\n",
    "print(f\"Cross-validation score: {cv_scores}\")\n",
    "print(f\"Confusion matrix:\\n{confusion_matrix(y_test, y_test_pred)}\")\n",
    "print(f\"Classification report:\\n{classification_report(y_test, y_test_pred)}\\n\")"
   ]
  },
  {
   "cell_type": "code",
   "execution_count": 31,
   "metadata": {
    "cell_id": "0d9371e385c441fba638f7277d98599d",
    "deepnote_cell_type": "code",
    "deepnote_to_be_reexecuted": false,
    "execution_millis": 819,
    "execution_start": 1678525298706,
    "source_hash": "3d092938"
   },
   "outputs": [
    {
     "data": {
      "image/png": "[encoded data removed]",
      "text/plain": [
       "<Figure size 800x600 with 2 Axes>"
      ]
     },
     "metadata": {},
     "output_type": "display_data"
    }
   ],
   "source": [
    "plot_confusion_matrix(lightgbm, X_test, y_test);"
   ]
  },
  {
   "cell_type": "markdown",
   "metadata": {
    "cell_id": "6c7f20a86b464e44ac9d75d35179ea86",
    "deepnote_cell_type": "markdown"
   },
   "source": [
    "### Extreme Gradient Boosting (XGBoost)\n",
    "\n",
    "XGBoost is an implementation of gradient boosted decision trees designed for speed and performance."
   ]
  },
  {
   "cell_type": "code",
   "execution_count": 32,
   "metadata": {
    "cell_id": "d4837a85194c40c5b26346f029d397d4",
    "deepnote_cell_type": "code",
    "deepnote_to_be_reexecuted": false,
    "execution_millis": 12533,
    "execution_start": 1678525299513,
    "source_hash": "c4c46909"
   },
   "outputs": [
    {
     "name": "stdout",
     "output_type": "stream",
     "text": [
      "Extreme Gradient Boosting (XGBoost)\n",
      "Accuracy on validation set: 0.8640784770138831\n",
      "Accuracy on test set: 0.8652423310333361\n",
      "Cross-validation score: 0.8629949080328381\n",
      "Classification report:\n",
      "              precision    recall  f1-score   support\n",
      "\n",
      "           0       0.85      0.90      0.87      6172\n",
      "           1       0.88      0.83      0.86      5857\n",
      "\n",
      "    accuracy                           0.87     12029\n",
      "   macro avg       0.87      0.86      0.86     12029\n",
      "weighted avg       0.87      0.87      0.87     12029\n",
      "\n",
      "\n"
     ]
    }
   ],
   "source": [
    "# Instantiate the models\n",
    "xgboost = XGBClassifier()\n",
    "\n",
    "# Fit and evaluate the Random Forest Classifier model\n",
    "xgboost.fit(X_train, y_train)\n",
    "y_val_pred = xgboost.predict(X_val)\n",
    "y_test_pred = xgboost.predict(X_test)\n",
    "\n",
    "# Cross-Validate the model\n",
    "cv_scores = cross_val_score(xgboost, X_train_val, y_train_val, cv=5).mean()\n",
    "\n",
    "print(\"Extreme Gradient Boosting (XGBoost)\")\n",
    "print(f\"Accuracy on validation set: {accuracy_score(y_val, y_val_pred)}\")\n",
    "print(f\"Accuracy on test set: {accuracy_score(y_test, y_test_pred)}\")\n",
    "print(f\"Cross-validation score: {cv_scores}\")\n",
    "print(f\"Classification report:\\n{classification_report(y_test, y_test_pred)}\\n\")"
   ]
  },
  {
   "cell_type": "code",
   "execution_count": 33,
   "metadata": {
    "cell_id": "171d78506a0541ea864e8fc9ecc1999e",
    "deepnote_cell_type": "code",
    "deepnote_to_be_reexecuted": false,
    "execution_millis": 495,
    "execution_start": 1678525312048,
    "source_hash": "5c45cbfb"
   },
   "outputs": [
    {
     "data": {
      "image/png": "[encoded data removed]",
      "text/plain": [
       "<Figure size 800x600 with 2 Axes>"
      ]
     },
     "metadata": {},
     "output_type": "display_data"
    }
   ],
   "source": [
    "plot_confusion_matrix(xgboost, X_test, y_test);"
   ]
  },
  {
   "cell_type": "markdown",
   "metadata": {},
   "source": [
    "### CatBoost Classifier"
   ]
  },
  {
   "cell_type": "code",
   "execution_count": 34,
   "metadata": {},
   "outputs": [
    {
     "name": "stdout",
     "output_type": "stream",
     "text": [
      "CatBoost Classifier\n",
      "Accuracy on validation set: 0.8649098013134924\n",
      "Accuracy on test set: 0.8648266688835314\n",
      "Cross-validation score: 0.863618414215941\n",
      "Confusion matrix:\n",
      "[[5535  637]\n",
      " [ 989 4868]]\n",
      "Classification report:\n",
      "              precision    recall  f1-score   support\n",
      "\n",
      "           0       0.85      0.90      0.87      6172\n",
      "           1       0.88      0.83      0.86      5857\n",
      "\n",
      "    accuracy                           0.86     12029\n",
      "   macro avg       0.87      0.86      0.86     12029\n",
      "weighted avg       0.87      0.86      0.86     12029\n",
      "\n",
      "\n"
     ]
    }
   ],
   "source": [
    "from catboost import CatBoostClassifier\n",
    "\n",
    "# Instantiate the model\n",
    "catboost = CatBoostClassifier(verbose=0)\n",
    "\n",
    "# Fit and evaluate the model\n",
    "catboost.fit(X_train, y_train)\n",
    "y_val_pred = catboost.predict(X_val)\n",
    "y_test_pred = catboost.predict(X_test)\n",
    "\n",
    "# Cross-Validate the model\n",
    "cv_scores = cross_val_score(catboost, X_train_val, y_train_val, cv=5).mean()\n",
    "\n",
    "# Print evaluation metrics\n",
    "print(\"CatBoost Classifier\")\n",
    "print(f\"Accuracy on validation set: {accuracy_score(y_val, y_val_pred)}\")\n",
    "print(f\"Accuracy on test set: {accuracy_score(y_test, y_test_pred)}\")\n",
    "print(f\"Cross-validation score: {cv_scores}\")\n",
    "print(f\"Confusion matrix:\\n{confusion_matrix(y_test, y_test_pred)}\")\n",
    "print(f\"Classification report:\\n{classification_report(y_test, y_test_pred)}\\n\")"
   ]
  },
  {
   "cell_type": "code",
   "execution_count": 35,
   "metadata": {},
   "outputs": [
    {
     "data": {
      "image/png": "[encoded data removed]",
      "text/plain": [
       "<Figure size 800x600 with 2 Axes>"
      ]
     },
     "metadata": {},
     "output_type": "display_data"
    }
   ],
   "source": [
    "plot_confusion_matrix(catboost, X_test, y_test);"
   ]
  },
  {
   "cell_type": "markdown",
   "metadata": {
    "cell_id": "eee170e52239413389aa73d06d59b664",
    "deepnote_cell_type": "markdown"
   },
   "source": [
    "### Gradient Boosting Classifier\n",
    "\n",
    "Gradient boosting is an approach where new models are created that predict the residuals or errors of prior models and then added together to make the final prediction. It is called gradient boosting because it uses a gradient descent algorithm to minimize the loss when adding new models."
   ]
  },
  {
   "cell_type": "code",
   "execution_count": 36,
   "metadata": {
    "cell_id": "11cada97211f44c78c540490c883c2e7",
    "deepnote_cell_type": "code",
    "deepnote_to_be_reexecuted": false,
    "execution_millis": 10208,
    "execution_start": 1678525312584,
    "source_hash": "8cd811da"
   },
   "outputs": [
    {
     "name": "stdout",
     "output_type": "stream",
     "text": [
      "Gradientboost Classifier\n",
      "Accuracy on validation set: 0.8571784853271261\n",
      "Accuracy on test set: 0.8599218555158368\n",
      "Cross-validation score: 0.8551179465863037\n",
      "Confusion matrix:\n",
      "[[5364  808]\n",
      " [ 877 4980]]\n",
      "Classification report:\n",
      "              precision    recall  f1-score   support\n",
      "\n",
      "           0       0.86      0.87      0.86      6172\n",
      "           1       0.86      0.85      0.86      5857\n",
      "\n",
      "    accuracy                           0.86     12029\n",
      "   macro avg       0.86      0.86      0.86     12029\n",
      "weighted avg       0.86      0.86      0.86     12029\n",
      "\n",
      "\n"
     ]
    }
   ],
   "source": [
    "# Instantiate the models\n",
    "gradboost_kmodes = GradientBoostingClassifier()\n",
    "# Fit and evaluate the Gradientboost Classifier model\n",
    "gradboost_kmodes.fit(X_train, y_train)\n",
    "y_val_pred = gradboost_kmodes.predict(X_val)\n",
    "y_test_pred = gradboost_kmodes.predict(X_test)\n",
    "# Cross-validate the model\n",
    "cv_scores = cross_val_score(gradboost_kmodes, X_train_val, y_train_val, cv=5).mean()\n",
    "\n",
    "print(\"Gradientboost Classifier\")\n",
    "print(f\"Accuracy on validation set: {accuracy_score(y_val, y_val_pred)}\")\n",
    "print(f\"Accuracy on test set: {accuracy_score(y_test, y_test_pred)}\")\n",
    "print(f\"Cross-validation score: {cv_scores}\")\n",
    "print(f\"Confusion matrix:\\n{confusion_matrix(y_test, y_test_pred)}\")\n",
    "print(f\"Classification report:\\n{classification_report(y_test, y_test_pred)}\\n\")"
   ]
  },
  {
   "cell_type": "code",
   "execution_count": 37,
   "metadata": {
    "cell_id": "66c88477bb914cf8b2b2ed26cd5c57b2",
    "deepnote_cell_type": "code",
    "deepnote_to_be_reexecuted": false,
    "execution_millis": 457,
    "execution_start": 1678525322799,
    "source_hash": "6d0cfabc"
   },
   "outputs": [
    {
     "data": {
      "image/png": "[encoded data removed]",
      "text/plain": [
       "<Figure size 800x600 with 2 Axes>"
      ]
     },
     "metadata": {},
     "output_type": "display_data"
    }
   ],
   "source": [
    "plot_confusion_matrix(gradboost_kmodes, X_test, y_test);"
   ]
  },
  {
   "cell_type": "markdown",
   "metadata": {
    "cell_id": "d38fc3dff01d4d4dbd2eb78908983123",
    "deepnote_cell_type": "markdown"
   },
   "source": [
    "### Appending all results"
   ]
  },
  {
   "cell_type": "code",
   "execution_count": 38,
   "metadata": {
    "cell_id": "f09a6af8677241d29c656e51013ee9e6",
    "deepnote_cell_type": "code",
    "deepnote_to_be_reexecuted": false,
    "execution_millis": 7890,
    "execution_start": 1678525323272,
    "source_hash": "ae4c3b98"
   },
   "outputs": [
    {
     "data": {
      "text/html": [
       "<div>\n",
       "<style scoped>\n",
       "    .dataframe tbody tr th:only-of-type {\n",
       "        vertical-align: middle;\n",
       "    }\n",
       "\n",
       "    .dataframe tbody tr th {\n",
       "        vertical-align: top;\n",
       "    }\n",
       "\n",
       "    .dataframe thead th {\n",
       "        text-align: right;\n",
       "    }\n",
       "</style>\n",
       "<table border=\"1\" class=\"dataframe\">\n",
       "  <thead>\n",
       "    <tr style=\"text-align: right;\">\n",
       "      <th></th>\n",
       "      <th>Model</th>\n",
       "      <th>Accuracy</th>\n",
       "      <th>Precision</th>\n",
       "      <th>Recall</th>\n",
       "      <th>F1-Score</th>\n",
       "    </tr>\n",
       "  </thead>\n",
       "  <tbody>\n",
       "    <tr>\n",
       "      <th>0</th>\n",
       "      <td>CatBoost Classifier</td>\n",
       "      <td>Val: 0.865, Test: 0.865</td>\n",
       "      <td>Val: 0.866, Test: 0.866</td>\n",
       "      <td>Val: 0.865, Test: 0.865</td>\n",
       "      <td>Val: 0.865, Test: 0.865</td>\n",
       "    </tr>\n",
       "    <tr>\n",
       "      <th>1</th>\n",
       "      <td>Random-Forest Classifier</td>\n",
       "      <td>Val: 0.860, Test: 0.863</td>\n",
       "      <td>Val: 0.861, Test: 0.864</td>\n",
       "      <td>Val: 0.860, Test: 0.863</td>\n",
       "      <td>Val: 0.859, Test: 0.863</td>\n",
       "    </tr>\n",
       "    <tr>\n",
       "      <th>2</th>\n",
       "      <td>Light Gradientboost</td>\n",
       "      <td>Val: 0.866, Test: 0.867</td>\n",
       "      <td>Val: 0.867, Test: 0.869</td>\n",
       "      <td>Val: 0.866, Test: 0.867</td>\n",
       "      <td>Val: 0.865, Test: 0.867</td>\n",
       "    </tr>\n",
       "    <tr>\n",
       "      <th>3</th>\n",
       "      <td>Extreme Gradientboost</td>\n",
       "      <td>Val: 0.864, Test: 0.865</td>\n",
       "      <td>Val: 0.865, Test: 0.866</td>\n",
       "      <td>Val: 0.864, Test: 0.865</td>\n",
       "      <td>Val: 0.864, Test: 0.865</td>\n",
       "    </tr>\n",
       "    <tr>\n",
       "      <th>4</th>\n",
       "      <td>GradientBoost Classifier</td>\n",
       "      <td>Val: 0.857, Test: 0.860</td>\n",
       "      <td>Val: 0.857, Test: 0.860</td>\n",
       "      <td>Val: 0.857, Test: 0.860</td>\n",
       "      <td>Val: 0.857, Test: 0.860</td>\n",
       "    </tr>\n",
       "  </tbody>\n",
       "</table>\n",
       "</div>"
      ],
      "text/plain": [
       "                      Model                 Accuracy                Precision  \\\n",
       "0       CatBoost Classifier  Val: 0.865, Test: 0.865  Val: 0.866, Test: 0.866   \n",
       "1  Random-Forest Classifier  Val: 0.860, Test: 0.863  Val: 0.861, Test: 0.864   \n",
       "2       Light Gradientboost  Val: 0.866, Test: 0.867  Val: 0.867, Test: 0.869   \n",
       "3     Extreme Gradientboost  Val: 0.864, Test: 0.865  Val: 0.865, Test: 0.866   \n",
       "4  GradientBoost Classifier  Val: 0.857, Test: 0.860  Val: 0.857, Test: 0.860   \n",
       "\n",
       "                    Recall                 F1-Score  \n",
       "0  Val: 0.865, Test: 0.865  Val: 0.865, Test: 0.865  \n",
       "1  Val: 0.860, Test: 0.863  Val: 0.859, Test: 0.863  \n",
       "2  Val: 0.866, Test: 0.867  Val: 0.865, Test: 0.867  \n",
       "3  Val: 0.864, Test: 0.865  Val: 0.864, Test: 0.865  \n",
       "4  Val: 0.857, Test: 0.860  Val: 0.857, Test: 0.860  "
      ]
     },
     "execution_count": 38,
     "metadata": {},
     "output_type": "execute_result"
    }
   ],
   "source": [
    "# Define the models\n",
    "models = [\n",
    "    ('CatBoost Classifier', catboost),\n",
    "    ('Random-Forest Classifier', rf_kmodes),\n",
    "    ('Light Gradientboost', lightgbm),\n",
    "    ('Extreme Gradientboost', xgboost),\n",
    "    ('GradientBoost Classifier', gradboost_kmodes)\n",
    "]\n",
    "\n",
    "# Create an empty DataFrame to store the results\n",
    "results_df = pd.DataFrame(columns=['Model', 'Accuracy', 'Precision', 'Recall', 'F1-Score'])\n",
    "\n",
    "# Evaluate each model and append the results to the DataFrame\n",
    "for model_name, model in models:\n",
    "    # Train the model\n",
    "    model.fit(X_train, y_train)\n",
    "\n",
    "    # Evaluate the model on the validation set\n",
    "    y_val_pred = model.predict(X_val)\n",
    "    acc_val = accuracy_score(y_val, y_val_pred)\n",
    "    p_val, r_val, f1_val, _ = precision_recall_fscore_support(y_val, y_val_pred, average='weighted')\n",
    "\n",
    "    # Evaluate the model on the test set\n",
    "    y_test_pred = model.predict(X_test)\n",
    "    acc_test = accuracy_score(y_test, y_test_pred)\n",
    "    p_test, r_test, f1_test, _ = precision_recall_fscore_support(y_test, y_test_pred, average='weighted')\n",
    "\n",
    "    # Append the results to the DataFrame\n",
    "    results_df = results_df.append({\n",
    "        'Model': model_name,\n",
    "        'Accuracy': f'Val: {acc_val:.3f}, Test: {acc_test:.3f}',\n",
    "        'Precision': f'Val: {p_val:.3f}, Test: {p_test:.3f}',\n",
    "        'Recall': f'Val: {r_val:.3f}, Test: {r_test:.3f}',\n",
    "        'F1-Score': f'Val: {f1_val:.3f}, Test: {f1_test:.3f}'\n",
    "    }, ignore_index=True)\n",
    "\n",
    "# Print the results\n",
    "results_df"
   ]
  },
  {
   "cell_type": "code",
   "execution_count": 39,
   "metadata": {
    "cell_id": "258449a2f74049a798c4840517f4993a",
    "deepnote_cell_type": "code",
    "deepnote_to_be_reexecuted": false,
    "execution_millis": 4,
    "execution_start": 1678525331186,
    "source_hash": "1e5fb2a6"
   },
   "outputs": [
    {
     "data": {
      "text/html": [
       "<div>\n",
       "<style scoped>\n",
       "    .dataframe tbody tr th:only-of-type {\n",
       "        vertical-align: middle;\n",
       "    }\n",
       "\n",
       "    .dataframe tbody tr th {\n",
       "        vertical-align: top;\n",
       "    }\n",
       "\n",
       "    .dataframe thead th {\n",
       "        text-align: right;\n",
       "    }\n",
       "</style>\n",
       "<table border=\"1\" class=\"dataframe\">\n",
       "  <thead>\n",
       "    <tr style=\"text-align: right;\">\n",
       "      <th></th>\n",
       "      <th>Model</th>\n",
       "      <th>Accuracy</th>\n",
       "      <th>Precision</th>\n",
       "      <th>Recall</th>\n",
       "      <th>F1-Score</th>\n",
       "    </tr>\n",
       "  </thead>\n",
       "  <tbody>\n",
       "    <tr>\n",
       "      <th>2</th>\n",
       "      <td>Light Gradientboost</td>\n",
       "      <td>Val: 0.866, Test: 0.867</td>\n",
       "      <td>Val: 0.867, Test: 0.869</td>\n",
       "      <td>Val: 0.866, Test: 0.867</td>\n",
       "      <td>Val: 0.865, Test: 0.867</td>\n",
       "    </tr>\n",
       "    <tr>\n",
       "      <th>0</th>\n",
       "      <td>CatBoost Classifier</td>\n",
       "      <td>Val: 0.865, Test: 0.865</td>\n",
       "      <td>Val: 0.866, Test: 0.866</td>\n",
       "      <td>Val: 0.865, Test: 0.865</td>\n",
       "      <td>Val: 0.865, Test: 0.865</td>\n",
       "    </tr>\n",
       "    <tr>\n",
       "      <th>3</th>\n",
       "      <td>Extreme Gradientboost</td>\n",
       "      <td>Val: 0.864, Test: 0.865</td>\n",
       "      <td>Val: 0.865, Test: 0.866</td>\n",
       "      <td>Val: 0.864, Test: 0.865</td>\n",
       "      <td>Val: 0.864, Test: 0.865</td>\n",
       "    </tr>\n",
       "    <tr>\n",
       "      <th>1</th>\n",
       "      <td>Random-Forest Classifier</td>\n",
       "      <td>Val: 0.860, Test: 0.863</td>\n",
       "      <td>Val: 0.861, Test: 0.864</td>\n",
       "      <td>Val: 0.860, Test: 0.863</td>\n",
       "      <td>Val: 0.859, Test: 0.863</td>\n",
       "    </tr>\n",
       "    <tr>\n",
       "      <th>4</th>\n",
       "      <td>GradientBoost Classifier</td>\n",
       "      <td>Val: 0.857, Test: 0.860</td>\n",
       "      <td>Val: 0.857, Test: 0.860</td>\n",
       "      <td>Val: 0.857, Test: 0.860</td>\n",
       "      <td>Val: 0.857, Test: 0.860</td>\n",
       "    </tr>\n",
       "  </tbody>\n",
       "</table>\n",
       "</div>"
      ],
      "text/plain": [
       "                      Model                 Accuracy                Precision  \\\n",
       "2       Light Gradientboost  Val: 0.866, Test: 0.867  Val: 0.867, Test: 0.869   \n",
       "0       CatBoost Classifier  Val: 0.865, Test: 0.865  Val: 0.866, Test: 0.866   \n",
       "3     Extreme Gradientboost  Val: 0.864, Test: 0.865  Val: 0.865, Test: 0.866   \n",
       "1  Random-Forest Classifier  Val: 0.860, Test: 0.863  Val: 0.861, Test: 0.864   \n",
       "4  GradientBoost Classifier  Val: 0.857, Test: 0.860  Val: 0.857, Test: 0.860   \n",
       "\n",
       "                    Recall                 F1-Score  \n",
       "2  Val: 0.866, Test: 0.867  Val: 0.865, Test: 0.867  \n",
       "0  Val: 0.865, Test: 0.865  Val: 0.865, Test: 0.865  \n",
       "3  Val: 0.864, Test: 0.865  Val: 0.864, Test: 0.865  \n",
       "1  Val: 0.860, Test: 0.863  Val: 0.859, Test: 0.863  \n",
       "4  Val: 0.857, Test: 0.860  Val: 0.857, Test: 0.860  "
      ]
     },
     "execution_count": 39,
     "metadata": {},
     "output_type": "execute_result"
    }
   ],
   "source": [
    "f1_sort = results_df.sort_values('F1-Score', ascending=False)\n",
    "f1_sort"
   ]
  },
  {
   "cell_type": "markdown",
   "metadata": {
    "cell_id": "8f9369afe55c4108a967a092c0c8f39f",
    "deepnote_cell_type": "text-cell-h2",
    "formattedRanges": [],
    "is_collapsed": false,
    "tags": []
   },
   "source": [
    "## Hyperparameter Tuning"
   ]
  },
  {
   "cell_type": "markdown",
   "metadata": {
    "cell_id": "f61d3a8269314d74b2709a4f0ca125fe",
    "deepnote_cell_type": "markdown"
   },
   "source": [
    "### Light Gradient Boost (lightgbm)"
   ]
  },
  {
   "cell_type": "code",
   "execution_count": 40,
   "metadata": {
    "cell_id": "1599fb16bbe64203b823b0227e4c8041",
    "deepnote_cell_type": "code",
    "deepnote_to_be_reexecuted": false,
    "execution_millis": 11,
    "execution_start": 1678525331192,
    "source_hash": "f8f68146",
    "tags": []
   },
   "outputs": [],
   "source": [
    "# Create a LightGBM model\n",
    "lgbm = LGBMClassifier()\n",
    "\n",
    "# Define the parameter grid for GridSearchCV\n",
    "lgbm_params_grid = {\n",
    "    'learning_rate': [0.01, 0.1, 1],\n",
    "    'max_depth': [3, 5, 7],\n",
    "    'num_leaves': [7, 15, 31],\n",
    "    'reg_alpha': [0, 0.1, 0.5],\n",
    "    'reg_lambda': [0, 0.1, 0.5]\n",
    "}\n",
    "\n",
    "# Define the parameter grid for RandomSearchCV\n",
    "lgbm_params_random = {\n",
    "    'learning_rate': [0.01, 0.1, 1],\n",
    "    'max_depth': [3, 5, 7],\n",
    "    'num_leaves': [7, 15, 31],\n",
    "    'reg_alpha': [0, 0.1, 0.5],\n",
    "    'reg_lambda': [0, 0.1, 0.5]\n",
    "}"
   ]
  },
  {
   "cell_type": "code",
   "execution_count": 42,
   "metadata": {
    "cell_id": "f734679b24374d94a44b2db5442d49b8",
    "deepnote_cell_type": "code",
    "deepnote_to_be_reexecuted": false,
    "execution_millis": 1729769,
    "execution_start": 1678525502368,
    "source_hash": "8f080823"
   },
   "outputs": [
    {
     "name": "stdout",
     "output_type": "stream",
     "text": [
      "LightGBM GridSearchCV Best Parameters:  {'learning_rate': 0.1, 'max_depth': 7, 'num_leaves': 31, 'reg_alpha': 0.5, 'reg_lambda': 0.1}\n",
      "LightGBM GridSearchCV Best Score:  0.8567211114103482\n"
     ]
    }
   ],
   "source": [
    "# Perform GridSearchCV for LightGBM\n",
    "lgbm_grid = GridSearchCV(lgbm, lgbm_params_grid, cv=5, scoring='f1')\n",
    "lgbm_grid.fit(X_train, y_train)\n",
    "print(\"LightGBM GridSearchCV Best Parameters: \", lgbm_grid.best_params_)\n",
    "print(\"LightGBM GridSearchCV Best Score: \", lgbm_grid.best_score_)"
   ]
  },
  {
   "cell_type": "code",
   "execution_count": 43,
   "metadata": {
    "cell_id": "43376f7805d243c28a75afd36b18c955",
    "deepnote_cell_type": "code",
    "deepnote_to_be_reexecuted": false,
    "execution_millis": 3956,
    "execution_start": 1678540845338,
    "source_hash": "2c4d6d01"
   },
   "outputs": [
    {
     "name": "stdout",
     "output_type": "stream",
     "text": [
      "Light Gradient Boost - GridSearchCV\n",
      "Accuracy on validation set: 86.64%\n",
      "Accuracy on test set: 86.79%\n",
      "Cross-validation score: 86.51% (+/- 0.95%)\n",
      "Classification report:\n",
      "               precision    recall  f1-score   support\n",
      "\n",
      "           0       0.85      0.91      0.88      6172\n",
      "           1       0.89      0.83      0.86      5857\n",
      "\n",
      "    accuracy                           0.87     12029\n",
      "   macro avg       0.87      0.87      0.87     12029\n",
      "weighted avg       0.87      0.87      0.87     12029\n",
      "\n"
     ]
    }
   ],
   "source": [
    "# Train LightGBM model with the best hyperparameters\n",
    "lgbm_grid_best = LGBMClassifier(learning_rate=0.1, max_depth=7, num_leaves=31, reg_alpha= 0.5, reg_lambda= 0.1, random_state=42)\n",
    "lgbm_grid_best.fit(X_train, y_train)\n",
    "\n",
    "# Evaluate the model on validation set\n",
    "y_pred = lgbm_grid_best.predict(X_val)\n",
    "acc_val = accuracy_score(y_val, y_pred)\n",
    "\n",
    "# Evaluate the model on test set\n",
    "y_pred = lgbm_grid_best.predict(X_test)\n",
    "acc_test = accuracy_score(y_test, y_pred)\n",
    "\n",
    "# Evaluate the model using cross-validation\n",
    "cv_scores = cross_val_score(lgbm_grid_best, X_train_val, y_train_val, cv=5)\n",
    "\n",
    "# Print the performance metrics\n",
    "print(\"Light Gradient Boost - GridSearchCV\")\n",
    "print(\"Accuracy on validation set: {:.2f}%\".format(acc_val*100))\n",
    "print(\"Accuracy on test set: {:.2f}%\".format(acc_test*100))\n",
    "print(\"Cross-validation score: {:.2f}% (+/- {:.2f}%)\".format(cv_scores.mean()*100, cv_scores.std()*2*100))\n",
    "print(\"Classification report:\\n\", classification_report(y_test, y_pred))"
   ]
  },
  {
   "cell_type": "code",
   "execution_count": 44,
   "metadata": {
    "cell_id": "e441132e4c8e4103bed4fc273ac063ce",
    "deepnote_cell_type": "code",
    "deepnote_to_be_reexecuted": false,
    "execution_millis": 470,
    "execution_start": 1678540856631,
    "source_hash": "21c9205c"
   },
   "outputs": [
    {
     "data": {
      "image/png": "[encoded data removed]",
      "text/plain": [
       "<Figure size 800x600 with 2 Axes>"
      ]
     },
     "metadata": {},
     "output_type": "display_data"
    }
   ],
   "source": [
    "plot_confusion_matrix(lgbm_grid_best, X_test, y_test);"
   ]
  },
  {
   "cell_type": "code",
   "execution_count": 45,
   "metadata": {
    "cell_id": "922e6873a4f94be3821864db5b388fce",
    "deepnote_cell_type": "code",
    "deepnote_to_be_reexecuted": false,
    "execution_millis": 35063,
    "execution_start": 1678527232110,
    "source_hash": "e0821272"
   },
   "outputs": [
    {
     "name": "stdout",
     "output_type": "stream",
     "text": [
      "LightGBM RandomSearchCV Best Parameters:  {'reg_lambda': 0.5, 'reg_alpha': 0.5, 'num_leaves': 31, 'max_depth': 3, 'learning_rate': 1}\n",
      "LightGBM RandomSearchCV Best Score:  0.8549872895300453\n"
     ]
    }
   ],
   "source": [
    "# Perform RandomSearchCV for LightGBM\n",
    "lgbm_random = RandomizedSearchCV(lgbm, lgbm_params_random, cv=5, scoring='f1', n_iter=10, verbose=0)\n",
    "lgbm_random.fit(X_train, y_train)\n",
    "print(\"LightGBM RandomSearchCV Best Parameters: \", lgbm_random.best_params_)\n",
    "print(\"LightGBM RandomSearchCV Best Score: \", lgbm_random.best_score_)"
   ]
  },
  {
   "cell_type": "code",
   "execution_count": 46,
   "metadata": {
    "cell_id": "1ac2073316bf4844b4d55e864fa4aa79",
    "deepnote_cell_type": "code",
    "deepnote_to_be_reexecuted": false,
    "execution_millis": 4025,
    "execution_start": 1678540877052,
    "source_hash": "c4529f39"
   },
   "outputs": [
    {
     "name": "stdout",
     "output_type": "stream",
     "text": [
      "Light Gradient Boost - RandomSearchCV\n",
      "Accuracy on validation set: 86.49%\n",
      "Accuracy on test set: 86.67%\n",
      "Cross-validation score: 86.38% (+/- 0.79%)\n",
      "Classification report:\n",
      "               precision    recall  f1-score   support\n",
      "\n",
      "           0       0.85      0.90      0.87      6172\n",
      "           1       0.89      0.83      0.86      5857\n",
      "\n",
      "    accuracy                           0.87     12029\n",
      "   macro avg       0.87      0.87      0.87     12029\n",
      "weighted avg       0.87      0.87      0.87     12029\n",
      "\n"
     ]
    }
   ],
   "source": [
    "# Train LightGBM model with the best hyperparameters\n",
    "lgbm_rand_best = LGBMClassifier(reg_lambda= 0.5,reg_alpha= 0.5, num_leaves=31, max_depth=3, learning_rate=1, random_state=42)\n",
    "lgbm_rand_best.fit(X_train, y_train)\n",
    "\n",
    "# Evaluate the model on validation set\n",
    "y_pred = lgbm_rand_best.predict(X_val)\n",
    "acc_val = accuracy_score(y_val, y_pred)\n",
    "\n",
    "# Evaluate the model on test set\n",
    "y_pred = lgbm_rand_best.predict(X_test)\n",
    "acc_test = accuracy_score(y_test, y_pred)\n",
    "\n",
    "# Evaluate the model using cross-validation\n",
    "cv_scores = cross_val_score(lgbm_rand_best, X_train_val, y_train_val, cv=5)\n",
    "\n",
    "# Print the performance metrics\n",
    "print(\"Light Gradient Boost - RandomSearchCV\")\n",
    "print(\"Accuracy on validation set: {:.2f}%\".format(acc_val*100))\n",
    "print(\"Accuracy on test set: {:.2f}%\".format(acc_test*100))\n",
    "print(\"Cross-validation score: {:.2f}% (+/- {:.2f}%)\".format(cv_scores.mean()*100, cv_scores.std()*2*100))\n",
    "print(\"Classification report:\\n\", classification_report(y_test, y_pred))"
   ]
  },
  {
   "cell_type": "code",
   "execution_count": 47,
   "metadata": {
    "cell_id": "9f322ed84dfb405aad56b5606282c48a",
    "deepnote_cell_type": "code",
    "deepnote_to_be_reexecuted": false,
    "execution_millis": 515,
    "execution_start": 1678540899084,
    "source_hash": "8e8c5582"
   },
   "outputs": [
    {
     "data": {
      "image/png": "[encoded data removed]",
      "text/plain": [
       "<Figure size 800x600 with 2 Axes>"
      ]
     },
     "metadata": {},
     "output_type": "display_data"
    }
   ],
   "source": [
    "plot_confusion_matrix(lgbm_rand_best, X_test, y_test);"
   ]
  },
  {
   "cell_type": "markdown",
   "metadata": {
    "cell_id": "43eeab0702964bd88baa32d21fa3c2b1",
    "deepnote_cell_type": "markdown"
   },
   "source": [
    "### Extreme Gradient Boosting (XGBoost)"
   ]
  },
  {
   "cell_type": "code",
   "execution_count": 48,
   "metadata": {
    "cell_id": "88bd305be2c547e5a1775974c0296b45",
    "deepnote_cell_type": "code",
    "deepnote_to_be_reexecuted": false,
    "execution_millis": 7,
    "execution_start": 1678527267177,
    "source_hash": "b36e780"
   },
   "outputs": [],
   "source": [
    "# Create an XGBoost model\n",
    "xgb = XGBClassifier()\n",
    "\n",
    "# Define the parameter grid for GridSearchCV\n",
    "xgb_params_grid = {\n",
    "    'learning_rate': [0.01, 0.1, 1],\n",
    "    'max_depth': [3, 5, 7],\n",
    "    'subsample': [0.5, 0.75, 1],\n",
    "    'colsample_bytree': [0.5, 0.75, 1],\n",
    "    'gamma': [0, 0.1, 0.5],\n",
    "    'reg_alpha': [0, 0.1, 0.5],\n",
    "    'reg_lambda': [0, 0.1, 0.5]\n",
    "}\n",
    "\n",
    "# Define the parameter grid for RandomSearchCV\n",
    "xgb_params_random = {\n",
    "    'learning_rate': [0.01, 0.1, 1],\n",
    "    'max_depth': [3, 5, 7],\n",
    "    'subsample': [0.5, 0.75, 1],\n",
    "    'colsample_bytree': [0.5, 0.75, 1],\n",
    "    'gamma': [0, 0.1, 0.5],\n",
    "    'reg_alpha': [0, 0.1, 0.5],\n",
    "    'reg_lambda': [0, 0.1, 0.5]\n",
    "}"
   ]
  },
  {
   "cell_type": "code",
   "execution_count": null,
   "metadata": {
    "cell_id": "8a8d790b70eb4e9abf762b14d9de99bc",
    "deepnote_cell_type": "code",
    "deepnote_to_be_reexecuted": false,
    "execution_millis": 5,
    "execution_start": 1678540777575,
    "source_hash": "c6700560"
   },
   "outputs": [],
   "source": [
    "# # Perform GridSearchCV for XGBoost\n",
    "# xgb_grid = GridSearchCV(xgb, xgb_params_grid, cv=5, scoring='f1')\n",
    "# xgb_grid.fit(X_train, y_train)\n",
    "# print(\"XGBoost GridSearchCV Best Parameters: \", xgb_grid.best_params_)\n",
    "# print(\"XGBoost GridSearchCV Best Score: \", xgb_grid.best_score_)"
   ]
  },
  {
   "cell_type": "markdown",
   "metadata": {
    "cell_id": "19e7c427fcf54eaa915989d3459d7728",
    "deepnote_cell_type": "markdown",
    "tags": []
   },
   "source": [
    "Took too long to run sucessfully"
   ]
  },
  {
   "cell_type": "code",
   "execution_count": 49,
   "metadata": {
    "cell_id": "dcbca8414b6c47359bcf486e5c72b5fa",
    "deepnote_cell_type": "code",
    "deepnote_to_be_reexecuted": false,
    "execution_millis": 54882,
    "execution_start": 1678540916636,
    "source_hash": "32f85846"
   },
   "outputs": [
    {
     "name": "stdout",
     "output_type": "stream",
     "text": [
      "XGBoost RandomSearchCV Best Parameters:  {'subsample': 0.5, 'reg_lambda': 0, 'reg_alpha': 0, 'max_depth': 7, 'learning_rate': 0.1, 'gamma': 0, 'colsample_bytree': 0.5}\n",
      "XGBoost RandomSearchCV Best Score:  0.854460449373468\n"
     ]
    }
   ],
   "source": [
    "# Perform RandomSearchCV for XGBoost\n",
    "xgb_random = RandomizedSearchCV(xgb, xgb_params_random, cv=5, scoring='f1', n_iter=10)\n",
    "xgb_random.fit(X_train, y_train)\n",
    "print(\"XGBoost RandomSearchCV Best Parameters: \", xgb_random.best_params_)\n",
    "print(\"XGBoost RandomSearchCV Best Score: \", xgb_random.best_score_)"
   ]
  },
  {
   "cell_type": "code",
   "execution_count": 50,
   "metadata": {
    "cell_id": "8c27e01df15c4c35a8a1ffe5c16fa5f6",
    "deepnote_cell_type": "code",
    "deepnote_to_be_reexecuted": false,
    "execution_millis": 5661,
    "execution_start": 1678541604556,
    "source_hash": "bc980f78"
   },
   "outputs": [
    {
     "name": "stdout",
     "output_type": "stream",
     "text": [
      "XGBoost - RandomSearchCV\n",
      "Accuracy on validation set: 86.48%\n",
      "Accuracy on test set: 86.87%\n",
      "Cross-validation score: 86.38% (+/- 0.77%)\n",
      "Classification report:\n",
      "               precision    recall  f1-score   support\n",
      "\n",
      "           0       0.85      0.90      0.88      6172\n",
      "           1       0.89      0.83      0.86      5857\n",
      "\n",
      "    accuracy                           0.87     12029\n",
      "   macro avg       0.87      0.87      0.87     12029\n",
      "weighted avg       0.87      0.87      0.87     12029\n",
      "\n"
     ]
    }
   ],
   "source": [
    "# Train XGBoost model with the best hyperparameters\n",
    "xgboost_rand_best = XGBClassifier(subsample= 0.5,reg_lambda= 0,reg_alpha= 0, max_depth=7, learning_rate=0.1, gamma= 0, colsample_bytree= 0.5, random_state=42)\n",
    "xgboost_rand_best.fit(X_train, y_train)\n",
    "\n",
    "# Evaluate the model on validation set\n",
    "y_pred = xgboost_rand_best.predict(X_val)\n",
    "acc_val = accuracy_score(y_val, y_pred)\n",
    "\n",
    "# Evaluate the model on test set\n",
    "y_pred = xgboost_rand_best.predict(X_test)\n",
    "acc_test = accuracy_score(y_test, y_pred)\n",
    "\n",
    "# Evaluate the model using cross-validation\n",
    "cv_scores = cross_val_score(xgboost_rand_best, X_train_val, y_train_val, cv=5)\n",
    "\n",
    "# Print the performance metrics\n",
    "print(\"XGBoost - RandomSearchCV\")\n",
    "print(\"Accuracy on validation set: {:.2f}%\".format(acc_val*100))\n",
    "print(\"Accuracy on test set: {:.2f}%\".format(acc_test*100))\n",
    "print(\"Cross-validation score: {:.2f}% (+/- {:.2f}%)\".format(cv_scores.mean()*100, cv_scores.std()*2*100))\n",
    "print(\"Classification report:\\n\", classification_report(y_test, y_pred))"
   ]
  },
  {
   "cell_type": "code",
   "execution_count": 51,
   "metadata": {
    "cell_id": "d67326ebbb134d2a95bb2e4dec78b379",
    "deepnote_cell_type": "code",
    "deepnote_to_be_reexecuted": false,
    "execution_millis": 470,
    "execution_start": 1678541625744,
    "source_hash": "b8d4ff33"
   },
   "outputs": [
    {
     "data": {
      "image/png": "[encoded data removed]",
      "text/plain": [
       "<Figure size 800x600 with 2 Axes>"
      ]
     },
     "metadata": {},
     "output_type": "display_data"
    }
   ],
   "source": [
    "plot_confusion_matrix(xgboost_rand_best, X_test, y_test);"
   ]
  },
  {
   "cell_type": "markdown",
   "metadata": {
    "cell_id": "31dad07d7261441a95b9394b94b7a581",
    "deepnote_cell_type": "text-cell-h2",
    "formattedRanges": [],
    "is_collapsed": false,
    "tags": []
   },
   "source": [
    "## Appending all result"
   ]
  },
  {
   "cell_type": "code",
   "execution_count": 52,
   "metadata": {
    "cell_id": "1f96fd3bc62f4ee89eae7d8c13ed7722",
    "deepnote_cell_type": "code",
    "deepnote_to_be_reexecuted": false,
    "execution_millis": 14271,
    "execution_start": 1678542176940,
    "source_hash": "17151664"
   },
   "outputs": [
    {
     "data": {
      "text/html": [
       "<div>\n",
       "<style scoped>\n",
       "    .dataframe tbody tr th:only-of-type {\n",
       "        vertical-align: middle;\n",
       "    }\n",
       "\n",
       "    .dataframe tbody tr th {\n",
       "        vertical-align: top;\n",
       "    }\n",
       "\n",
       "    .dataframe thead th {\n",
       "        text-align: right;\n",
       "    }\n",
       "</style>\n",
       "<table border=\"1\" class=\"dataframe\">\n",
       "  <thead>\n",
       "    <tr style=\"text-align: right;\">\n",
       "      <th></th>\n",
       "      <th>Model</th>\n",
       "      <th>Accuracy</th>\n",
       "      <th>Precision</th>\n",
       "      <th>Recall</th>\n",
       "      <th>F1-Score</th>\n",
       "    </tr>\n",
       "  </thead>\n",
       "  <tbody>\n",
       "    <tr>\n",
       "      <th>0</th>\n",
       "      <td>CatBoost Classifier</td>\n",
       "      <td>Val: 0.8649, Test: 0.8648</td>\n",
       "      <td>Val: 0.8661, Test: 0.8659</td>\n",
       "      <td>Val: 0.8649, Test: 0.8648</td>\n",
       "      <td>Val: 0.8647, Test: 0.8646</td>\n",
       "    </tr>\n",
       "    <tr>\n",
       "      <th>1</th>\n",
       "      <td>Random-Forest Classifier</td>\n",
       "      <td>Val: 0.8604, Test: 0.8630</td>\n",
       "      <td>Val: 0.8618, Test: 0.8644</td>\n",
       "      <td>Val: 0.8604, Test: 0.8630</td>\n",
       "      <td>Val: 0.8601, Test: 0.8627</td>\n",
       "    </tr>\n",
       "    <tr>\n",
       "      <th>2</th>\n",
       "      <td>LightGbm</td>\n",
       "      <td>Val: 0.8657, Test: 0.8674</td>\n",
       "      <td>Val: 0.8675, Test: 0.8691</td>\n",
       "      <td>Val: 0.8657, Test: 0.8674</td>\n",
       "      <td>Val: 0.8654, Test: 0.8671</td>\n",
       "    </tr>\n",
       "    <tr>\n",
       "      <th>3</th>\n",
       "      <td>Extreme Gradientboost</td>\n",
       "      <td>Val: 0.8641, Test: 0.8652</td>\n",
       "      <td>Val: 0.8651, Test: 0.8662</td>\n",
       "      <td>Val: 0.8641, Test: 0.8652</td>\n",
       "      <td>Val: 0.8639, Test: 0.8650</td>\n",
       "    </tr>\n",
       "    <tr>\n",
       "      <th>4</th>\n",
       "      <td>GradientBoost Classifier</td>\n",
       "      <td>Val: 0.8572, Test: 0.8599</td>\n",
       "      <td>Val: 0.8572, Test: 0.8599</td>\n",
       "      <td>Val: 0.8572, Test: 0.8599</td>\n",
       "      <td>Val: 0.8571, Test: 0.8599</td>\n",
       "    </tr>\n",
       "    <tr>\n",
       "      <th>5</th>\n",
       "      <td>LightGbm GridSearchCV</td>\n",
       "      <td>Val: 0.8664, Test: 0.8679</td>\n",
       "      <td>Val: 0.8681, Test: 0.8695</td>\n",
       "      <td>Val: 0.8664, Test: 0.8679</td>\n",
       "      <td>Val: 0.8661, Test: 0.8676</td>\n",
       "    </tr>\n",
       "    <tr>\n",
       "      <th>6</th>\n",
       "      <td>LightGbm RandomSearchCV</td>\n",
       "      <td>Val: 0.8649, Test: 0.8667</td>\n",
       "      <td>Val: 0.8665, Test: 0.8683</td>\n",
       "      <td>Val: 0.8649, Test: 0.8667</td>\n",
       "      <td>Val: 0.8646, Test: 0.8665</td>\n",
       "    </tr>\n",
       "    <tr>\n",
       "      <th>7</th>\n",
       "      <td>XGBoost RandomSearchCV</td>\n",
       "      <td>Val: 0.8648, Test: 0.8687</td>\n",
       "      <td>Val: 0.8663, Test: 0.8701</td>\n",
       "      <td>Val: 0.8648, Test: 0.8687</td>\n",
       "      <td>Val: 0.8646, Test: 0.8685</td>\n",
       "    </tr>\n",
       "  </tbody>\n",
       "</table>\n",
       "</div>"
      ],
      "text/plain": [
       "                      Model                   Accuracy  \\\n",
       "0       CatBoost Classifier  Val: 0.8649, Test: 0.8648   \n",
       "1  Random-Forest Classifier  Val: 0.8604, Test: 0.8630   \n",
       "2                  LightGbm  Val: 0.8657, Test: 0.8674   \n",
       "3     Extreme Gradientboost  Val: 0.8641, Test: 0.8652   \n",
       "4  GradientBoost Classifier  Val: 0.8572, Test: 0.8599   \n",
       "5     LightGbm GridSearchCV  Val: 0.8664, Test: 0.8679   \n",
       "6   LightGbm RandomSearchCV  Val: 0.8649, Test: 0.8667   \n",
       "7    XGBoost RandomSearchCV  Val: 0.8648, Test: 0.8687   \n",
       "\n",
       "                   Precision                     Recall  \\\n",
       "0  Val: 0.8661, Test: 0.8659  Val: 0.8649, Test: 0.8648   \n",
       "1  Val: 0.8618, Test: 0.8644  Val: 0.8604, Test: 0.8630   \n",
       "2  Val: 0.8675, Test: 0.8691  Val: 0.8657, Test: 0.8674   \n",
       "3  Val: 0.8651, Test: 0.8662  Val: 0.8641, Test: 0.8652   \n",
       "4  Val: 0.8572, Test: 0.8599  Val: 0.8572, Test: 0.8599   \n",
       "5  Val: 0.8681, Test: 0.8695  Val: 0.8664, Test: 0.8679   \n",
       "6  Val: 0.8665, Test: 0.8683  Val: 0.8649, Test: 0.8667   \n",
       "7  Val: 0.8663, Test: 0.8701  Val: 0.8648, Test: 0.8687   \n",
       "\n",
       "                    F1-Score  \n",
       "0  Val: 0.8647, Test: 0.8646  \n",
       "1  Val: 0.8601, Test: 0.8627  \n",
       "2  Val: 0.8654, Test: 0.8671  \n",
       "3  Val: 0.8639, Test: 0.8650  \n",
       "4  Val: 0.8571, Test: 0.8599  \n",
       "5  Val: 0.8661, Test: 0.8676  \n",
       "6  Val: 0.8646, Test: 0.8665  \n",
       "7  Val: 0.8646, Test: 0.8685  "
      ]
     },
     "execution_count": 52,
     "metadata": {},
     "output_type": "execute_result"
    }
   ],
   "source": [
    "# Define the models\n",
    "models = [\n",
    "    ('CatBoost Classifier', catboost),\n",
    "    ('Random-Forest Classifier', rf_kmodes),\n",
    "    ('LightGbm', lightgbm),\n",
    "    ('Extreme Gradientboost', xgboost),\n",
    "    ('GradientBoost Classifier', gradboost_kmodes),\n",
    "    ('LightGbm GridSearchCV', lgbm_grid_best),\n",
    "    ('LightGbm RandomSearchCV', lgbm_rand_best),\n",
    "    ('XGBoost RandomSearchCV', xgboost_rand_best)\n",
    "]\n",
    "\n",
    "# Create an empty DataFrame to store the results\n",
    "results_df = pd.DataFrame(columns=['Model', 'Accuracy', 'Precision', 'Recall', 'F1-Score'])\n",
    "\n",
    "# Evaluate each model and append the results to the DataFrame\n",
    "for model_name, model in models:\n",
    "    # Train the model\n",
    "    model.fit(X_train, y_train)\n",
    "\n",
    "    # Evaluate the model on the validation set\n",
    "    y_val_pred = model.predict(X_val)\n",
    "    acc_val = accuracy_score(y_val, y_val_pred)\n",
    "    p_val, r_val, f1_val, _ = precision_recall_fscore_support(y_val, y_val_pred, average='weighted')\n",
    "\n",
    "    # Evaluate the model on the test set\n",
    "    y_test_pred = model.predict(X_test)\n",
    "    acc_test = accuracy_score(y_test, y_test_pred)\n",
    "    p_test, r_test, f1_test, _ = precision_recall_fscore_support(y_test, y_test_pred, average='weighted')\n",
    "\n",
    "    # Append the results to the DataFrame\n",
    "    results_df = results_df.append({\n",
    "        'Model': model_name,\n",
    "        'Accuracy': f'Val: {acc_val:.4f}, Test: {acc_test:.4f}',\n",
    "        'Precision': f'Val: {p_val:.4f}, Test: {p_test:.4f}',\n",
    "        'Recall': f'Val: {r_val:.4f}, Test: {r_test:.4f}',\n",
    "        'F1-Score': f'Val: {f1_val:.4f}, Test: {f1_test:.4f}'\n",
    "    }, ignore_index=True)\n",
    "\n",
    "# Print the results\n",
    "results_df"
   ]
  },
  {
   "cell_type": "code",
   "execution_count": 53,
   "metadata": {
    "cell_id": "b7600916d9b3472c964ca75b2bba064a",
    "deepnote_cell_type": "code",
    "deepnote_to_be_reexecuted": false,
    "execution_millis": 27,
    "execution_start": 1678542348628,
    "source_hash": "1e5fb2a6",
    "tags": []
   },
   "outputs": [
    {
     "data": {
      "text/html": [
       "<div>\n",
       "<style scoped>\n",
       "    .dataframe tbody tr th:only-of-type {\n",
       "        vertical-align: middle;\n",
       "    }\n",
       "\n",
       "    .dataframe tbody tr th {\n",
       "        vertical-align: top;\n",
       "    }\n",
       "\n",
       "    .dataframe thead th {\n",
       "        text-align: right;\n",
       "    }\n",
       "</style>\n",
       "<table border=\"1\" class=\"dataframe\">\n",
       "  <thead>\n",
       "    <tr style=\"text-align: right;\">\n",
       "      <th></th>\n",
       "      <th>Model</th>\n",
       "      <th>Accuracy</th>\n",
       "      <th>Precision</th>\n",
       "      <th>Recall</th>\n",
       "      <th>F1-Score</th>\n",
       "    </tr>\n",
       "  </thead>\n",
       "  <tbody>\n",
       "    <tr>\n",
       "      <th>5</th>\n",
       "      <td>LightGbm GridSearchCV</td>\n",
       "      <td>Val: 0.8664, Test: 0.8679</td>\n",
       "      <td>Val: 0.8681, Test: 0.8695</td>\n",
       "      <td>Val: 0.8664, Test: 0.8679</td>\n",
       "      <td>Val: 0.8661, Test: 0.8676</td>\n",
       "    </tr>\n",
       "    <tr>\n",
       "      <th>2</th>\n",
       "      <td>LightGbm</td>\n",
       "      <td>Val: 0.8657, Test: 0.8674</td>\n",
       "      <td>Val: 0.8675, Test: 0.8691</td>\n",
       "      <td>Val: 0.8657, Test: 0.8674</td>\n",
       "      <td>Val: 0.8654, Test: 0.8671</td>\n",
       "    </tr>\n",
       "    <tr>\n",
       "      <th>0</th>\n",
       "      <td>CatBoost Classifier</td>\n",
       "      <td>Val: 0.8649, Test: 0.8648</td>\n",
       "      <td>Val: 0.8661, Test: 0.8659</td>\n",
       "      <td>Val: 0.8649, Test: 0.8648</td>\n",
       "      <td>Val: 0.8647, Test: 0.8646</td>\n",
       "    </tr>\n",
       "    <tr>\n",
       "      <th>7</th>\n",
       "      <td>XGBoost RandomSearchCV</td>\n",
       "      <td>Val: 0.8648, Test: 0.8687</td>\n",
       "      <td>Val: 0.8663, Test: 0.8701</td>\n",
       "      <td>Val: 0.8648, Test: 0.8687</td>\n",
       "      <td>Val: 0.8646, Test: 0.8685</td>\n",
       "    </tr>\n",
       "    <tr>\n",
       "      <th>6</th>\n",
       "      <td>LightGbm RandomSearchCV</td>\n",
       "      <td>Val: 0.8649, Test: 0.8667</td>\n",
       "      <td>Val: 0.8665, Test: 0.8683</td>\n",
       "      <td>Val: 0.8649, Test: 0.8667</td>\n",
       "      <td>Val: 0.8646, Test: 0.8665</td>\n",
       "    </tr>\n",
       "    <tr>\n",
       "      <th>3</th>\n",
       "      <td>Extreme Gradientboost</td>\n",
       "      <td>Val: 0.8641, Test: 0.8652</td>\n",
       "      <td>Val: 0.8651, Test: 0.8662</td>\n",
       "      <td>Val: 0.8641, Test: 0.8652</td>\n",
       "      <td>Val: 0.8639, Test: 0.8650</td>\n",
       "    </tr>\n",
       "    <tr>\n",
       "      <th>1</th>\n",
       "      <td>Random-Forest Classifier</td>\n",
       "      <td>Val: 0.8604, Test: 0.8630</td>\n",
       "      <td>Val: 0.8618, Test: 0.8644</td>\n",
       "      <td>Val: 0.8604, Test: 0.8630</td>\n",
       "      <td>Val: 0.8601, Test: 0.8627</td>\n",
       "    </tr>\n",
       "    <tr>\n",
       "      <th>4</th>\n",
       "      <td>GradientBoost Classifier</td>\n",
       "      <td>Val: 0.8572, Test: 0.8599</td>\n",
       "      <td>Val: 0.8572, Test: 0.8599</td>\n",
       "      <td>Val: 0.8572, Test: 0.8599</td>\n",
       "      <td>Val: 0.8571, Test: 0.8599</td>\n",
       "    </tr>\n",
       "  </tbody>\n",
       "</table>\n",
       "</div>"
      ],
      "text/plain": [
       "                      Model                   Accuracy  \\\n",
       "5     LightGbm GridSearchCV  Val: 0.8664, Test: 0.8679   \n",
       "2                  LightGbm  Val: 0.8657, Test: 0.8674   \n",
       "0       CatBoost Classifier  Val: 0.8649, Test: 0.8648   \n",
       "7    XGBoost RandomSearchCV  Val: 0.8648, Test: 0.8687   \n",
       "6   LightGbm RandomSearchCV  Val: 0.8649, Test: 0.8667   \n",
       "3     Extreme Gradientboost  Val: 0.8641, Test: 0.8652   \n",
       "1  Random-Forest Classifier  Val: 0.8604, Test: 0.8630   \n",
       "4  GradientBoost Classifier  Val: 0.8572, Test: 0.8599   \n",
       "\n",
       "                   Precision                     Recall  \\\n",
       "5  Val: 0.8681, Test: 0.8695  Val: 0.8664, Test: 0.8679   \n",
       "2  Val: 0.8675, Test: 0.8691  Val: 0.8657, Test: 0.8674   \n",
       "0  Val: 0.8661, Test: 0.8659  Val: 0.8649, Test: 0.8648   \n",
       "7  Val: 0.8663, Test: 0.8701  Val: 0.8648, Test: 0.8687   \n",
       "6  Val: 0.8665, Test: 0.8683  Val: 0.8649, Test: 0.8667   \n",
       "3  Val: 0.8651, Test: 0.8662  Val: 0.8641, Test: 0.8652   \n",
       "1  Val: 0.8618, Test: 0.8644  Val: 0.8604, Test: 0.8630   \n",
       "4  Val: 0.8572, Test: 0.8599  Val: 0.8572, Test: 0.8599   \n",
       "\n",
       "                    F1-Score  \n",
       "5  Val: 0.8661, Test: 0.8676  \n",
       "2  Val: 0.8654, Test: 0.8671  \n",
       "0  Val: 0.8647, Test: 0.8646  \n",
       "7  Val: 0.8646, Test: 0.8685  \n",
       "6  Val: 0.8646, Test: 0.8665  \n",
       "3  Val: 0.8639, Test: 0.8650  \n",
       "1  Val: 0.8601, Test: 0.8627  \n",
       "4  Val: 0.8571, Test: 0.8599  "
      ]
     },
     "execution_count": 53,
     "metadata": {},
     "output_type": "execute_result"
    }
   ],
   "source": [
    "f1_sort = results_df.sort_values('F1-Score', ascending=False)\n",
    "f1_sort"
   ]
  },
  {
   "cell_type": "markdown",
   "metadata": {
    "cell_id": "f32128a2c81a40acbdc9f5f35a094e0b",
    "deepnote_cell_type": "markdown",
    "tags": []
   },
   "source": [
    "From the table, `LightGbm` using the `default parameter` and `GridSearchCV`, and `XGBoost` using `RandomizedSearchCV` performed better when it comes to `F1-Score` metrics, so we will implement `Voting CLassifier` on the 3 metrics and check if the`F1-Score` metric will be better."
   ]
  },
  {
   "cell_type": "markdown",
   "metadata": {
    "cell_id": "efc819e6b5b144ad927d969c8b47df4f",
    "deepnote_cell_type": "text-cell-h2",
    "formattedRanges": [],
    "is_collapsed": false,
    "tags": []
   },
   "source": [
    "## Voting Classifier"
   ]
  },
  {
   "cell_type": "code",
   "execution_count": 54,
   "metadata": {
    "cell_id": "967d427bcdc749729421def9e43ecda8",
    "deepnote_cell_type": "code",
    "deepnote_to_be_reexecuted": false,
    "execution_millis": 54112,
    "execution_start": 1678544497848,
    "source_hash": "6fb80d2b",
    "tags": []
   },
   "outputs": [
    {
     "name": "stdout",
     "output_type": "stream",
     "text": [
      "Voting Classifier - Hard\n",
      "Accuracy on validation set: 86.64%\n",
      "Accuracy on test set: 86.77%\n",
      "Cross-validation score: 86.46% (+/- 0.92%)\n",
      "Classification report:\n",
      "               precision    recall  f1-score   support\n",
      "\n",
      "           0       0.85      0.90      0.88      6172\n",
      "           1       0.89      0.83      0.86      5857\n",
      "\n",
      "    accuracy                           0.87     12029\n",
      "   macro avg       0.87      0.87      0.87     12029\n",
      "weighted avg       0.87      0.87      0.87     12029\n",
      "\n"
     ]
    }
   ],
   "source": [
    "from sklearn.ensemble import VotingClassifier\n",
    "\n",
    "vc_hard = VotingClassifier(estimators=[('Light Gradientboost', lightgbm),\n",
    "                                       ('LightGbm GridSearchCV', lgbm_grid_best),\n",
    "                                       ('XGBoost RandomSearchCV', xgboost_rand_best)],\n",
    "                           voting='hard')\n",
    "vc_hard.fit(X_train,y_train)\n",
    "\n",
    "# Evaluate the model on validation set\n",
    "y_val_pred = vc_hard.predict(X_val)\n",
    "acc_val = accuracy_score(y_val, y_val_pred)\n",
    "p_val, r_val, f1_val, _ = precision_recall_fscore_support(y_val, y_val_pred, average='weighted')\n",
    "\n",
    "# Evaluate the model on test set\n",
    "y_test_pred = vc_hard.predict(X_test)\n",
    "acc_test = accuracy_score(y_test, y_test_pred)\n",
    "p_test, r_test, f1_test, _ = precision_recall_fscore_support(y_test, y_test_pred, average='weighted')\n",
    "\n",
    "# Evaluate the model using cross-validation\n",
    "cv_scores = cross_val_score(vc_hard, X_train_val, y_train_val, cv=5)\n",
    "\n",
    "# Append the results to the DataFrame\n",
    "results_df = results_df.append({\n",
    "    'Model': \"Voting Classifier - Hard\",\n",
    "    'Accuracy': f'Val: {acc_val:.4f}, Test: {acc_test:.4f}',\n",
    "    'Precision': f'Val: {p_val:.4f}, Test: {p_test:.4f}',\n",
    "    'Recall': f'Val: {r_val:.4f}, Test: {r_test:.4f}',\n",
    "    'F1-Score': f'Val: {f1_val:.4f}, Test: {f1_test:.4f}'\n",
    "}, ignore_index=True)\n",
    "\n",
    "# Print the performance metrics\n",
    "print(\"Voting Classifier - Hard\")\n",
    "print(\"Accuracy on validation set: {:.2f}%\".format(acc_val*100))\n",
    "print(\"Accuracy on test set: {:.2f}%\".format(acc_test*100))\n",
    "print(\"Cross-validation score: {:.2f}% (+/- {:.2f}%)\".format(cv_scores.mean()*100, cv_scores.std()*2*100))\n",
    "print(\"Classification report:\\n\", classification_report(y_test, y_pred))"
   ]
  },
  {
   "cell_type": "code",
   "execution_count": 55,
   "metadata": {
    "cell_id": "8aa18bc38eb04ea09b1166e59690f3ef",
    "deepnote_cell_type": "code",
    "deepnote_to_be_reexecuted": false,
    "execution_millis": 691,
    "execution_start": 1678544562730,
    "source_hash": "b30054cc",
    "tags": []
   },
   "outputs": [
    {
     "data": {
      "image/png": "[encoded data removed]",
      "text/plain": [
       "<Figure size 800x600 with 2 Axes>"
      ]
     },
     "metadata": {},
     "output_type": "display_data"
    }
   ],
   "source": [
    "plot_confusion_matrix(vc_hard, X_test, y_test);"
   ]
  },
  {
   "cell_type": "code",
   "execution_count": 56,
   "metadata": {},
   "outputs": [
    {
     "name": "stdout",
     "output_type": "stream",
     "text": [
      "Voting Classifier - Soft\n",
      "Accuracy on validation set: 86.66%\n",
      "Accuracy on test set: 86.82%\n",
      "Cross-validation score: 86.51% (+/- 0.80%)\n",
      "Classification report:\n",
      "               precision    recall  f1-score   support\n",
      "\n",
      "           0       0.85      0.90      0.88      6172\n",
      "           1       0.89      0.83      0.86      5857\n",
      "\n",
      "    accuracy                           0.87     12029\n",
      "   macro avg       0.87      0.87      0.87     12029\n",
      "weighted avg       0.87      0.87      0.87     12029\n",
      "\n"
     ]
    }
   ],
   "source": [
    "from sklearn.ensemble import VotingClassifier\n",
    "\n",
    "vc_soft = VotingClassifier(estimators=[('Light Gradientboost', lightgbm),\n",
    "                                       ('LightGbm GridSearchCV', lgbm_grid_best),\n",
    "                                       ('XGBoost RandomSearchCV', xgboost_rand_best)],\n",
    "                           voting='soft')\n",
    "vc_soft.fit(X_train,y_train)\n",
    "\n",
    "# Evaluate the model on validation set\n",
    "y_val_pred = vc_soft.predict(X_val)\n",
    "acc_val = accuracy_score(y_val, y_val_pred)\n",
    "p_val, r_val, f1_val, _ = precision_recall_fscore_support(y_val, y_val_pred, average='weighted')\n",
    "\n",
    "# Evaluate the model on test set\n",
    "y_test_pred = vc_soft.predict(X_test)\n",
    "acc_test = accuracy_score(y_test, y_test_pred)\n",
    "p_test, r_test, f1_test, _ = precision_recall_fscore_support(y_test, y_test_pred, average='weighted')\n",
    "\n",
    "# Evaluate the model using cross-validation\n",
    "cv_scores = cross_val_score(vc_soft, X_train_val, y_train_val, cv=5)\n",
    "\n",
    "# Append the results to the DataFrame\n",
    "results_df = results_df.append({\n",
    "    'Model': \"Voting Classifier - Soft\",\n",
    "    'Accuracy': f'Val: {acc_val:.4f}, Test: {acc_test:.4f}',\n",
    "    'Precision': f'Val: {p_val:.4f}, Test: {p_test:.4f}',\n",
    "    'Recall': f'Val: {r_val:.4f}, Test: {r_test:.4f}',\n",
    "    'F1-Score': f'Val: {f1_val:.4f}, Test: {f1_test:.4f}'\n",
    "}, ignore_index=True)\n",
    "\n",
    "# Print the performance metrics\n",
    "print(\"Voting Classifier - Soft\")\n",
    "print(\"Accuracy on validation set: {:.2f}%\".format(acc_val*100))\n",
    "print(\"Accuracy on test set: {:.2f}%\".format(acc_test*100))\n",
    "print(\"Cross-validation score: {:.2f}% (+/- {:.2f}%)\".format(cv_scores.mean()*100, cv_scores.std()*2*100))\n",
    "print(\"Classification report:\\n\", classification_report(y_test, y_pred))"
   ]
  },
  {
   "cell_type": "code",
   "execution_count": 57,
   "metadata": {},
   "outputs": [
    {
     "data": {
      "image/png": "[encoded data removed]",
      "text/plain": [
       "<Figure size 800x600 with 2 Axes>"
      ]
     },
     "metadata": {},
     "output_type": "display_data"
    }
   ],
   "source": [
    "plot_confusion_matrix(vc_soft, X_test, y_test);"
   ]
  },
  {
   "cell_type": "code",
   "execution_count": 58,
   "metadata": {
    "cell_id": "293303ff79b846e1be5100b78b77ad21",
    "deepnote_cell_type": "code",
    "deepnote_to_be_reexecuted": false,
    "execution_millis": 4,
    "execution_start": 1678544594964,
    "source_hash": "b263c98f",
    "tags": []
   },
   "outputs": [
    {
     "data": {
      "text/html": [
       "<div>\n",
       "<style scoped>\n",
       "    .dataframe tbody tr th:only-of-type {\n",
       "        vertical-align: middle;\n",
       "    }\n",
       "\n",
       "    .dataframe tbody tr th {\n",
       "        vertical-align: top;\n",
       "    }\n",
       "\n",
       "    .dataframe thead th {\n",
       "        text-align: right;\n",
       "    }\n",
       "</style>\n",
       "<table border=\"1\" class=\"dataframe\">\n",
       "  <thead>\n",
       "    <tr style=\"text-align: right;\">\n",
       "      <th></th>\n",
       "      <th>Model</th>\n",
       "      <th>Accuracy</th>\n",
       "      <th>Precision</th>\n",
       "      <th>Recall</th>\n",
       "      <th>F1-Score</th>\n",
       "    </tr>\n",
       "  </thead>\n",
       "  <tbody>\n",
       "    <tr>\n",
       "      <th>0</th>\n",
       "      <td>CatBoost Classifier</td>\n",
       "      <td>Val: 0.8649, Test: 0.8648</td>\n",
       "      <td>Val: 0.8661, Test: 0.8659</td>\n",
       "      <td>Val: 0.8649, Test: 0.8648</td>\n",
       "      <td>Val: 0.8647, Test: 0.8646</td>\n",
       "    </tr>\n",
       "    <tr>\n",
       "      <th>1</th>\n",
       "      <td>Random-Forest Classifier</td>\n",
       "      <td>Val: 0.8604, Test: 0.8630</td>\n",
       "      <td>Val: 0.8618, Test: 0.8644</td>\n",
       "      <td>Val: 0.8604, Test: 0.8630</td>\n",
       "      <td>Val: 0.8601, Test: 0.8627</td>\n",
       "    </tr>\n",
       "    <tr>\n",
       "      <th>2</th>\n",
       "      <td>LightGbm</td>\n",
       "      <td>Val: 0.8657, Test: 0.8674</td>\n",
       "      <td>Val: 0.8675, Test: 0.8691</td>\n",
       "      <td>Val: 0.8657, Test: 0.8674</td>\n",
       "      <td>Val: 0.8654, Test: 0.8671</td>\n",
       "    </tr>\n",
       "    <tr>\n",
       "      <th>3</th>\n",
       "      <td>Extreme Gradientboost</td>\n",
       "      <td>Val: 0.8641, Test: 0.8652</td>\n",
       "      <td>Val: 0.8651, Test: 0.8662</td>\n",
       "      <td>Val: 0.8641, Test: 0.8652</td>\n",
       "      <td>Val: 0.8639, Test: 0.8650</td>\n",
       "    </tr>\n",
       "    <tr>\n",
       "      <th>4</th>\n",
       "      <td>GradientBoost Classifier</td>\n",
       "      <td>Val: 0.8572, Test: 0.8599</td>\n",
       "      <td>Val: 0.8572, Test: 0.8599</td>\n",
       "      <td>Val: 0.8572, Test: 0.8599</td>\n",
       "      <td>Val: 0.8571, Test: 0.8599</td>\n",
       "    </tr>\n",
       "    <tr>\n",
       "      <th>5</th>\n",
       "      <td>LightGbm GridSearchCV</td>\n",
       "      <td>Val: 0.8664, Test: 0.8679</td>\n",
       "      <td>Val: 0.8681, Test: 0.8695</td>\n",
       "      <td>Val: 0.8664, Test: 0.8679</td>\n",
       "      <td>Val: 0.8661, Test: 0.8676</td>\n",
       "    </tr>\n",
       "    <tr>\n",
       "      <th>6</th>\n",
       "      <td>LightGbm RandomSearchCV</td>\n",
       "      <td>Val: 0.8649, Test: 0.8667</td>\n",
       "      <td>Val: 0.8665, Test: 0.8683</td>\n",
       "      <td>Val: 0.8649, Test: 0.8667</td>\n",
       "      <td>Val: 0.8646, Test: 0.8665</td>\n",
       "    </tr>\n",
       "    <tr>\n",
       "      <th>7</th>\n",
       "      <td>XGBoost RandomSearchCV</td>\n",
       "      <td>Val: 0.8648, Test: 0.8687</td>\n",
       "      <td>Val: 0.8663, Test: 0.8701</td>\n",
       "      <td>Val: 0.8648, Test: 0.8687</td>\n",
       "      <td>Val: 0.8646, Test: 0.8685</td>\n",
       "    </tr>\n",
       "    <tr>\n",
       "      <th>8</th>\n",
       "      <td>Voting Classifier - Hard</td>\n",
       "      <td>Val: 0.8664, Test: 0.8677</td>\n",
       "      <td>Val: 0.8681, Test: 0.8693</td>\n",
       "      <td>Val: 0.8664, Test: 0.8677</td>\n",
       "      <td>Val: 0.8661, Test: 0.8674</td>\n",
       "    </tr>\n",
       "    <tr>\n",
       "      <th>9</th>\n",
       "      <td>Voting Classifier - Soft</td>\n",
       "      <td>Val: 0.8666, Test: 0.8682</td>\n",
       "      <td>Val: 0.8683, Test: 0.8698</td>\n",
       "      <td>Val: 0.8666, Test: 0.8682</td>\n",
       "      <td>Val: 0.8663, Test: 0.8679</td>\n",
       "    </tr>\n",
       "  </tbody>\n",
       "</table>\n",
       "</div>"
      ],
      "text/plain": [
       "                      Model                   Accuracy  \\\n",
       "0       CatBoost Classifier  Val: 0.8649, Test: 0.8648   \n",
       "1  Random-Forest Classifier  Val: 0.8604, Test: 0.8630   \n",
       "2                  LightGbm  Val: 0.8657, Test: 0.8674   \n",
       "3     Extreme Gradientboost  Val: 0.8641, Test: 0.8652   \n",
       "4  GradientBoost Classifier  Val: 0.8572, Test: 0.8599   \n",
       "5     LightGbm GridSearchCV  Val: 0.8664, Test: 0.8679   \n",
       "6   LightGbm RandomSearchCV  Val: 0.8649, Test: 0.8667   \n",
       "7    XGBoost RandomSearchCV  Val: 0.8648, Test: 0.8687   \n",
       "8  Voting Classifier - Hard  Val: 0.8664, Test: 0.8677   \n",
       "9  Voting Classifier - Soft  Val: 0.8666, Test: 0.8682   \n",
       "\n",
       "                   Precision                     Recall  \\\n",
       "0  Val: 0.8661, Test: 0.8659  Val: 0.8649, Test: 0.8648   \n",
       "1  Val: 0.8618, Test: 0.8644  Val: 0.8604, Test: 0.8630   \n",
       "2  Val: 0.8675, Test: 0.8691  Val: 0.8657, Test: 0.8674   \n",
       "3  Val: 0.8651, Test: 0.8662  Val: 0.8641, Test: 0.8652   \n",
       "4  Val: 0.8572, Test: 0.8599  Val: 0.8572, Test: 0.8599   \n",
       "5  Val: 0.8681, Test: 0.8695  Val: 0.8664, Test: 0.8679   \n",
       "6  Val: 0.8665, Test: 0.8683  Val: 0.8649, Test: 0.8667   \n",
       "7  Val: 0.8663, Test: 0.8701  Val: 0.8648, Test: 0.8687   \n",
       "8  Val: 0.8681, Test: 0.8693  Val: 0.8664, Test: 0.8677   \n",
       "9  Val: 0.8683, Test: 0.8698  Val: 0.8666, Test: 0.8682   \n",
       "\n",
       "                    F1-Score  \n",
       "0  Val: 0.8647, Test: 0.8646  \n",
       "1  Val: 0.8601, Test: 0.8627  \n",
       "2  Val: 0.8654, Test: 0.8671  \n",
       "3  Val: 0.8639, Test: 0.8650  \n",
       "4  Val: 0.8571, Test: 0.8599  \n",
       "5  Val: 0.8661, Test: 0.8676  \n",
       "6  Val: 0.8646, Test: 0.8665  \n",
       "7  Val: 0.8646, Test: 0.8685  \n",
       "8  Val: 0.8661, Test: 0.8674  \n",
       "9  Val: 0.8663, Test: 0.8679  "
      ]
     },
     "execution_count": 58,
     "metadata": {},
     "output_type": "execute_result"
    }
   ],
   "source": [
    "results_df"
   ]
  },
  {
   "cell_type": "code",
   "execution_count": 59,
   "metadata": {
    "cell_id": "4f3b487cf2884cb79f6950e8c39ca31a",
    "deepnote_cell_type": "code",
    "deepnote_to_be_reexecuted": false,
    "execution_millis": 4,
    "execution_start": 1678544665024,
    "source_hash": "1e5fb2a6",
    "tags": []
   },
   "outputs": [
    {
     "data": {
      "text/html": [
       "<div>\n",
       "<style scoped>\n",
       "    .dataframe tbody tr th:only-of-type {\n",
       "        vertical-align: middle;\n",
       "    }\n",
       "\n",
       "    .dataframe tbody tr th {\n",
       "        vertical-align: top;\n",
       "    }\n",
       "\n",
       "    .dataframe thead th {\n",
       "        text-align: right;\n",
       "    }\n",
       "</style>\n",
       "<table border=\"1\" class=\"dataframe\">\n",
       "  <thead>\n",
       "    <tr style=\"text-align: right;\">\n",
       "      <th></th>\n",
       "      <th>Model</th>\n",
       "      <th>Accuracy</th>\n",
       "      <th>Precision</th>\n",
       "      <th>Recall</th>\n",
       "      <th>F1-Score</th>\n",
       "    </tr>\n",
       "  </thead>\n",
       "  <tbody>\n",
       "    <tr>\n",
       "      <th>9</th>\n",
       "      <td>Voting Classifier - Soft</td>\n",
       "      <td>Val: 0.8666, Test: 0.8682</td>\n",
       "      <td>Val: 0.8683, Test: 0.8698</td>\n",
       "      <td>Val: 0.8666, Test: 0.8682</td>\n",
       "      <td>Val: 0.8663, Test: 0.8679</td>\n",
       "    </tr>\n",
       "    <tr>\n",
       "      <th>5</th>\n",
       "      <td>LightGbm GridSearchCV</td>\n",
       "      <td>Val: 0.8664, Test: 0.8679</td>\n",
       "      <td>Val: 0.8681, Test: 0.8695</td>\n",
       "      <td>Val: 0.8664, Test: 0.8679</td>\n",
       "      <td>Val: 0.8661, Test: 0.8676</td>\n",
       "    </tr>\n",
       "    <tr>\n",
       "      <th>8</th>\n",
       "      <td>Voting Classifier - Hard</td>\n",
       "      <td>Val: 0.8664, Test: 0.8677</td>\n",
       "      <td>Val: 0.8681, Test: 0.8693</td>\n",
       "      <td>Val: 0.8664, Test: 0.8677</td>\n",
       "      <td>Val: 0.8661, Test: 0.8674</td>\n",
       "    </tr>\n",
       "    <tr>\n",
       "      <th>2</th>\n",
       "      <td>LightGbm</td>\n",
       "      <td>Val: 0.8657, Test: 0.8674</td>\n",
       "      <td>Val: 0.8675, Test: 0.8691</td>\n",
       "      <td>Val: 0.8657, Test: 0.8674</td>\n",
       "      <td>Val: 0.8654, Test: 0.8671</td>\n",
       "    </tr>\n",
       "    <tr>\n",
       "      <th>0</th>\n",
       "      <td>CatBoost Classifier</td>\n",
       "      <td>Val: 0.8649, Test: 0.8648</td>\n",
       "      <td>Val: 0.8661, Test: 0.8659</td>\n",
       "      <td>Val: 0.8649, Test: 0.8648</td>\n",
       "      <td>Val: 0.8647, Test: 0.8646</td>\n",
       "    </tr>\n",
       "    <tr>\n",
       "      <th>7</th>\n",
       "      <td>XGBoost RandomSearchCV</td>\n",
       "      <td>Val: 0.8648, Test: 0.8687</td>\n",
       "      <td>Val: 0.8663, Test: 0.8701</td>\n",
       "      <td>Val: 0.8648, Test: 0.8687</td>\n",
       "      <td>Val: 0.8646, Test: 0.8685</td>\n",
       "    </tr>\n",
       "    <tr>\n",
       "      <th>6</th>\n",
       "      <td>LightGbm RandomSearchCV</td>\n",
       "      <td>Val: 0.8649, Test: 0.8667</td>\n",
       "      <td>Val: 0.8665, Test: 0.8683</td>\n",
       "      <td>Val: 0.8649, Test: 0.8667</td>\n",
       "      <td>Val: 0.8646, Test: 0.8665</td>\n",
       "    </tr>\n",
       "    <tr>\n",
       "      <th>3</th>\n",
       "      <td>Extreme Gradientboost</td>\n",
       "      <td>Val: 0.8641, Test: 0.8652</td>\n",
       "      <td>Val: 0.8651, Test: 0.8662</td>\n",
       "      <td>Val: 0.8641, Test: 0.8652</td>\n",
       "      <td>Val: 0.8639, Test: 0.8650</td>\n",
       "    </tr>\n",
       "    <tr>\n",
       "      <th>1</th>\n",
       "      <td>Random-Forest Classifier</td>\n",
       "      <td>Val: 0.8604, Test: 0.8630</td>\n",
       "      <td>Val: 0.8618, Test: 0.8644</td>\n",
       "      <td>Val: 0.8604, Test: 0.8630</td>\n",
       "      <td>Val: 0.8601, Test: 0.8627</td>\n",
       "    </tr>\n",
       "    <tr>\n",
       "      <th>4</th>\n",
       "      <td>GradientBoost Classifier</td>\n",
       "      <td>Val: 0.8572, Test: 0.8599</td>\n",
       "      <td>Val: 0.8572, Test: 0.8599</td>\n",
       "      <td>Val: 0.8572, Test: 0.8599</td>\n",
       "      <td>Val: 0.8571, Test: 0.8599</td>\n",
       "    </tr>\n",
       "  </tbody>\n",
       "</table>\n",
       "</div>"
      ],
      "text/plain": [
       "                      Model                   Accuracy  \\\n",
       "9  Voting Classifier - Soft  Val: 0.8666, Test: 0.8682   \n",
       "5     LightGbm GridSearchCV  Val: 0.8664, Test: 0.8679   \n",
       "8  Voting Classifier - Hard  Val: 0.8664, Test: 0.8677   \n",
       "2                  LightGbm  Val: 0.8657, Test: 0.8674   \n",
       "0       CatBoost Classifier  Val: 0.8649, Test: 0.8648   \n",
       "7    XGBoost RandomSearchCV  Val: 0.8648, Test: 0.8687   \n",
       "6   LightGbm RandomSearchCV  Val: 0.8649, Test: 0.8667   \n",
       "3     Extreme Gradientboost  Val: 0.8641, Test: 0.8652   \n",
       "1  Random-Forest Classifier  Val: 0.8604, Test: 0.8630   \n",
       "4  GradientBoost Classifier  Val: 0.8572, Test: 0.8599   \n",
       "\n",
       "                   Precision                     Recall  \\\n",
       "9  Val: 0.8683, Test: 0.8698  Val: 0.8666, Test: 0.8682   \n",
       "5  Val: 0.8681, Test: 0.8695  Val: 0.8664, Test: 0.8679   \n",
       "8  Val: 0.8681, Test: 0.8693  Val: 0.8664, Test: 0.8677   \n",
       "2  Val: 0.8675, Test: 0.8691  Val: 0.8657, Test: 0.8674   \n",
       "0  Val: 0.8661, Test: 0.8659  Val: 0.8649, Test: 0.8648   \n",
       "7  Val: 0.8663, Test: 0.8701  Val: 0.8648, Test: 0.8687   \n",
       "6  Val: 0.8665, Test: 0.8683  Val: 0.8649, Test: 0.8667   \n",
       "3  Val: 0.8651, Test: 0.8662  Val: 0.8641, Test: 0.8652   \n",
       "1  Val: 0.8618, Test: 0.8644  Val: 0.8604, Test: 0.8630   \n",
       "4  Val: 0.8572, Test: 0.8599  Val: 0.8572, Test: 0.8599   \n",
       "\n",
       "                    F1-Score  \n",
       "9  Val: 0.8663, Test: 0.8679  \n",
       "5  Val: 0.8661, Test: 0.8676  \n",
       "8  Val: 0.8661, Test: 0.8674  \n",
       "2  Val: 0.8654, Test: 0.8671  \n",
       "0  Val: 0.8647, Test: 0.8646  \n",
       "7  Val: 0.8646, Test: 0.8685  \n",
       "6  Val: 0.8646, Test: 0.8665  \n",
       "3  Val: 0.8639, Test: 0.8650  \n",
       "1  Val: 0.8601, Test: 0.8627  \n",
       "4  Val: 0.8571, Test: 0.8599  "
      ]
     },
     "execution_count": 59,
     "metadata": {},
     "output_type": "execute_result"
    }
   ],
   "source": [
    "f1_sort = results_df.sort_values('F1-Score', ascending=False)\n",
    "f1_sort"
   ]
  },
  {
   "cell_type": "code",
   "execution_count": 60,
   "metadata": {
    "cell_id": "0bac76bbb70e415e92897eaa4b479637",
    "deepnote_cell_type": "code",
    "deepnote_to_be_reexecuted": false,
    "execution_millis": 2,
    "execution_start": 1678544763575,
    "source_hash": "f58138a5",
    "tags": []
   },
   "outputs": [
    {
     "data": {
      "text/html": [
       "<div>\n",
       "<style scoped>\n",
       "    .dataframe tbody tr th:only-of-type {\n",
       "        vertical-align: middle;\n",
       "    }\n",
       "\n",
       "    .dataframe tbody tr th {\n",
       "        vertical-align: top;\n",
       "    }\n",
       "\n",
       "    .dataframe thead th {\n",
       "        text-align: right;\n",
       "    }\n",
       "</style>\n",
       "<table border=\"1\" class=\"dataframe\">\n",
       "  <thead>\n",
       "    <tr style=\"text-align: right;\">\n",
       "      <th></th>\n",
       "      <th>Model</th>\n",
       "      <th>Accuracy</th>\n",
       "      <th>Precision</th>\n",
       "      <th>Recall</th>\n",
       "      <th>F1-Score</th>\n",
       "    </tr>\n",
       "  </thead>\n",
       "  <tbody>\n",
       "    <tr>\n",
       "      <th>9</th>\n",
       "      <td>Voting Classifier - Soft</td>\n",
       "      <td>Val: 0.8666, Test: 0.8682</td>\n",
       "      <td>Val: 0.8683, Test: 0.8698</td>\n",
       "      <td>Val: 0.8666, Test: 0.8682</td>\n",
       "      <td>Val: 0.8663, Test: 0.8679</td>\n",
       "    </tr>\n",
       "    <tr>\n",
       "      <th>5</th>\n",
       "      <td>LightGbm GridSearchCV</td>\n",
       "      <td>Val: 0.8664, Test: 0.8679</td>\n",
       "      <td>Val: 0.8681, Test: 0.8695</td>\n",
       "      <td>Val: 0.8664, Test: 0.8679</td>\n",
       "      <td>Val: 0.8661, Test: 0.8676</td>\n",
       "    </tr>\n",
       "    <tr>\n",
       "      <th>8</th>\n",
       "      <td>Voting Classifier - Hard</td>\n",
       "      <td>Val: 0.8664, Test: 0.8677</td>\n",
       "      <td>Val: 0.8681, Test: 0.8693</td>\n",
       "      <td>Val: 0.8664, Test: 0.8677</td>\n",
       "      <td>Val: 0.8661, Test: 0.8674</td>\n",
       "    </tr>\n",
       "    <tr>\n",
       "      <th>2</th>\n",
       "      <td>LightGbm</td>\n",
       "      <td>Val: 0.8657, Test: 0.8674</td>\n",
       "      <td>Val: 0.8675, Test: 0.8691</td>\n",
       "      <td>Val: 0.8657, Test: 0.8674</td>\n",
       "      <td>Val: 0.8654, Test: 0.8671</td>\n",
       "    </tr>\n",
       "    <tr>\n",
       "      <th>6</th>\n",
       "      <td>LightGbm RandomSearchCV</td>\n",
       "      <td>Val: 0.8649, Test: 0.8667</td>\n",
       "      <td>Val: 0.8665, Test: 0.8683</td>\n",
       "      <td>Val: 0.8649, Test: 0.8667</td>\n",
       "      <td>Val: 0.8646, Test: 0.8665</td>\n",
       "    </tr>\n",
       "    <tr>\n",
       "      <th>7</th>\n",
       "      <td>XGBoost RandomSearchCV</td>\n",
       "      <td>Val: 0.8648, Test: 0.8687</td>\n",
       "      <td>Val: 0.8663, Test: 0.8701</td>\n",
       "      <td>Val: 0.8648, Test: 0.8687</td>\n",
       "      <td>Val: 0.8646, Test: 0.8685</td>\n",
       "    </tr>\n",
       "    <tr>\n",
       "      <th>0</th>\n",
       "      <td>CatBoost Classifier</td>\n",
       "      <td>Val: 0.8649, Test: 0.8648</td>\n",
       "      <td>Val: 0.8661, Test: 0.8659</td>\n",
       "      <td>Val: 0.8649, Test: 0.8648</td>\n",
       "      <td>Val: 0.8647, Test: 0.8646</td>\n",
       "    </tr>\n",
       "    <tr>\n",
       "      <th>3</th>\n",
       "      <td>Extreme Gradientboost</td>\n",
       "      <td>Val: 0.8641, Test: 0.8652</td>\n",
       "      <td>Val: 0.8651, Test: 0.8662</td>\n",
       "      <td>Val: 0.8641, Test: 0.8652</td>\n",
       "      <td>Val: 0.8639, Test: 0.8650</td>\n",
       "    </tr>\n",
       "    <tr>\n",
       "      <th>1</th>\n",
       "      <td>Random-Forest Classifier</td>\n",
       "      <td>Val: 0.8604, Test: 0.8630</td>\n",
       "      <td>Val: 0.8618, Test: 0.8644</td>\n",
       "      <td>Val: 0.8604, Test: 0.8630</td>\n",
       "      <td>Val: 0.8601, Test: 0.8627</td>\n",
       "    </tr>\n",
       "    <tr>\n",
       "      <th>4</th>\n",
       "      <td>GradientBoost Classifier</td>\n",
       "      <td>Val: 0.8572, Test: 0.8599</td>\n",
       "      <td>Val: 0.8572, Test: 0.8599</td>\n",
       "      <td>Val: 0.8572, Test: 0.8599</td>\n",
       "      <td>Val: 0.8571, Test: 0.8599</td>\n",
       "    </tr>\n",
       "  </tbody>\n",
       "</table>\n",
       "</div>"
      ],
      "text/plain": [
       "                      Model                   Accuracy  \\\n",
       "9  Voting Classifier - Soft  Val: 0.8666, Test: 0.8682   \n",
       "5     LightGbm GridSearchCV  Val: 0.8664, Test: 0.8679   \n",
       "8  Voting Classifier - Hard  Val: 0.8664, Test: 0.8677   \n",
       "2                  LightGbm  Val: 0.8657, Test: 0.8674   \n",
       "6   LightGbm RandomSearchCV  Val: 0.8649, Test: 0.8667   \n",
       "7    XGBoost RandomSearchCV  Val: 0.8648, Test: 0.8687   \n",
       "0       CatBoost Classifier  Val: 0.8649, Test: 0.8648   \n",
       "3     Extreme Gradientboost  Val: 0.8641, Test: 0.8652   \n",
       "1  Random-Forest Classifier  Val: 0.8604, Test: 0.8630   \n",
       "4  GradientBoost Classifier  Val: 0.8572, Test: 0.8599   \n",
       "\n",
       "                   Precision                     Recall  \\\n",
       "9  Val: 0.8683, Test: 0.8698  Val: 0.8666, Test: 0.8682   \n",
       "5  Val: 0.8681, Test: 0.8695  Val: 0.8664, Test: 0.8679   \n",
       "8  Val: 0.8681, Test: 0.8693  Val: 0.8664, Test: 0.8677   \n",
       "2  Val: 0.8675, Test: 0.8691  Val: 0.8657, Test: 0.8674   \n",
       "6  Val: 0.8665, Test: 0.8683  Val: 0.8649, Test: 0.8667   \n",
       "7  Val: 0.8663, Test: 0.8701  Val: 0.8648, Test: 0.8687   \n",
       "0  Val: 0.8661, Test: 0.8659  Val: 0.8649, Test: 0.8648   \n",
       "3  Val: 0.8651, Test: 0.8662  Val: 0.8641, Test: 0.8652   \n",
       "1  Val: 0.8618, Test: 0.8644  Val: 0.8604, Test: 0.8630   \n",
       "4  Val: 0.8572, Test: 0.8599  Val: 0.8572, Test: 0.8599   \n",
       "\n",
       "                    F1-Score  \n",
       "9  Val: 0.8663, Test: 0.8679  \n",
       "5  Val: 0.8661, Test: 0.8676  \n",
       "8  Val: 0.8661, Test: 0.8674  \n",
       "2  Val: 0.8654, Test: 0.8671  \n",
       "6  Val: 0.8646, Test: 0.8665  \n",
       "7  Val: 0.8646, Test: 0.8685  \n",
       "0  Val: 0.8647, Test: 0.8646  \n",
       "3  Val: 0.8639, Test: 0.8650  \n",
       "1  Val: 0.8601, Test: 0.8627  \n",
       "4  Val: 0.8571, Test: 0.8599  "
      ]
     },
     "execution_count": 60,
     "metadata": {},
     "output_type": "execute_result"
    }
   ],
   "source": [
    "precision_sort = results_df.sort_values('Precision', ascending=False)\n",
    "precision_sort"
   ]
  },
  {
   "cell_type": "markdown",
   "metadata": {
    "cell_id": "2e77805738a243d999bfdb4d938a8acb",
    "deepnote_cell_type": "markdown",
    "tags": []
   },
   "source": [
    "From the table above, we have two models performing better which are `Voting Classifier` and `Light Gradientboost`. I'm going to save both model and this will be the end of the project."
   ]
  },
  {
   "cell_type": "markdown",
   "metadata": {
    "cell_id": "979863f0d70242a389b29e0561c22a4b",
    "deepnote_cell_type": "text-cell-h2",
    "formattedRanges": [],
    "is_collapsed": false,
    "tags": []
   },
   "source": [
    "## Feature Importance"
   ]
  },
  {
   "cell_type": "code",
   "execution_count": 61,
   "metadata": {
    "cell_id": "18a5290138c447a3aa8663b0acca9226",
    "deepnote_cell_type": "code",
    "deepnote_to_be_reexecuted": false,
    "execution_millis": 2,
    "execution_start": 1678553742616,
    "source_hash": "1c74bba0",
    "tags": []
   },
   "outputs": [
    {
     "name": "stdout",
     "output_type": "stream",
     "text": [
      "Important features for Light Gradient Boosting Model:\n",
      "age_bin: 782\n",
      "BMI_Class: 650\n",
      "Cluster: 524\n",
      "MAP_Class: 499\n",
      "cholesterol: 154\n",
      "glucose: 112\n",
      "smoke: 101\n",
      "active: 92\n",
      "alcohol: 67\n",
      "gender: 19\n"
     ]
    }
   ],
   "source": [
    "# Get the feature importances\n",
    "importances = lightgbm.feature_importances_\n",
    "# Get the column names\n",
    "columns = X_train.columns\n",
    "# Create a dictionary to map the importances to column names\n",
    "importances_dict = dict(zip(columns, importances))\n",
    "# Sort the dictionary by importance in descending order\n",
    "sorted_importances_dict = dict(sorted(importances_dict.items(), key=lambda x: x[1], reverse=True))\n",
    "# Print the important features in descending order\n",
    "print(\"Important features for Light Gradient Boosting Model:\")\n",
    "for feature, importance in sorted_importances_dict.items():\n",
    "    print(f\"{feature}: {importance}\")"
   ]
  },
  {
   "cell_type": "markdown",
   "metadata": {
    "cell_id": "41bd614a5fbb4214a44e1775e4b62daf",
    "deepnote_cell_type": "text-cell-h2",
    "formattedRanges": [],
    "is_collapsed": false,
    "tags": []
   },
   "source": [
    "## Saving both models"
   ]
  },
  {
   "cell_type": "code",
   "execution_count": 62,
   "metadata": {
    "cell_id": "d6da7a1566084d7b81d369a8e7492ecf",
    "deepnote_cell_type": "code",
    "deepnote_to_be_reexecuted": false,
    "execution_millis": 21,
    "execution_start": 1678546707276,
    "source_hash": "6276864",
    "tags": []
   },
   "outputs": [],
   "source": [
    "import pickle\n",
    "\n",
    "pickle.dump(lgbm_grid_best, open('../../Models/lightgbm.pkl', 'wb'))\n",
    "pickle.dump(vc_soft, open('../../Models/voting_classifier.pkl', 'wb'))"
   ]
  },
  {
   "cell_type": "markdown",
   "metadata": {
    "cell_id": "84569c41a6cc4d1e9346fa15646a10c8",
    "deepnote_cell_type": "markdown",
    "tags": []
   },
   "source": [
    "**Author:** `Jammal Adeyemi`"
   ]
  }
 ],
 "metadata": {
  "deepnote": {},
  "deepnote_execution_queue": [],
  "deepnote_notebook_id": "60a73f7a8db8438fa0d80b4da2216ed4",
  "kernelspec": {
   "display_name": "Python 3 (ipykernel)",
   "language": "python",
   "name": "python3"
  },
  "language_info": {
   "codemirror_mode": {
    "name": "ipython",
    "version": 3
   },
   "file_extension": ".py",
   "mimetype": "text/x-python",
   "name": "python",
   "nbconvert_exporter": "python",
   "pygments_lexer": "ipython3",
   "version": "3.10.9"
  }
 },
 "nbformat": 4,
 "nbformat_minor": 4
}
